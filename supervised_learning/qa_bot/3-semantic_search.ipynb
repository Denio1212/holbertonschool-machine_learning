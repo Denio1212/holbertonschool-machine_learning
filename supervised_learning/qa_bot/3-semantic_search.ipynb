{
 "cells": [
  {
   "metadata": {},
   "cell_type": "markdown",
   "source": "## Searches through a corpus with context to find a certain answer",
   "id": "7abecbce04511e5e"
  },
  {
   "metadata": {
    "ExecuteTime": {
     "end_time": "2024-09-07T09:41:24.118850Z",
     "start_time": "2024-09-07T09:41:24.113705Z"
    }
   },
   "cell_type": "code",
   "source": [
    "import numpy as np\n",
    "import os\n",
    "import tensorflow_hub as hub"
   ],
   "id": "4cbd4ffe8f43dc1e",
   "outputs": [],
   "execution_count": 4
  },
  {
   "metadata": {
    "ExecuteTime": {
     "end_time": "2024-09-07T09:41:24.172428Z",
     "start_time": "2024-09-07T09:41:24.166346Z"
    }
   },
   "cell_type": "code",
   "source": [
    "def semantic_search(corpus_path, sentence):\n",
    "    \"\"\"\n",
    "    Performs semantic search on a corpus.\n",
    "    \n",
    "    Parameters:\n",
    "        corpus_path -> path to the corpus of reference documents.\n",
    "        sentence -> the sentence to be semantic searched.\n",
    "        \n",
    "    Returns:\n",
    "        the reference text similar to sentence.\n",
    "    \"\"\"\n",
    "    document = [sentence]\n",
    "    \n",
    "    # Loading and reading the data\n",
    "    for filename in os.listdir(corpus_path):\n",
    "        if filename.endswith(\".md\") is False:\n",
    "            continue\n",
    "        with open(corpus_path + \"/\" + filename, \"r\", encoding=\"utf-8\") as file:\n",
    "            document.append(file.read())\n",
    "            \n",
    "    model = hub.load(\n",
    "        \"https://tfhub.dev/google/universal-sentence-encoder-large/5\"\n",
    "    ) # This is the USE model from tensorflow hub. it is designed to semantically produce meaningful vectors\n",
    "    \n",
    "    embeddings = model(document)\n",
    "    \n",
    "    correlation = np.inner(embeddings, embeddings) # Finding Correlations in the embeddings of the document\n",
    "    \n",
    "    closest = np.argmax(correlation[0, 1:]) # Finding the closest document in similarity\n",
    "    \n",
    "    similar = document[closest + 1] # Find the most similar document of the bunch\n",
    "    \n",
    "    return similar\n",
    "    "
   ],
   "id": "e9474f124c4b7120",
   "outputs": [],
   "execution_count": 5
  },
  {
   "metadata": {
    "ExecuteTime": {
     "end_time": "2024-09-07T09:47:38.961977Z",
     "start_time": "2024-09-07T09:43:48.757316Z"
    }
   },
   "cell_type": "code",
   "source": [
    "# Main File\n",
    "\n",
    "print(semantic_search('ZendeskArticles', 'PLD Overview'))"
   ],
   "id": "c7d4401a0121f2b8",
   "outputs": [
    {
     "name": "stdout",
     "output_type": "stream",
     "text": [
      "PLD Overview\n",
      "Peer Learning Days (PLDs) are a time for you and your peers to ensure that each of you understands the concepts you've encountered in your projects, as well as a time for everyone to collectively grow in technical, professional, and soft skills. During PLD, you will collaboratively review prior projects with a group of cohort peers.\n",
      "PLD Basics\n",
      "PLDs are mandatory on-site days from 9:00 AM to 3:00 PM. If you cannot be present or on time, you must use a PTO. \n",
      "No laptops, tablets, or screens are allowed until all tasks have been whiteboarded and understood by the entirety of your group. This time is for whiteboarding, dialogue, and active peer collaboration. After this, you may return to computers with each other to pair or group program. \n",
      "Peer Learning Days are not about sharing solutions. This doesn't empower peers with the ability to solve problems themselves! Peer learning is when you share your thought process, whether through conversation, whiteboarding, debugging, or live coding. \n",
      "When a peer has a question, rather than offering the solution, ask the following:\n",
      "\"How did you come to that conclusion?\"\n",
      "\"What have you tried?\"\n",
      "\"Did the man page give you a lead?\"\n",
      "\"Did you think about this concept?\"\n",
      "Modeling this form of thinking for one another is invaluable and will strengthen your entire cohort.\n",
      "Your ability to articulate your knowledge is a crucial skill and will be required to succeed during technical interviews and through your career. \n",
      "\n"
     ]
    }
   ],
   "execution_count": 7
  }
 ],
 "metadata": {
  "kernelspec": {
   "display_name": "Python 3",
   "language": "python",
   "name": "python3"
  },
  "language_info": {
   "codemirror_mode": {
    "name": "ipython",
    "version": 2
   },
   "file_extension": ".py",
   "mimetype": "text/x-python",
   "name": "python",
   "nbconvert_exporter": "python",
   "pygments_lexer": "ipython2",
   "version": "2.7.6"
  }
 },
 "nbformat": 4,
 "nbformat_minor": 5
}
