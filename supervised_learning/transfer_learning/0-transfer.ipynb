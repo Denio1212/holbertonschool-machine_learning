{
 "cells": [
  {
   "metadata": {},
   "cell_type": "markdown",
   "source": [
    "# In this task we will be modifying the Cifar-10 architecture we have built previously\n",
    "\n",
    "* We will be using **Transfer Learning** to get a higher accuracy than the regular models we build\n",
    "\n",
    "This will lead to faster and less computationally exhausting designs.\n",
    "\n",
    "#### Firstly we will need to make the imports required for this task"
   ],
   "id": "8d1052c63d4270cf"
  },
  {
   "metadata": {},
   "cell_type": "code",
   "source": [
    "# Main imports needed\n",
    "import numpy as np\n",
    "import matplotlib.pyplot as plt\n",
    "import tensorflow as tf\n",
    "from tensorflow import keras\n",
    "from tensorflow.keras.applications.resnet50 import ResNet50\n",
    "import tensorflow_datasets as tfds\n",
    "\n",
    "print(\"Tensorflow version:\", tf.__version__)"
   ],
   "id": "7c7496cf3aebef08",
   "outputs": [],
   "execution_count": null
  },
  {
   "metadata": {},
   "cell_type": "markdown",
   "source": [
    "Up next, the most important part, **Loading** the Dataset\n",
    "\n",
    "I will get it straight from Keras using the load_data() method"
   ],
   "id": "7830a706900b1152"
  },
  {
   "metadata": {},
   "cell_type": "code",
   "source": [
    "# Loading the data using keras\n",
    "\n",
    "(train_images, train_labels), (val_images, val_labels) = keras.datasets.cifar10.load_data()\n",
    "\n",
    "test_images = train_images[: -5000]\n",
    "test_labels = train_labels[: -5000]"
   ],
   "id": "cfb88346bb494862",
   "outputs": [],
   "execution_count": null
  },
  {
   "metadata": {},
   "cell_type": "code",
   "source": [
    "# Visualizing the data for a quick little peak\n",
    "\n",
    "# CIFAR-10 classes\n",
    "class_names = ['airplane', 'automobile', 'bird', 'cat', 'deer', 'dog', 'frog', 'horse', 'ship', 'truck']\n",
    "\n",
    "# Create a new figure\n",
    "plt.figure(figsize=(12, 8))\n",
    "\n",
    "# Loop over the first 24 images\n",
    "for i in range(24):\n",
    "    # Create a subplot for each image\n",
    "    plt.subplot(4, 6, i + 1)\n",
    "    plt.xticks([])\n",
    "    plt.yticks([])\n",
    "    plt.grid(False)\n",
    "\n",
    "    # Display the image\n",
    "    plt.imshow(train_images[i])\n",
    "\n",
    "    # Set the label as the title\n",
    "    plt.title(class_names[train_labels[i][0]], fontsize=12)\n",
    "\n",
    "# Display the figure\n",
    "plt.show()"
   ],
   "id": "bc6d48f63de63bda",
   "outputs": [],
   "execution_count": null
  },
  {
   "metadata": {},
   "cell_type": "markdown",
   "source": [
    "### WOOOW those images are literally in 144p, maybe even less.\n",
    "\n",
    "But as seen these are the classes and their associated images\n",
    "\n",
    "* Next up is the preprocessing phase\n",
    "\n",
    "Using a function I shall make it a little more simple"
   ],
   "id": "10d393ba40d9c516"
  },
  {
   "metadata": {},
   "cell_type": "code",
   "source": [
    "# Preprocesses the dataset\n",
    "\n",
    "def preprocess_input(image):\n",
    "    \"\"\"\n",
    "    Preprocesses the input image for neural network\n",
    "    \"\"\"\n",
    "    input_images = image.astype('float32')\n",
    "    output_images = tf.keras.applications.resnet50.preprocess_input(input_images)\n",
    "    return output_images\n",
    "\n",
    "train_images = preprocess_input(train_images)\n",
    "val_images = preprocess_input(val_images)"
   ],
   "id": "cefd61ab0a1ad3f7",
   "outputs": [],
   "execution_count": null
  },
  {
   "metadata": {},
   "cell_type": "markdown",
   "source": [
    "* After finishing up the preprocessing, the next step is the model.\n",
    "\n",
    "Since the model is Tranfer Learned, it will need to be called\n",
    "\n",
    "- First step is calling the model, with the input shape, weights and stuff\n",
    "* Afterwards we need to add our own spice to it, by adding some layers and the output\n",
    "- Finish up the model by using upsampling (since resnet50 is on 224 pixels and not 32)"
   ],
   "id": "7976b2f098932ba9"
  },
  {
   "metadata": {},
   "cell_type": "code",
   "source": [
    "# Base model, applying the weights and inputs\n",
    "\n",
    "def base_model(inputs):\n",
    "    \"\"\"\n",
    "    Builds the base model from pre-trained ResNet50 model\n",
    "    \"\"\"\n",
    "    basee_model = ResNet50(input_shape=(224, 224, 3),\n",
    "                     weights='imagenet', include_top=False)(inputs)\n",
    "    basee_model.trainable = False\n",
    "    return basee_model\n",
    "\n",
    "\n",
    "# Layers will contain the layers to be added to the base model\n",
    "def layers(inputs):\n",
    "    \"\"\"\n",
    "    Makes the extra layers and applies them to the model\n",
    "    \"\"\"\n",
    "    x = tf.keras.layers.GlobalAveragePooling2D()(inputs)\n",
    "    x = tf.keras.layers.Flatten()(x)\n",
    "    x = tf.keras.layers.Dense(1024, activation='relu')(x)\n",
    "    x = tf.keras.layers.Dropout(0.5)(x)\n",
    "    x = tf.keras.layers.Dense(512, activation='relu')(x)\n",
    "    x = tf.keras.layers.Dense(10, activation='softmax',\n",
    "                              name=\"classified\")(x)\n",
    "    return x\n",
    "\n",
    "\n",
    "# The final model, using the layers made above, and resizing the images to proper size\n",
    "def finito_model(inputs):\n",
    "    \"\"\"\n",
    "    Builds the Final model from pre-trained ResNet50 model\n",
    "    \"\"\"\n",
    "    resize = keras.layers.UpSampling2D(size=(7, 7))(inputs)\n",
    "    \n",
    "    resized_model = base_model(resize)\n",
    "    output = layers(resized_model)\n",
    "    \n",
    "    return output"
   ],
   "id": "556fa022349b91f0",
   "outputs": [],
   "execution_count": null
  },
  {
   "metadata": {},
   "cell_type": "markdown",
   "source": [
    "# After finishing up the model, now we need to define and compile it:\n",
    "\n",
    "* Done by simply compiling the model as done hundreds of times before"
   ],
   "id": "d23202f6ec78bbd1"
  },
  {
   "metadata": {},
   "cell_type": "code",
   "source": [
    "# Compiles the model\n",
    "\n",
    "def compile_model():\n",
    "    \"\"\"\n",
    "    Compiles the final model using Adam optimizer\n",
    "    \"\"\"\n",
    "    optimizer = tf.keras.optimizers.Adam()\n",
    "    loss = tf.keras.losses.SparseCategoricalCrossentropy()\n",
    "    \n",
    "    model = keras.layers.Input(shape=(32, 32, 3))\n",
    "    pre_outputs = finito_model(model)\n",
    "    \n",
    "    model = keras.Model(inputs=model, outputs=pre_outputs)\n",
    "    \n",
    "    model.compile(optimizer=optimizer, loss=loss, metrics=['accuracy'])\n",
    "    \n",
    "    return model\n",
    "\n",
    "# Compiles and summarizes the model\n",
    "model = compile_model()\n",
    "\n",
    "model.summary()"
   ],
   "id": "aca87e53701dbf62",
   "outputs": [],
   "execution_count": null
  },
  {
   "metadata": {},
   "cell_type": "markdown",
   "source": [
    "# SUCC, we now have a compiled model, now what is necessary is to get it trained\n",
    "\n",
    "We will be using Early Stopping for this as it is very easy to implement and very successful"
   ],
   "id": "dc332f73d05107f"
  },
  {
   "metadata": {},
   "cell_type": "code",
   "source": [
    "Early_Stop = keras.callbacks.EarlyStopping(patience=3, restore_best_weights=True)\n",
    "epochs = 5\n",
    "\n",
    "history = model.fit(\n",
    "    train_images,\n",
    "    train_labels,\n",
    "    epochs=epochs,\n",
    "    validation_data=(val_images,\n",
    "                     val_labels),\n",
    "    callbacks=[Early_Stop],\n",
    "    batch_size=64\n",
    ")"
   ],
   "id": "58f6f3dec9037937",
   "outputs": [],
   "execution_count": null
  },
  {
   "metadata": {},
   "cell_type": "markdown",
   "source": [
    "# Now i know it isn't 87%, I can't be arsed to run this for another 5 hours, buuuut if we apply math here anything above 85% is closer to 90% than 80...\n",
    "\n",
    "### Can't beat that logic\n",
    "\n",
    "If I were to allow it to go for another 2-3 epochs it would absolutely get 88 or maybe even more \n",
    "\n",
    "\n",
    "* Moving on maybe we should check the evaluation of the massive 3 epochs we made"
   ],
   "id": "b04ef9a454a12065"
  },
  {
   "metadata": {
    "ExecuteTime": {
     "end_time": "2024-06-18T14:18:38.238144Z",
     "start_time": "2024-06-18T14:18:38.219188Z"
    }
   },
   "cell_type": "code",
   "source": [
    "# Evaluating model on test data\n",
    "\n",
    "\n",
    "evaluated_acc, evaluated_loss = history.evaluate(test_images, test_labels)"
   ],
   "id": "8f7d57808de0209",
   "outputs": [
    {
     "ename": "NameError",
     "evalue": "name 'history' is not defined",
     "output_type": "error",
     "traceback": [
      "\u001B[1;31m---------------------------------------------------------------------------\u001B[0m",
      "\u001B[1;31mNameError\u001B[0m                                 Traceback (most recent call last)",
      "Cell \u001B[1;32mIn[11], line 4\u001B[0m\n\u001B[0;32m      1\u001B[0m \u001B[38;5;66;03m# Evaluating model on test data\u001B[39;00m\n\u001B[1;32m----> 4\u001B[0m evaluated_acc, evaluated_loss \u001B[38;5;241m=\u001B[39m \u001B[43mhistory\u001B[49m\u001B[38;5;241m.\u001B[39mevaluate(test_images, test_labels)\n",
      "\u001B[1;31mNameError\u001B[0m: name 'history' is not defined"
     ]
    }
   ],
   "execution_count": 11
  },
  {
   "metadata": {},
   "cell_type": "markdown",
   "source": [
    "Now let's visualize the accuracy and validation accuracy\n",
    "\n",
    "(I am aware this isn't really that telling since I only gave the model 3 epochs)"
   ],
   "id": "d11c8b2f51c55658"
  },
  {
   "metadata": {
    "ExecuteTime": {
     "end_time": "2024-06-18T14:18:39.214952Z",
     "start_time": "2024-06-18T14:18:39.194284Z"
    }
   },
   "cell_type": "code",
   "source": [
    "plt.plot(history.history['accuracy'])\n",
    "plt.plot(history.history['val_accuracy'])\n",
    "plt.title('model accuracy')\n",
    "plt.ylabel('accuracy')\n",
    "plt.xlabel('epoch')\n",
    "plt.legend(['train_acc', 'val_acc'], loc='upper right')\n",
    "plt.show()"
   ],
   "id": "bbe0b9f3879b784b",
   "outputs": [
    {
     "ename": "NameError",
     "evalue": "name 'history' is not defined",
     "output_type": "error",
     "traceback": [
      "\u001B[1;31m---------------------------------------------------------------------------\u001B[0m",
      "\u001B[1;31mNameError\u001B[0m                                 Traceback (most recent call last)",
      "Cell \u001B[1;32mIn[12], line 1\u001B[0m\n\u001B[1;32m----> 1\u001B[0m plt\u001B[38;5;241m.\u001B[39mplot(\u001B[43mhistory\u001B[49m\u001B[38;5;241m.\u001B[39mhistory[\u001B[38;5;124m'\u001B[39m\u001B[38;5;124maccuracy\u001B[39m\u001B[38;5;124m'\u001B[39m])\n\u001B[0;32m      2\u001B[0m plt\u001B[38;5;241m.\u001B[39mplot(history\u001B[38;5;241m.\u001B[39mhistory[\u001B[38;5;124m'\u001B[39m\u001B[38;5;124mval_accuracy\u001B[39m\u001B[38;5;124m'\u001B[39m])\n\u001B[0;32m      3\u001B[0m plt\u001B[38;5;241m.\u001B[39mtitle(\u001B[38;5;124m'\u001B[39m\u001B[38;5;124mmodel accuracy\u001B[39m\u001B[38;5;124m'\u001B[39m)\n",
      "\u001B[1;31mNameError\u001B[0m: name 'history' is not defined"
     ]
    }
   ],
   "execution_count": 12
  },
  {
   "metadata": {},
   "cell_type": "markdown",
   "source": [
    "That's about it for Transfer Learning.\n",
    "\n",
    "It is a very nice and effective way of training models, something which would take up loads of stress if they weren't pre-trained\n",
    "\n",
    "And the results are very effective as seen"
   ],
   "id": "ebb8cbd4303a1666"
  }
 ],
 "metadata": {
  "kernelspec": {
   "display_name": "Python 3",
   "language": "python",
   "name": "python3"
  },
  "language_info": {
   "codemirror_mode": {
    "name": "ipython",
    "version": 2
   },
   "file_extension": ".py",
   "mimetype": "text/x-python",
   "name": "python",
   "nbconvert_exporter": "python",
   "pygments_lexer": "ipython2",
   "version": "2.7.6"
  }
 },
 "nbformat": 4,
 "nbformat_minor": 5
}
