{
 "cells": [
  {
   "metadata": {
    "id": "dd75e19a8f315185"
   },
   "cell_type": "markdown",
   "source": [
    "# We must incept!\n",
    "\n",
    "* Makes an inception block as described in the \" Going Deeper with Convolutions (2014)\" piece by google\n",
    "\n",
    "\n",
    "Firstly we must import keras"
   ],
   "id": "dd75e19a8f315185"
  },
  {
   "metadata": {
    "ExecuteTime": {
     "end_time": "2024-06-02T17:30:21.567435Z",
     "start_time": "2024-06-02T17:30:15.497471Z"
    },
    "id": "468c5c65d9d1eff",
    "executionInfo": {
     "status": "ok",
     "timestamp": 1717360101184,
     "user_tz": -120,
     "elapsed": 5757,
     "user": {
      "displayName": "",
      "userId": ""
     }
    }
   },
   "cell_type": "code",
   "source": [
    "import tensorflow.keras as keras"
   ],
   "id": "468c5c65d9d1eff",
   "outputs": [],
   "execution_count": 1
  },
  {
   "metadata": {
    "id": "f9e14d9099497213"
   },
   "cell_type": "markdown",
   "source": [
    "In our case we are given some hints\n",
    "\n",
    "* A_prev is the output from the previous layer\n",
    "* filters is a tuple or list containing F1, F3R, F3,F5R, F5, FPP, respectively:\n",
    "* F1 is the number of filters in the 1x1 convolution\n",
    "* F3R is the number of filters in the 1x1 convolution before the 3x3 convolution\n",
    "* F3 is the number of filters in the 3x3 convolution\n",
    "* F5R is the number of filters in the 1x1 convolution before the 5x5 convolution\n",
    "* F5 is the number of filters in the 5x5 convolution\n",
    "* FPP is the number of filters in the 1x1 convolution after the max pooling\n",
    "* All convolutions inside the inception block should use a rectified linear activation (ReLU)\n",
    "* Returns: the concatenated output of the inception block"
   ],
   "id": "f9e14d9099497213"
  },
  {
   "metadata": {
    "ExecuteTime": {
     "end_time": "2024-06-02T18:43:53.777008Z",
     "start_time": "2024-06-02T18:43:53.766752Z"
    },
    "id": "40f52042280a6e77",
    "executionInfo": {
     "status": "ok",
     "timestamp": 1717360101184,
     "user_tz": -120,
     "elapsed": 6,
     "user": {
      "displayName": "",
      "userId": ""
     }
    }
   },
   "cell_type": "code",
   "source": [
    "def inception_block(A_prev, filters):\n",
    "    \"\"\"\n",
    "    Makes the Google inception block\n",
    "\n",
    "    :param A_prev: input tensor from previous layer\n",
    "\n",
    "    :param filters: filters is a tuple or list containing\n",
    "    F1, F3R, F3,F5R, F5, FPP, respectively\n",
    "\n",
    "    all conv layers must use ReLU activation function\n",
    "\n",
    "    Returns: the concatenated output of the inception block\n",
    "\"\"\"\n",
    "    layers = keras.layers\n",
    "    f1 = filters[0]\n",
    "    f3r = filters[1]\n",
    "    f3 = filters[2]\n",
    "    f5r = filters[3]\n",
    "    f5 = filters[4]\n",
    "    fpp = filters[5]\n",
    "\n",
    "    tower_1 = layers.Conv2D(\n",
    "            filters=f1,\n",
    "            kernel_size=(1, 1),\n",
    "            padding='same',\n",
    "            activation='relu',\n",
    "        )\n",
    "\n",
    "    tower_2 = layers.Conv2D(\n",
    "            filters=f3r,\n",
    "            kernel_size=(1, 1),\n",
    "            padding='same',\n",
    "            activation='relu',\n",
    "        )\n",
    "\n",
    "    tower_3 = layers.Conv2D(\n",
    "        filters=f3,\n",
    "        kernel_size=(3, 3),\n",
    "        padding='same',\n",
    "        activation='relu',\n",
    "    )\n",
    "\n",
    "    tower_4 = layers.Conv2D(\n",
    "        filters=f5r,\n",
    "        kernel_size=(1, 1),\n",
    "        padding='same',\n",
    "        activation='relu',\n",
    "    )\n",
    "\n",
    "    tower_5 = layers.Conv2D(\n",
    "        filters=f5,\n",
    "        kernel_size=(5, 5),\n",
    "        padding='same',\n",
    "        activation='relu',\n",
    "    )\n",
    "\n",
    "    pool = layers.MaxPooling2D((3, 3), strides=(1, 1),\n",
    "                                  padding='same')(A_prev)\n",
    "\n",
    "    tower_6 = layers.Conv2D(\n",
    "        filters=fpp,\n",
    "        kernel_size=(1, 1),\n",
    "        padding='same',\n",
    "        activation='relu',\n",
    "    )\n",
    "\n",
    "    layer_1 = tower_1(A_prev)\n",
    "    layer_3_prev= tower_2(A_prev)\n",
    "    layer_3 = tower_3(layer_3_prev)\n",
    "    layer_5_prev= tower_4(A_prev)\n",
    "    layer_5 = tower_5(layer_5_prev)\n",
    "    layer_end = tower_6(pool)\n",
    "\n",
    "    output = layers.concatenate([layer_1, layer_3, layer_5, layer_end])\n",
    "\n",
    "    return output\n",
    ""
   ],
   "id": "40f52042280a6e77",
   "outputs": [],
   "execution_count": 2
  },
  {
   "metadata": {
    "id": "f53b39cb12c276fb"
   },
   "cell_type": "markdown",
   "source": [
    "#### Lets check out the output"
   ],
   "id": "f53b39cb12c276fb"
  },
  {
   "metadata": {
    "ExecuteTime": {
     "end_time": "2024-06-02T18:43:54.409919Z",
     "start_time": "2024-06-02T18:43:54.321826Z"
    },
    "id": "13516b1dfb6d3962",
    "executionInfo": {
     "status": "ok",
     "timestamp": 1717360101703,
     "user_tz": -120,
     "elapsed": 523,
     "user": {
      "displayName": "",
      "userId": ""
     }
    },
    "outputId": "5bb8900f-7a7a-49b4-d050-b87d835fb3eb",
    "colab": {
     "base_uri": "https://localhost:8080/"
    }
   },
   "cell_type": "code",
   "source": [
    "#!/usr/bin/env python3\n",
    "\n",
    "if __name__ == '__main__':\n",
    "    X = keras.Input(shape=(224, 224, 3))\n",
    "    Y = inception_block(X, [64, 96, 128, 16, 32, 32])\n",
    "    model = keras.models.Model(inputs=X, outputs=Y)\n",
    "    model.summary()"
   ],
   "id": "13516b1dfb6d3962",
   "outputs": [
    {
     "output_type": "stream",
     "name": "stdout",
     "text": [
      "Model: \"model\"\n",
      "__________________________________________________________________________________________________\n",
      " Layer (type)                Output Shape                 Param #   Connected to                  \n",
      "==================================================================================================\n",
      " input_1 (InputLayer)        [(None, 224, 224, 3)]        0         []                            \n",
      "                                                                                                  \n",
      " conv2d_1 (Conv2D)           (None, 224, 224, 96)         384       ['input_1[0][0]']             \n",
      "                                                                                                  \n",
      " conv2d_3 (Conv2D)           (None, 224, 224, 16)         64        ['input_1[0][0]']             \n",
      "                                                                                                  \n",
      " max_pooling2d (MaxPooling2  (None, 224, 224, 3)          0         ['input_1[0][0]']             \n",
      " D)                                                                                               \n",
      "                                                                                                  \n",
      " conv2d (Conv2D)             (None, 224, 224, 64)         256       ['input_1[0][0]']             \n",
      "                                                                                                  \n",
      " conv2d_2 (Conv2D)           (None, 224, 224, 128)        110720    ['conv2d_1[0][0]']            \n",
      "                                                                                                  \n",
      " conv2d_4 (Conv2D)           (None, 224, 224, 32)         12832     ['conv2d_3[0][0]']            \n",
      "                                                                                                  \n",
      " conv2d_5 (Conv2D)           (None, 224, 224, 32)         128       ['max_pooling2d[0][0]']       \n",
      "                                                                                                  \n",
      " concatenate (Concatenate)   (None, 224, 224, 256)        0         ['conv2d[0][0]',              \n",
      "                                                                     'conv2d_2[0][0]',            \n",
      "                                                                     'conv2d_4[0][0]',            \n",
      "                                                                     'conv2d_5[0][0]']            \n",
      "                                                                                                  \n",
      "==================================================================================================\n",
      "Total params: 124384 (485.88 KB)\n",
      "Trainable params: 124384 (485.88 KB)\n",
      "Non-trainable params: 0 (0.00 Byte)\n",
      "__________________________________________________________________________________________________\n"
     ]
    }
   ],
   "execution_count": 3
  },
  {
   "cell_type": "markdown",
   "source": [
    "### Task 1 be like... PAIN\n",
    "\n",
    "The second (task 1) task needs us to make the Inception ***Network***, which is just the architecture Google used for their own. This will also include the convolution blocks."
   ],
   "metadata": {
    "id": "vQ_uYbfMoMVx"
   },
   "id": "vQ_uYbfMoMVx"
  },
  {
   "cell_type": "code",
   "source": [
    "def inception_network():\n",
    "  \"\"\"\n",
    "  Makes the Google Inception Network\n",
    "\n",
    "  The input shape is (224, 224, 3)\n",
    "\n",
    "  Returns: The keras model\n",
    "  \"\"\"\n",
    "  conv = keras.layers.Conv2D\n",
    "  max_pool = keras.layers.MaxPooling2D\n",
    "  inception = inception_block\n",
    "  avg_pool = keras.layers.AveragePooling2D\n",
    "  drop = keras.layers.Dropout\n",
    "  \n",
    "  model = keras.models.Sequential([\n",
    "      \n",
    "  ])\n",
    "\n"
   ],
   "metadata": {
    "id": "pU1BA6ULoopm",
    "executionInfo": {
     "status": "ok",
     "timestamp": 1717360666794,
     "user_tz": -120,
     "elapsed": 5,
     "user": {
      "displayName": "",
      "userId": ""
     }
    }
   },
   "id": "pU1BA6ULoopm",
   "execution_count": 4,
   "outputs": []
  },
  {
   "cell_type": "code",
   "source": [],
   "metadata": {
    "id": "LScPTmuSrCQb"
   },
   "id": "LScPTmuSrCQb",
   "execution_count": null,
   "outputs": []
  }
 ],
 "metadata": {
  "kernelspec": {
   "display_name": "Python 3",
   "language": "python",
   "name": "python3"
  },
  "language_info": {
   "codemirror_mode": {
    "name": "ipython",
    "version": 2
   },
   "file_extension": ".py",
   "mimetype": "text/x-python",
   "name": "python",
   "nbconvert_exporter": "python",
   "pygments_lexer": "ipython2",
   "version": "2.7.6"
  },
  "colab": {
   "provenance": [
    {
     "file_id": "https://github.com/Denio1212/holbertonschool-machine_learning/blob/main/supervised_learning/deep_cnns/notebooks/0-inception_block.ipynb",
     "timestamp": 1717360716299
    }
   ]
  }
 },
 "nbformat": 4,
 "nbformat_minor": 5
}
