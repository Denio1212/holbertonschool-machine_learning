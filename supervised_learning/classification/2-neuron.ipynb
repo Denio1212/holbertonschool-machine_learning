{
 "cells": [
  {
   "cell_type": "markdown",
   "source": [
    "# Same as task 1, except we add the sigmoid activation function"
   ],
   "metadata": {
    "collapsed": false
   },
   "id": "3b79bd846e973aae"
  },
  {
   "cell_type": "code",
   "outputs": [],
   "source": [
    "import numpy as np\n",
    "\n",
    "class Neuron:\n",
    "    \"\"\"\n",
    "    Add the public method def forward_prop(self, X):\n",
    "    \n",
    "    Calculates the forward propagation of the neuron\n",
    "    \n",
    "    X is a numpy.ndarray with shape (nx, m) that contains the input datas\n",
    "    \n",
    "    nx is the number of input features to the neuron\n",
    "    \n",
    "    m is the number of examples\n",
    "    \n",
    "    Updates the private attribute __A\n",
    "    The neuron should use a sigmoid activation function\n",
    "    Returns the private attribute __A\n",
    "    \"\"\"\n",
    "    def __init__(self, nx):\n",
    "        \"\"\"\n",
    "        Constructor: initialize the class\n",
    "        \"\"\"\n",
    "        if not isinstance(nx, int):\n",
    "            raise TypeError('nx must be a integer')\n",
    "        if nx < 1:\n",
    "            raise ValueError('nx must be positive')\n",
    "        \n",
    "        self.__W = np.random.randn(nx).reshape(1, nx)\n",
    "        self.__b = 0\n",
    "        self.__A = 0\n",
    "\n",
    "    @property\n",
    "    def W(self):\n",
    "        return self.__W\n",
    "\n",
    "    @property\n",
    "    def b(self):\n",
    "        return self.__b\n",
    "\n",
    "    @property\n",
    "    def A(self):\n",
    "        return self.__A\n",
    "    \n",
    "    def forward_prop(self, X):\n",
    "        \"\"\"\n",
    "        Calculates the forward propagation of the neuron\n",
    "        \"\"\"\n",
    "        Z = np.matmul(self.__W, X) + self.__b # The forward propagation function\n",
    "        self.__A = 1 / (1 + np.exp(-Z)) # Sigmoid activation func\n",
    "        return self.__A"
   ],
   "metadata": {
    "collapsed": false,
    "ExecuteTime": {
     "end_time": "2024-03-25T13:14:05.570299Z",
     "start_time": "2024-03-25T13:14:05.562462Z"
    }
   },
   "id": "ec48cdc9e4f7626",
   "execution_count": 13
  },
  {
   "cell_type": "code",
   "outputs": [
    {
     "name": "stdout",
     "output_type": "stream",
     "text": [
      "[[5.34775247e-10 7.24627778e-04 4.52416436e-07 ... 8.75691930e-05\n",
      "  1.13141966e-06 6.55799932e-01]]\n"
     ]
    }
   ],
   "source": [
    "# Main file\n",
    "\n",
    "lib_train = np.load('./data/Binary_Train.npz')\n",
    "X_3D, Y = lib_train['X'], lib_train['Y']\n",
    "X = X_3D.reshape((X_3D.shape[0], -1)).T\n",
    "\n",
    "np.random.seed(0)\n",
    "neuron = Neuron(X.shape[0])\n",
    "neuron._Neuron__b = 1\n",
    "A = neuron.forward_prop(X)\n",
    "if (A is neuron.A):\n",
    "        print(A)"
   ],
   "metadata": {
    "collapsed": false,
    "ExecuteTime": {
     "end_time": "2024-03-25T13:14:05.734485Z",
     "start_time": "2024-03-25T13:14:05.573466Z"
    }
   },
   "id": "c42aa5629863285f",
   "execution_count": 14
  }
 ],
 "metadata": {
  "kernelspec": {
   "display_name": "Python 3",
   "language": "python",
   "name": "python3"
  },
  "language_info": {
   "codemirror_mode": {
    "name": "ipython",
    "version": 2
   },
   "file_extension": ".py",
   "mimetype": "text/x-python",
   "name": "python",
   "nbconvert_exporter": "python",
   "pygments_lexer": "ipython2",
   "version": "2.7.6"
  }
 },
 "nbformat": 4,
 "nbformat_minor": 5
}
