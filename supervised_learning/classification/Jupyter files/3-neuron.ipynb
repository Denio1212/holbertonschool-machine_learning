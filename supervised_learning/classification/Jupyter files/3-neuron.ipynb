{
 "cells": [
  {
   "cell_type": "markdown",
   "source": [
    "# Calculating the cost of the model using logistic regression"
   ],
   "metadata": {
    "collapsed": false
   },
   "id": "1edfe59c4559561e"
  },
  {
   "cell_type": "code",
   "outputs": [],
   "source": [
    "#!/usr/bin/env python3\n",
    "\"\"\"\n",
    "Calculating the cost of the model using logistic regression, Based on 2.neuron\n",
    "\"\"\"\n",
    "\n",
    "\n",
    "import numpy as np\n",
    "\n",
    "\n",
    "class Neuron:\n",
    "    \"\"\"\n",
    "    Add the public method def cost(self, Y, A):\n",
    "    \n",
    "    Calculates the cost of the model using logistic regression\n",
    "    \n",
    "    Y is a numpy.ndarray with shape (1, m) that contains the correct \n",
    "    labels for the input data\n",
    "    \n",
    "    A is a numpy.ndarray with shape (1, m) containing the activated\n",
    "    output of the neuron for each example\n",
    "    To avoid division by zero errors, please use 1.0000001 - A\n",
    "    \n",
    "    Returns the cost\n",
    "    \"\"\"\n",
    "    def __init__(self, nx):\n",
    "        \"\"\"\n",
    "        Initializer\n",
    "        \"\"\"\n",
    "        if not isinstance(nx, int):\n",
    "            raise TypeError('nx must be an integer')\n",
    "        if nx < 1:\n",
    "            raise ValueError('nx must be positive')\n",
    "\n",
    "        self.__W = np.random.randn(nx).reshape(1, nx)\n",
    "        self.__b = 0\n",
    "        self.__A = 0\n",
    "\n",
    "    @property\n",
    "    def W(self):\n",
    "        return self.__W\n",
    "\n",
    "    @property\n",
    "    def b(self):\n",
    "        return self.__b\n",
    "\n",
    "    @property\n",
    "    def A(self):\n",
    "        return self.__A\n",
    "\n",
    "    def forward_prop(self, X):\n",
    "        \"\"\"\n",
    "        Calculates the forward propagation of the neuron\n",
    "        \"\"\"\n",
    "        Z = np.matmul(self.__W, X) + self.__b\n",
    "        self.__A = 1 / (1 + np.exp(-Z))\n",
    "        return self.__A\n",
    "    \n",
    "    def cost(self, Y, A):\n",
    "        \"\"\"\n",
    "        Calculates the cost of the model using logistic regression\n",
    "        \"\"\"\n",
    "        bottom_shelf = 1.0000001 + A\n",
    "        cost =  Y / bottom_shelf\n",
    "        return cost"
   ],
   "metadata": {
    "collapsed": false,
    "ExecuteTime": {
     "end_time": "2024-03-25T14:58:23.274620Z",
     "start_time": "2024-03-25T14:58:23.268167Z"
    }
   },
   "id": "9c96e0af74d6e6aa",
   "execution_count": 7
  },
  {
   "cell_type": "code",
   "outputs": [
    {
     "name": "stdout",
     "output_type": "stream",
     "text": [
      "[[0.         0.99973327 0.99999973 ... 0.99996768 0.         0.70817439]]\n"
     ]
    }
   ],
   "source": [
    "# Main function\n",
    "\n",
    "\n",
    "lib_train = np.load('../data/Binary_Train.npz')\n",
    "X_3D, Y = lib_train['X'], lib_train['Y']\n",
    "X = X_3D.reshape((X_3D.shape[0], -1)).T\n",
    "\n",
    "np.random.seed(0)\n",
    "neuron = Neuron(X.shape[0])\n",
    "A = neuron.forward_prop(X)\n",
    "cost = neuron.cost(Y, A)\n",
    "print(cost)"
   ],
   "metadata": {
    "collapsed": false,
    "ExecuteTime": {
     "end_time": "2024-03-25T14:58:23.652546Z",
     "start_time": "2024-03-25T14:58:23.501852Z"
    }
   },
   "id": "8a1592a7e2494257",
   "execution_count": 8
  }
 ],
 "metadata": {
  "kernelspec": {
   "display_name": "Python 3",
   "language": "python",
   "name": "python3"
  },
  "language_info": {
   "codemirror_mode": {
    "name": "ipython",
    "version": 2
   },
   "file_extension": ".py",
   "mimetype": "text/x-python",
   "name": "python",
   "nbconvert_exporter": "python",
   "pygments_lexer": "ipython2",
   "version": "2.7.6"
  }
 },
 "nbformat": 4,
 "nbformat_minor": 5
}
