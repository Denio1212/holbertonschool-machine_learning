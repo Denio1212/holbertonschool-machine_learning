{
 "cells": [
  {
   "cell_type": "markdown",
   "source": [
    "# The deeper the better, BUUT Not too deep"
   ],
   "metadata": {
    "collapsed": false
   },
   "id": "f5117c09a697fa31"
  },
  {
   "cell_type": "code",
   "outputs": [],
   "source": [
    "#!/usr/bin/env python3\n",
    "\"\"\"\n",
    "The Neural Network Deepens\n",
    "\"\"\"\n",
    "\n",
    "\n",
    "import numpy as np\n",
    "\n",
    "\n",
    "class DeepNeuralNetwork:\n",
    "    \"\"\"\n",
    "    The Deep Neural Network\n",
    "    \"\"\"\n",
    "    def __init__(self, nx, layers):\n",
    "        \"\"\"\n",
    "        Initializes the Deep Neural Network\n",
    "        \"\"\"\n",
    "        if not isinstance(nx, int):\n",
    "            raise TypeError('nx must be an integer')\n",
    "        if nx < 1:\n",
    "            raise ValueError('nx must be a positive integer')\n",
    "        if not isinstance(layers, list) or len(layers) == 0:\n",
    "            raise TypeError('layers must be a list of positive integers')\n",
    "        \n",
    "        weights = {}\n",
    "        previous = nx\n",
    "        \n",
    "        for index, layer in enumerate(layers, 1):\n",
    "            if not isinstance(layer, int) or layer < 1:\n",
    "                raise TypeError('layers must be a list of positive integers')\n",
    "            \n",
    "            weights[\"b{}\".format(index)] = np.zeros((layer, 1))      \n",
    "            weights[\"W{}\".format(index)] = (np.random.randn(layer, previous) *\n",
    "                                            np.sqrt(2 / previous))\n",
    "            previous = layer\n",
    "            \n",
    "        self.L = len(layers)\n",
    "        self.cache = {}\n",
    "        self.weights = weights\n"
   ],
   "metadata": {
    "collapsed": false,
    "ExecuteTime": {
     "end_time": "2024-03-28T16:55:44.647697Z",
     "start_time": "2024-03-28T16:55:44.640587Z"
    }
   },
   "id": "5e207b43f4f16ed8",
   "execution_count": 21
  },
  {
   "cell_type": "code",
   "outputs": [
    {
     "name": "stdout",
     "output_type": "stream",
     "text": [
      "{}\n",
      "{'b1': array([[0.],\n",
      "       [0.],\n",
      "       [0.],\n",
      "       [0.],\n",
      "       [0.]]), 'W1': array([[ 0.0890981 ,  0.02021099,  0.04943373, ...,  0.02632982,\n",
      "         0.03090699, -0.06775582],\n",
      "       [ 0.02408701,  0.00749784,  0.02672082, ...,  0.00484894,\n",
      "        -0.00227857,  0.00399625],\n",
      "       [ 0.04295829, -0.04238217, -0.05110231, ..., -0.00364861,\n",
      "         0.01571416, -0.05446546],\n",
      "       [ 0.05361891, -0.05984585, -0.09117898, ..., -0.03094292,\n",
      "        -0.01925805, -0.06308145],\n",
      "       [-0.01667953, -0.04216413,  0.06239623, ..., -0.02024521,\n",
      "        -0.05159656, -0.02373981]]), 'b2': array([[0.],\n",
      "       [0.],\n",
      "       [0.]]), 'W2': array([[ 0.4609219 ,  0.56004008, -1.2250799 , -0.09454199,  0.57799141],\n",
      "       [-0.16310703,  0.06882082, -0.94578088, -0.30359994,  1.15661914],\n",
      "       [-0.49841799, -0.9111359 ,  0.09453424,  0.49877298,  0.75503205]]), 'b3': array([[0.]]), 'W3': array([[-0.42271877,  0.18165055,  0.4444639 ]])}\n",
      "3\n",
      "10\n"
     ]
    }
   ],
   "source": [
    "# Main func\n",
    "\n",
    "Deep = DeepNeuralNetwork\n",
    "\n",
    "lib_train = np.load('../data/Binary_Train.npz')\n",
    "X_3D, Y = lib_train['X'], lib_train['Y']\n",
    "X = X_3D.reshape((X_3D.shape[0], -1)).T\n",
    "\n",
    "np.random.seed(0)\n",
    "deep = Deep(X.shape[0], [5, 3, 1])\n",
    "print(deep.cache)\n",
    "print(deep.weights)\n",
    "print(deep.L)\n",
    "deep.L = 10\n",
    "print(deep.L)"
   ],
   "metadata": {
    "collapsed": false,
    "ExecuteTime": {
     "end_time": "2024-03-28T16:55:44.965905Z",
     "start_time": "2024-03-28T16:55:44.897236Z"
    }
   },
   "id": "5f1464e6532e1f0a",
   "execution_count": 22
  },
  {
   "cell_type": "code",
   "outputs": [],
   "source": [],
   "metadata": {
    "collapsed": false
   },
   "id": "211cc29b02959d65"
  }
 ],
 "metadata": {
  "kernelspec": {
   "display_name": "Python 3",
   "language": "python",
   "name": "python3"
  },
  "language_info": {
   "codemirror_mode": {
    "name": "ipython",
    "version": 2
   },
   "file_extension": ".py",
   "mimetype": "text/x-python",
   "name": "python",
   "nbconvert_exporter": "python",
   "pygments_lexer": "ipython2",
   "version": "2.7.6"
  }
 },
 "nbformat": 4,
 "nbformat_minor": 5
}
