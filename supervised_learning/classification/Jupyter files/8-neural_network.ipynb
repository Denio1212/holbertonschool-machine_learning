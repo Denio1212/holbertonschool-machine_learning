{
 "cells": [
  {
   "cell_type": "markdown",
   "source": [
    "# Write a class NeuralNetwork that defines a neural network with one hidden layer performing binary classification\n",
    "\n",
    "* class constructor: def __init__(self, nx, nodes):\n",
    "- nx is the number of input features\n",
    "If nx is not an integer, raise a TypeError with the exception: nx must be an integer\n",
    "If nx is less than 1, raise a ValueError with the exception: nx must be a positive integer\n",
    "* nodes is the number of nodes found in the hidden layer\n",
    "If nodes is not an integer, raise a TypeError with the exception: nodes must be an integer\n",
    "If nodes is less than 1, raise a ValueError with the exception: nodes must be a positive integer\n",
    "- Public instance attributes:\n",
    "W1: The weights vector for the hidden layer. Upon instantiation, it should be initialized using a random normal distribution.\n",
    "b1: The bias for the hidden layer. Upon instantiation, it should be initialized with 0’s.\n",
    "A1: The activated output for the hidden layer. Upon instantiation, it should be initialized to 0.\n",
    "W2: The weights vector for the output neuron. Upon instantiation, it should be initialized using a random normal distribution.\n",
    "b2: The bias for the output neuron. Upon instantiation, it should be initialized to 0.\n",
    "A2: The activated output for the output neuron (prediction). Upon instantiation, it should be initialized to 0."
   ],
   "metadata": {
    "collapsed": false
   },
   "id": "2c913ffe7cb8643"
  },
  {
   "cell_type": "code",
   "outputs": [],
   "source": [
    "#!/usr/bin/env python3\n",
    "\"\"\"\n",
    "A neural network with one hidden layer performing binary classification\n",
    "\"\"\"\n",
    "\n",
    "import numpy as np\n",
    "\n",
    "\n",
    "class NeuralNetwork:\n",
    "    \"\"\"\n",
    "    A neural network with one hidden layer performing binary classification\n",
    "    \"\"\"\n",
    "    def __init__(self, nx, nodes):\n",
    "        \"\"\"\n",
    "        nx is the number of input features\n",
    "        \n",
    "        nodes is the number of nodes in the hidden layer\n",
    "        \n",
    "        \"\"\"\n",
    "        self.nodes = nodes\n",
    "        self.nx = nx\n",
    "        if not isinstance(nx, int):\n",
    "            raise TypeError('nx must be an integer')\n",
    "        if nx < 1:\n",
    "            raise ValueError('nx must be a positive integer')\n",
    "        if not isinstance(nodes, int):\n",
    "            raise TypeError('nodes must be an integer')\n",
    "        if nodes < 1:\n",
    "            raise ValueError('nodes must be a positive integer')\n",
    "        \n",
    "        self.W1 = np.random.randn(nx, nodes)\n",
    "        self.W2 = np.random.randn(1, nodes)\n",
    "        self.b1 = np.zeros((1, nodes))\n",
    "        self.b2 = 0\n",
    "        self.A1 = 0\n",
    "        self.A2 = 0\n"
   ],
   "metadata": {
    "collapsed": false,
    "ExecuteTime": {
     "end_time": "2024-03-27T11:08:19.018749Z",
     "start_time": "2024-03-27T11:08:18.825490Z"
    }
   },
   "id": "932dd859f72a0ab9",
   "execution_count": 1
  },
  {
   "cell_type": "code",
   "outputs": [
    {
     "name": "stdout",
     "output_type": "stream",
     "text": [
      "[[ 1.76405235  0.40015721  0.97873798]\n",
      " [ 2.2408932   1.86755799 -0.97727788]\n",
      " [ 0.95008842 -0.15135721 -0.10321885]\n",
      " ...\n",
      " [ 0.86214806 -0.11858662  0.48837059]\n",
      " [ 0.96593612  1.42260475  1.96122699]\n",
      " [-0.07223876  0.31112445 -1.07836109]]\n",
      "(784, 3)\n",
      "[[0. 0. 0.]]\n",
      "[[ 1.06160017 -1.18488744 -1.80525169]]\n",
      "(1, 3)\n",
      "0\n",
      "0\n",
      "0\n",
      "10\n"
     ]
    }
   ],
   "source": [
    "# Main func\n",
    "\n",
    "NN = NeuralNetwork\n",
    "\n",
    "lib_train = np.load('../data/Binary_Train.npz')\n",
    "X_3D, Y = lib_train['X'], lib_train['Y']\n",
    "X = X_3D.reshape((X_3D.shape[0], -1)).T\n",
    "\n",
    "np.random.seed(0)\n",
    "nn = NN(X.shape[0], 3)\n",
    "print(nn.W1)\n",
    "print(nn.W1.shape)\n",
    "print(nn.b1)\n",
    "print(nn.W2)\n",
    "print(nn.W2.shape)\n",
    "print(nn.b2)\n",
    "print(nn.A1)\n",
    "print(nn.A2)\n",
    "nn.A1 = 10\n",
    "print(nn.A1)\n"
   ],
   "metadata": {
    "collapsed": false,
    "ExecuteTime": {
     "end_time": "2024-03-27T11:09:44.823129Z",
     "start_time": "2024-03-27T11:09:44.751880Z"
    }
   },
   "id": "4409dbd82f59c0b",
   "execution_count": 4
  }
 ],
 "metadata": {
  "kernelspec": {
   "display_name": "Python 3",
   "language": "python",
   "name": "python3"
  },
  "language_info": {
   "codemirror_mode": {
    "name": "ipython",
    "version": 2
   },
   "file_extension": ".py",
   "mimetype": "text/x-python",
   "name": "python",
   "nbconvert_exporter": "python",
   "pygments_lexer": "ipython2",
   "version": "2.7.6"
  }
 },
 "nbformat": 4,
 "nbformat_minor": 5
}
