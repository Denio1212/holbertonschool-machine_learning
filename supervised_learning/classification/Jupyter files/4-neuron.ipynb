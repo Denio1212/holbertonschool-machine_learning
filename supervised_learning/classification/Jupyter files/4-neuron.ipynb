{
 "cells": [
  {
   "cell_type": "markdown",
   "source": [
    "# We need to evaluate the neurons predictions"
   ],
   "metadata": {
    "collapsed": false
   },
   "id": "27964f17304cc4cc"
  },
  {
   "cell_type": "code",
   "outputs": [],
   "source": [
    "#!/usr/bin/env python3\n",
    "\"\"\"\n",
    "Evaluates the neuron's predictions\n",
    "\"\"\"\n",
    "\n",
    "import numpy as np\n",
    "\n",
    "\n",
    "class Neuron:\n",
    "    \"\"\"\n",
    "    \n",
    "    \"\"\"\n",
    "    def __init__(self, nx):\n",
    "        \"\"\"\n",
    "        Initializer\n",
    "        \"\"\"\n",
    "        if not isinstance(nx, int):\n",
    "            raise TypeError('nx must be an integer')\n",
    "        if nx < 1:\n",
    "            raise ValueError('nx must be positive')\n",
    "\n",
    "        self.__W = np.random.randn(nx).reshape(1, nx)\n",
    "        self.__b = 0\n",
    "        self.__A = 0\n",
    "\n",
    "    @property\n",
    "    def W(self):\n",
    "        return self.__W\n",
    "\n",
    "    @property\n",
    "    def b(self):\n",
    "        return self.__b\n",
    "\n",
    "    @property\n",
    "    def A(self):\n",
    "        return self.__A\n",
    "\n",
    "    def forward_prop(self, X):\n",
    "        \"\"\"\n",
    "        Calculates the forward propagation of the neuron\n",
    "        \"\"\"\n",
    "        Z = np.matmul(self.__W, X) + self.__b\n",
    "        self.__A = 1 / (1 + np.exp(-Z))\n",
    "        return self.__A\n",
    "    \n",
    "    def cost(self, Y, A):\n",
    "        \"\"\"\n",
    "        Calculates the cost of the model using logistic regression\n",
    "        \"\"\"\n",
    "        m = Y.shape[1]\n",
    "        m_loss = np.sum(( Y * np.log(A) + (1 - Y) * np.log((1.0000001 - A)) ))\n",
    "        costs = (1 / m) * (-m_loss)\n",
    "        return costs\n",
    "    \n",
    "    def evaluate(self, X, Y):\n",
    "        \"\"\"\n",
    "        \n",
    "        \"\"\"\n",
    "        A = self.forward_prop(X)\n",
    "        cost = self.cost(Y, A)\n",
    "        prediction = np.where(A >= 0.5, 1, 0)\n",
    "        return prediction, cost\n"
   ],
   "metadata": {
    "collapsed": false,
    "ExecuteTime": {
     "end_time": "2024-03-25T15:21:31.299386Z",
     "start_time": "2024-03-25T15:21:31.099815Z"
    }
   },
   "id": "9b84d109707c1fc2",
   "execution_count": 1
  },
  {
   "cell_type": "code",
   "outputs": [
    {
     "name": "stdout",
     "output_type": "stream",
     "text": [
      "[[0 0 0 ... 0 0 0]]\n",
      "4.365104944262272\n"
     ]
    }
   ],
   "source": [
    "# Main Func\n",
    "\n",
    "#!/usr/bin/env python3\n",
    "\n",
    "import numpy as np\n",
    "\n",
    "\n",
    "\n",
    "lib_train = np.load('../data/Binary_Train.npz')\n",
    "X_3D, Y = lib_train['X'], lib_train['Y']\n",
    "X = X_3D.reshape((X_3D.shape[0], -1)).T\n",
    "\n",
    "np.random.seed(0)\n",
    "neuron = Neuron(X.shape[0])\n",
    "A, cost = neuron.evaluate(X, Y)\n",
    "print(A)\n",
    "print(cost)"
   ],
   "metadata": {
    "collapsed": false,
    "ExecuteTime": {
     "end_time": "2024-03-25T15:21:50.643351Z",
     "start_time": "2024-03-25T15:21:50.466465Z"
    }
   },
   "id": "789f39e714f17cdf",
   "execution_count": 3
  },
  {
   "cell_type": "code",
   "outputs": [],
   "source": [],
   "metadata": {
    "collapsed": false
   },
   "id": "3e20d9bc438f0398"
  }
 ],
 "metadata": {
  "kernelspec": {
   "display_name": "Python 3",
   "language": "python",
   "name": "python3"
  },
  "language_info": {
   "codemirror_mode": {
    "name": "ipython",
    "version": 2
   },
   "file_extension": ".py",
   "mimetype": "text/x-python",
   "name": "python",
   "nbconvert_exporter": "python",
   "pygments_lexer": "ipython2",
   "version": "2.7.6"
  }
 },
 "nbformat": 4,
 "nbformat_minor": 5
}
