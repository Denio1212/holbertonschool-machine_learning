{
 "cells": [
  {
   "cell_type": "markdown",
   "source": [
    "# Adds the forward propagation method from the neuron adapted for the network"
   ],
   "metadata": {
    "collapsed": false
   },
   "id": "19e71f6fe01919ee"
  },
  {
   "cell_type": "code",
   "outputs": [],
   "source": [
    "#!/usr/bin/env python3\n",
    "\"\"\"\n",
    "A neural network with one hidden layer performing binary classification\n",
    "\"\"\"\n",
    "\n",
    "import numpy as np\n",
    "\n",
    "\n",
    "class NeuralNetwork:\n",
    "    \"\"\"\n",
    "    A neural network with one hidden layer performing binary classification\n",
    "    \"\"\"\n",
    "    def __init__(self, nx, nodes):\n",
    "        \"\"\"\n",
    "        nx is the number of input features\n",
    "\n",
    "        nodes is the number of nodes in the hidden layer\n",
    "\n",
    "        \"\"\"\n",
    "        if not isinstance(nx, int):\n",
    "            raise TypeError('nx must be an integer')\n",
    "        if nx < 1:\n",
    "            raise ValueError('nx must be a positive integer')\n",
    "        if not isinstance(nodes, int):\n",
    "            raise TypeError('nodes must be an integer')\n",
    "        if nodes < 1:\n",
    "            raise ValueError('nodes must be a positive integer')\n",
    "\n",
    "        self.__W1 = np.random.randn(nodes, nx)\n",
    "        self.__W2 = np.random.randn(1, nodes)\n",
    "        self.__b1 = np.zeros((nodes, 1))\n",
    "        self.__b2 = 0\n",
    "        self.__A1 = 0\n",
    "        self.__A2 = 0\n",
    "        \n",
    "    @property\n",
    "    def W1(self):\n",
    "        return self.__W1\n",
    "    \n",
    "    @property\n",
    "    def W2(self):\n",
    "        return self.__W2\n",
    "    \n",
    "    @property\n",
    "    def b1(self):\n",
    "        return self.__b1\n",
    "    \n",
    "    @property\n",
    "    def b2(self):\n",
    "        return self.__b2\n",
    "    \n",
    "    @property\n",
    "    def A1(self):\n",
    "        return self.__A1\n",
    "    \n",
    "    @property\n",
    "    def A2(self):\n",
    "        return self.__A2\n",
    "    \n",
    "    def forward_prop(self, X):\n",
    "        \"\"\"\n",
    "        Calculates the forward propagation of the neural network\n",
    "        :param X: array with shape (nx, m) with input data\n",
    "        nx is the number of input features\n",
    "        m is the number of examples\n",
    "        \"\"\"\n",
    "        z1 = np.matmul(self.__W1, X) + self.__b1\n",
    "        self.__A1 = 1 / (1 + np.exp(-z1))\n",
    "        z2 = np.matmul(self.__W2, self.__A1) + self.__b2\n",
    "        self.__A2 = 1 / (1 + np.exp(-z2))\n",
    "        return self.__A1, self.__A2\n"
   ],
   "metadata": {
    "collapsed": false,
    "ExecuteTime": {
     "end_time": "2024-03-27T11:41:46.566677Z",
     "start_time": "2024-03-27T11:41:46.557870Z"
    }
   },
   "id": "a0b60dc2032b370f",
   "execution_count": 3
  },
  {
   "cell_type": "code",
   "outputs": [
    {
     "name": "stdout",
     "output_type": "stream",
     "text": [
      "[[5.34775247e-10 7.24627778e-04 4.52416436e-07 ... 8.75691930e-05\n",
      "  1.13141966e-06 6.55799932e-01]\n",
      " [9.99652394e-01 9.99999995e-01 6.77919152e-01 ... 1.00000000e+00\n",
      "  9.99662771e-01 9.99990554e-01]\n",
      " [5.57969669e-01 2.51645047e-02 4.04250047e-04 ... 1.57024117e-01\n",
      "  9.97325173e-01 7.41310459e-02]]\n",
      "[[0.23294587 0.44286405 0.54884691 ... 0.38502756 0.12079644 0.593269  ]]\n"
     ]
    }
   ],
   "source": [
    "# main func\n",
    "\n",
    "NN = NeuralNetwork\n",
    "\n",
    "lib_train = np.load('../data/Binary_Train.npz')\n",
    "X_3D, Y = lib_train['X'], lib_train['Y']\n",
    "X = X_3D.reshape((X_3D.shape[0], -1)).T\n",
    "\n",
    "np.random.seed(0)\n",
    "nn = NN(X.shape[0], 3)\n",
    "nn._NeuralNetwork__b1 = np.ones((3, 1))\n",
    "nn._NeuralNetwork__b2 = 1\n",
    "A1, A2 = nn.forward_prop(X)\n",
    "if A1 is nn.A1:\n",
    "        print(A1)\n",
    "if A2 is nn.A2:\n",
    "        print(A2)\n"
   ],
   "metadata": {
    "collapsed": false,
    "ExecuteTime": {
     "end_time": "2024-03-27T11:41:47.075062Z",
     "start_time": "2024-03-27T11:41:46.900315Z"
    }
   },
   "id": "2bc316401eee12a0",
   "execution_count": 4
  }
 ],
 "metadata": {
  "kernelspec": {
   "display_name": "Python 3",
   "language": "python",
   "name": "python3"
  },
  "language_info": {
   "codemirror_mode": {
    "name": "ipython",
    "version": 2
   },
   "file_extension": ".py",
   "mimetype": "text/x-python",
   "name": "python",
   "nbconvert_exporter": "python",
   "pygments_lexer": "ipython2",
   "version": "2.7.6"
  }
 },
 "nbformat": 4,
 "nbformat_minor": 5
}
