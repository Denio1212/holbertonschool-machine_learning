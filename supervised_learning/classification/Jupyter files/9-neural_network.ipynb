{
 "cells": [
  {
   "cell_type": "markdown",
   "source": [
    "# Privates the attributes and sets only getter functions for all of them"
   ],
   "metadata": {
    "collapsed": false
   },
   "id": "f5b36629e29912df"
  },
  {
   "cell_type": "code",
   "outputs": [],
   "source": [
    "#!/usr/bin/env python3\n",
    "\"\"\"\n",
    "A neural network with one hidden layer performing binary classification\n",
    "\"\"\"\n",
    "\n",
    "import numpy as np\n",
    "\n",
    "\n",
    "class NeuralNetwork:\n",
    "    \"\"\"\n",
    "    A neural network with one hidden layer performing binary classification\n",
    "    \"\"\"\n",
    "    def __init__(self, nx, nodes):\n",
    "        \"\"\"\n",
    "        nx is the number of input features\n",
    "\n",
    "        nodes is the number of nodes in the hidden layer\n",
    "\n",
    "        \"\"\"\n",
    "        if not isinstance(nx, int):\n",
    "            raise TypeError('nx must be an integer')\n",
    "        if nx < 1:\n",
    "            raise ValueError('nx must be a positive integer')\n",
    "        if not isinstance(nodes, int):\n",
    "            raise TypeError('nodes must be an integer')\n",
    "        if nodes < 1:\n",
    "            raise ValueError('nodes must be a positive integer')\n",
    "\n",
    "        self.__W1 = np.random.randn(nodes, nx)\n",
    "        self.__W2 = np.random.randn(1, nodes)\n",
    "        self.__b1 = np.zeros((nodes, 1))\n",
    "        self.__b2 = 0\n",
    "        self.__A1 = 0\n",
    "        self.__A2 = 0\n",
    "        \n",
    "    @property\n",
    "    def W1(self):\n",
    "        return self.__W1\n",
    "    \n",
    "    @property\n",
    "    def W2(self):\n",
    "        return self.__W2\n",
    "    \n",
    "    @property\n",
    "    def b1(self):\n",
    "        return self.__b1\n",
    "    \n",
    "    @property\n",
    "    def b2(self):\n",
    "        return self.__b2\n",
    "    \n",
    "    @property\n",
    "    def A1(self):\n",
    "        return self.__A1\n",
    "    \n",
    "    @property\n",
    "    def A2(self):\n",
    "        return self.__A2\n"
   ],
   "metadata": {
    "collapsed": false,
    "ExecuteTime": {
     "end_time": "2024-03-27T11:30:35.713839Z",
     "start_time": "2024-03-27T11:30:35.705850Z"
    }
   },
   "id": "ff32121c3bcd8647",
   "execution_count": 3
  },
  {
   "cell_type": "code",
   "outputs": [
    {
     "name": "stdout",
     "output_type": "stream",
     "text": [
      "[[ 1.76405235  0.40015721  0.97873798 ...  0.52130375  0.61192719\n",
      "  -1.34149673]\n",
      " [ 0.47689837  0.14844958  0.52904524 ...  0.0960042  -0.0451133\n",
      "   0.07912172]\n",
      " [ 0.85053068 -0.83912419 -1.01177408 ... -0.07223876  0.31112445\n",
      "  -1.07836109]]\n",
      "[[0.]\n",
      " [0.]\n",
      " [0.]]\n",
      "[[ 1.06160017 -1.18488744 -1.80525169]]\n",
      "0\n",
      "0\n",
      "0\n"
     ]
    },
    {
     "ename": "AttributeError",
     "evalue": "property 'A1' of 'NeuralNetwork' object has no setter",
     "output_type": "error",
     "traceback": [
      "\u001B[1;31m---------------------------------------------------------------------------\u001B[0m",
      "\u001B[1;31mAttributeError\u001B[0m                            Traceback (most recent call last)",
      "Cell \u001B[1;32mIn[4], line 17\u001B[0m\n\u001B[0;32m     15\u001B[0m \u001B[38;5;28mprint\u001B[39m(nn\u001B[38;5;241m.\u001B[39mA1)\n\u001B[0;32m     16\u001B[0m \u001B[38;5;28mprint\u001B[39m(nn\u001B[38;5;241m.\u001B[39mA2)\n\u001B[1;32m---> 17\u001B[0m \u001B[43mnn\u001B[49m\u001B[38;5;241;43m.\u001B[39;49m\u001B[43mA1\u001B[49m \u001B[38;5;241m=\u001B[39m \u001B[38;5;241m10\u001B[39m\n\u001B[0;32m     18\u001B[0m \u001B[38;5;28mprint\u001B[39m(nn\u001B[38;5;241m.\u001B[39mA1)\n",
      "\u001B[1;31mAttributeError\u001B[0m: property 'A1' of 'NeuralNetwork' object has no setter"
     ]
    }
   ],
   "source": [
    "# Main func\n",
    "\n",
    "NN = NeuralNetwork\n",
    "\n",
    "lib_train = np.load('../data/Binary_Train.npz')\n",
    "X_3D, Y = lib_train['X'], lib_train['Y']\n",
    "X = X_3D.reshape((X_3D.shape[0], -1)).T\n",
    "\n",
    "np.random.seed(0)\n",
    "nn = NN(X.shape[0], 3)\n",
    "print(nn.W1)\n",
    "print(nn.b1)\n",
    "print(nn.W2)\n",
    "print(nn.b2)\n",
    "print(nn.A1)\n",
    "print(nn.A2)\n",
    "nn.A1 = 10\n",
    "print(nn.A1)"
   ],
   "metadata": {
    "collapsed": false,
    "ExecuteTime": {
     "end_time": "2024-03-27T11:30:35.809871Z",
     "start_time": "2024-03-27T11:30:35.719860Z"
    }
   },
   "id": "5fbf234cfe7ed6bf",
   "execution_count": 4
  },
  {
   "cell_type": "code",
   "outputs": [],
   "source": [],
   "metadata": {
    "collapsed": false,
    "ExecuteTime": {
     "start_time": "2024-03-27T11:30:35.813892Z"
    }
   },
   "id": "831975a794810fc6"
  }
 ],
 "metadata": {
  "kernelspec": {
   "display_name": "Python 3",
   "language": "python",
   "name": "python3"
  },
  "language_info": {
   "codemirror_mode": {
    "name": "ipython",
    "version": 2
   },
   "file_extension": ".py",
   "mimetype": "text/x-python",
   "name": "python",
   "nbconvert_exporter": "python",
   "pygments_lexer": "ipython2",
   "version": "2.7.6"
  }
 },
 "nbformat": 4,
 "nbformat_minor": 5
}
