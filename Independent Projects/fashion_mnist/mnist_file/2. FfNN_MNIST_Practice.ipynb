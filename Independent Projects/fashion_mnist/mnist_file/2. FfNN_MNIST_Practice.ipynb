{
 "cells": [
  {
   "cell_type": "markdown",
   "id": "8fe57a80",
   "metadata": {},
   "source": [
    "<img src=\"../../figs/holberton_logo.png\" alt=\"logo\" width=\"500\"/>\n",
    "\n",
    "# Fashion MNIST Neural Network \n",
    "\n",
    "## Executive Summary\n",
    "\n",
    "The Fashion MNIST dataset is a benchmark dataset widely used for image classification tasks. The dataset consists of `70,000` grayscale images of `28x28` pixels, each belonging to one of `10` categories, such as T-shirts, pants, shoes, and dresses. The goal is to train a model that can correctly classify these images.\n",
    "\n",
    "While building a simple feedforward neural network for this task is straightforward, achieving high accuracy on this dataset can be challenging. One of the main challenges is preventing overfitting, where the model becomes too specialized to the training data and performs poorly on new data. \n",
    "\n",
    "Another challenge is finding the right set of hyperparameters and optimization algorithm to train the model effectively. We will explore several optimization techniques, such as stochastic gradient descent (SGD) and Adam, and experiment with different learning rates and batch sizes to find the optimal combination"
   ]
  },
  {
   "cell_type": "markdown",
   "id": "ac6dd9ae",
   "metadata": {},
   "source": [
    "## Setting up: import the necessary libraries\n",
    "\n",
    "First, we import the necessary libraries for building and training neural networks, including TensorFlow and Keras. Then, we specifically import the `fashion_mnist` dataset from the Keras datasets module. In particular\n",
    "\n",
    "\n",
    "- import tensorflow as tf\n",
    "- from tensorflow import keras\n",
    "- from keras datasets import `fashion_mnist`\n"
   ]
  },
  {
   "cell_type": "code",
   "execution_count": 12,
   "id": "0d49683d",
   "metadata": {
    "ExecuteTime": {
     "end_time": "2024-04-04T15:24:02.870424Z",
     "start_time": "2024-04-04T15:24:02.866253Z"
    }
   },
   "outputs": [],
   "source": [
    "import tensorflow as tf\n",
    "from tensorflow import keras\n",
    "from keras.datasets import fashion_mnist\n",
    "import matplotlib.pyplot as plt"
   ]
  },
  {
   "cell_type": "markdown",
   "id": "81bffe09",
   "metadata": {},
   "source": [
    "## Setting up: load the `fashion_mnist` dataset\n",
    "\n",
    "The Fashion MNIST dataset contains `70,000` grayscale images of `28x28` pixels. Load the dataset into training and testing data. You may call the variables `x_train_full, y_train_full, x_test, y_test` \n",
    "\n",
    "- There are `60,000` images in the training set and `10,000` images in the test set. \n",
    "- The `x_train_full` and `x_test` variables have shapes of `(60000, 28, 28)` and `(10000, 28, 28)` respectively, indicating that there are 60,000 training images and 10,000 test images, each of which is 28x28 pixels. \n",
    "- The `y_train_full` and `y_test` variables have shapes of `(60000,)` and `(10000,)`, respectively.\n",
    "\n"
   ]
  },
  {
   "cell_type": "code",
   "execution_count": 13,
   "id": "ac90ab91",
   "metadata": {
    "ExecuteTime": {
     "end_time": "2024-04-04T15:24:03.414923Z",
     "start_time": "2024-04-04T15:24:02.954954Z"
    }
   },
   "outputs": [],
   "source": [
    "(x_train_full, y_train_full), (x_test, y_test) = fashion_mnist.load_data()"
   ]
  },
  {
   "cell_type": "code",
   "outputs": [
    {
     "name": "stdout",
     "output_type": "stream",
     "text": [
      "Training data shape:  (60000, 28, 28) (60000,)\n",
      "Test data shape:  (10000, 28, 28) (10000,)\n"
     ]
    }
   ],
   "source": [
    "print(\"Training data shape: \", x_train_full.shape, y_train_full.shape)\n",
    "print(\"Test data shape: \", x_test.shape, y_test.shape)"
   ],
   "metadata": {
    "collapsed": false,
    "ExecuteTime": {
     "end_time": "2024-04-04T15:24:03.421660Z",
     "start_time": "2024-04-04T15:24:03.416930Z"
    }
   },
   "id": "a113b6be3bd8ae34",
   "execution_count": 14
  },
  {
   "cell_type": "markdown",
   "source": [
    "## Preprocess the data\n",
    "\n",
    "Each image data is stored as a two-dimensional array of pixel values ranging from 0 to 255, representing the intensity of light at each pixel. \n",
    "\n",
    "**Normalizing the data ensures that all input values are within the same scale, which helps the neural network converge faster during training.** \n",
    "\n",
    "Normalizing by dividing with 255 scales the pixel values from 0 to 255 to a range between 0 and 1, ensuring uniformity across the dataset. This process maintains the relative relationships between pixel intensities while facilitating faster convergence during model training."
   ],
   "metadata": {
    "collapsed": false
   },
   "id": "58c3c301c8a49249"
  },
  {
   "cell_type": "code",
   "outputs": [],
   "source": [
    "x_train_full = x_train_full / 255.0\n",
    "x_test = x_test / 255.0"
   ],
   "metadata": {
    "collapsed": false,
    "ExecuteTime": {
     "end_time": "2024-04-04T15:24:03.611200Z",
     "start_time": "2024-04-04T15:24:03.422667Z"
    }
   },
   "id": "19bc4b25ed863ac7",
   "execution_count": 15
  },
  {
   "cell_type": "code",
   "outputs": [
    {
     "data": {
      "text/plain": "<matplotlib.image.AxesImage at 0x1f0c18485c0>"
     },
     "execution_count": 16,
     "metadata": {},
     "output_type": "execute_result"
    },
    {
     "data": {
      "text/plain": "<Figure size 640x480 with 1 Axes>",
      "image/png": "[encoded data removed]"
     },
     "metadata": {},
     "output_type": "display_data"
    }
   ],
   "source": [
    "plt.imshow(x_train_full[0], cmap='gray')"
   ],
   "metadata": {
    "collapsed": false,
    "ExecuteTime": {
     "end_time": "2024-04-04T15:24:03.754743Z",
     "start_time": "2024-04-04T15:24:03.613225Z"
    }
   },
   "id": "867d40c9864365af",
   "execution_count": 16
  },
  {
   "cell_type": "markdown",
   "id": "54033684",
   "metadata": {},
   "source": [
    "## Add validation set data\n",
    "\n",
    "The validation set is crucial for **evaluating the model's performance on unseen data and preventing overfitting**. By splitting the training set into training and validation sets, we reserve a portion of the data for validation, ensuring that the model's performance generalizes well."
   ]
  },
  {
   "cell_type": "code",
   "execution_count": 17,
   "id": "197fc793",
   "metadata": {
    "ExecuteTime": {
     "end_time": "2024-04-04T15:24:03.786262Z",
     "start_time": "2024-04-04T15:24:03.755754Z"
    }
   },
   "outputs": [],
   "source": [
    "x_val = x_train_full[: 5000]\n",
    "x_train = x_train_full[5000:]\n",
    "\n",
    "y_val = y_train_full[:5000]\n",
    "y_train = y_train_full[5000:]"
   ]
  },
  {
   "cell_type": "code",
   "execution_count": 18,
   "id": "81c1e036",
   "metadata": {
    "ExecuteTime": {
     "end_time": "2024-04-04T15:24:03.794594Z",
     "start_time": "2024-04-04T15:24:03.787403Z"
    }
   },
   "outputs": [
    {
     "name": "stdout",
     "output_type": "stream",
     "text": [
      "Training data shape:  (55000, 28, 28) (55000,)\n",
      "Test data shape:  (5000, 28, 28) (5000,)\n"
     ]
    }
   ],
   "source": [
    "print(\"Training data shape: \", x_train.shape, y_train.shape)\n",
    "print(\"Test data shape: \", x_val.shape, y_val.shape)"
   ]
  },
  {
   "cell_type": "markdown",
   "id": "2eae2672",
   "metadata": {},
   "source": [
    "## Visualizing the dataset\n",
    "\n",
    "The Fashion MNIST dataset contains `10` classes, each corresponding to a different article of clothing:\n",
    "\n",
    "| Label | Class       |\n",
    "|:-------:|:-------------:|\n",
    "| 0     | T-shirt/top |\n",
    "| 1     | Trouser     |\n",
    "| 2     | Pullover    |\n",
    "| 3     | Dress       |\n",
    "| 4     | Coat        |\n",
    "| 5     | Sandal      |\n",
    "| 6     | Shirt       |\n",
    "| 7     | Sneaker     |\n",
    "| 8     | Bag         |\n",
    "| 9     | Ankle boot  |\n",
    "\n"
   ]
  },
  {
   "cell_type": "code",
   "execution_count": 18,
   "id": "cfabbf68",
   "metadata": {
    "ExecuteTime": {
     "end_time": "2024-04-04T15:24:03.799185Z",
     "start_time": "2024-04-04T15:24:03.795606Z"
    }
   },
   "outputs": [],
   "source": []
  },
  {
   "cell_type": "markdown",
   "id": "c08c3ad9",
   "metadata": {},
   "source": [
    "## Building the Feed-Forward Artificial Neural Network\n",
    "\n",
    "### Neural Network Pipeline\n",
    "\n",
    "<img src=\"../img/pipeline.png\" alt=\"logo\" width=\"1000\"/>\n",
    "\n",
    "\n",
    "### Architecture of the Neural Network\n",
    "\n",
    "The **architecture of a feedforward neural network typically consists of an input layer, one or more hidden layers, and an output layer**. \n",
    "\n",
    "\n",
    "- The input layer should have the same number of nodes as the number of input features in the data\n",
    "\n",
    "- The output layer should have the same number of nodes as the number of classes in the data. \n",
    "\n",
    "\n",
    "- The number of hidden layers and the number of nodes in each hidden layer can be adjusted based on the complexity of the problem and the size of the dataset\n",
    "\n"
   ]
  },
  {
   "cell_type": "markdown",
   "id": "c34ac592",
   "metadata": {},
   "source": [
    "### Activation Functions\n",
    "\n",
    "Activation functions are used to introduce nonlinearity into the neural network, allowing it to learn more complex patterns in the data. Common activation functions include `ReLU`, `sigmoid`, and `tanh`.\n",
    "\n",
    "Let us build a simple architecture  comprising three layers:\n",
    "\n",
    "- Input Layer (Flatten): Reshapes the input data from a 28x28 matrix to a flat vector of 784 elements.\n",
    "\n",
    "- Hidden Layer (Dense): Consists of 128 neurons with a sigmoid activation function, which introduces non-linearity to the model and allows it to learn complex patterns in the data.\n",
    "\n",
    "- Output Layer (Dense): Comprises 10 neurons representing the output classes (since we have 10 classes in the Fashion MNIST dataset) with a softmax activation function, which computes the probabilities of each class."
   ]
  },
  {
   "cell_type": "code",
   "execution_count": null,
   "id": "20ebd627",
   "metadata": {
    "ExecuteTime": {
     "start_time": "2024-04-04T15:35:29.619214Z"
    }
   },
   "outputs": [],
   "source": [
    "model = tf.keras.models.Sequential([\n",
    "    keras.layers.Flatten(input_shape=(28, 28)),\n",
    "    keras.layers.Dense(128, activation='sigmoid'),\n",
    "    keras.layers.Dense(32, activation=\"relu\")\n",
    "    keras.layers.Dense(10, activation='softmax')\n",
    "])\n",
    "model.summary()"
   ]
  },
  {
   "cell_type": "markdown",
   "id": "5bd809d1",
   "metadata": {},
   "source": [
    "### Compiling the model\n",
    "\n",
    "Compiling the model configures its learning process, defining crucial aspects such as the optimizer, loss function, and evaluation metrics.\n",
    "\n",
    "The key parameters are:\n",
    "\n",
    "- **optimizer**: Determines the optimization algorithm used during training, such as Adam, SGD (Stochastic Gradient Descent), etc.\n",
    "- **loss**: Defines the objective function the model aims to minimize during training, such as cross-entropy for classification tasks.\n",
    "\n",
    "- **metrics**: Specifies the metrics used to monitor the model's performance during training, such as accuracy."
   ]
  },
  {
   "cell_type": "code",
   "execution_count": 36,
   "id": "f1b5ba1c",
   "metadata": {
    "ExecuteTime": {
     "end_time": "2024-04-04T15:35:30.617861Z",
     "start_time": "2024-04-04T15:35:30.608812Z"
    }
   },
   "outputs": [],
   "source": [
    "model.compile(optimizer=\"adam\", loss='sparse_categorical_crossentropy',\n",
    "              metrics=['accuracy'])"
   ]
  },
  {
   "cell_type": "markdown",
   "id": "8145a9fb",
   "metadata": {},
   "source": [
    "### Train the model\n",
    "\n",
    "Training is the process where a model learns from data by adjusting its internal parameters, aiming to minimize the difference between predicted and actual outcomes. Through techniques like gradient descent, the model gradually improves its ability to recognize patterns, enhancing its accuracy in making predictions on new data.\n",
    "\n",
    "- **Defining Training Parameters**: Specify the number of epochs (iterations over the entire dataset) and the batch size (number of samples processed before updating the model).\n",
    "\n",
    "- **Training the Model**: Use the fit method to train the model on the training data (`x_train` and `y_train`). Provide validation data (`x_valid` and `y_valid`) to monitor the model's performance during training.\n",
    "\n",
    "\n",
    "- **Monitoring Performance**: During training, the model's performance metrics (such as loss and accuracy) on both the training and validation sets are recorded in the history object for analysis."
   ]
  },
  {
   "cell_type": "code",
   "execution_count": 37,
   "id": "c8cc6070",
   "metadata": {
    "ExecuteTime": {
     "end_time": "2024-04-04T15:36:38.947117Z",
     "start_time": "2024-04-04T15:35:32.415138Z"
    }
   },
   "outputs": [
    {
     "name": "stdout",
     "output_type": "stream",
     "text": [
      "Epoch 1/15\n",
      "\u001B[1m1719/1719\u001B[0m \u001B[32m━━━━━━━━━━━━━━━━━━━━\u001B[0m\u001B[37m\u001B[0m \u001B[1m5s\u001B[0m 3ms/step - accuracy: 0.9801 - loss: 0.0567 - val_accuracy: 0.8992 - val_loss: 0.4086\n",
      "Epoch 2/15\n",
      "\u001B[1m1719/1719\u001B[0m \u001B[32m━━━━━━━━━━━━━━━━━━━━\u001B[0m\u001B[37m\u001B[0m \u001B[1m4s\u001B[0m 3ms/step - accuracy: 0.9813 - loss: 0.0566 - val_accuracy: 0.8962 - val_loss: 0.4301\n",
      "Epoch 3/15\n",
      "\u001B[1m1719/1719\u001B[0m \u001B[32m━━━━━━━━━━━━━━━━━━━━\u001B[0m\u001B[37m\u001B[0m \u001B[1m5s\u001B[0m 3ms/step - accuracy: 0.9820 - loss: 0.0527 - val_accuracy: 0.8958 - val_loss: 0.4354\n",
      "Epoch 4/15\n",
      "\u001B[1m1719/1719\u001B[0m \u001B[32m━━━━━━━━━━━━━━━━━━━━\u001B[0m\u001B[37m\u001B[0m \u001B[1m4s\u001B[0m 3ms/step - accuracy: 0.9812 - loss: 0.0549 - val_accuracy: 0.8924 - val_loss: 0.4321\n",
      "Epoch 5/15\n",
      "\u001B[1m1719/1719\u001B[0m \u001B[32m━━━━━━━━━━━━━━━━━━━━\u001B[0m\u001B[37m\u001B[0m \u001B[1m4s\u001B[0m 2ms/step - accuracy: 0.9815 - loss: 0.0553 - val_accuracy: 0.8902 - val_loss: 0.4422\n",
      "Epoch 6/15\n",
      "\u001B[1m1719/1719\u001B[0m \u001B[32m━━━━━━━━━━━━━━━━━━━━\u001B[0m\u001B[37m\u001B[0m \u001B[1m5s\u001B[0m 3ms/step - accuracy: 0.9828 - loss: 0.0505 - val_accuracy: 0.8988 - val_loss: 0.4323\n",
      "Epoch 7/15\n",
      "\u001B[1m1719/1719\u001B[0m \u001B[32m━━━━━━━━━━━━━━━━━━━━\u001B[0m\u001B[37m\u001B[0m \u001B[1m4s\u001B[0m 2ms/step - accuracy: 0.9832 - loss: 0.0505 - val_accuracy: 0.8918 - val_loss: 0.4439\n",
      "Epoch 8/15\n",
      "\u001B[1m1719/1719\u001B[0m \u001B[32m━━━━━━━━━━━━━━━━━━━━\u001B[0m\u001B[37m\u001B[0m \u001B[1m4s\u001B[0m 3ms/step - accuracy: 0.9842 - loss: 0.0472 - val_accuracy: 0.8948 - val_loss: 0.4420\n",
      "Epoch 9/15\n",
      "\u001B[1m1719/1719\u001B[0m \u001B[32m━━━━━━━━━━━━━━━━━━━━\u001B[0m\u001B[37m\u001B[0m \u001B[1m5s\u001B[0m 3ms/step - accuracy: 0.9830 - loss: 0.0487 - val_accuracy: 0.8934 - val_loss: 0.4414\n",
      "Epoch 10/15\n",
      "\u001B[1m1719/1719\u001B[0m \u001B[32m━━━━━━━━━━━━━━━━━━━━\u001B[0m\u001B[37m\u001B[0m \u001B[1m4s\u001B[0m 3ms/step - accuracy: 0.9870 - loss: 0.0424 - val_accuracy: 0.8934 - val_loss: 0.4423\n",
      "Epoch 11/15\n",
      "\u001B[1m1719/1719\u001B[0m \u001B[32m━━━━━━━━━━━━━━━━━━━━\u001B[0m\u001B[37m\u001B[0m \u001B[1m5s\u001B[0m 3ms/step - accuracy: 0.9837 - loss: 0.0472 - val_accuracy: 0.8894 - val_loss: 0.4937\n",
      "Epoch 12/15\n",
      "\u001B[1m1719/1719\u001B[0m \u001B[32m━━━━━━━━━━━━━━━━━━━━\u001B[0m\u001B[37m\u001B[0m \u001B[1m4s\u001B[0m 2ms/step - accuracy: 0.9858 - loss: 0.0429 - val_accuracy: 0.8940 - val_loss: 0.4529\n",
      "Epoch 13/15\n",
      "\u001B[1m1719/1719\u001B[0m \u001B[32m━━━━━━━━━━━━━━━━━━━━\u001B[0m\u001B[37m\u001B[0m \u001B[1m4s\u001B[0m 3ms/step - accuracy: 0.9859 - loss: 0.0430 - val_accuracy: 0.8954 - val_loss: 0.4649\n",
      "Epoch 14/15\n",
      "\u001B[1m1719/1719\u001B[0m \u001B[32m━━━━━━━━━━━━━━━━━━━━\u001B[0m\u001B[37m\u001B[0m \u001B[1m4s\u001B[0m 2ms/step - accuracy: 0.9856 - loss: 0.0431 - val_accuracy: 0.8950 - val_loss: 0.4603\n",
      "Epoch 15/15\n",
      "\u001B[1m1719/1719\u001B[0m \u001B[32m━━━━━━━━━━━━━━━━━━━━\u001B[0m\u001B[37m\u001B[0m \u001B[1m4s\u001B[0m 2ms/step - accuracy: 0.9870 - loss: 0.0403 - val_accuracy: 0.8928 - val_loss: 0.4704\n"
     ]
    }
   ],
   "source": [
    "history = model.fit(x_train, y_train, epochs=15, batch_size=32,\n",
    "          validation_data=(x_val, y_val))"
   ]
  },
  {
   "cell_type": "markdown",
   "id": "b649aaf8",
   "metadata": {},
   "source": [
    "## Save the model\n",
    "\n",
    "We can use the `pickle` module in Python to serialize your trained model and save it to a file. Here's how you can do it:\n",
    "\n",
    "- After training the model (until we are satisfied with its performance)\n",
    "\n",
    "- **Save the Model**: we can use `pickle` to save the trained model to a file. We can do this by serializing the model object and writing it to a file using the `dump()` function."
   ]
  },
  {
   "cell_type": "code",
   "execution_count": 22,
   "id": "01d99460",
   "metadata": {
    "ExecuteTime": {
     "end_time": "2024-04-04T15:24:20.127532Z",
     "start_time": "2024-04-04T15:24:19.384108Z"
    }
   },
   "outputs": [
    {
     "ename": "TypeError",
     "evalue": "cannot pickle 'FuncGraph' object",
     "output_type": "error",
     "traceback": [
      "\u001B[1;31m---------------------------------------------------------------------------\u001B[0m",
      "\u001B[1;31mTypeError\u001B[0m                                 Traceback (most recent call last)",
      "Cell \u001B[1;32mIn[22], line 4\u001B[0m\n\u001B[0;32m      1\u001B[0m \u001B[38;5;28;01mimport\u001B[39;00m \u001B[38;5;21;01mdill\u001B[39;00m \u001B[38;5;28;01mas\u001B[39;00m \u001B[38;5;21;01mpickle\u001B[39;00m\n\u001B[0;32m      3\u001B[0m \u001B[38;5;28;01mwith\u001B[39;00m \u001B[38;5;28mopen\u001B[39m(\u001B[38;5;124m\"\u001B[39m\u001B[38;5;124mbest_model.pkl\u001B[39m\u001B[38;5;124m\"\u001B[39m, \u001B[38;5;124m\"\u001B[39m\u001B[38;5;124mwb\u001B[39m\u001B[38;5;124m\"\u001B[39m) \u001B[38;5;28;01mas\u001B[39;00m f:\n\u001B[1;32m----> 4\u001B[0m     \u001B[43mpickle\u001B[49m\u001B[38;5;241;43m.\u001B[39;49m\u001B[43mdump\u001B[49m\u001B[43m(\u001B[49m\u001B[43mmodel\u001B[49m\u001B[43m,\u001B[49m\u001B[43m \u001B[49m\u001B[43mf\u001B[49m\u001B[43m)\u001B[49m\n",
      "File \u001B[1;32m~\\AppData\\Local\\Programs\\Python\\Python312\\Lib\\site-packages\\dill\\_dill.py:252\u001B[0m, in \u001B[0;36mdump\u001B[1;34m(obj, file, protocol, byref, fmode, recurse, **kwds)\u001B[0m\n\u001B[0;32m    250\u001B[0m _kwds \u001B[38;5;241m=\u001B[39m kwds\u001B[38;5;241m.\u001B[39mcopy()\n\u001B[0;32m    251\u001B[0m _kwds\u001B[38;5;241m.\u001B[39mupdate(\u001B[38;5;28mdict\u001B[39m(byref\u001B[38;5;241m=\u001B[39mbyref, fmode\u001B[38;5;241m=\u001B[39mfmode, recurse\u001B[38;5;241m=\u001B[39mrecurse))\n\u001B[1;32m--> 252\u001B[0m \u001B[43mPickler\u001B[49m\u001B[43m(\u001B[49m\u001B[43mfile\u001B[49m\u001B[43m,\u001B[49m\u001B[43m \u001B[49m\u001B[43mprotocol\u001B[49m\u001B[43m,\u001B[49m\u001B[43m \u001B[49m\u001B[38;5;241;43m*\u001B[39;49m\u001B[38;5;241;43m*\u001B[39;49m\u001B[43m_kwds\u001B[49m\u001B[43m)\u001B[49m\u001B[38;5;241;43m.\u001B[39;49m\u001B[43mdump\u001B[49m\u001B[43m(\u001B[49m\u001B[43mobj\u001B[49m\u001B[43m)\u001B[49m\n\u001B[0;32m    253\u001B[0m \u001B[38;5;28;01mreturn\u001B[39;00m\n",
      "File \u001B[1;32m~\\AppData\\Local\\Programs\\Python\\Python312\\Lib\\site-packages\\dill\\_dill.py:420\u001B[0m, in \u001B[0;36mPickler.dump\u001B[1;34m(self, obj)\u001B[0m\n\u001B[0;32m    418\u001B[0m \u001B[38;5;28;01mdef\u001B[39;00m \u001B[38;5;21mdump\u001B[39m(\u001B[38;5;28mself\u001B[39m, obj): \u001B[38;5;66;03m#NOTE: if settings change, need to update attributes\u001B[39;00m\n\u001B[0;32m    419\u001B[0m     logger\u001B[38;5;241m.\u001B[39mtrace_setup(\u001B[38;5;28mself\u001B[39m)\n\u001B[1;32m--> 420\u001B[0m     \u001B[43mStockPickler\u001B[49m\u001B[38;5;241;43m.\u001B[39;49m\u001B[43mdump\u001B[49m\u001B[43m(\u001B[49m\u001B[38;5;28;43mself\u001B[39;49m\u001B[43m,\u001B[49m\u001B[43m \u001B[49m\u001B[43mobj\u001B[49m\u001B[43m)\u001B[49m\n",
      "File \u001B[1;32m~\\AppData\\Local\\Programs\\Python\\Python312\\Lib\\pickle.py:481\u001B[0m, in \u001B[0;36m_Pickler.dump\u001B[1;34m(self, obj)\u001B[0m\n\u001B[0;32m    479\u001B[0m \u001B[38;5;28;01mif\u001B[39;00m \u001B[38;5;28mself\u001B[39m\u001B[38;5;241m.\u001B[39mproto \u001B[38;5;241m>\u001B[39m\u001B[38;5;241m=\u001B[39m \u001B[38;5;241m4\u001B[39m:\n\u001B[0;32m    480\u001B[0m     \u001B[38;5;28mself\u001B[39m\u001B[38;5;241m.\u001B[39mframer\u001B[38;5;241m.\u001B[39mstart_framing()\n\u001B[1;32m--> 481\u001B[0m \u001B[38;5;28;43mself\u001B[39;49m\u001B[38;5;241;43m.\u001B[39;49m\u001B[43msave\u001B[49m\u001B[43m(\u001B[49m\u001B[43mobj\u001B[49m\u001B[43m)\u001B[49m\n\u001B[0;32m    482\u001B[0m \u001B[38;5;28mself\u001B[39m\u001B[38;5;241m.\u001B[39mwrite(STOP)\n\u001B[0;32m    483\u001B[0m \u001B[38;5;28mself\u001B[39m\u001B[38;5;241m.\u001B[39mframer\u001B[38;5;241m.\u001B[39mend_framing()\n",
      "File \u001B[1;32m~\\AppData\\Local\\Programs\\Python\\Python312\\Lib\\site-packages\\dill\\_dill.py:414\u001B[0m, in \u001B[0;36mPickler.save\u001B[1;34m(self, obj, save_persistent_id)\u001B[0m\n\u001B[0;32m    412\u001B[0m     msg \u001B[38;5;241m=\u001B[39m \u001B[38;5;124m\"\u001B[39m\u001B[38;5;124mCan\u001B[39m\u001B[38;5;124m'\u001B[39m\u001B[38;5;124mt pickle \u001B[39m\u001B[38;5;132;01m%s\u001B[39;00m\u001B[38;5;124m: attribute lookup builtins.generator failed\u001B[39m\u001B[38;5;124m\"\u001B[39m \u001B[38;5;241m%\u001B[39m GeneratorType\n\u001B[0;32m    413\u001B[0m     \u001B[38;5;28;01mraise\u001B[39;00m PicklingError(msg)\n\u001B[1;32m--> 414\u001B[0m \u001B[43mStockPickler\u001B[49m\u001B[38;5;241;43m.\u001B[39;49m\u001B[43msave\u001B[49m\u001B[43m(\u001B[49m\u001B[38;5;28;43mself\u001B[39;49m\u001B[43m,\u001B[49m\u001B[43m \u001B[49m\u001B[43mobj\u001B[49m\u001B[43m,\u001B[49m\u001B[43m \u001B[49m\u001B[43msave_persistent_id\u001B[49m\u001B[43m)\u001B[49m\n",
      "File \u001B[1;32m~\\AppData\\Local\\Programs\\Python\\Python312\\Lib\\pickle.py:597\u001B[0m, in \u001B[0;36m_Pickler.save\u001B[1;34m(self, obj, save_persistent_id)\u001B[0m\n\u001B[0;32m    593\u001B[0m     \u001B[38;5;28;01mraise\u001B[39;00m PicklingError(\u001B[38;5;124m\"\u001B[39m\u001B[38;5;124mTuple returned by \u001B[39m\u001B[38;5;132;01m%s\u001B[39;00m\u001B[38;5;124m must have \u001B[39m\u001B[38;5;124m\"\u001B[39m\n\u001B[0;32m    594\u001B[0m                         \u001B[38;5;124m\"\u001B[39m\u001B[38;5;124mtwo to six elements\u001B[39m\u001B[38;5;124m\"\u001B[39m \u001B[38;5;241m%\u001B[39m reduce)\n\u001B[0;32m    596\u001B[0m \u001B[38;5;66;03m# Save the reduce() output and finally memoize the object\u001B[39;00m\n\u001B[1;32m--> 597\u001B[0m \u001B[38;5;28;43mself\u001B[39;49m\u001B[38;5;241;43m.\u001B[39;49m\u001B[43msave_reduce\u001B[49m\u001B[43m(\u001B[49m\u001B[43mobj\u001B[49m\u001B[38;5;241;43m=\u001B[39;49m\u001B[43mobj\u001B[49m\u001B[43m,\u001B[49m\u001B[43m \u001B[49m\u001B[38;5;241;43m*\u001B[39;49m\u001B[43mrv\u001B[49m\u001B[43m)\u001B[49m\n",
      "File \u001B[1;32m~\\AppData\\Local\\Programs\\Python\\Python312\\Lib\\pickle.py:711\u001B[0m, in \u001B[0;36m_Pickler.save_reduce\u001B[1;34m(self, func, args, state, listitems, dictitems, state_setter, obj)\u001B[0m\n\u001B[0;32m    709\u001B[0m \u001B[38;5;28;01mif\u001B[39;00m state \u001B[38;5;129;01mis\u001B[39;00m \u001B[38;5;129;01mnot\u001B[39;00m \u001B[38;5;28;01mNone\u001B[39;00m:\n\u001B[0;32m    710\u001B[0m     \u001B[38;5;28;01mif\u001B[39;00m state_setter \u001B[38;5;129;01mis\u001B[39;00m \u001B[38;5;28;01mNone\u001B[39;00m:\n\u001B[1;32m--> 711\u001B[0m         \u001B[43msave\u001B[49m\u001B[43m(\u001B[49m\u001B[43mstate\u001B[49m\u001B[43m)\u001B[49m\n\u001B[0;32m    712\u001B[0m         write(BUILD)\n\u001B[0;32m    713\u001B[0m     \u001B[38;5;28;01melse\u001B[39;00m:\n\u001B[0;32m    714\u001B[0m         \u001B[38;5;66;03m# If a state_setter is specified, call it instead of load_build\u001B[39;00m\n\u001B[0;32m    715\u001B[0m         \u001B[38;5;66;03m# to update obj's with its previous state.\u001B[39;00m\n\u001B[0;32m    716\u001B[0m         \u001B[38;5;66;03m# First, push state_setter and its tuple of expected arguments\u001B[39;00m\n\u001B[0;32m    717\u001B[0m         \u001B[38;5;66;03m# (obj, state) onto the stack.\u001B[39;00m\n",
      "File \u001B[1;32m~\\AppData\\Local\\Programs\\Python\\Python312\\Lib\\site-packages\\dill\\_dill.py:414\u001B[0m, in \u001B[0;36mPickler.save\u001B[1;34m(self, obj, save_persistent_id)\u001B[0m\n\u001B[0;32m    412\u001B[0m     msg \u001B[38;5;241m=\u001B[39m \u001B[38;5;124m\"\u001B[39m\u001B[38;5;124mCan\u001B[39m\u001B[38;5;124m'\u001B[39m\u001B[38;5;124mt pickle \u001B[39m\u001B[38;5;132;01m%s\u001B[39;00m\u001B[38;5;124m: attribute lookup builtins.generator failed\u001B[39m\u001B[38;5;124m\"\u001B[39m \u001B[38;5;241m%\u001B[39m GeneratorType\n\u001B[0;32m    413\u001B[0m     \u001B[38;5;28;01mraise\u001B[39;00m PicklingError(msg)\n\u001B[1;32m--> 414\u001B[0m \u001B[43mStockPickler\u001B[49m\u001B[38;5;241;43m.\u001B[39;49m\u001B[43msave\u001B[49m\u001B[43m(\u001B[49m\u001B[38;5;28;43mself\u001B[39;49m\u001B[43m,\u001B[49m\u001B[43m \u001B[49m\u001B[43mobj\u001B[49m\u001B[43m,\u001B[49m\u001B[43m \u001B[49m\u001B[43msave_persistent_id\u001B[49m\u001B[43m)\u001B[49m\n",
      "File \u001B[1;32m~\\AppData\\Local\\Programs\\Python\\Python312\\Lib\\pickle.py:554\u001B[0m, in \u001B[0;36m_Pickler.save\u001B[1;34m(self, obj, save_persistent_id)\u001B[0m\n\u001B[0;32m    552\u001B[0m f \u001B[38;5;241m=\u001B[39m \u001B[38;5;28mself\u001B[39m\u001B[38;5;241m.\u001B[39mdispatch\u001B[38;5;241m.\u001B[39mget(t)\n\u001B[0;32m    553\u001B[0m \u001B[38;5;28;01mif\u001B[39;00m f \u001B[38;5;129;01mis\u001B[39;00m \u001B[38;5;129;01mnot\u001B[39;00m \u001B[38;5;28;01mNone\u001B[39;00m:\n\u001B[1;32m--> 554\u001B[0m     \u001B[43mf\u001B[49m\u001B[43m(\u001B[49m\u001B[38;5;28;43mself\u001B[39;49m\u001B[43m,\u001B[49m\u001B[43m \u001B[49m\u001B[43mobj\u001B[49m\u001B[43m)\u001B[49m  \u001B[38;5;66;03m# Call unbound method with explicit self\u001B[39;00m\n\u001B[0;32m    555\u001B[0m     \u001B[38;5;28;01mreturn\u001B[39;00m\n\u001B[0;32m    557\u001B[0m \u001B[38;5;66;03m# Check private dispatch table if any, or else\u001B[39;00m\n\u001B[0;32m    558\u001B[0m \u001B[38;5;66;03m# copyreg.dispatch_table\u001B[39;00m\n",
      "File \u001B[1;32m~\\AppData\\Local\\Programs\\Python\\Python312\\Lib\\site-packages\\dill\\_dill.py:1217\u001B[0m, in \u001B[0;36msave_module_dict\u001B[1;34m(pickler, obj)\u001B[0m\n\u001B[0;32m   1214\u001B[0m     \u001B[38;5;28;01mif\u001B[39;00m is_dill(pickler, child\u001B[38;5;241m=\u001B[39m\u001B[38;5;28;01mFalse\u001B[39;00m) \u001B[38;5;129;01mand\u001B[39;00m pickler\u001B[38;5;241m.\u001B[39m_session:\n\u001B[0;32m   1215\u001B[0m         \u001B[38;5;66;03m# we only care about session the first pass thru\u001B[39;00m\n\u001B[0;32m   1216\u001B[0m         pickler\u001B[38;5;241m.\u001B[39m_first_pass \u001B[38;5;241m=\u001B[39m \u001B[38;5;28;01mFalse\u001B[39;00m\n\u001B[1;32m-> 1217\u001B[0m     \u001B[43mStockPickler\u001B[49m\u001B[38;5;241;43m.\u001B[39;49m\u001B[43msave_dict\u001B[49m\u001B[43m(\u001B[49m\u001B[43mpickler\u001B[49m\u001B[43m,\u001B[49m\u001B[43m \u001B[49m\u001B[43mobj\u001B[49m\u001B[43m)\u001B[49m\n\u001B[0;32m   1218\u001B[0m     logger\u001B[38;5;241m.\u001B[39mtrace(pickler, \u001B[38;5;124m\"\u001B[39m\u001B[38;5;124m# D2\u001B[39m\u001B[38;5;124m\"\u001B[39m)\n\u001B[0;32m   1219\u001B[0m \u001B[38;5;28;01mreturn\u001B[39;00m\n",
      "File \u001B[1;32m~\\AppData\\Local\\Programs\\Python\\Python312\\Lib\\pickle.py:966\u001B[0m, in \u001B[0;36m_Pickler.save_dict\u001B[1;34m(self, obj)\u001B[0m\n\u001B[0;32m    963\u001B[0m     \u001B[38;5;28mself\u001B[39m\u001B[38;5;241m.\u001B[39mwrite(MARK \u001B[38;5;241m+\u001B[39m DICT)\n\u001B[0;32m    965\u001B[0m \u001B[38;5;28mself\u001B[39m\u001B[38;5;241m.\u001B[39mmemoize(obj)\n\u001B[1;32m--> 966\u001B[0m \u001B[38;5;28;43mself\u001B[39;49m\u001B[38;5;241;43m.\u001B[39;49m\u001B[43m_batch_setitems\u001B[49m\u001B[43m(\u001B[49m\u001B[43mobj\u001B[49m\u001B[38;5;241;43m.\u001B[39;49m\u001B[43mitems\u001B[49m\u001B[43m(\u001B[49m\u001B[43m)\u001B[49m\u001B[43m)\u001B[49m\n",
      "File \u001B[1;32m~\\AppData\\Local\\Programs\\Python\\Python312\\Lib\\pickle.py:990\u001B[0m, in \u001B[0;36m_Pickler._batch_setitems\u001B[1;34m(self, items)\u001B[0m\n\u001B[0;32m    988\u001B[0m     \u001B[38;5;28;01mfor\u001B[39;00m k, v \u001B[38;5;129;01min\u001B[39;00m tmp:\n\u001B[0;32m    989\u001B[0m         save(k)\n\u001B[1;32m--> 990\u001B[0m         \u001B[43msave\u001B[49m\u001B[43m(\u001B[49m\u001B[43mv\u001B[49m\u001B[43m)\u001B[49m\n\u001B[0;32m    991\u001B[0m     write(SETITEMS)\n\u001B[0;32m    992\u001B[0m \u001B[38;5;28;01melif\u001B[39;00m n:\n",
      "    \u001B[1;31m[... skipping similar frames: Pickler.save at line 414 (1 times)]\u001B[0m\n",
      "File \u001B[1;32m~\\AppData\\Local\\Programs\\Python\\Python312\\Lib\\pickle.py:597\u001B[0m, in \u001B[0;36m_Pickler.save\u001B[1;34m(self, obj, save_persistent_id)\u001B[0m\n\u001B[0;32m    593\u001B[0m     \u001B[38;5;28;01mraise\u001B[39;00m PicklingError(\u001B[38;5;124m\"\u001B[39m\u001B[38;5;124mTuple returned by \u001B[39m\u001B[38;5;132;01m%s\u001B[39;00m\u001B[38;5;124m must have \u001B[39m\u001B[38;5;124m\"\u001B[39m\n\u001B[0;32m    594\u001B[0m                         \u001B[38;5;124m\"\u001B[39m\u001B[38;5;124mtwo to six elements\u001B[39m\u001B[38;5;124m\"\u001B[39m \u001B[38;5;241m%\u001B[39m reduce)\n\u001B[0;32m    596\u001B[0m \u001B[38;5;66;03m# Save the reduce() output and finally memoize the object\u001B[39;00m\n\u001B[1;32m--> 597\u001B[0m \u001B[38;5;28;43mself\u001B[39;49m\u001B[38;5;241;43m.\u001B[39;49m\u001B[43msave_reduce\u001B[49m\u001B[43m(\u001B[49m\u001B[43mobj\u001B[49m\u001B[38;5;241;43m=\u001B[39;49m\u001B[43mobj\u001B[49m\u001B[43m,\u001B[49m\u001B[43m \u001B[49m\u001B[38;5;241;43m*\u001B[39;49m\u001B[43mrv\u001B[49m\u001B[43m)\u001B[49m\n",
      "File \u001B[1;32m~\\AppData\\Local\\Programs\\Python\\Python312\\Lib\\pickle.py:711\u001B[0m, in \u001B[0;36m_Pickler.save_reduce\u001B[1;34m(self, func, args, state, listitems, dictitems, state_setter, obj)\u001B[0m\n\u001B[0;32m    709\u001B[0m \u001B[38;5;28;01mif\u001B[39;00m state \u001B[38;5;129;01mis\u001B[39;00m \u001B[38;5;129;01mnot\u001B[39;00m \u001B[38;5;28;01mNone\u001B[39;00m:\n\u001B[0;32m    710\u001B[0m     \u001B[38;5;28;01mif\u001B[39;00m state_setter \u001B[38;5;129;01mis\u001B[39;00m \u001B[38;5;28;01mNone\u001B[39;00m:\n\u001B[1;32m--> 711\u001B[0m         \u001B[43msave\u001B[49m\u001B[43m(\u001B[49m\u001B[43mstate\u001B[49m\u001B[43m)\u001B[49m\n\u001B[0;32m    712\u001B[0m         write(BUILD)\n\u001B[0;32m    713\u001B[0m     \u001B[38;5;28;01melse\u001B[39;00m:\n\u001B[0;32m    714\u001B[0m         \u001B[38;5;66;03m# If a state_setter is specified, call it instead of load_build\u001B[39;00m\n\u001B[0;32m    715\u001B[0m         \u001B[38;5;66;03m# to update obj's with its previous state.\u001B[39;00m\n\u001B[0;32m    716\u001B[0m         \u001B[38;5;66;03m# First, push state_setter and its tuple of expected arguments\u001B[39;00m\n\u001B[0;32m    717\u001B[0m         \u001B[38;5;66;03m# (obj, state) onto the stack.\u001B[39;00m\n",
      "    \u001B[1;31m[... skipping similar frames: Pickler.save at line 414 (1 times)]\u001B[0m\n",
      "File \u001B[1;32m~\\AppData\\Local\\Programs\\Python\\Python312\\Lib\\pickle.py:554\u001B[0m, in \u001B[0;36m_Pickler.save\u001B[1;34m(self, obj, save_persistent_id)\u001B[0m\n\u001B[0;32m    552\u001B[0m f \u001B[38;5;241m=\u001B[39m \u001B[38;5;28mself\u001B[39m\u001B[38;5;241m.\u001B[39mdispatch\u001B[38;5;241m.\u001B[39mget(t)\n\u001B[0;32m    553\u001B[0m \u001B[38;5;28;01mif\u001B[39;00m f \u001B[38;5;129;01mis\u001B[39;00m \u001B[38;5;129;01mnot\u001B[39;00m \u001B[38;5;28;01mNone\u001B[39;00m:\n\u001B[1;32m--> 554\u001B[0m     \u001B[43mf\u001B[49m\u001B[43m(\u001B[49m\u001B[38;5;28;43mself\u001B[39;49m\u001B[43m,\u001B[49m\u001B[43m \u001B[49m\u001B[43mobj\u001B[49m\u001B[43m)\u001B[49m  \u001B[38;5;66;03m# Call unbound method with explicit self\u001B[39;00m\n\u001B[0;32m    555\u001B[0m     \u001B[38;5;28;01mreturn\u001B[39;00m\n\u001B[0;32m    557\u001B[0m \u001B[38;5;66;03m# Check private dispatch table if any, or else\u001B[39;00m\n\u001B[0;32m    558\u001B[0m \u001B[38;5;66;03m# copyreg.dispatch_table\u001B[39;00m\n",
      "File \u001B[1;32m~\\AppData\\Local\\Programs\\Python\\Python312\\Lib\\site-packages\\dill\\_dill.py:1217\u001B[0m, in \u001B[0;36msave_module_dict\u001B[1;34m(pickler, obj)\u001B[0m\n\u001B[0;32m   1214\u001B[0m     \u001B[38;5;28;01mif\u001B[39;00m is_dill(pickler, child\u001B[38;5;241m=\u001B[39m\u001B[38;5;28;01mFalse\u001B[39;00m) \u001B[38;5;129;01mand\u001B[39;00m pickler\u001B[38;5;241m.\u001B[39m_session:\n\u001B[0;32m   1215\u001B[0m         \u001B[38;5;66;03m# we only care about session the first pass thru\u001B[39;00m\n\u001B[0;32m   1216\u001B[0m         pickler\u001B[38;5;241m.\u001B[39m_first_pass \u001B[38;5;241m=\u001B[39m \u001B[38;5;28;01mFalse\u001B[39;00m\n\u001B[1;32m-> 1217\u001B[0m     \u001B[43mStockPickler\u001B[49m\u001B[38;5;241;43m.\u001B[39;49m\u001B[43msave_dict\u001B[49m\u001B[43m(\u001B[49m\u001B[43mpickler\u001B[49m\u001B[43m,\u001B[49m\u001B[43m \u001B[49m\u001B[43mobj\u001B[49m\u001B[43m)\u001B[49m\n\u001B[0;32m   1218\u001B[0m     logger\u001B[38;5;241m.\u001B[39mtrace(pickler, \u001B[38;5;124m\"\u001B[39m\u001B[38;5;124m# D2\u001B[39m\u001B[38;5;124m\"\u001B[39m)\n\u001B[0;32m   1219\u001B[0m \u001B[38;5;28;01mreturn\u001B[39;00m\n",
      "File \u001B[1;32m~\\AppData\\Local\\Programs\\Python\\Python312\\Lib\\pickle.py:966\u001B[0m, in \u001B[0;36m_Pickler.save_dict\u001B[1;34m(self, obj)\u001B[0m\n\u001B[0;32m    963\u001B[0m     \u001B[38;5;28mself\u001B[39m\u001B[38;5;241m.\u001B[39mwrite(MARK \u001B[38;5;241m+\u001B[39m DICT)\n\u001B[0;32m    965\u001B[0m \u001B[38;5;28mself\u001B[39m\u001B[38;5;241m.\u001B[39mmemoize(obj)\n\u001B[1;32m--> 966\u001B[0m \u001B[38;5;28;43mself\u001B[39;49m\u001B[38;5;241;43m.\u001B[39;49m\u001B[43m_batch_setitems\u001B[49m\u001B[43m(\u001B[49m\u001B[43mobj\u001B[49m\u001B[38;5;241;43m.\u001B[39;49m\u001B[43mitems\u001B[49m\u001B[43m(\u001B[49m\u001B[43m)\u001B[49m\u001B[43m)\u001B[49m\n",
      "File \u001B[1;32m~\\AppData\\Local\\Programs\\Python\\Python312\\Lib\\pickle.py:990\u001B[0m, in \u001B[0;36m_Pickler._batch_setitems\u001B[1;34m(self, items)\u001B[0m\n\u001B[0;32m    988\u001B[0m     \u001B[38;5;28;01mfor\u001B[39;00m k, v \u001B[38;5;129;01min\u001B[39;00m tmp:\n\u001B[0;32m    989\u001B[0m         save(k)\n\u001B[1;32m--> 990\u001B[0m         \u001B[43msave\u001B[49m\u001B[43m(\u001B[49m\u001B[43mv\u001B[49m\u001B[43m)\u001B[49m\n\u001B[0;32m    991\u001B[0m     write(SETITEMS)\n\u001B[0;32m    992\u001B[0m \u001B[38;5;28;01melif\u001B[39;00m n:\n",
      "File \u001B[1;32m~\\AppData\\Local\\Programs\\Python\\Python312\\Lib\\site-packages\\dill\\_dill.py:414\u001B[0m, in \u001B[0;36mPickler.save\u001B[1;34m(self, obj, save_persistent_id)\u001B[0m\n\u001B[0;32m    412\u001B[0m     msg \u001B[38;5;241m=\u001B[39m \u001B[38;5;124m\"\u001B[39m\u001B[38;5;124mCan\u001B[39m\u001B[38;5;124m'\u001B[39m\u001B[38;5;124mt pickle \u001B[39m\u001B[38;5;132;01m%s\u001B[39;00m\u001B[38;5;124m: attribute lookup builtins.generator failed\u001B[39m\u001B[38;5;124m\"\u001B[39m \u001B[38;5;241m%\u001B[39m GeneratorType\n\u001B[0;32m    413\u001B[0m     \u001B[38;5;28;01mraise\u001B[39;00m PicklingError(msg)\n\u001B[1;32m--> 414\u001B[0m \u001B[43mStockPickler\u001B[49m\u001B[38;5;241;43m.\u001B[39;49m\u001B[43msave\u001B[49m\u001B[43m(\u001B[49m\u001B[38;5;28;43mself\u001B[39;49m\u001B[43m,\u001B[49m\u001B[43m \u001B[49m\u001B[43mobj\u001B[49m\u001B[43m,\u001B[49m\u001B[43m \u001B[49m\u001B[43msave_persistent_id\u001B[49m\u001B[43m)\u001B[49m\n",
      "File \u001B[1;32m~\\AppData\\Local\\Programs\\Python\\Python312\\Lib\\pickle.py:554\u001B[0m, in \u001B[0;36m_Pickler.save\u001B[1;34m(self, obj, save_persistent_id)\u001B[0m\n\u001B[0;32m    552\u001B[0m f \u001B[38;5;241m=\u001B[39m \u001B[38;5;28mself\u001B[39m\u001B[38;5;241m.\u001B[39mdispatch\u001B[38;5;241m.\u001B[39mget(t)\n\u001B[0;32m    553\u001B[0m \u001B[38;5;28;01mif\u001B[39;00m f \u001B[38;5;129;01mis\u001B[39;00m \u001B[38;5;129;01mnot\u001B[39;00m \u001B[38;5;28;01mNone\u001B[39;00m:\n\u001B[1;32m--> 554\u001B[0m     \u001B[43mf\u001B[49m\u001B[43m(\u001B[49m\u001B[38;5;28;43mself\u001B[39;49m\u001B[43m,\u001B[49m\u001B[43m \u001B[49m\u001B[43mobj\u001B[49m\u001B[43m)\u001B[49m  \u001B[38;5;66;03m# Call unbound method with explicit self\u001B[39;00m\n\u001B[0;32m    555\u001B[0m     \u001B[38;5;28;01mreturn\u001B[39;00m\n\u001B[0;32m    557\u001B[0m \u001B[38;5;66;03m# Check private dispatch table if any, or else\u001B[39;00m\n\u001B[0;32m    558\u001B[0m \u001B[38;5;66;03m# copyreg.dispatch_table\u001B[39;00m\n",
      "File \u001B[1;32m~\\AppData\\Local\\Programs\\Python\\Python312\\Lib\\site-packages\\dill\\_dill.py:1985\u001B[0m, in \u001B[0;36msave_function\u001B[1;34m(pickler, obj)\u001B[0m\n\u001B[0;32m   1982\u001B[0m \u001B[38;5;28;01mif\u001B[39;00m state_dict:\n\u001B[0;32m   1983\u001B[0m     state \u001B[38;5;241m=\u001B[39m state, state_dict\n\u001B[1;32m-> 1985\u001B[0m \u001B[43m_save_with_postproc\u001B[49m\u001B[43m(\u001B[49m\u001B[43mpickler\u001B[49m\u001B[43m,\u001B[49m\u001B[43m \u001B[49m\u001B[43m(\u001B[49m\u001B[43m_create_function\u001B[49m\u001B[43m,\u001B[49m\u001B[43m \u001B[49m\u001B[43m(\u001B[49m\n\u001B[0;32m   1986\u001B[0m \u001B[43m        \u001B[49m\u001B[43mobj\u001B[49m\u001B[38;5;241;43m.\u001B[39;49m\u001B[38;5;18;43m__code__\u001B[39;49m\u001B[43m,\u001B[49m\u001B[43m \u001B[49m\u001B[43mglobs\u001B[49m\u001B[43m,\u001B[49m\u001B[43m \u001B[49m\u001B[43mobj\u001B[49m\u001B[38;5;241;43m.\u001B[39;49m\u001B[38;5;18;43m__name__\u001B[39;49m\u001B[43m,\u001B[49m\u001B[43m \u001B[49m\u001B[43mobj\u001B[49m\u001B[38;5;241;43m.\u001B[39;49m\u001B[38;5;18;43m__defaults__\u001B[39;49m\u001B[43m,\u001B[49m\n\u001B[0;32m   1987\u001B[0m \u001B[43m        \u001B[49m\u001B[43mclosure\u001B[49m\n\u001B[0;32m   1988\u001B[0m \u001B[43m\u001B[49m\u001B[43m)\u001B[49m\u001B[43m,\u001B[49m\u001B[43m \u001B[49m\u001B[43mstate\u001B[49m\u001B[43m)\u001B[49m\u001B[43m,\u001B[49m\u001B[43m \u001B[49m\u001B[43mobj\u001B[49m\u001B[38;5;241;43m=\u001B[39;49m\u001B[43mobj\u001B[49m\u001B[43m,\u001B[49m\u001B[43m \u001B[49m\u001B[43mpostproc_list\u001B[49m\u001B[38;5;241;43m=\u001B[39;49m\u001B[43mpostproc_list\u001B[49m\u001B[43m)\u001B[49m\n\u001B[0;32m   1990\u001B[0m \u001B[38;5;66;03m# Lift closure cell update to earliest function (#458)\u001B[39;00m\n\u001B[0;32m   1991\u001B[0m \u001B[38;5;28;01mif\u001B[39;00m _postproc:\n",
      "File \u001B[1;32m~\\AppData\\Local\\Programs\\Python\\Python312\\Lib\\site-packages\\dill\\_dill.py:1117\u001B[0m, in \u001B[0;36m_save_with_postproc\u001B[1;34m(pickler, reduction, is_pickler_dill, obj, postproc_list)\u001B[0m\n\u001B[0;32m   1115\u001B[0m         \u001B[38;5;28;01mcontinue\u001B[39;00m\n\u001B[0;32m   1116\u001B[0m \u001B[38;5;28;01melse\u001B[39;00m:\n\u001B[1;32m-> 1117\u001B[0m     \u001B[43mpickler\u001B[49m\u001B[38;5;241;43m.\u001B[39;49m\u001B[43msave_reduce\u001B[49m\u001B[43m(\u001B[49m\u001B[38;5;241;43m*\u001B[39;49m\u001B[43mreduction\u001B[49m\u001B[43m)\u001B[49m\n\u001B[0;32m   1118\u001B[0m \u001B[38;5;66;03m# pop None created by calling preprocessing step off stack\u001B[39;00m\n\u001B[0;32m   1119\u001B[0m pickler\u001B[38;5;241m.\u001B[39mwrite(POP)\n",
      "File \u001B[1;32m~\\AppData\\Local\\Programs\\Python\\Python312\\Lib\\pickle.py:686\u001B[0m, in \u001B[0;36m_Pickler.save_reduce\u001B[1;34m(self, func, args, state, listitems, dictitems, state_setter, obj)\u001B[0m\n\u001B[0;32m    684\u001B[0m \u001B[38;5;28;01melse\u001B[39;00m:\n\u001B[0;32m    685\u001B[0m     save(func)\n\u001B[1;32m--> 686\u001B[0m     \u001B[43msave\u001B[49m\u001B[43m(\u001B[49m\u001B[43margs\u001B[49m\u001B[43m)\u001B[49m\n\u001B[0;32m    687\u001B[0m     write(REDUCE)\n\u001B[0;32m    689\u001B[0m \u001B[38;5;28;01mif\u001B[39;00m obj \u001B[38;5;129;01mis\u001B[39;00m \u001B[38;5;129;01mnot\u001B[39;00m \u001B[38;5;28;01mNone\u001B[39;00m:\n\u001B[0;32m    690\u001B[0m     \u001B[38;5;66;03m# If the object is already in the memo, this means it is\u001B[39;00m\n\u001B[0;32m    691\u001B[0m     \u001B[38;5;66;03m# recursive. In this case, throw away everything we put on the\u001B[39;00m\n\u001B[0;32m    692\u001B[0m     \u001B[38;5;66;03m# stack, and fetch the object back from the memo.\u001B[39;00m\n",
      "File \u001B[1;32m~\\AppData\\Local\\Programs\\Python\\Python312\\Lib\\site-packages\\dill\\_dill.py:414\u001B[0m, in \u001B[0;36mPickler.save\u001B[1;34m(self, obj, save_persistent_id)\u001B[0m\n\u001B[0;32m    412\u001B[0m     msg \u001B[38;5;241m=\u001B[39m \u001B[38;5;124m\"\u001B[39m\u001B[38;5;124mCan\u001B[39m\u001B[38;5;124m'\u001B[39m\u001B[38;5;124mt pickle \u001B[39m\u001B[38;5;132;01m%s\u001B[39;00m\u001B[38;5;124m: attribute lookup builtins.generator failed\u001B[39m\u001B[38;5;124m\"\u001B[39m \u001B[38;5;241m%\u001B[39m GeneratorType\n\u001B[0;32m    413\u001B[0m     \u001B[38;5;28;01mraise\u001B[39;00m PicklingError(msg)\n\u001B[1;32m--> 414\u001B[0m \u001B[43mStockPickler\u001B[49m\u001B[38;5;241;43m.\u001B[39;49m\u001B[43msave\u001B[49m\u001B[43m(\u001B[49m\u001B[38;5;28;43mself\u001B[39;49m\u001B[43m,\u001B[49m\u001B[43m \u001B[49m\u001B[43mobj\u001B[49m\u001B[43m,\u001B[49m\u001B[43m \u001B[49m\u001B[43msave_persistent_id\u001B[49m\u001B[43m)\u001B[49m\n",
      "File \u001B[1;32m~\\AppData\\Local\\Programs\\Python\\Python312\\Lib\\pickle.py:554\u001B[0m, in \u001B[0;36m_Pickler.save\u001B[1;34m(self, obj, save_persistent_id)\u001B[0m\n\u001B[0;32m    552\u001B[0m f \u001B[38;5;241m=\u001B[39m \u001B[38;5;28mself\u001B[39m\u001B[38;5;241m.\u001B[39mdispatch\u001B[38;5;241m.\u001B[39mget(t)\n\u001B[0;32m    553\u001B[0m \u001B[38;5;28;01mif\u001B[39;00m f \u001B[38;5;129;01mis\u001B[39;00m \u001B[38;5;129;01mnot\u001B[39;00m \u001B[38;5;28;01mNone\u001B[39;00m:\n\u001B[1;32m--> 554\u001B[0m     \u001B[43mf\u001B[49m\u001B[43m(\u001B[49m\u001B[38;5;28;43mself\u001B[39;49m\u001B[43m,\u001B[49m\u001B[43m \u001B[49m\u001B[43mobj\u001B[49m\u001B[43m)\u001B[49m  \u001B[38;5;66;03m# Call unbound method with explicit self\u001B[39;00m\n\u001B[0;32m    555\u001B[0m     \u001B[38;5;28;01mreturn\u001B[39;00m\n\u001B[0;32m    557\u001B[0m \u001B[38;5;66;03m# Check private dispatch table if any, or else\u001B[39;00m\n\u001B[0;32m    558\u001B[0m \u001B[38;5;66;03m# copyreg.dispatch_table\u001B[39;00m\n",
      "File \u001B[1;32m~\\AppData\\Local\\Programs\\Python\\Python312\\Lib\\pickle.py:881\u001B[0m, in \u001B[0;36m_Pickler.save_tuple\u001B[1;34m(self, obj)\u001B[0m\n\u001B[0;32m    879\u001B[0m \u001B[38;5;28;01mif\u001B[39;00m n \u001B[38;5;241m<\u001B[39m\u001B[38;5;241m=\u001B[39m \u001B[38;5;241m3\u001B[39m \u001B[38;5;129;01mand\u001B[39;00m \u001B[38;5;28mself\u001B[39m\u001B[38;5;241m.\u001B[39mproto \u001B[38;5;241m>\u001B[39m\u001B[38;5;241m=\u001B[39m \u001B[38;5;241m2\u001B[39m:\n\u001B[0;32m    880\u001B[0m     \u001B[38;5;28;01mfor\u001B[39;00m element \u001B[38;5;129;01min\u001B[39;00m obj:\n\u001B[1;32m--> 881\u001B[0m         \u001B[43msave\u001B[49m\u001B[43m(\u001B[49m\u001B[43melement\u001B[49m\u001B[43m)\u001B[49m\n\u001B[0;32m    882\u001B[0m     \u001B[38;5;66;03m# Subtle.  Same as in the big comment below.\u001B[39;00m\n\u001B[0;32m    883\u001B[0m     \u001B[38;5;28;01mif\u001B[39;00m \u001B[38;5;28mid\u001B[39m(obj) \u001B[38;5;129;01min\u001B[39;00m memo:\n",
      "File \u001B[1;32m~\\AppData\\Local\\Programs\\Python\\Python312\\Lib\\site-packages\\dill\\_dill.py:414\u001B[0m, in \u001B[0;36mPickler.save\u001B[1;34m(self, obj, save_persistent_id)\u001B[0m\n\u001B[0;32m    412\u001B[0m     msg \u001B[38;5;241m=\u001B[39m \u001B[38;5;124m\"\u001B[39m\u001B[38;5;124mCan\u001B[39m\u001B[38;5;124m'\u001B[39m\u001B[38;5;124mt pickle \u001B[39m\u001B[38;5;132;01m%s\u001B[39;00m\u001B[38;5;124m: attribute lookup builtins.generator failed\u001B[39m\u001B[38;5;124m\"\u001B[39m \u001B[38;5;241m%\u001B[39m GeneratorType\n\u001B[0;32m    413\u001B[0m     \u001B[38;5;28;01mraise\u001B[39;00m PicklingError(msg)\n\u001B[1;32m--> 414\u001B[0m \u001B[43mStockPickler\u001B[49m\u001B[38;5;241;43m.\u001B[39;49m\u001B[43msave\u001B[49m\u001B[43m(\u001B[49m\u001B[38;5;28;43mself\u001B[39;49m\u001B[43m,\u001B[49m\u001B[43m \u001B[49m\u001B[43mobj\u001B[49m\u001B[43m,\u001B[49m\u001B[43m \u001B[49m\u001B[43msave_persistent_id\u001B[49m\u001B[43m)\u001B[49m\n",
      "File \u001B[1;32m~\\AppData\\Local\\Programs\\Python\\Python312\\Lib\\pickle.py:597\u001B[0m, in \u001B[0;36m_Pickler.save\u001B[1;34m(self, obj, save_persistent_id)\u001B[0m\n\u001B[0;32m    593\u001B[0m     \u001B[38;5;28;01mraise\u001B[39;00m PicklingError(\u001B[38;5;124m\"\u001B[39m\u001B[38;5;124mTuple returned by \u001B[39m\u001B[38;5;132;01m%s\u001B[39;00m\u001B[38;5;124m must have \u001B[39m\u001B[38;5;124m\"\u001B[39m\n\u001B[0;32m    594\u001B[0m                         \u001B[38;5;124m\"\u001B[39m\u001B[38;5;124mtwo to six elements\u001B[39m\u001B[38;5;124m\"\u001B[39m \u001B[38;5;241m%\u001B[39m reduce)\n\u001B[0;32m    596\u001B[0m \u001B[38;5;66;03m# Save the reduce() output and finally memoize the object\u001B[39;00m\n\u001B[1;32m--> 597\u001B[0m \u001B[38;5;28;43mself\u001B[39;49m\u001B[38;5;241;43m.\u001B[39;49m\u001B[43msave_reduce\u001B[49m\u001B[43m(\u001B[49m\u001B[43mobj\u001B[49m\u001B[38;5;241;43m=\u001B[39;49m\u001B[43mobj\u001B[49m\u001B[43m,\u001B[49m\u001B[43m \u001B[49m\u001B[38;5;241;43m*\u001B[39;49m\u001B[43mrv\u001B[49m\u001B[43m)\u001B[49m\n",
      "File \u001B[1;32m~\\AppData\\Local\\Programs\\Python\\Python312\\Lib\\pickle.py:711\u001B[0m, in \u001B[0;36m_Pickler.save_reduce\u001B[1;34m(self, func, args, state, listitems, dictitems, state_setter, obj)\u001B[0m\n\u001B[0;32m    709\u001B[0m \u001B[38;5;28;01mif\u001B[39;00m state \u001B[38;5;129;01mis\u001B[39;00m \u001B[38;5;129;01mnot\u001B[39;00m \u001B[38;5;28;01mNone\u001B[39;00m:\n\u001B[0;32m    710\u001B[0m     \u001B[38;5;28;01mif\u001B[39;00m state_setter \u001B[38;5;129;01mis\u001B[39;00m \u001B[38;5;28;01mNone\u001B[39;00m:\n\u001B[1;32m--> 711\u001B[0m         \u001B[43msave\u001B[49m\u001B[43m(\u001B[49m\u001B[43mstate\u001B[49m\u001B[43m)\u001B[49m\n\u001B[0;32m    712\u001B[0m         write(BUILD)\n\u001B[0;32m    713\u001B[0m     \u001B[38;5;28;01melse\u001B[39;00m:\n\u001B[0;32m    714\u001B[0m         \u001B[38;5;66;03m# If a state_setter is specified, call it instead of load_build\u001B[39;00m\n\u001B[0;32m    715\u001B[0m         \u001B[38;5;66;03m# to update obj's with its previous state.\u001B[39;00m\n\u001B[0;32m    716\u001B[0m         \u001B[38;5;66;03m# First, push state_setter and its tuple of expected arguments\u001B[39;00m\n\u001B[0;32m    717\u001B[0m         \u001B[38;5;66;03m# (obj, state) onto the stack.\u001B[39;00m\n",
      "File \u001B[1;32m~\\AppData\\Local\\Programs\\Python\\Python312\\Lib\\site-packages\\dill\\_dill.py:414\u001B[0m, in \u001B[0;36mPickler.save\u001B[1;34m(self, obj, save_persistent_id)\u001B[0m\n\u001B[0;32m    412\u001B[0m     msg \u001B[38;5;241m=\u001B[39m \u001B[38;5;124m\"\u001B[39m\u001B[38;5;124mCan\u001B[39m\u001B[38;5;124m'\u001B[39m\u001B[38;5;124mt pickle \u001B[39m\u001B[38;5;132;01m%s\u001B[39;00m\u001B[38;5;124m: attribute lookup builtins.generator failed\u001B[39m\u001B[38;5;124m\"\u001B[39m \u001B[38;5;241m%\u001B[39m GeneratorType\n\u001B[0;32m    413\u001B[0m     \u001B[38;5;28;01mraise\u001B[39;00m PicklingError(msg)\n\u001B[1;32m--> 414\u001B[0m \u001B[43mStockPickler\u001B[49m\u001B[38;5;241;43m.\u001B[39;49m\u001B[43msave\u001B[49m\u001B[43m(\u001B[49m\u001B[38;5;28;43mself\u001B[39;49m\u001B[43m,\u001B[49m\u001B[43m \u001B[49m\u001B[43mobj\u001B[49m\u001B[43m,\u001B[49m\u001B[43m \u001B[49m\u001B[43msave_persistent_id\u001B[49m\u001B[43m)\u001B[49m\n",
      "File \u001B[1;32m~\\AppData\\Local\\Programs\\Python\\Python312\\Lib\\pickle.py:554\u001B[0m, in \u001B[0;36m_Pickler.save\u001B[1;34m(self, obj, save_persistent_id)\u001B[0m\n\u001B[0;32m    552\u001B[0m f \u001B[38;5;241m=\u001B[39m \u001B[38;5;28mself\u001B[39m\u001B[38;5;241m.\u001B[39mdispatch\u001B[38;5;241m.\u001B[39mget(t)\n\u001B[0;32m    553\u001B[0m \u001B[38;5;28;01mif\u001B[39;00m f \u001B[38;5;129;01mis\u001B[39;00m \u001B[38;5;129;01mnot\u001B[39;00m \u001B[38;5;28;01mNone\u001B[39;00m:\n\u001B[1;32m--> 554\u001B[0m     \u001B[43mf\u001B[49m\u001B[43m(\u001B[49m\u001B[38;5;28;43mself\u001B[39;49m\u001B[43m,\u001B[49m\u001B[43m \u001B[49m\u001B[43mobj\u001B[49m\u001B[43m)\u001B[49m  \u001B[38;5;66;03m# Call unbound method with explicit self\u001B[39;00m\n\u001B[0;32m    555\u001B[0m     \u001B[38;5;28;01mreturn\u001B[39;00m\n\u001B[0;32m    557\u001B[0m \u001B[38;5;66;03m# Check private dispatch table if any, or else\u001B[39;00m\n\u001B[0;32m    558\u001B[0m \u001B[38;5;66;03m# copyreg.dispatch_table\u001B[39;00m\n",
      "File \u001B[1;32m~\\AppData\\Local\\Programs\\Python\\Python312\\Lib\\site-packages\\dill\\_dill.py:1217\u001B[0m, in \u001B[0;36msave_module_dict\u001B[1;34m(pickler, obj)\u001B[0m\n\u001B[0;32m   1214\u001B[0m     \u001B[38;5;28;01mif\u001B[39;00m is_dill(pickler, child\u001B[38;5;241m=\u001B[39m\u001B[38;5;28;01mFalse\u001B[39;00m) \u001B[38;5;129;01mand\u001B[39;00m pickler\u001B[38;5;241m.\u001B[39m_session:\n\u001B[0;32m   1215\u001B[0m         \u001B[38;5;66;03m# we only care about session the first pass thru\u001B[39;00m\n\u001B[0;32m   1216\u001B[0m         pickler\u001B[38;5;241m.\u001B[39m_first_pass \u001B[38;5;241m=\u001B[39m \u001B[38;5;28;01mFalse\u001B[39;00m\n\u001B[1;32m-> 1217\u001B[0m     \u001B[43mStockPickler\u001B[49m\u001B[38;5;241;43m.\u001B[39;49m\u001B[43msave_dict\u001B[49m\u001B[43m(\u001B[49m\u001B[43mpickler\u001B[49m\u001B[43m,\u001B[49m\u001B[43m \u001B[49m\u001B[43mobj\u001B[49m\u001B[43m)\u001B[49m\n\u001B[0;32m   1218\u001B[0m     logger\u001B[38;5;241m.\u001B[39mtrace(pickler, \u001B[38;5;124m\"\u001B[39m\u001B[38;5;124m# D2\u001B[39m\u001B[38;5;124m\"\u001B[39m)\n\u001B[0;32m   1219\u001B[0m \u001B[38;5;28;01mreturn\u001B[39;00m\n",
      "File \u001B[1;32m~\\AppData\\Local\\Programs\\Python\\Python312\\Lib\\pickle.py:966\u001B[0m, in \u001B[0;36m_Pickler.save_dict\u001B[1;34m(self, obj)\u001B[0m\n\u001B[0;32m    963\u001B[0m     \u001B[38;5;28mself\u001B[39m\u001B[38;5;241m.\u001B[39mwrite(MARK \u001B[38;5;241m+\u001B[39m DICT)\n\u001B[0;32m    965\u001B[0m \u001B[38;5;28mself\u001B[39m\u001B[38;5;241m.\u001B[39mmemoize(obj)\n\u001B[1;32m--> 966\u001B[0m \u001B[38;5;28;43mself\u001B[39;49m\u001B[38;5;241;43m.\u001B[39;49m\u001B[43m_batch_setitems\u001B[49m\u001B[43m(\u001B[49m\u001B[43mobj\u001B[49m\u001B[38;5;241;43m.\u001B[39;49m\u001B[43mitems\u001B[49m\u001B[43m(\u001B[49m\u001B[43m)\u001B[49m\u001B[43m)\u001B[49m\n",
      "File \u001B[1;32m~\\AppData\\Local\\Programs\\Python\\Python312\\Lib\\pickle.py:990\u001B[0m, in \u001B[0;36m_Pickler._batch_setitems\u001B[1;34m(self, items)\u001B[0m\n\u001B[0;32m    988\u001B[0m     \u001B[38;5;28;01mfor\u001B[39;00m k, v \u001B[38;5;129;01min\u001B[39;00m tmp:\n\u001B[0;32m    989\u001B[0m         save(k)\n\u001B[1;32m--> 990\u001B[0m         \u001B[43msave\u001B[49m\u001B[43m(\u001B[49m\u001B[43mv\u001B[49m\u001B[43m)\u001B[49m\n\u001B[0;32m    991\u001B[0m     write(SETITEMS)\n\u001B[0;32m    992\u001B[0m \u001B[38;5;28;01melif\u001B[39;00m n:\n",
      "    \u001B[1;31m[... skipping similar frames: Pickler.save at line 414 (1 times)]\u001B[0m\n",
      "File \u001B[1;32m~\\AppData\\Local\\Programs\\Python\\Python312\\Lib\\pickle.py:597\u001B[0m, in \u001B[0;36m_Pickler.save\u001B[1;34m(self, obj, save_persistent_id)\u001B[0m\n\u001B[0;32m    593\u001B[0m     \u001B[38;5;28;01mraise\u001B[39;00m PicklingError(\u001B[38;5;124m\"\u001B[39m\u001B[38;5;124mTuple returned by \u001B[39m\u001B[38;5;132;01m%s\u001B[39;00m\u001B[38;5;124m must have \u001B[39m\u001B[38;5;124m\"\u001B[39m\n\u001B[0;32m    594\u001B[0m                         \u001B[38;5;124m\"\u001B[39m\u001B[38;5;124mtwo to six elements\u001B[39m\u001B[38;5;124m\"\u001B[39m \u001B[38;5;241m%\u001B[39m reduce)\n\u001B[0;32m    596\u001B[0m \u001B[38;5;66;03m# Save the reduce() output and finally memoize the object\u001B[39;00m\n\u001B[1;32m--> 597\u001B[0m \u001B[38;5;28;43mself\u001B[39;49m\u001B[38;5;241;43m.\u001B[39;49m\u001B[43msave_reduce\u001B[49m\u001B[43m(\u001B[49m\u001B[43mobj\u001B[49m\u001B[38;5;241;43m=\u001B[39;49m\u001B[43mobj\u001B[49m\u001B[43m,\u001B[49m\u001B[43m \u001B[49m\u001B[38;5;241;43m*\u001B[39;49m\u001B[43mrv\u001B[49m\u001B[43m)\u001B[49m\n",
      "File \u001B[1;32m~\\AppData\\Local\\Programs\\Python\\Python312\\Lib\\pickle.py:711\u001B[0m, in \u001B[0;36m_Pickler.save_reduce\u001B[1;34m(self, func, args, state, listitems, dictitems, state_setter, obj)\u001B[0m\n\u001B[0;32m    709\u001B[0m \u001B[38;5;28;01mif\u001B[39;00m state \u001B[38;5;129;01mis\u001B[39;00m \u001B[38;5;129;01mnot\u001B[39;00m \u001B[38;5;28;01mNone\u001B[39;00m:\n\u001B[0;32m    710\u001B[0m     \u001B[38;5;28;01mif\u001B[39;00m state_setter \u001B[38;5;129;01mis\u001B[39;00m \u001B[38;5;28;01mNone\u001B[39;00m:\n\u001B[1;32m--> 711\u001B[0m         \u001B[43msave\u001B[49m\u001B[43m(\u001B[49m\u001B[43mstate\u001B[49m\u001B[43m)\u001B[49m\n\u001B[0;32m    712\u001B[0m         write(BUILD)\n\u001B[0;32m    713\u001B[0m     \u001B[38;5;28;01melse\u001B[39;00m:\n\u001B[0;32m    714\u001B[0m         \u001B[38;5;66;03m# If a state_setter is specified, call it instead of load_build\u001B[39;00m\n\u001B[0;32m    715\u001B[0m         \u001B[38;5;66;03m# to update obj's with its previous state.\u001B[39;00m\n\u001B[0;32m    716\u001B[0m         \u001B[38;5;66;03m# First, push state_setter and its tuple of expected arguments\u001B[39;00m\n\u001B[0;32m    717\u001B[0m         \u001B[38;5;66;03m# (obj, state) onto the stack.\u001B[39;00m\n",
      "File \u001B[1;32m~\\AppData\\Local\\Programs\\Python\\Python312\\Lib\\site-packages\\dill\\_dill.py:414\u001B[0m, in \u001B[0;36mPickler.save\u001B[1;34m(self, obj, save_persistent_id)\u001B[0m\n\u001B[0;32m    412\u001B[0m     msg \u001B[38;5;241m=\u001B[39m \u001B[38;5;124m\"\u001B[39m\u001B[38;5;124mCan\u001B[39m\u001B[38;5;124m'\u001B[39m\u001B[38;5;124mt pickle \u001B[39m\u001B[38;5;132;01m%s\u001B[39;00m\u001B[38;5;124m: attribute lookup builtins.generator failed\u001B[39m\u001B[38;5;124m\"\u001B[39m \u001B[38;5;241m%\u001B[39m GeneratorType\n\u001B[0;32m    413\u001B[0m     \u001B[38;5;28;01mraise\u001B[39;00m PicklingError(msg)\n\u001B[1;32m--> 414\u001B[0m \u001B[43mStockPickler\u001B[49m\u001B[38;5;241;43m.\u001B[39;49m\u001B[43msave\u001B[49m\u001B[43m(\u001B[49m\u001B[38;5;28;43mself\u001B[39;49m\u001B[43m,\u001B[49m\u001B[43m \u001B[49m\u001B[43mobj\u001B[49m\u001B[43m,\u001B[49m\u001B[43m \u001B[49m\u001B[43msave_persistent_id\u001B[49m\u001B[43m)\u001B[49m\n",
      "File \u001B[1;32m~\\AppData\\Local\\Programs\\Python\\Python312\\Lib\\pickle.py:554\u001B[0m, in \u001B[0;36m_Pickler.save\u001B[1;34m(self, obj, save_persistent_id)\u001B[0m\n\u001B[0;32m    552\u001B[0m f \u001B[38;5;241m=\u001B[39m \u001B[38;5;28mself\u001B[39m\u001B[38;5;241m.\u001B[39mdispatch\u001B[38;5;241m.\u001B[39mget(t)\n\u001B[0;32m    553\u001B[0m \u001B[38;5;28;01mif\u001B[39;00m f \u001B[38;5;129;01mis\u001B[39;00m \u001B[38;5;129;01mnot\u001B[39;00m \u001B[38;5;28;01mNone\u001B[39;00m:\n\u001B[1;32m--> 554\u001B[0m     \u001B[43mf\u001B[49m\u001B[43m(\u001B[49m\u001B[38;5;28;43mself\u001B[39;49m\u001B[43m,\u001B[49m\u001B[43m \u001B[49m\u001B[43mobj\u001B[49m\u001B[43m)\u001B[49m  \u001B[38;5;66;03m# Call unbound method with explicit self\u001B[39;00m\n\u001B[0;32m    555\u001B[0m     \u001B[38;5;28;01mreturn\u001B[39;00m\n\u001B[0;32m    557\u001B[0m \u001B[38;5;66;03m# Check private dispatch table if any, or else\u001B[39;00m\n\u001B[0;32m    558\u001B[0m \u001B[38;5;66;03m# copyreg.dispatch_table\u001B[39;00m\n",
      "File \u001B[1;32m~\\AppData\\Local\\Programs\\Python\\Python312\\Lib\\pickle.py:881\u001B[0m, in \u001B[0;36m_Pickler.save_tuple\u001B[1;34m(self, obj)\u001B[0m\n\u001B[0;32m    879\u001B[0m \u001B[38;5;28;01mif\u001B[39;00m n \u001B[38;5;241m<\u001B[39m\u001B[38;5;241m=\u001B[39m \u001B[38;5;241m3\u001B[39m \u001B[38;5;129;01mand\u001B[39;00m \u001B[38;5;28mself\u001B[39m\u001B[38;5;241m.\u001B[39mproto \u001B[38;5;241m>\u001B[39m\u001B[38;5;241m=\u001B[39m \u001B[38;5;241m2\u001B[39m:\n\u001B[0;32m    880\u001B[0m     \u001B[38;5;28;01mfor\u001B[39;00m element \u001B[38;5;129;01min\u001B[39;00m obj:\n\u001B[1;32m--> 881\u001B[0m         \u001B[43msave\u001B[49m\u001B[43m(\u001B[49m\u001B[43melement\u001B[49m\u001B[43m)\u001B[49m\n\u001B[0;32m    882\u001B[0m     \u001B[38;5;66;03m# Subtle.  Same as in the big comment below.\u001B[39;00m\n\u001B[0;32m    883\u001B[0m     \u001B[38;5;28;01mif\u001B[39;00m \u001B[38;5;28mid\u001B[39m(obj) \u001B[38;5;129;01min\u001B[39;00m memo:\n",
      "File \u001B[1;32m~\\AppData\\Local\\Programs\\Python\\Python312\\Lib\\site-packages\\dill\\_dill.py:414\u001B[0m, in \u001B[0;36mPickler.save\u001B[1;34m(self, obj, save_persistent_id)\u001B[0m\n\u001B[0;32m    412\u001B[0m     msg \u001B[38;5;241m=\u001B[39m \u001B[38;5;124m\"\u001B[39m\u001B[38;5;124mCan\u001B[39m\u001B[38;5;124m'\u001B[39m\u001B[38;5;124mt pickle \u001B[39m\u001B[38;5;132;01m%s\u001B[39;00m\u001B[38;5;124m: attribute lookup builtins.generator failed\u001B[39m\u001B[38;5;124m\"\u001B[39m \u001B[38;5;241m%\u001B[39m GeneratorType\n\u001B[0;32m    413\u001B[0m     \u001B[38;5;28;01mraise\u001B[39;00m PicklingError(msg)\n\u001B[1;32m--> 414\u001B[0m \u001B[43mStockPickler\u001B[49m\u001B[38;5;241;43m.\u001B[39;49m\u001B[43msave\u001B[49m\u001B[43m(\u001B[49m\u001B[38;5;28;43mself\u001B[39;49m\u001B[43m,\u001B[49m\u001B[43m \u001B[49m\u001B[43mobj\u001B[49m\u001B[43m,\u001B[49m\u001B[43m \u001B[49m\u001B[43msave_persistent_id\u001B[49m\u001B[43m)\u001B[49m\n",
      "File \u001B[1;32m~\\AppData\\Local\\Programs\\Python\\Python312\\Lib\\pickle.py:554\u001B[0m, in \u001B[0;36m_Pickler.save\u001B[1;34m(self, obj, save_persistent_id)\u001B[0m\n\u001B[0;32m    552\u001B[0m f \u001B[38;5;241m=\u001B[39m \u001B[38;5;28mself\u001B[39m\u001B[38;5;241m.\u001B[39mdispatch\u001B[38;5;241m.\u001B[39mget(t)\n\u001B[0;32m    553\u001B[0m \u001B[38;5;28;01mif\u001B[39;00m f \u001B[38;5;129;01mis\u001B[39;00m \u001B[38;5;129;01mnot\u001B[39;00m \u001B[38;5;28;01mNone\u001B[39;00m:\n\u001B[1;32m--> 554\u001B[0m     \u001B[43mf\u001B[49m\u001B[43m(\u001B[49m\u001B[38;5;28;43mself\u001B[39;49m\u001B[43m,\u001B[49m\u001B[43m \u001B[49m\u001B[43mobj\u001B[49m\u001B[43m)\u001B[49m  \u001B[38;5;66;03m# Call unbound method with explicit self\u001B[39;00m\n\u001B[0;32m    555\u001B[0m     \u001B[38;5;28;01mreturn\u001B[39;00m\n\u001B[0;32m    557\u001B[0m \u001B[38;5;66;03m# Check private dispatch table if any, or else\u001B[39;00m\n\u001B[0;32m    558\u001B[0m \u001B[38;5;66;03m# copyreg.dispatch_table\u001B[39;00m\n",
      "File \u001B[1;32m~\\AppData\\Local\\Programs\\Python\\Python312\\Lib\\site-packages\\dill\\_dill.py:1217\u001B[0m, in \u001B[0;36msave_module_dict\u001B[1;34m(pickler, obj)\u001B[0m\n\u001B[0;32m   1214\u001B[0m     \u001B[38;5;28;01mif\u001B[39;00m is_dill(pickler, child\u001B[38;5;241m=\u001B[39m\u001B[38;5;28;01mFalse\u001B[39;00m) \u001B[38;5;129;01mand\u001B[39;00m pickler\u001B[38;5;241m.\u001B[39m_session:\n\u001B[0;32m   1215\u001B[0m         \u001B[38;5;66;03m# we only care about session the first pass thru\u001B[39;00m\n\u001B[0;32m   1216\u001B[0m         pickler\u001B[38;5;241m.\u001B[39m_first_pass \u001B[38;5;241m=\u001B[39m \u001B[38;5;28;01mFalse\u001B[39;00m\n\u001B[1;32m-> 1217\u001B[0m     \u001B[43mStockPickler\u001B[49m\u001B[38;5;241;43m.\u001B[39;49m\u001B[43msave_dict\u001B[49m\u001B[43m(\u001B[49m\u001B[43mpickler\u001B[49m\u001B[43m,\u001B[49m\u001B[43m \u001B[49m\u001B[43mobj\u001B[49m\u001B[43m)\u001B[49m\n\u001B[0;32m   1218\u001B[0m     logger\u001B[38;5;241m.\u001B[39mtrace(pickler, \u001B[38;5;124m\"\u001B[39m\u001B[38;5;124m# D2\u001B[39m\u001B[38;5;124m\"\u001B[39m)\n\u001B[0;32m   1219\u001B[0m \u001B[38;5;28;01mreturn\u001B[39;00m\n",
      "File \u001B[1;32m~\\AppData\\Local\\Programs\\Python\\Python312\\Lib\\pickle.py:966\u001B[0m, in \u001B[0;36m_Pickler.save_dict\u001B[1;34m(self, obj)\u001B[0m\n\u001B[0;32m    963\u001B[0m     \u001B[38;5;28mself\u001B[39m\u001B[38;5;241m.\u001B[39mwrite(MARK \u001B[38;5;241m+\u001B[39m DICT)\n\u001B[0;32m    965\u001B[0m \u001B[38;5;28mself\u001B[39m\u001B[38;5;241m.\u001B[39mmemoize(obj)\n\u001B[1;32m--> 966\u001B[0m \u001B[38;5;28;43mself\u001B[39;49m\u001B[38;5;241;43m.\u001B[39;49m\u001B[43m_batch_setitems\u001B[49m\u001B[43m(\u001B[49m\u001B[43mobj\u001B[49m\u001B[38;5;241;43m.\u001B[39;49m\u001B[43mitems\u001B[49m\u001B[43m(\u001B[49m\u001B[43m)\u001B[49m\u001B[43m)\u001B[49m\n",
      "File \u001B[1;32m~\\AppData\\Local\\Programs\\Python\\Python312\\Lib\\pickle.py:990\u001B[0m, in \u001B[0;36m_Pickler._batch_setitems\u001B[1;34m(self, items)\u001B[0m\n\u001B[0;32m    988\u001B[0m     \u001B[38;5;28;01mfor\u001B[39;00m k, v \u001B[38;5;129;01min\u001B[39;00m tmp:\n\u001B[0;32m    989\u001B[0m         save(k)\n\u001B[1;32m--> 990\u001B[0m         \u001B[43msave\u001B[49m\u001B[43m(\u001B[49m\u001B[43mv\u001B[49m\u001B[43m)\u001B[49m\n\u001B[0;32m    991\u001B[0m     write(SETITEMS)\n\u001B[0;32m    992\u001B[0m \u001B[38;5;28;01melif\u001B[39;00m n:\n",
      "File \u001B[1;32m~\\AppData\\Local\\Programs\\Python\\Python312\\Lib\\site-packages\\dill\\_dill.py:414\u001B[0m, in \u001B[0;36mPickler.save\u001B[1;34m(self, obj, save_persistent_id)\u001B[0m\n\u001B[0;32m    412\u001B[0m     msg \u001B[38;5;241m=\u001B[39m \u001B[38;5;124m\"\u001B[39m\u001B[38;5;124mCan\u001B[39m\u001B[38;5;124m'\u001B[39m\u001B[38;5;124mt pickle \u001B[39m\u001B[38;5;132;01m%s\u001B[39;00m\u001B[38;5;124m: attribute lookup builtins.generator failed\u001B[39m\u001B[38;5;124m\"\u001B[39m \u001B[38;5;241m%\u001B[39m GeneratorType\n\u001B[0;32m    413\u001B[0m     \u001B[38;5;28;01mraise\u001B[39;00m PicklingError(msg)\n\u001B[1;32m--> 414\u001B[0m \u001B[43mStockPickler\u001B[49m\u001B[38;5;241;43m.\u001B[39;49m\u001B[43msave\u001B[49m\u001B[43m(\u001B[49m\u001B[38;5;28;43mself\u001B[39;49m\u001B[43m,\u001B[49m\u001B[43m \u001B[49m\u001B[43mobj\u001B[49m\u001B[43m,\u001B[49m\u001B[43m \u001B[49m\u001B[43msave_persistent_id\u001B[49m\u001B[43m)\u001B[49m\n",
      "File \u001B[1;32m~\\AppData\\Local\\Programs\\Python\\Python312\\Lib\\pickle.py:597\u001B[0m, in \u001B[0;36m_Pickler.save\u001B[1;34m(self, obj, save_persistent_id)\u001B[0m\n\u001B[0;32m    593\u001B[0m     \u001B[38;5;28;01mraise\u001B[39;00m PicklingError(\u001B[38;5;124m\"\u001B[39m\u001B[38;5;124mTuple returned by \u001B[39m\u001B[38;5;132;01m%s\u001B[39;00m\u001B[38;5;124m must have \u001B[39m\u001B[38;5;124m\"\u001B[39m\n\u001B[0;32m    594\u001B[0m                         \u001B[38;5;124m\"\u001B[39m\u001B[38;5;124mtwo to six elements\u001B[39m\u001B[38;5;124m\"\u001B[39m \u001B[38;5;241m%\u001B[39m reduce)\n\u001B[0;32m    596\u001B[0m \u001B[38;5;66;03m# Save the reduce() output and finally memoize the object\u001B[39;00m\n\u001B[1;32m--> 597\u001B[0m \u001B[38;5;28;43mself\u001B[39;49m\u001B[38;5;241;43m.\u001B[39;49m\u001B[43msave_reduce\u001B[49m\u001B[43m(\u001B[49m\u001B[43mobj\u001B[49m\u001B[38;5;241;43m=\u001B[39;49m\u001B[43mobj\u001B[49m\u001B[43m,\u001B[49m\u001B[43m \u001B[49m\u001B[38;5;241;43m*\u001B[39;49m\u001B[43mrv\u001B[49m\u001B[43m)\u001B[49m\n",
      "File \u001B[1;32m~\\AppData\\Local\\Programs\\Python\\Python312\\Lib\\pickle.py:707\u001B[0m, in \u001B[0;36m_Pickler.save_reduce\u001B[1;34m(self, func, args, state, listitems, dictitems, state_setter, obj)\u001B[0m\n\u001B[0;32m    704\u001B[0m     \u001B[38;5;28mself\u001B[39m\u001B[38;5;241m.\u001B[39m_batch_appends(listitems)\n\u001B[0;32m    706\u001B[0m \u001B[38;5;28;01mif\u001B[39;00m dictitems \u001B[38;5;129;01mis\u001B[39;00m \u001B[38;5;129;01mnot\u001B[39;00m \u001B[38;5;28;01mNone\u001B[39;00m:\n\u001B[1;32m--> 707\u001B[0m     \u001B[38;5;28;43mself\u001B[39;49m\u001B[38;5;241;43m.\u001B[39;49m\u001B[43m_batch_setitems\u001B[49m\u001B[43m(\u001B[49m\u001B[43mdictitems\u001B[49m\u001B[43m)\u001B[49m\n\u001B[0;32m    709\u001B[0m \u001B[38;5;28;01mif\u001B[39;00m state \u001B[38;5;129;01mis\u001B[39;00m \u001B[38;5;129;01mnot\u001B[39;00m \u001B[38;5;28;01mNone\u001B[39;00m:\n\u001B[0;32m    710\u001B[0m     \u001B[38;5;28;01mif\u001B[39;00m state_setter \u001B[38;5;129;01mis\u001B[39;00m \u001B[38;5;28;01mNone\u001B[39;00m:\n",
      "File \u001B[1;32m~\\AppData\\Local\\Programs\\Python\\Python312\\Lib\\pickle.py:990\u001B[0m, in \u001B[0;36m_Pickler._batch_setitems\u001B[1;34m(self, items)\u001B[0m\n\u001B[0;32m    988\u001B[0m     \u001B[38;5;28;01mfor\u001B[39;00m k, v \u001B[38;5;129;01min\u001B[39;00m tmp:\n\u001B[0;32m    989\u001B[0m         save(k)\n\u001B[1;32m--> 990\u001B[0m         \u001B[43msave\u001B[49m\u001B[43m(\u001B[49m\u001B[43mv\u001B[49m\u001B[43m)\u001B[49m\n\u001B[0;32m    991\u001B[0m     write(SETITEMS)\n\u001B[0;32m    992\u001B[0m \u001B[38;5;28;01melif\u001B[39;00m n:\n",
      "File \u001B[1;32m~\\AppData\\Local\\Programs\\Python\\Python312\\Lib\\site-packages\\dill\\_dill.py:414\u001B[0m, in \u001B[0;36mPickler.save\u001B[1;34m(self, obj, save_persistent_id)\u001B[0m\n\u001B[0;32m    412\u001B[0m     msg \u001B[38;5;241m=\u001B[39m \u001B[38;5;124m\"\u001B[39m\u001B[38;5;124mCan\u001B[39m\u001B[38;5;124m'\u001B[39m\u001B[38;5;124mt pickle \u001B[39m\u001B[38;5;132;01m%s\u001B[39;00m\u001B[38;5;124m: attribute lookup builtins.generator failed\u001B[39m\u001B[38;5;124m\"\u001B[39m \u001B[38;5;241m%\u001B[39m GeneratorType\n\u001B[0;32m    413\u001B[0m     \u001B[38;5;28;01mraise\u001B[39;00m PicklingError(msg)\n\u001B[1;32m--> 414\u001B[0m \u001B[43mStockPickler\u001B[49m\u001B[38;5;241;43m.\u001B[39;49m\u001B[43msave\u001B[49m\u001B[43m(\u001B[49m\u001B[38;5;28;43mself\u001B[39;49m\u001B[43m,\u001B[49m\u001B[43m \u001B[49m\u001B[43mobj\u001B[49m\u001B[43m,\u001B[49m\u001B[43m \u001B[49m\u001B[43msave_persistent_id\u001B[49m\u001B[43m)\u001B[49m\n",
      "File \u001B[1;32m~\\AppData\\Local\\Programs\\Python\\Python312\\Lib\\pickle.py:597\u001B[0m, in \u001B[0;36m_Pickler.save\u001B[1;34m(self, obj, save_persistent_id)\u001B[0m\n\u001B[0;32m    593\u001B[0m     \u001B[38;5;28;01mraise\u001B[39;00m PicklingError(\u001B[38;5;124m\"\u001B[39m\u001B[38;5;124mTuple returned by \u001B[39m\u001B[38;5;132;01m%s\u001B[39;00m\u001B[38;5;124m must have \u001B[39m\u001B[38;5;124m\"\u001B[39m\n\u001B[0;32m    594\u001B[0m                         \u001B[38;5;124m\"\u001B[39m\u001B[38;5;124mtwo to six elements\u001B[39m\u001B[38;5;124m\"\u001B[39m \u001B[38;5;241m%\u001B[39m reduce)\n\u001B[0;32m    596\u001B[0m \u001B[38;5;66;03m# Save the reduce() output and finally memoize the object\u001B[39;00m\n\u001B[1;32m--> 597\u001B[0m \u001B[38;5;28;43mself\u001B[39;49m\u001B[38;5;241;43m.\u001B[39;49m\u001B[43msave_reduce\u001B[49m\u001B[43m(\u001B[49m\u001B[43mobj\u001B[49m\u001B[38;5;241;43m=\u001B[39;49m\u001B[43mobj\u001B[49m\u001B[43m,\u001B[49m\u001B[43m \u001B[49m\u001B[38;5;241;43m*\u001B[39;49m\u001B[43mrv\u001B[49m\u001B[43m)\u001B[49m\n",
      "File \u001B[1;32m~\\AppData\\Local\\Programs\\Python\\Python312\\Lib\\pickle.py:711\u001B[0m, in \u001B[0;36m_Pickler.save_reduce\u001B[1;34m(self, func, args, state, listitems, dictitems, state_setter, obj)\u001B[0m\n\u001B[0;32m    709\u001B[0m \u001B[38;5;28;01mif\u001B[39;00m state \u001B[38;5;129;01mis\u001B[39;00m \u001B[38;5;129;01mnot\u001B[39;00m \u001B[38;5;28;01mNone\u001B[39;00m:\n\u001B[0;32m    710\u001B[0m     \u001B[38;5;28;01mif\u001B[39;00m state_setter \u001B[38;5;129;01mis\u001B[39;00m \u001B[38;5;28;01mNone\u001B[39;00m:\n\u001B[1;32m--> 711\u001B[0m         \u001B[43msave\u001B[49m\u001B[43m(\u001B[49m\u001B[43mstate\u001B[49m\u001B[43m)\u001B[49m\n\u001B[0;32m    712\u001B[0m         write(BUILD)\n\u001B[0;32m    713\u001B[0m     \u001B[38;5;28;01melse\u001B[39;00m:\n\u001B[0;32m    714\u001B[0m         \u001B[38;5;66;03m# If a state_setter is specified, call it instead of load_build\u001B[39;00m\n\u001B[0;32m    715\u001B[0m         \u001B[38;5;66;03m# to update obj's with its previous state.\u001B[39;00m\n\u001B[0;32m    716\u001B[0m         \u001B[38;5;66;03m# First, push state_setter and its tuple of expected arguments\u001B[39;00m\n\u001B[0;32m    717\u001B[0m         \u001B[38;5;66;03m# (obj, state) onto the stack.\u001B[39;00m\n",
      "File \u001B[1;32m~\\AppData\\Local\\Programs\\Python\\Python312\\Lib\\site-packages\\dill\\_dill.py:414\u001B[0m, in \u001B[0;36mPickler.save\u001B[1;34m(self, obj, save_persistent_id)\u001B[0m\n\u001B[0;32m    412\u001B[0m     msg \u001B[38;5;241m=\u001B[39m \u001B[38;5;124m\"\u001B[39m\u001B[38;5;124mCan\u001B[39m\u001B[38;5;124m'\u001B[39m\u001B[38;5;124mt pickle \u001B[39m\u001B[38;5;132;01m%s\u001B[39;00m\u001B[38;5;124m: attribute lookup builtins.generator failed\u001B[39m\u001B[38;5;124m\"\u001B[39m \u001B[38;5;241m%\u001B[39m GeneratorType\n\u001B[0;32m    413\u001B[0m     \u001B[38;5;28;01mraise\u001B[39;00m PicklingError(msg)\n\u001B[1;32m--> 414\u001B[0m \u001B[43mStockPickler\u001B[49m\u001B[38;5;241;43m.\u001B[39;49m\u001B[43msave\u001B[49m\u001B[43m(\u001B[49m\u001B[38;5;28;43mself\u001B[39;49m\u001B[43m,\u001B[49m\u001B[43m \u001B[49m\u001B[43mobj\u001B[49m\u001B[43m,\u001B[49m\u001B[43m \u001B[49m\u001B[43msave_persistent_id\u001B[49m\u001B[43m)\u001B[49m\n",
      "File \u001B[1;32m~\\AppData\\Local\\Programs\\Python\\Python312\\Lib\\pickle.py:554\u001B[0m, in \u001B[0;36m_Pickler.save\u001B[1;34m(self, obj, save_persistent_id)\u001B[0m\n\u001B[0;32m    552\u001B[0m f \u001B[38;5;241m=\u001B[39m \u001B[38;5;28mself\u001B[39m\u001B[38;5;241m.\u001B[39mdispatch\u001B[38;5;241m.\u001B[39mget(t)\n\u001B[0;32m    553\u001B[0m \u001B[38;5;28;01mif\u001B[39;00m f \u001B[38;5;129;01mis\u001B[39;00m \u001B[38;5;129;01mnot\u001B[39;00m \u001B[38;5;28;01mNone\u001B[39;00m:\n\u001B[1;32m--> 554\u001B[0m     \u001B[43mf\u001B[49m\u001B[43m(\u001B[49m\u001B[38;5;28;43mself\u001B[39;49m\u001B[43m,\u001B[49m\u001B[43m \u001B[49m\u001B[43mobj\u001B[49m\u001B[43m)\u001B[49m  \u001B[38;5;66;03m# Call unbound method with explicit self\u001B[39;00m\n\u001B[0;32m    555\u001B[0m     \u001B[38;5;28;01mreturn\u001B[39;00m\n\u001B[0;32m    557\u001B[0m \u001B[38;5;66;03m# Check private dispatch table if any, or else\u001B[39;00m\n\u001B[0;32m    558\u001B[0m \u001B[38;5;66;03m# copyreg.dispatch_table\u001B[39;00m\n",
      "File \u001B[1;32m~\\AppData\\Local\\Programs\\Python\\Python312\\Lib\\site-packages\\dill\\_dill.py:1217\u001B[0m, in \u001B[0;36msave_module_dict\u001B[1;34m(pickler, obj)\u001B[0m\n\u001B[0;32m   1214\u001B[0m     \u001B[38;5;28;01mif\u001B[39;00m is_dill(pickler, child\u001B[38;5;241m=\u001B[39m\u001B[38;5;28;01mFalse\u001B[39;00m) \u001B[38;5;129;01mand\u001B[39;00m pickler\u001B[38;5;241m.\u001B[39m_session:\n\u001B[0;32m   1215\u001B[0m         \u001B[38;5;66;03m# we only care about session the first pass thru\u001B[39;00m\n\u001B[0;32m   1216\u001B[0m         pickler\u001B[38;5;241m.\u001B[39m_first_pass \u001B[38;5;241m=\u001B[39m \u001B[38;5;28;01mFalse\u001B[39;00m\n\u001B[1;32m-> 1217\u001B[0m     \u001B[43mStockPickler\u001B[49m\u001B[38;5;241;43m.\u001B[39;49m\u001B[43msave_dict\u001B[49m\u001B[43m(\u001B[49m\u001B[43mpickler\u001B[49m\u001B[43m,\u001B[49m\u001B[43m \u001B[49m\u001B[43mobj\u001B[49m\u001B[43m)\u001B[49m\n\u001B[0;32m   1218\u001B[0m     logger\u001B[38;5;241m.\u001B[39mtrace(pickler, \u001B[38;5;124m\"\u001B[39m\u001B[38;5;124m# D2\u001B[39m\u001B[38;5;124m\"\u001B[39m)\n\u001B[0;32m   1219\u001B[0m \u001B[38;5;28;01mreturn\u001B[39;00m\n",
      "File \u001B[1;32m~\\AppData\\Local\\Programs\\Python\\Python312\\Lib\\pickle.py:966\u001B[0m, in \u001B[0;36m_Pickler.save_dict\u001B[1;34m(self, obj)\u001B[0m\n\u001B[0;32m    963\u001B[0m     \u001B[38;5;28mself\u001B[39m\u001B[38;5;241m.\u001B[39mwrite(MARK \u001B[38;5;241m+\u001B[39m DICT)\n\u001B[0;32m    965\u001B[0m \u001B[38;5;28mself\u001B[39m\u001B[38;5;241m.\u001B[39mmemoize(obj)\n\u001B[1;32m--> 966\u001B[0m \u001B[38;5;28;43mself\u001B[39;49m\u001B[38;5;241;43m.\u001B[39;49m\u001B[43m_batch_setitems\u001B[49m\u001B[43m(\u001B[49m\u001B[43mobj\u001B[49m\u001B[38;5;241;43m.\u001B[39;49m\u001B[43mitems\u001B[49m\u001B[43m(\u001B[49m\u001B[43m)\u001B[49m\u001B[43m)\u001B[49m\n",
      "File \u001B[1;32m~\\AppData\\Local\\Programs\\Python\\Python312\\Lib\\pickle.py:990\u001B[0m, in \u001B[0;36m_Pickler._batch_setitems\u001B[1;34m(self, items)\u001B[0m\n\u001B[0;32m    988\u001B[0m     \u001B[38;5;28;01mfor\u001B[39;00m k, v \u001B[38;5;129;01min\u001B[39;00m tmp:\n\u001B[0;32m    989\u001B[0m         save(k)\n\u001B[1;32m--> 990\u001B[0m         \u001B[43msave\u001B[49m\u001B[43m(\u001B[49m\u001B[43mv\u001B[49m\u001B[43m)\u001B[49m\n\u001B[0;32m    991\u001B[0m     write(SETITEMS)\n\u001B[0;32m    992\u001B[0m \u001B[38;5;28;01melif\u001B[39;00m n:\n",
      "File \u001B[1;32m~\\AppData\\Local\\Programs\\Python\\Python312\\Lib\\site-packages\\dill\\_dill.py:414\u001B[0m, in \u001B[0;36mPickler.save\u001B[1;34m(self, obj, save_persistent_id)\u001B[0m\n\u001B[0;32m    412\u001B[0m     msg \u001B[38;5;241m=\u001B[39m \u001B[38;5;124m\"\u001B[39m\u001B[38;5;124mCan\u001B[39m\u001B[38;5;124m'\u001B[39m\u001B[38;5;124mt pickle \u001B[39m\u001B[38;5;132;01m%s\u001B[39;00m\u001B[38;5;124m: attribute lookup builtins.generator failed\u001B[39m\u001B[38;5;124m\"\u001B[39m \u001B[38;5;241m%\u001B[39m GeneratorType\n\u001B[0;32m    413\u001B[0m     \u001B[38;5;28;01mraise\u001B[39;00m PicklingError(msg)\n\u001B[1;32m--> 414\u001B[0m \u001B[43mStockPickler\u001B[49m\u001B[38;5;241;43m.\u001B[39;49m\u001B[43msave\u001B[49m\u001B[43m(\u001B[49m\u001B[38;5;28;43mself\u001B[39;49m\u001B[43m,\u001B[49m\u001B[43m \u001B[49m\u001B[43mobj\u001B[49m\u001B[43m,\u001B[49m\u001B[43m \u001B[49m\u001B[43msave_persistent_id\u001B[49m\u001B[43m)\u001B[49m\n",
      "File \u001B[1;32m~\\AppData\\Local\\Programs\\Python\\Python312\\Lib\\pickle.py:572\u001B[0m, in \u001B[0;36m_Pickler.save\u001B[1;34m(self, obj, save_persistent_id)\u001B[0m\n\u001B[0;32m    570\u001B[0m reduce \u001B[38;5;241m=\u001B[39m \u001B[38;5;28mgetattr\u001B[39m(obj, \u001B[38;5;124m\"\u001B[39m\u001B[38;5;124m__reduce_ex__\u001B[39m\u001B[38;5;124m\"\u001B[39m, \u001B[38;5;28;01mNone\u001B[39;00m)\n\u001B[0;32m    571\u001B[0m \u001B[38;5;28;01mif\u001B[39;00m reduce \u001B[38;5;129;01mis\u001B[39;00m \u001B[38;5;129;01mnot\u001B[39;00m \u001B[38;5;28;01mNone\u001B[39;00m:\n\u001B[1;32m--> 572\u001B[0m     rv \u001B[38;5;241m=\u001B[39m \u001B[43mreduce\u001B[49m\u001B[43m(\u001B[49m\u001B[38;5;28;43mself\u001B[39;49m\u001B[38;5;241;43m.\u001B[39;49m\u001B[43mproto\u001B[49m\u001B[43m)\u001B[49m\n\u001B[0;32m    573\u001B[0m \u001B[38;5;28;01melse\u001B[39;00m:\n\u001B[0;32m    574\u001B[0m     reduce \u001B[38;5;241m=\u001B[39m \u001B[38;5;28mgetattr\u001B[39m(obj, \u001B[38;5;124m\"\u001B[39m\u001B[38;5;124m__reduce__\u001B[39m\u001B[38;5;124m\"\u001B[39m, \u001B[38;5;28;01mNone\u001B[39;00m)\n",
      "\u001B[1;31mTypeError\u001B[0m: cannot pickle 'FuncGraph' object"
     ]
    }
   ],
   "source": [
    "import dill as pickle\n",
    "\n",
    "with open(\"best_model.pkl\", \"wb\") as f:\n",
    "    pickle.dump(model, f)"
   ]
  },
  {
   "cell_type": "markdown",
   "id": "c32b938d",
   "metadata": {},
   "source": [
    "### Visualize accuracy and loss\n",
    "\n",
    "Visualizing accuracy and loss during training provides insights into the model's performance and training dynamics:\n",
    "\n",
    "- **Accuracy**: Plots of training and validation accuracy over epochs show how well the model is learning. Higher values indicate better performance. Discrepancies between training and validation curves may signal overfitting or underfitting.\n",
    "\n",
    "- **Loss**: Plots of training and validation loss over epochs illustrate how well the model is minimizing errors. Lower values indicate better performance. Discrepancies between training and validation curves can indicate issues like overfitting or poor generalization.\n",
    "\n",
    "By monitoring these metrics, we can diagnose model behavior, optimize hyperparameters, and determine whether further training or adjustments are necessary for better performance."
   ]
  },
  {
   "cell_type": "code",
   "execution_count": 38,
   "id": "e2d08d7a",
   "metadata": {
    "ExecuteTime": {
     "end_time": "2024-04-04T15:36:50.837619Z",
     "start_time": "2024-04-04T15:36:50.679480Z"
    }
   },
   "outputs": [
    {
     "data": {
      "text/plain": "<matplotlib.legend.Legend at 0x1f0a7b55670>"
     },
     "execution_count": 38,
     "metadata": {},
     "output_type": "execute_result"
    },
    {
     "data": {
      "text/plain": "<Figure size 640x480 with 1 Axes>",
      "image/png": "[encoded data removed]"
     },
     "metadata": {},
     "output_type": "display_data"
    }
   ],
   "source": [
    "plt.plot(history.history[\"accuracy\"])\n",
    "plt.plot(history.history[\"val_accuracy\"])\n",
    "plt.xlabel(\"Epochs\")\n",
    "plt.ylabel(\"Accuracy\")\n",
    "plt.legend([\"Accuracy\", \"Validation Accuracy\"], loc=\"lower right\")"
   ]
  },
  {
   "cell_type": "code",
   "outputs": [
    {
     "data": {
      "text/plain": "<matplotlib.legend.Legend at 0x1f0a860ef00>"
     },
     "execution_count": 39,
     "metadata": {},
     "output_type": "execute_result"
    },
    {
     "data": {
      "text/plain": "<Figure size 640x480 with 1 Axes>",
      "image/png": "[encoded data removed]"
     },
     "metadata": {},
     "output_type": "display_data"
    }
   ],
   "source": [
    "plt.plot(history.history[\"loss\"])\n",
    "plt.plot(history.history[\"val_loss\"])\n",
    "plt.xlabel(\"Epochs\")\n",
    "plt.ylabel(\"Accuracy\")\n",
    "plt.legend([\"Loss\", \"Validation Loss\"], loc=\"lower right\")"
   ],
   "metadata": {
    "collapsed": false,
    "ExecuteTime": {
     "end_time": "2024-04-04T15:36:52.128599Z",
     "start_time": "2024-04-04T15:36:51.967893Z"
    }
   },
   "id": "dfcbc17625c5cb54",
   "execution_count": 39
  },
  {
   "cell_type": "markdown",
   "id": "daf3004a",
   "metadata": {},
   "source": [
    "## Test accuracy\n",
    "\n",
    "\n",
    "Measuring the accuracy of test data assesses how well the trained model generalizes to new, unseen data. It provides an objective evaluation of the model's performance on real-world scenarios, indicating its ability to make accurate predictions beyond the training set. "
   ]
  },
  {
   "cell_type": "code",
   "execution_count": 40,
   "id": "ccb83af3",
   "metadata": {
    "ExecuteTime": {
     "end_time": "2024-04-04T15:36:55.690226Z",
     "start_time": "2024-04-04T15:36:55.149634Z"
    }
   },
   "outputs": [
    {
     "name": "stdout",
     "output_type": "stream",
     "text": [
      "\u001B[1m313/313\u001B[0m \u001B[32m━━━━━━━━━━━━━━━━━━━━\u001B[0m\u001B[37m\u001B[0m \u001B[1m0s\u001B[0m 1ms/step - accuracy: 0.8850 - loss: 0.5343\n"
     ]
    }
   ],
   "source": [
    "test_accuracy = model.evaluate(x_test, y_test)"
   ]
  },
  {
   "cell_type": "markdown",
   "id": "928671ac",
   "metadata": {},
   "source": [
    "## Test with Loaded Model\n",
    "\n",
    "If we've loaded the model using pickle, we can directly use the loaded model to make predictions on the test data."
   ]
  },
  {
   "cell_type": "code",
   "execution_count": 33,
   "id": "3e824813",
   "metadata": {
    "ExecuteTime": {
     "end_time": "2024-04-04T15:33:09.726569Z",
     "start_time": "2024-04-04T15:33:09.723509Z"
    }
   },
   "outputs": [],
   "source": []
  },
  {
   "cell_type": "markdown",
   "id": "fdd4b0ce",
   "metadata": {},
   "source": [
    "### Visualize some test data\n",
    "\n",
    "We can visualize a selection of images from the test set alongside their true and predicted labels, offering a qualitative assessment of the model's performance. By comparing the true labels (ground truth) with the predicted labels generated by the model, we gain insights into its accuracy and potential areas of improvement. "
   ]
  },
  {
   "cell_type": "code",
   "execution_count": 33,
   "id": "cfd82477",
   "metadata": {
    "ExecuteTime": {
     "end_time": "2024-04-04T15:33:11.330373Z",
     "start_time": "2024-04-04T15:33:11.327093Z"
    }
   },
   "outputs": [],
   "source": []
  },
  {
   "cell_type": "markdown",
   "id": "367868be",
   "metadata": {},
   "source": [
    "## How can I improve my model?\n",
    "\n",
    "#### Experiment with Model Architecture:\n",
    "\n",
    "- Try adding more layers or neurons to the existing architecture to increase model complexity.\n",
    "- Explore different activation functions, such as ReLU or tanh, to introduce non-linearity and capture more intricate patterns in the data.\n",
    "- Experiment with different types of layers, such as dropout or batch normalization, to improve generalization and prevent overfitting.\n",
    "\n",
    "##### Optimize Hyperparameters:\n",
    "- Adjust the learning rate of the optimizer to control the size of the steps taken during gradient descent.\n",
    "- Explore different optimization algorithms, such as Adam, SGD, or RMSprop, to find the one that works best for your dataset.\n",
    "- Tune batch size, number of epochs, and other training parameters to achieve better convergence and prevent underfitting or overfitting.\n"
   ]
  },
  {
   "cell_type": "markdown",
   "id": "ed2ded47",
   "metadata": {},
   "source": [
    "### Happy Coding"
   ]
  }
 ],
 "metadata": {
  "kernelspec": {
   "display_name": "Python 3 (ipykernel)",
   "language": "python",
   "name": "python3"
  },
  "language_info": {
   "codemirror_mode": {
    "name": "ipython",
    "version": 3
   },
   "file_extension": ".py",
   "mimetype": "text/x-python",
   "name": "python",
   "nbconvert_exporter": "python",
   "pygments_lexer": "ipython3",
   "version": "3.11.5"
  }
 },
 "nbformat": 4,
 "nbformat_minor": 5
}
