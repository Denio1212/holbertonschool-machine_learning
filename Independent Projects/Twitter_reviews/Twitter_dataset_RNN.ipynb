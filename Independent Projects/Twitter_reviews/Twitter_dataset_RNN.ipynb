{
 "cells": [
  {
   "metadata": {},
   "cell_type": "markdown",
   "source": [
    "# Twitter review classification.\n",
    "\n",
    "* The gist of this project will be the categorization of twitter reviews into positive and negative ones\n",
    "- We will use a **RNN** to acquire this.\n",
    "* The data is in a Excel(csv) file.\n",
    "- It has a record of 1.6 million tweets, most with different users and context"
   ],
   "id": "93842c00f3de2203"
  },
  {
   "metadata": {
    "ExecuteTime": {
     "end_time": "2024-07-18T15:34:21.097534Z",
     "start_time": "2024-07-18T15:34:16.056346Z"
    }
   },
   "cell_type": "code",
   "source": [
    "import numpy as np\n",
    "import pandas as pd\n",
    "import matplotlib.pyplot as plt\n",
    "import tensorflow as tf\n",
    "import tensorflow.keras as keras"
   ],
   "id": "ecf599eda923b020",
   "outputs": [],
   "execution_count": 2
  },
  {
   "metadata": {
    "ExecuteTime": {
     "end_time": "2024-07-18T15:34:23.997088Z",
     "start_time": "2024-07-18T15:34:21.097534Z"
    }
   },
   "cell_type": "code",
   "source": [
    "# Acquiring the data and printing out the top layers\n",
    "\n",
    "data = pd.read_csv('data/twitterdataset.csv', encoding='latin')\n",
    "\n",
    "data.head()"
   ],
   "id": "114eb5f7cbe435e2",
   "outputs": [
    {
     "data": {
      "text/plain": [
       "   0  1467810369  Mon Apr 06 22:19:45 PDT 2009  NO_QUERY _TheSpecialOne_  \\\n",
       "0  0  1467810672  Mon Apr 06 22:19:49 PDT 2009  NO_QUERY   scotthamilton   \n",
       "1  0  1467810917  Mon Apr 06 22:19:53 PDT 2009  NO_QUERY        mattycus   \n",
       "2  0  1467811184  Mon Apr 06 22:19:57 PDT 2009  NO_QUERY         ElleCTF   \n",
       "3  0  1467811193  Mon Apr 06 22:19:57 PDT 2009  NO_QUERY          Karoli   \n",
       "4  0  1467811372  Mon Apr 06 22:20:00 PDT 2009  NO_QUERY        joy_wolf   \n",
       "\n",
       "  @switchfoot http://twitpic.com/2y1zl - Awww, that's a bummer.  You shoulda got David Carr of Third Day to do it. ;D  \n",
       "0  is upset that he can't update his Facebook by ...                                                                   \n",
       "1  @Kenichan I dived many times for the ball. Man...                                                                   \n",
       "2    my whole body feels itchy and like its on fire                                                                    \n",
       "3  @nationwideclass no, it's not behaving at all....                                                                   \n",
       "4                      @Kwesidei not the whole crew                                                                    "
      ],
      "text/html": [
       "<div>\n",
       "<style scoped>\n",
       "    .dataframe tbody tr th:only-of-type {\n",
       "        vertical-align: middle;\n",
       "    }\n",
       "\n",
       "    .dataframe tbody tr th {\n",
       "        vertical-align: top;\n",
       "    }\n",
       "\n",
       "    .dataframe thead th {\n",
       "        text-align: right;\n",
       "    }\n",
       "</style>\n",
       "<table border=\"1\" class=\"dataframe\">\n",
       "  <thead>\n",
       "    <tr style=\"text-align: right;\">\n",
       "      <th></th>\n",
       "      <th>0</th>\n",
       "      <th>1467810369</th>\n",
       "      <th>Mon Apr 06 22:19:45 PDT 2009</th>\n",
       "      <th>NO_QUERY</th>\n",
       "      <th>_TheSpecialOne_</th>\n",
       "      <th>@switchfoot http://twitpic.com/2y1zl - Awww, that's a bummer.  You shoulda got David Carr of Third Day to do it. ;D</th>\n",
       "    </tr>\n",
       "  </thead>\n",
       "  <tbody>\n",
       "    <tr>\n",
       "      <th>0</th>\n",
       "      <td>0</td>\n",
       "      <td>1467810672</td>\n",
       "      <td>Mon Apr 06 22:19:49 PDT 2009</td>\n",
       "      <td>NO_QUERY</td>\n",
       "      <td>scotthamilton</td>\n",
       "      <td>is upset that he can't update his Facebook by ...</td>\n",
       "    </tr>\n",
       "    <tr>\n",
       "      <th>1</th>\n",
       "      <td>0</td>\n",
       "      <td>1467810917</td>\n",
       "      <td>Mon Apr 06 22:19:53 PDT 2009</td>\n",
       "      <td>NO_QUERY</td>\n",
       "      <td>mattycus</td>\n",
       "      <td>@Kenichan I dived many times for the ball. Man...</td>\n",
       "    </tr>\n",
       "    <tr>\n",
       "      <th>2</th>\n",
       "      <td>0</td>\n",
       "      <td>1467811184</td>\n",
       "      <td>Mon Apr 06 22:19:57 PDT 2009</td>\n",
       "      <td>NO_QUERY</td>\n",
       "      <td>ElleCTF</td>\n",
       "      <td>my whole body feels itchy and like its on fire</td>\n",
       "    </tr>\n",
       "    <tr>\n",
       "      <th>3</th>\n",
       "      <td>0</td>\n",
       "      <td>1467811193</td>\n",
       "      <td>Mon Apr 06 22:19:57 PDT 2009</td>\n",
       "      <td>NO_QUERY</td>\n",
       "      <td>Karoli</td>\n",
       "      <td>@nationwideclass no, it's not behaving at all....</td>\n",
       "    </tr>\n",
       "    <tr>\n",
       "      <th>4</th>\n",
       "      <td>0</td>\n",
       "      <td>1467811372</td>\n",
       "      <td>Mon Apr 06 22:20:00 PDT 2009</td>\n",
       "      <td>NO_QUERY</td>\n",
       "      <td>joy_wolf</td>\n",
       "      <td>@Kwesidei not the whole crew</td>\n",
       "    </tr>\n",
       "  </tbody>\n",
       "</table>\n",
       "</div>"
      ]
     },
     "execution_count": 3,
     "metadata": {},
     "output_type": "execute_result"
    }
   ],
   "execution_count": 3
  },
  {
   "metadata": {
    "ExecuteTime": {
     "end_time": "2024-07-18T15:34:24.004503Z",
     "start_time": "2024-07-18T15:34:23.997088Z"
    }
   },
   "cell_type": "code",
   "source": [
    "# Adding column names for ease of access, the first user is already a bot/ad so we don't need to worry about losing them\n",
    "\n",
    "data.columns = [\"Rating\", \"Id\", \"Timestamp\", \"Query\", \"Username\", \"Tweets\"] # Query is definitely being removed so ignore that\n",
    "data.head()"
   ],
   "id": "5626f754d4d02421",
   "outputs": [
    {
     "data": {
      "text/plain": [
       "   Rating          Id                     Timestamp     Query       Username  \\\n",
       "0       0  1467810672  Mon Apr 06 22:19:49 PDT 2009  NO_QUERY  scotthamilton   \n",
       "1       0  1467810917  Mon Apr 06 22:19:53 PDT 2009  NO_QUERY       mattycus   \n",
       "2       0  1467811184  Mon Apr 06 22:19:57 PDT 2009  NO_QUERY        ElleCTF   \n",
       "3       0  1467811193  Mon Apr 06 22:19:57 PDT 2009  NO_QUERY         Karoli   \n",
       "4       0  1467811372  Mon Apr 06 22:20:00 PDT 2009  NO_QUERY       joy_wolf   \n",
       "\n",
       "                                              Tweets  \n",
       "0  is upset that he can't update his Facebook by ...  \n",
       "1  @Kenichan I dived many times for the ball. Man...  \n",
       "2    my whole body feels itchy and like its on fire   \n",
       "3  @nationwideclass no, it's not behaving at all....  \n",
       "4                      @Kwesidei not the whole crew   "
      ],
      "text/html": [
       "<div>\n",
       "<style scoped>\n",
       "    .dataframe tbody tr th:only-of-type {\n",
       "        vertical-align: middle;\n",
       "    }\n",
       "\n",
       "    .dataframe tbody tr th {\n",
       "        vertical-align: top;\n",
       "    }\n",
       "\n",
       "    .dataframe thead th {\n",
       "        text-align: right;\n",
       "    }\n",
       "</style>\n",
       "<table border=\"1\" class=\"dataframe\">\n",
       "  <thead>\n",
       "    <tr style=\"text-align: right;\">\n",
       "      <th></th>\n",
       "      <th>Rating</th>\n",
       "      <th>Id</th>\n",
       "      <th>Timestamp</th>\n",
       "      <th>Query</th>\n",
       "      <th>Username</th>\n",
       "      <th>Tweets</th>\n",
       "    </tr>\n",
       "  </thead>\n",
       "  <tbody>\n",
       "    <tr>\n",
       "      <th>0</th>\n",
       "      <td>0</td>\n",
       "      <td>1467810672</td>\n",
       "      <td>Mon Apr 06 22:19:49 PDT 2009</td>\n",
       "      <td>NO_QUERY</td>\n",
       "      <td>scotthamilton</td>\n",
       "      <td>is upset that he can't update his Facebook by ...</td>\n",
       "    </tr>\n",
       "    <tr>\n",
       "      <th>1</th>\n",
       "      <td>0</td>\n",
       "      <td>1467810917</td>\n",
       "      <td>Mon Apr 06 22:19:53 PDT 2009</td>\n",
       "      <td>NO_QUERY</td>\n",
       "      <td>mattycus</td>\n",
       "      <td>@Kenichan I dived many times for the ball. Man...</td>\n",
       "    </tr>\n",
       "    <tr>\n",
       "      <th>2</th>\n",
       "      <td>0</td>\n",
       "      <td>1467811184</td>\n",
       "      <td>Mon Apr 06 22:19:57 PDT 2009</td>\n",
       "      <td>NO_QUERY</td>\n",
       "      <td>ElleCTF</td>\n",
       "      <td>my whole body feels itchy and like its on fire</td>\n",
       "    </tr>\n",
       "    <tr>\n",
       "      <th>3</th>\n",
       "      <td>0</td>\n",
       "      <td>1467811193</td>\n",
       "      <td>Mon Apr 06 22:19:57 PDT 2009</td>\n",
       "      <td>NO_QUERY</td>\n",
       "      <td>Karoli</td>\n",
       "      <td>@nationwideclass no, it's not behaving at all....</td>\n",
       "    </tr>\n",
       "    <tr>\n",
       "      <th>4</th>\n",
       "      <td>0</td>\n",
       "      <td>1467811372</td>\n",
       "      <td>Mon Apr 06 22:20:00 PDT 2009</td>\n",
       "      <td>NO_QUERY</td>\n",
       "      <td>joy_wolf</td>\n",
       "      <td>@Kwesidei not the whole crew</td>\n",
       "    </tr>\n",
       "  </tbody>\n",
       "</table>\n",
       "</div>"
      ]
     },
     "execution_count": 4,
     "metadata": {},
     "output_type": "execute_result"
    }
   ],
   "execution_count": 4
  },
  {
   "metadata": {},
   "cell_type": "markdown",
   "source": [
    "After applying the names we need to remove any unnecessary columns like:\n",
    "* Id\n",
    "- Query\n",
    "* username\n",
    "All we want here is the Rating and the tweets"
   ],
   "id": "d2db966e27ca3cec"
  },
  {
   "metadata": {
    "ExecuteTime": {
     "end_time": "2024-07-18T15:34:24.038935Z",
     "start_time": "2024-07-18T15:34:24.004503Z"
    }
   },
   "cell_type": "code",
   "source": [
    "clean_data = data[[\"Rating\", \"Username\", \"Tweets\"]] # making a new table only with the columns we need\n",
    "\n",
    "clean_data.head()"
   ],
   "id": "fb9b1914b7a71c69",
   "outputs": [
    {
     "data": {
      "text/plain": [
       "   Rating       Username                                             Tweets\n",
       "0       0  scotthamilton  is upset that he can't update his Facebook by ...\n",
       "1       0       mattycus  @Kenichan I dived many times for the ball. Man...\n",
       "2       0        ElleCTF    my whole body feels itchy and like its on fire \n",
       "3       0         Karoli  @nationwideclass no, it's not behaving at all....\n",
       "4       0       joy_wolf                      @Kwesidei not the whole crew "
      ],
      "text/html": [
       "<div>\n",
       "<style scoped>\n",
       "    .dataframe tbody tr th:only-of-type {\n",
       "        vertical-align: middle;\n",
       "    }\n",
       "\n",
       "    .dataframe tbody tr th {\n",
       "        vertical-align: top;\n",
       "    }\n",
       "\n",
       "    .dataframe thead th {\n",
       "        text-align: right;\n",
       "    }\n",
       "</style>\n",
       "<table border=\"1\" class=\"dataframe\">\n",
       "  <thead>\n",
       "    <tr style=\"text-align: right;\">\n",
       "      <th></th>\n",
       "      <th>Rating</th>\n",
       "      <th>Username</th>\n",
       "      <th>Tweets</th>\n",
       "    </tr>\n",
       "  </thead>\n",
       "  <tbody>\n",
       "    <tr>\n",
       "      <th>0</th>\n",
       "      <td>0</td>\n",
       "      <td>scotthamilton</td>\n",
       "      <td>is upset that he can't update his Facebook by ...</td>\n",
       "    </tr>\n",
       "    <tr>\n",
       "      <th>1</th>\n",
       "      <td>0</td>\n",
       "      <td>mattycus</td>\n",
       "      <td>@Kenichan I dived many times for the ball. Man...</td>\n",
       "    </tr>\n",
       "    <tr>\n",
       "      <th>2</th>\n",
       "      <td>0</td>\n",
       "      <td>ElleCTF</td>\n",
       "      <td>my whole body feels itchy and like its on fire</td>\n",
       "    </tr>\n",
       "    <tr>\n",
       "      <th>3</th>\n",
       "      <td>0</td>\n",
       "      <td>Karoli</td>\n",
       "      <td>@nationwideclass no, it's not behaving at all....</td>\n",
       "    </tr>\n",
       "    <tr>\n",
       "      <th>4</th>\n",
       "      <td>0</td>\n",
       "      <td>joy_wolf</td>\n",
       "      <td>@Kwesidei not the whole crew</td>\n",
       "    </tr>\n",
       "  </tbody>\n",
       "</table>\n",
       "</div>"
      ]
     },
     "execution_count": 5,
     "metadata": {},
     "output_type": "execute_result"
    }
   ],
   "execution_count": 5
  },
  {
   "metadata": {},
   "cell_type": "markdown",
   "source": "We also need to check for any missing data in the database",
   "id": "c00574328cd2aa1d"
  },
  {
   "metadata": {
    "ExecuteTime": {
     "end_time": "2024-07-18T15:34:24.232552Z",
     "start_time": "2024-07-18T15:34:24.038935Z"
    }
   },
   "cell_type": "code",
   "source": "data.isna().sum()",
   "id": "eea3de1d2016e55f",
   "outputs": [
    {
     "data": {
      "text/plain": [
       "Rating       0\n",
       "Id           0\n",
       "Timestamp    0\n",
       "Query        0\n",
       "Username     0\n",
       "Tweets       0\n",
       "dtype: int64"
      ]
     },
     "execution_count": 6,
     "metadata": {},
     "output_type": "execute_result"
    }
   ],
   "execution_count": 6
  },
  {
   "metadata": {},
   "cell_type": "markdown",
   "source": [
    "#### Nothing, Nice!\n",
    "\n",
    "* Maybe next we can clean up a bit of the spam in the tweets\n",
    "\n",
    "- A lot of tweets are spam or bot comments, here just for boosting clicks (That's how twitters revenue program works)"
   ],
   "id": "6504439207b2117b"
  },
  {
   "metadata": {
    "ExecuteTime": {
     "end_time": "2024-07-18T15:34:24.830468Z",
     "start_time": "2024-07-18T15:34:24.232552Z"
    }
   },
   "cell_type": "code",
   "source": "data[\"Username\"].value_counts().head()",
   "id": "3ffad823b89394c6",
   "outputs": [
    {
     "data": {
      "text/plain": [
       "Username\n",
       "lost_dog           549\n",
       "webwoke            345\n",
       "tweetpet           310\n",
       "SallytheShizzle    281\n",
       "VioletsCRUK        279\n",
       "Name: count, dtype: int64"
      ]
     },
     "execution_count": 7,
     "metadata": {},
     "output_type": "execute_result"
    }
   ],
   "execution_count": 7
  },
  {
   "metadata": {
    "ExecuteTime": {
     "end_time": "2024-07-18T15:34:24.912369Z",
     "start_time": "2024-07-18T15:34:24.830468Z"
    }
   },
   "cell_type": "code",
   "source": [
    "lost_dog_tweets = clean_data[data[\"Username\"] == \"lost_dog\"] # searching database for username lost dog\n",
    "\n",
    "display(lost_dog_tweets.head())\n",
    "\n",
    "# As seen below this is most definitely a bot, so we chop"
   ],
   "id": "81af39a76f8c8a97",
   "outputs": [
    {
     "data": {
      "text/plain": [
       "       Rating  Username                                             Tweets\n",
       "43934       0  lost_dog  @NyleW I am lost. Please help me find a good h...\n",
       "45573       0  lost_dog  @SallyD I am lost. Please help me find a good ...\n",
       "46918       0  lost_dog  @zuppaholic I am lost. Please help me find a g...\n",
       "47948       0  lost_dog  @LOSTPETUSA I am lost. Please help me find a g...\n",
       "50571       0  lost_dog  @JeanLevertHood I am lost. Please help me find..."
      ],
      "text/html": [
       "<div>\n",
       "<style scoped>\n",
       "    .dataframe tbody tr th:only-of-type {\n",
       "        vertical-align: middle;\n",
       "    }\n",
       "\n",
       "    .dataframe tbody tr th {\n",
       "        vertical-align: top;\n",
       "    }\n",
       "\n",
       "    .dataframe thead th {\n",
       "        text-align: right;\n",
       "    }\n",
       "</style>\n",
       "<table border=\"1\" class=\"dataframe\">\n",
       "  <thead>\n",
       "    <tr style=\"text-align: right;\">\n",
       "      <th></th>\n",
       "      <th>Rating</th>\n",
       "      <th>Username</th>\n",
       "      <th>Tweets</th>\n",
       "    </tr>\n",
       "  </thead>\n",
       "  <tbody>\n",
       "    <tr>\n",
       "      <th>43934</th>\n",
       "      <td>0</td>\n",
       "      <td>lost_dog</td>\n",
       "      <td>@NyleW I am lost. Please help me find a good h...</td>\n",
       "    </tr>\n",
       "    <tr>\n",
       "      <th>45573</th>\n",
       "      <td>0</td>\n",
       "      <td>lost_dog</td>\n",
       "      <td>@SallyD I am lost. Please help me find a good ...</td>\n",
       "    </tr>\n",
       "    <tr>\n",
       "      <th>46918</th>\n",
       "      <td>0</td>\n",
       "      <td>lost_dog</td>\n",
       "      <td>@zuppaholic I am lost. Please help me find a g...</td>\n",
       "    </tr>\n",
       "    <tr>\n",
       "      <th>47948</th>\n",
       "      <td>0</td>\n",
       "      <td>lost_dog</td>\n",
       "      <td>@LOSTPETUSA I am lost. Please help me find a g...</td>\n",
       "    </tr>\n",
       "    <tr>\n",
       "      <th>50571</th>\n",
       "      <td>0</td>\n",
       "      <td>lost_dog</td>\n",
       "      <td>@JeanLevertHood I am lost. Please help me find...</td>\n",
       "    </tr>\n",
       "  </tbody>\n",
       "</table>\n",
       "</div>"
      ]
     },
     "metadata": {},
     "output_type": "display_data"
    }
   ],
   "execution_count": 8
  },
  {
   "metadata": {
    "ExecuteTime": {
     "end_time": "2024-07-18T15:34:25.085982Z",
     "start_time": "2024-07-18T15:34:24.912369Z"
    }
   },
   "cell_type": "code",
   "source": "data.drop(data[data[\"Username\"] == \"lost_dog\"].index, inplace=True)",
   "id": "1b58365a9e5ea33a",
   "outputs": [],
   "execution_count": 9
  },
  {
   "metadata": {
    "ExecuteTime": {
     "end_time": "2024-07-18T15:34:25.162905Z",
     "start_time": "2024-07-18T15:34:25.085982Z"
    }
   },
   "cell_type": "code",
   "source": "data[data[\"Username\"] == \"lost_dog\"] # there we go, none",
   "id": "a93c84b856197c4f",
   "outputs": [
    {
     "data": {
      "text/plain": [
       "Empty DataFrame\n",
       "Columns: [Rating, Id, Timestamp, Query, Username, Tweets]\n",
       "Index: []"
      ],
      "text/html": [
       "<div>\n",
       "<style scoped>\n",
       "    .dataframe tbody tr th:only-of-type {\n",
       "        vertical-align: middle;\n",
       "    }\n",
       "\n",
       "    .dataframe tbody tr th {\n",
       "        vertical-align: top;\n",
       "    }\n",
       "\n",
       "    .dataframe thead th {\n",
       "        text-align: right;\n",
       "    }\n",
       "</style>\n",
       "<table border=\"1\" class=\"dataframe\">\n",
       "  <thead>\n",
       "    <tr style=\"text-align: right;\">\n",
       "      <th></th>\n",
       "      <th>Rating</th>\n",
       "      <th>Id</th>\n",
       "      <th>Timestamp</th>\n",
       "      <th>Query</th>\n",
       "      <th>Username</th>\n",
       "      <th>Tweets</th>\n",
       "    </tr>\n",
       "  </thead>\n",
       "  <tbody>\n",
       "  </tbody>\n",
       "</table>\n",
       "</div>"
      ]
     },
     "execution_count": 10,
     "metadata": {},
     "output_type": "execute_result"
    }
   ],
   "execution_count": 10
  },
  {
   "metadata": {
    "ExecuteTime": {
     "end_time": "2024-07-18T15:34:25.315822Z",
     "start_time": "2024-07-18T15:34:25.162905Z"
    }
   },
   "cell_type": "code",
   "source": "clean_data.drop(clean_data[clean_data[\"Username\"] == \"lost_dog\"].index, inplace=True)",
   "id": "5badd2f743240dad",
   "outputs": [
    {
     "name": "stderr",
     "output_type": "stream",
     "text": [
      "C:\\Users\\User\\AppData\\Local\\Temp\\ipykernel_13144\\2685571950.py:1: SettingWithCopyWarning: \n",
      "A value is trying to be set on a copy of a slice from a DataFrame\n",
      "\n",
      "See the caveats in the documentation: https://pandas.pydata.org/pandas-docs/stable/user_guide/indexing.html#returning-a-view-versus-a-copy\n",
      "  clean_data.drop(clean_data[clean_data[\"Username\"] == \"lost_dog\"].index, inplace=True)\n"
     ]
    }
   ],
   "execution_count": 11
  },
  {
   "metadata": {
    "ExecuteTime": {
     "end_time": "2024-07-18T15:34:25.399491Z",
     "start_time": "2024-07-18T15:34:25.315822Z"
    }
   },
   "cell_type": "code",
   "source": "clean_data[clean_data[\"Username\"] == \"lost_dog\"]",
   "id": "5796e475e9fc244f",
   "outputs": [
    {
     "data": {
      "text/plain": [
       "Empty DataFrame\n",
       "Columns: [Rating, Username, Tweets]\n",
       "Index: []"
      ],
      "text/html": [
       "<div>\n",
       "<style scoped>\n",
       "    .dataframe tbody tr th:only-of-type {\n",
       "        vertical-align: middle;\n",
       "    }\n",
       "\n",
       "    .dataframe tbody tr th {\n",
       "        vertical-align: top;\n",
       "    }\n",
       "\n",
       "    .dataframe thead th {\n",
       "        text-align: right;\n",
       "    }\n",
       "</style>\n",
       "<table border=\"1\" class=\"dataframe\">\n",
       "  <thead>\n",
       "    <tr style=\"text-align: right;\">\n",
       "      <th></th>\n",
       "      <th>Rating</th>\n",
       "      <th>Username</th>\n",
       "      <th>Tweets</th>\n",
       "    </tr>\n",
       "  </thead>\n",
       "  <tbody>\n",
       "  </tbody>\n",
       "</table>\n",
       "</div>"
      ]
     },
     "execution_count": 12,
     "metadata": {},
     "output_type": "execute_result"
    }
   ],
   "execution_count": 12
  },
  {
   "metadata": {},
   "cell_type": "markdown",
   "source": [
    "* Done!!\n",
    "- There are more like Lost dog so we continue with some more cleaning"
   ],
   "id": "f1276a84044133e8"
  },
  {
   "metadata": {
    "ExecuteTime": {
     "end_time": "2024-07-18T15:34:25.995922Z",
     "start_time": "2024-07-18T15:34:25.399491Z"
    }
   },
   "cell_type": "code",
   "source": [
    "# Next up lets check the rest as one\n",
    "\n",
    "data[\"Username\"].value_counts().head()"
   ],
   "id": "b763343ac8cf72b3",
   "outputs": [
    {
     "data": {
      "text/plain": [
       "Username\n",
       "webwoke            345\n",
       "tweetpet           310\n",
       "SallytheShizzle    281\n",
       "VioletsCRUK        279\n",
       "mcraddictal        276\n",
       "Name: count, dtype: int64"
      ]
     },
     "execution_count": 13,
     "metadata": {},
     "output_type": "execute_result"
    }
   ],
   "execution_count": 13
  },
  {
   "metadata": {
    "ExecuteTime": {
     "end_time": "2024-07-18T15:34:26.411798Z",
     "start_time": "2024-07-18T15:34:25.995922Z"
    }
   },
   "cell_type": "code",
   "source": [
    "webwoke_data = clean_data[data[\"Username\"] == \"webwoke\"]\n",
    "tweetpet_data = clean_data[data[\"Username\"] == \"tweetpet\"]\n",
    "Sally_data = clean_data[data[\"Username\"] == \"SallytheShizzle\"]\n",
    "Violet_data = clean_data[data[\"Username\"] == \"VioletsCRUK\"]\n",
    "mc_data = clean_data[data[\"Username\"] == \"mcraddictal\"]\n",
    "\n",
    "display(webwoke_data.head(), tweetpet_data.head(), Sally_data.head(10), Violet_data.head(10), mc_data.head(10)) # just wanted to see more from the less suspicious ones to make sure I didn't ax them for no reason"
   ],
   "id": "f6b55ccdaae3ae5a",
   "outputs": [
    {
     "data": {
      "text/plain": [
       "        Rating Username                              Tweets\n",
       "363302       0  webwoke  auchh, drop by 1  (32)elitestv.com\n",
       "366528       0  webwoke     auchh, drop by 1  (7)pedeee.com\n",
       "366529       0  webwoke  auchh, drop by 1  (17)rumahabi.com\n",
       "366596       0  webwoke   auchh, drop by 1  (18)twitter.com\n",
       "366598       0  webwoke     auchh, drop by 1  (19)yehia.org"
      ],
      "text/html": [
       "<div>\n",
       "<style scoped>\n",
       "    .dataframe tbody tr th:only-of-type {\n",
       "        vertical-align: middle;\n",
       "    }\n",
       "\n",
       "    .dataframe tbody tr th {\n",
       "        vertical-align: top;\n",
       "    }\n",
       "\n",
       "    .dataframe thead th {\n",
       "        text-align: right;\n",
       "    }\n",
       "</style>\n",
       "<table border=\"1\" class=\"dataframe\">\n",
       "  <thead>\n",
       "    <tr style=\"text-align: right;\">\n",
       "      <th></th>\n",
       "      <th>Rating</th>\n",
       "      <th>Username</th>\n",
       "      <th>Tweets</th>\n",
       "    </tr>\n",
       "  </thead>\n",
       "  <tbody>\n",
       "    <tr>\n",
       "      <th>363302</th>\n",
       "      <td>0</td>\n",
       "      <td>webwoke</td>\n",
       "      <td>auchh, drop by 1  (32)elitestv.com</td>\n",
       "    </tr>\n",
       "    <tr>\n",
       "      <th>366528</th>\n",
       "      <td>0</td>\n",
       "      <td>webwoke</td>\n",
       "      <td>auchh, drop by 1  (7)pedeee.com</td>\n",
       "    </tr>\n",
       "    <tr>\n",
       "      <th>366529</th>\n",
       "      <td>0</td>\n",
       "      <td>webwoke</td>\n",
       "      <td>auchh, drop by 1  (17)rumahabi.com</td>\n",
       "    </tr>\n",
       "    <tr>\n",
       "      <th>366596</th>\n",
       "      <td>0</td>\n",
       "      <td>webwoke</td>\n",
       "      <td>auchh, drop by 1  (18)twitter.com</td>\n",
       "    </tr>\n",
       "    <tr>\n",
       "      <th>366598</th>\n",
       "      <td>0</td>\n",
       "      <td>webwoke</td>\n",
       "      <td>auchh, drop by 1  (19)yehia.org</td>\n",
       "    </tr>\n",
       "  </tbody>\n",
       "</table>\n",
       "</div>"
      ]
     },
     "metadata": {},
     "output_type": "display_data"
    },
    {
     "data": {
      "text/plain": [
       "      Rating  Username                   Tweets\n",
       "9559       0  tweetpet   @tweetchild  Clean Me!\n",
       "9560       0  tweetpet   @tweetchild  Clean Me!\n",
       "9561       0  tweetpet  @chromachris  Clean Me!\n",
       "9563       0  tweetpet      @reatlas  Clean Me!\n",
       "9564       0  tweetpet  @chromachris  Clean Me!"
      ],
      "text/html": [
       "<div>\n",
       "<style scoped>\n",
       "    .dataframe tbody tr th:only-of-type {\n",
       "        vertical-align: middle;\n",
       "    }\n",
       "\n",
       "    .dataframe tbody tr th {\n",
       "        vertical-align: top;\n",
       "    }\n",
       "\n",
       "    .dataframe thead th {\n",
       "        text-align: right;\n",
       "    }\n",
       "</style>\n",
       "<table border=\"1\" class=\"dataframe\">\n",
       "  <thead>\n",
       "    <tr style=\"text-align: right;\">\n",
       "      <th></th>\n",
       "      <th>Rating</th>\n",
       "      <th>Username</th>\n",
       "      <th>Tweets</th>\n",
       "    </tr>\n",
       "  </thead>\n",
       "  <tbody>\n",
       "    <tr>\n",
       "      <th>9559</th>\n",
       "      <td>0</td>\n",
       "      <td>tweetpet</td>\n",
       "      <td>@tweetchild  Clean Me!</td>\n",
       "    </tr>\n",
       "    <tr>\n",
       "      <th>9560</th>\n",
       "      <td>0</td>\n",
       "      <td>tweetpet</td>\n",
       "      <td>@tweetchild  Clean Me!</td>\n",
       "    </tr>\n",
       "    <tr>\n",
       "      <th>9561</th>\n",
       "      <td>0</td>\n",
       "      <td>tweetpet</td>\n",
       "      <td>@chromachris  Clean Me!</td>\n",
       "    </tr>\n",
       "    <tr>\n",
       "      <th>9563</th>\n",
       "      <td>0</td>\n",
       "      <td>tweetpet</td>\n",
       "      <td>@reatlas  Clean Me!</td>\n",
       "    </tr>\n",
       "    <tr>\n",
       "      <th>9564</th>\n",
       "      <td>0</td>\n",
       "      <td>tweetpet</td>\n",
       "      <td>@chromachris  Clean Me!</td>\n",
       "    </tr>\n",
       "  </tbody>\n",
       "</table>\n",
       "</div>"
      ]
     },
     "metadata": {},
     "output_type": "display_data"
    },
    {
     "data": {
      "text/plain": [
       "        Rating         Username  \\\n",
       "140179       0  SallytheShizzle   \n",
       "141302       0  SallytheShizzle   \n",
       "141321       0  SallytheShizzle   \n",
       "141653       0  SallytheShizzle   \n",
       "141741       0  SallytheShizzle   \n",
       "141860       0  SallytheShizzle   \n",
       "141879       0  SallytheShizzle   \n",
       "142590       0  SallytheShizzle   \n",
       "143517       0  SallytheShizzle   \n",
       "143720       0  SallytheShizzle   \n",
       "\n",
       "                                                   Tweets  \n",
       "140179  @OfficialAS without ASA....i'm sorry if you di...  \n",
       "141302  @BrittGoosie yeah we know  don't look....... i...  \n",
       "141321           @OfficialAS @angelapanagacos i'm scared   \n",
       "141653  @angelapanagacos yeah true true. I've been app...  \n",
       "141741  @BrittGoosie aww -huggles- well some people ar...  \n",
       "141860  @BrittGoosie fair enough. It MAY be something ...  \n",
       "141879  @angelapanagacos shit what about adge?!! WE CA...  \n",
       "142590        @BrittGoosie OOOOH! XD that aint good then   \n",
       "143517  @BrittGoosie the fuck?! You kidding me?! They'...  \n",
       "143720  @BrittGoosie the fuck? that's just retardednes...  "
      ],
      "text/html": [
       "<div>\n",
       "<style scoped>\n",
       "    .dataframe tbody tr th:only-of-type {\n",
       "        vertical-align: middle;\n",
       "    }\n",
       "\n",
       "    .dataframe tbody tr th {\n",
       "        vertical-align: top;\n",
       "    }\n",
       "\n",
       "    .dataframe thead th {\n",
       "        text-align: right;\n",
       "    }\n",
       "</style>\n",
       "<table border=\"1\" class=\"dataframe\">\n",
       "  <thead>\n",
       "    <tr style=\"text-align: right;\">\n",
       "      <th></th>\n",
       "      <th>Rating</th>\n",
       "      <th>Username</th>\n",
       "      <th>Tweets</th>\n",
       "    </tr>\n",
       "  </thead>\n",
       "  <tbody>\n",
       "    <tr>\n",
       "      <th>140179</th>\n",
       "      <td>0</td>\n",
       "      <td>SallytheShizzle</td>\n",
       "      <td>@OfficialAS without ASA....i'm sorry if you di...</td>\n",
       "    </tr>\n",
       "    <tr>\n",
       "      <th>141302</th>\n",
       "      <td>0</td>\n",
       "      <td>SallytheShizzle</td>\n",
       "      <td>@BrittGoosie yeah we know  don't look....... i...</td>\n",
       "    </tr>\n",
       "    <tr>\n",
       "      <th>141321</th>\n",
       "      <td>0</td>\n",
       "      <td>SallytheShizzle</td>\n",
       "      <td>@OfficialAS @angelapanagacos i'm scared</td>\n",
       "    </tr>\n",
       "    <tr>\n",
       "      <th>141653</th>\n",
       "      <td>0</td>\n",
       "      <td>SallytheShizzle</td>\n",
       "      <td>@angelapanagacos yeah true true. I've been app...</td>\n",
       "    </tr>\n",
       "    <tr>\n",
       "      <th>141741</th>\n",
       "      <td>0</td>\n",
       "      <td>SallytheShizzle</td>\n",
       "      <td>@BrittGoosie aww -huggles- well some people ar...</td>\n",
       "    </tr>\n",
       "    <tr>\n",
       "      <th>141860</th>\n",
       "      <td>0</td>\n",
       "      <td>SallytheShizzle</td>\n",
       "      <td>@BrittGoosie fair enough. It MAY be something ...</td>\n",
       "    </tr>\n",
       "    <tr>\n",
       "      <th>141879</th>\n",
       "      <td>0</td>\n",
       "      <td>SallytheShizzle</td>\n",
       "      <td>@angelapanagacos shit what about adge?!! WE CA...</td>\n",
       "    </tr>\n",
       "    <tr>\n",
       "      <th>142590</th>\n",
       "      <td>0</td>\n",
       "      <td>SallytheShizzle</td>\n",
       "      <td>@BrittGoosie OOOOH! XD that aint good then</td>\n",
       "    </tr>\n",
       "    <tr>\n",
       "      <th>143517</th>\n",
       "      <td>0</td>\n",
       "      <td>SallytheShizzle</td>\n",
       "      <td>@BrittGoosie the fuck?! You kidding me?! They'...</td>\n",
       "    </tr>\n",
       "    <tr>\n",
       "      <th>143720</th>\n",
       "      <td>0</td>\n",
       "      <td>SallytheShizzle</td>\n",
       "      <td>@BrittGoosie the fuck? that's just retardednes...</td>\n",
       "    </tr>\n",
       "  </tbody>\n",
       "</table>\n",
       "</div>"
      ]
     },
     "metadata": {},
     "output_type": "display_data"
    },
    {
     "data": {
      "text/plain": [
       "        Rating     Username                                             Tweets\n",
       "2479         0  VioletsCRUK  @jason_2008 Hello! Im out of coffee this morni...\n",
       "53998        0  VioletsCRUK  I burnt the roof off my mouth with mashed pota...\n",
       "74686        0  VioletsCRUK  @jason_2008 I know!!! Such a crappy day for a ...\n",
       "130575       0  VioletsCRUK  Im goin 2 hane 2 have a marathon tweeting sess...\n",
       "131194       0  VioletsCRUK  @Karen230683 lol Im dreading it!!  Will have t...\n",
       "138775       0  VioletsCRUK  Bout to tune in to @colinkelly for the last ti...\n",
       "139180       0  VioletsCRUK  @dbdc That is good news..and its Friday..even ...\n",
       "142824       0  VioletsCRUK  @deanscotland Thanks Dean...oh even just seein...\n",
       "166620       0  VioletsCRUK  #ivealwayswantedtosay Sorry to his wife also f...\n",
       "193746       0  VioletsCRUK  @jason_2008 Oh fgs is it gone again..grrrr...i..."
      ],
      "text/html": [
       "<div>\n",
       "<style scoped>\n",
       "    .dataframe tbody tr th:only-of-type {\n",
       "        vertical-align: middle;\n",
       "    }\n",
       "\n",
       "    .dataframe tbody tr th {\n",
       "        vertical-align: top;\n",
       "    }\n",
       "\n",
       "    .dataframe thead th {\n",
       "        text-align: right;\n",
       "    }\n",
       "</style>\n",
       "<table border=\"1\" class=\"dataframe\">\n",
       "  <thead>\n",
       "    <tr style=\"text-align: right;\">\n",
       "      <th></th>\n",
       "      <th>Rating</th>\n",
       "      <th>Username</th>\n",
       "      <th>Tweets</th>\n",
       "    </tr>\n",
       "  </thead>\n",
       "  <tbody>\n",
       "    <tr>\n",
       "      <th>2479</th>\n",
       "      <td>0</td>\n",
       "      <td>VioletsCRUK</td>\n",
       "      <td>@jason_2008 Hello! Im out of coffee this morni...</td>\n",
       "    </tr>\n",
       "    <tr>\n",
       "      <th>53998</th>\n",
       "      <td>0</td>\n",
       "      <td>VioletsCRUK</td>\n",
       "      <td>I burnt the roof off my mouth with mashed pota...</td>\n",
       "    </tr>\n",
       "    <tr>\n",
       "      <th>74686</th>\n",
       "      <td>0</td>\n",
       "      <td>VioletsCRUK</td>\n",
       "      <td>@jason_2008 I know!!! Such a crappy day for a ...</td>\n",
       "    </tr>\n",
       "    <tr>\n",
       "      <th>130575</th>\n",
       "      <td>0</td>\n",
       "      <td>VioletsCRUK</td>\n",
       "      <td>Im goin 2 hane 2 have a marathon tweeting sess...</td>\n",
       "    </tr>\n",
       "    <tr>\n",
       "      <th>131194</th>\n",
       "      <td>0</td>\n",
       "      <td>VioletsCRUK</td>\n",
       "      <td>@Karen230683 lol Im dreading it!!  Will have t...</td>\n",
       "    </tr>\n",
       "    <tr>\n",
       "      <th>138775</th>\n",
       "      <td>0</td>\n",
       "      <td>VioletsCRUK</td>\n",
       "      <td>Bout to tune in to @colinkelly for the last ti...</td>\n",
       "    </tr>\n",
       "    <tr>\n",
       "      <th>139180</th>\n",
       "      <td>0</td>\n",
       "      <td>VioletsCRUK</td>\n",
       "      <td>@dbdc That is good news..and its Friday..even ...</td>\n",
       "    </tr>\n",
       "    <tr>\n",
       "      <th>142824</th>\n",
       "      <td>0</td>\n",
       "      <td>VioletsCRUK</td>\n",
       "      <td>@deanscotland Thanks Dean...oh even just seein...</td>\n",
       "    </tr>\n",
       "    <tr>\n",
       "      <th>166620</th>\n",
       "      <td>0</td>\n",
       "      <td>VioletsCRUK</td>\n",
       "      <td>#ivealwayswantedtosay Sorry to his wife also f...</td>\n",
       "    </tr>\n",
       "    <tr>\n",
       "      <th>193746</th>\n",
       "      <td>0</td>\n",
       "      <td>VioletsCRUK</td>\n",
       "      <td>@jason_2008 Oh fgs is it gone again..grrrr...i...</td>\n",
       "    </tr>\n",
       "  </tbody>\n",
       "</table>\n",
       "</div>"
      ]
     },
     "metadata": {},
     "output_type": "display_data"
    },
    {
     "data": {
      "text/plain": [
       "       Rating     Username                                             Tweets\n",
       "78962       0  mcraddictal  @mcr_chick i wanna sleep.lol. Urgh. I feel lik...\n",
       "80894       0  mcraddictal  @mcrfash1 oh no! I'm sorry! I have to go to wa...\n",
       "81389       0  mcraddictal  @MCRIsAPleasure yes, very  but i'll stay up a ...\n",
       "87541       0  mcraddictal              @AmberConfusion  it's just a phase...\n",
       "88434       0  mcraddictal  @MyCheMicALmuse i'm sorry hun.  are you still ...\n",
       "89190       0  mcraddictal  @myhaloromance  i'll go over there and kill so...\n",
       "89560       0  mcraddictal        @myhaloromance back to work again  bye love\n",
       "90582       0  mcraddictal            @DaniDesolation cause he's a fucktard! \n",
       "90703       0  mcraddictal  @Dezz_MCR i'm really sorry, but no.  i haven't...\n",
       "90991       0  mcraddictal              @TravisKing fuck! I was winning too. "
      ],
      "text/html": [
       "<div>\n",
       "<style scoped>\n",
       "    .dataframe tbody tr th:only-of-type {\n",
       "        vertical-align: middle;\n",
       "    }\n",
       "\n",
       "    .dataframe tbody tr th {\n",
       "        vertical-align: top;\n",
       "    }\n",
       "\n",
       "    .dataframe thead th {\n",
       "        text-align: right;\n",
       "    }\n",
       "</style>\n",
       "<table border=\"1\" class=\"dataframe\">\n",
       "  <thead>\n",
       "    <tr style=\"text-align: right;\">\n",
       "      <th></th>\n",
       "      <th>Rating</th>\n",
       "      <th>Username</th>\n",
       "      <th>Tweets</th>\n",
       "    </tr>\n",
       "  </thead>\n",
       "  <tbody>\n",
       "    <tr>\n",
       "      <th>78962</th>\n",
       "      <td>0</td>\n",
       "      <td>mcraddictal</td>\n",
       "      <td>@mcr_chick i wanna sleep.lol. Urgh. I feel lik...</td>\n",
       "    </tr>\n",
       "    <tr>\n",
       "      <th>80894</th>\n",
       "      <td>0</td>\n",
       "      <td>mcraddictal</td>\n",
       "      <td>@mcrfash1 oh no! I'm sorry! I have to go to wa...</td>\n",
       "    </tr>\n",
       "    <tr>\n",
       "      <th>81389</th>\n",
       "      <td>0</td>\n",
       "      <td>mcraddictal</td>\n",
       "      <td>@MCRIsAPleasure yes, very  but i'll stay up a ...</td>\n",
       "    </tr>\n",
       "    <tr>\n",
       "      <th>87541</th>\n",
       "      <td>0</td>\n",
       "      <td>mcraddictal</td>\n",
       "      <td>@AmberConfusion  it's just a phase...</td>\n",
       "    </tr>\n",
       "    <tr>\n",
       "      <th>88434</th>\n",
       "      <td>0</td>\n",
       "      <td>mcraddictal</td>\n",
       "      <td>@MyCheMicALmuse i'm sorry hun.  are you still ...</td>\n",
       "    </tr>\n",
       "    <tr>\n",
       "      <th>89190</th>\n",
       "      <td>0</td>\n",
       "      <td>mcraddictal</td>\n",
       "      <td>@myhaloromance  i'll go over there and kill so...</td>\n",
       "    </tr>\n",
       "    <tr>\n",
       "      <th>89560</th>\n",
       "      <td>0</td>\n",
       "      <td>mcraddictal</td>\n",
       "      <td>@myhaloromance back to work again  bye love</td>\n",
       "    </tr>\n",
       "    <tr>\n",
       "      <th>90582</th>\n",
       "      <td>0</td>\n",
       "      <td>mcraddictal</td>\n",
       "      <td>@DaniDesolation cause he's a fucktard!</td>\n",
       "    </tr>\n",
       "    <tr>\n",
       "      <th>90703</th>\n",
       "      <td>0</td>\n",
       "      <td>mcraddictal</td>\n",
       "      <td>@Dezz_MCR i'm really sorry, but no.  i haven't...</td>\n",
       "    </tr>\n",
       "    <tr>\n",
       "      <th>90991</th>\n",
       "      <td>0</td>\n",
       "      <td>mcraddictal</td>\n",
       "      <td>@TravisKing fuck! I was winning too.</td>\n",
       "    </tr>\n",
       "  </tbody>\n",
       "</table>\n",
       "</div>"
      ]
     },
     "metadata": {},
     "output_type": "display_data"
    }
   ],
   "execution_count": 14
  },
  {
   "metadata": {},
   "cell_type": "markdown",
   "source": [
    "### Seems like we found some more bots lads\n",
    "\n",
    "* 100% sure that ***webwoke*** and ***tweetpet*** are bot accounts, so off with their tweets\n",
    "\n",
    "The others don't cause any suspicion so they remain safe..."
   ],
   "id": "71af3a1bef844188"
  },
  {
   "metadata": {
    "ExecuteTime": {
     "end_time": "2024-07-18T15:34:26.820455Z",
     "start_time": "2024-07-18T15:34:26.411798Z"
    }
   },
   "cell_type": "code",
   "source": [
    "clean_data.drop(data[data[\"Username\"] == \"webwoke\"].index, inplace=True)\n",
    "clean_data.drop(data[data[\"Username\"] == \"tweetpet\"].index, inplace=True)\n",
    "# killed them both"
   ],
   "id": "c7b1bf6c6dab2b0d",
   "outputs": [
    {
     "name": "stderr",
     "output_type": "stream",
     "text": [
      "C:\\Users\\User\\AppData\\Local\\Temp\\ipykernel_13144\\1827932005.py:1: SettingWithCopyWarning: \n",
      "A value is trying to be set on a copy of a slice from a DataFrame\n",
      "\n",
      "See the caveats in the documentation: https://pandas.pydata.org/pandas-docs/stable/user_guide/indexing.html#returning-a-view-versus-a-copy\n",
      "  clean_data.drop(data[data[\"Username\"] == \"webwoke\"].index, inplace=True)\n",
      "C:\\Users\\User\\AppData\\Local\\Temp\\ipykernel_13144\\1827932005.py:2: SettingWithCopyWarning: \n",
      "A value is trying to be set on a copy of a slice from a DataFrame\n",
      "\n",
      "See the caveats in the documentation: https://pandas.pydata.org/pandas-docs/stable/user_guide/indexing.html#returning-a-view-versus-a-copy\n",
      "  clean_data.drop(data[data[\"Username\"] == \"tweetpet\"].index, inplace=True)\n"
     ]
    }
   ],
   "execution_count": 15
  },
  {
   "metadata": {
    "ExecuteTime": {
     "end_time": "2024-07-18T15:34:26.996472Z",
     "start_time": "2024-07-18T15:34:26.820455Z"
    }
   },
   "cell_type": "code",
   "source": "display(clean_data[clean_data[\"Username\"] == \"webwoke\"], clean_data[clean_data[\"Username\"] == \"tweetpet\"])",
   "id": "6d48c0fd771102c2",
   "outputs": [
    {
     "data": {
      "text/plain": [
       "Empty DataFrame\n",
       "Columns: [Rating, Username, Tweets]\n",
       "Index: []"
      ],
      "text/html": [
       "<div>\n",
       "<style scoped>\n",
       "    .dataframe tbody tr th:only-of-type {\n",
       "        vertical-align: middle;\n",
       "    }\n",
       "\n",
       "    .dataframe tbody tr th {\n",
       "        vertical-align: top;\n",
       "    }\n",
       "\n",
       "    .dataframe thead th {\n",
       "        text-align: right;\n",
       "    }\n",
       "</style>\n",
       "<table border=\"1\" class=\"dataframe\">\n",
       "  <thead>\n",
       "    <tr style=\"text-align: right;\">\n",
       "      <th></th>\n",
       "      <th>Rating</th>\n",
       "      <th>Username</th>\n",
       "      <th>Tweets</th>\n",
       "    </tr>\n",
       "  </thead>\n",
       "  <tbody>\n",
       "  </tbody>\n",
       "</table>\n",
       "</div>"
      ]
     },
     "metadata": {},
     "output_type": "display_data"
    },
    {
     "data": {
      "text/plain": [
       "Empty DataFrame\n",
       "Columns: [Rating, Username, Tweets]\n",
       "Index: []"
      ],
      "text/html": [
       "<div>\n",
       "<style scoped>\n",
       "    .dataframe tbody tr th:only-of-type {\n",
       "        vertical-align: middle;\n",
       "    }\n",
       "\n",
       "    .dataframe tbody tr th {\n",
       "        vertical-align: top;\n",
       "    }\n",
       "\n",
       "    .dataframe thead th {\n",
       "        text-align: right;\n",
       "    }\n",
       "</style>\n",
       "<table border=\"1\" class=\"dataframe\">\n",
       "  <thead>\n",
       "    <tr style=\"text-align: right;\">\n",
       "      <th></th>\n",
       "      <th>Rating</th>\n",
       "      <th>Username</th>\n",
       "      <th>Tweets</th>\n",
       "    </tr>\n",
       "  </thead>\n",
       "  <tbody>\n",
       "  </tbody>\n",
       "</table>\n",
       "</div>"
      ]
     },
     "metadata": {},
     "output_type": "display_data"
    }
   ],
   "execution_count": 16
  },
  {
   "metadata": {},
   "cell_type": "markdown",
   "source": [
    "# Rest in Peace to the fallen Comrades Webwoke and Tweetpet, no one will remember YE\n",
    "\n",
    "On another note let's take a look at the set"
   ],
   "id": "da5a5ddf92f5bdb0"
  },
  {
   "metadata": {
    "ExecuteTime": {
     "end_time": "2024-07-18T15:34:27.003355Z",
     "start_time": "2024-07-18T15:34:26.996472Z"
    }
   },
   "cell_type": "code",
   "source": "clean_data.head() # looks fairly normal",
   "id": "d1ebe7f4242f2676",
   "outputs": [
    {
     "data": {
      "text/plain": [
       "   Rating       Username                                             Tweets\n",
       "0       0  scotthamilton  is upset that he can't update his Facebook by ...\n",
       "1       0       mattycus  @Kenichan I dived many times for the ball. Man...\n",
       "2       0        ElleCTF    my whole body feels itchy and like its on fire \n",
       "3       0         Karoli  @nationwideclass no, it's not behaving at all....\n",
       "4       0       joy_wolf                      @Kwesidei not the whole crew "
      ],
      "text/html": [
       "<div>\n",
       "<style scoped>\n",
       "    .dataframe tbody tr th:only-of-type {\n",
       "        vertical-align: middle;\n",
       "    }\n",
       "\n",
       "    .dataframe tbody tr th {\n",
       "        vertical-align: top;\n",
       "    }\n",
       "\n",
       "    .dataframe thead th {\n",
       "        text-align: right;\n",
       "    }\n",
       "</style>\n",
       "<table border=\"1\" class=\"dataframe\">\n",
       "  <thead>\n",
       "    <tr style=\"text-align: right;\">\n",
       "      <th></th>\n",
       "      <th>Rating</th>\n",
       "      <th>Username</th>\n",
       "      <th>Tweets</th>\n",
       "    </tr>\n",
       "  </thead>\n",
       "  <tbody>\n",
       "    <tr>\n",
       "      <th>0</th>\n",
       "      <td>0</td>\n",
       "      <td>scotthamilton</td>\n",
       "      <td>is upset that he can't update his Facebook by ...</td>\n",
       "    </tr>\n",
       "    <tr>\n",
       "      <th>1</th>\n",
       "      <td>0</td>\n",
       "      <td>mattycus</td>\n",
       "      <td>@Kenichan I dived many times for the ball. Man...</td>\n",
       "    </tr>\n",
       "    <tr>\n",
       "      <th>2</th>\n",
       "      <td>0</td>\n",
       "      <td>ElleCTF</td>\n",
       "      <td>my whole body feels itchy and like its on fire</td>\n",
       "    </tr>\n",
       "    <tr>\n",
       "      <th>3</th>\n",
       "      <td>0</td>\n",
       "      <td>Karoli</td>\n",
       "      <td>@nationwideclass no, it's not behaving at all....</td>\n",
       "    </tr>\n",
       "    <tr>\n",
       "      <th>4</th>\n",
       "      <td>0</td>\n",
       "      <td>joy_wolf</td>\n",
       "      <td>@Kwesidei not the whole crew</td>\n",
       "    </tr>\n",
       "  </tbody>\n",
       "</table>\n",
       "</div>"
      ]
     },
     "execution_count": 17,
     "metadata": {},
     "output_type": "execute_result"
    }
   ],
   "execution_count": 17
  },
  {
   "metadata": {
    "ExecuteTime": {
     "end_time": "2024-07-18T15:34:27.028670Z",
     "start_time": "2024-07-18T15:34:27.003355Z"
    }
   },
   "cell_type": "code",
   "source": [
    "# Lets also remove the username as it is no longer useful to us\n",
    "\n",
    "clean_data.drop(columns=[\"Username\"], inplace=True, axis=1)"
   ],
   "id": "27b911502ff2762a",
   "outputs": [
    {
     "name": "stderr",
     "output_type": "stream",
     "text": [
      "C:\\Users\\User\\AppData\\Local\\Temp\\ipykernel_13144\\2243598803.py:3: SettingWithCopyWarning: \n",
      "A value is trying to be set on a copy of a slice from a DataFrame\n",
      "\n",
      "See the caveats in the documentation: https://pandas.pydata.org/pandas-docs/stable/user_guide/indexing.html#returning-a-view-versus-a-copy\n",
      "  clean_data.drop(columns=[\"Username\"], inplace=True, axis=1)\n"
     ]
    }
   ],
   "execution_count": 18
  },
  {
   "metadata": {},
   "cell_type": "markdown",
   "source": [
    "## The rating is using a system of two values, a 1 and a 4.  This is done by the dataset makers for their own reasons\n",
    "\n",
    "#### We want to have the numbers as close as possible to make it computationally easier.\n",
    "\n",
    "###### So we will change all instances of the number 4 in each cell to 1"
   ],
   "id": "da691b5b5af0c7a5"
  },
  {
   "metadata": {
    "ExecuteTime": {
     "end_time": "2024-07-18T15:34:27.048167Z",
     "start_time": "2024-07-18T15:34:27.028670Z"
    }
   },
   "cell_type": "code",
   "source": [
    "clean_data[\"Rating\"].replace(to_replace=4,  value=1, inplace=True)\n",
    "display(clean_data[\"Rating\"].unique(), clean_data.head(), clean_data.tail())"
   ],
   "id": "13a6cd6f2da0c950",
   "outputs": [
    {
     "name": "stderr",
     "output_type": "stream",
     "text": [
      "C:\\Users\\User\\AppData\\Local\\Temp\\ipykernel_13144\\840209743.py:1: FutureWarning: A value is trying to be set on a copy of a DataFrame or Series through chained assignment using an inplace method.\n",
      "The behavior will change in pandas 3.0. This inplace method will never work because the intermediate object on which we are setting values always behaves as a copy.\n",
      "\n",
      "For example, when doing 'df[col].method(value, inplace=True)', try using 'df.method({col: value}, inplace=True)' or df[col] = df[col].method(value) instead, to perform the operation inplace on the original object.\n",
      "\n",
      "\n",
      "  clean_data[\"Rating\"].replace(to_replace=4,  value=1, inplace=True)\n",
      "C:\\Users\\User\\AppData\\Local\\Temp\\ipykernel_13144\\840209743.py:1: SettingWithCopyWarning: \n",
      "A value is trying to be set on a copy of a slice from a DataFrame\n",
      "\n",
      "See the caveats in the documentation: https://pandas.pydata.org/pandas-docs/stable/user_guide/indexing.html#returning-a-view-versus-a-copy\n",
      "  clean_data[\"Rating\"].replace(to_replace=4,  value=1, inplace=True)\n"
     ]
    },
    {
     "data": {
      "text/plain": [
       "array([0, 1], dtype=int64)"
      ]
     },
     "metadata": {},
     "output_type": "display_data"
    },
    {
     "data": {
      "text/plain": [
       "   Rating                                             Tweets\n",
       "0       0  is upset that he can't update his Facebook by ...\n",
       "1       0  @Kenichan I dived many times for the ball. Man...\n",
       "2       0    my whole body feels itchy and like its on fire \n",
       "3       0  @nationwideclass no, it's not behaving at all....\n",
       "4       0                      @Kwesidei not the whole crew "
      ],
      "text/html": [
       "<div>\n",
       "<style scoped>\n",
       "    .dataframe tbody tr th:only-of-type {\n",
       "        vertical-align: middle;\n",
       "    }\n",
       "\n",
       "    .dataframe tbody tr th {\n",
       "        vertical-align: top;\n",
       "    }\n",
       "\n",
       "    .dataframe thead th {\n",
       "        text-align: right;\n",
       "    }\n",
       "</style>\n",
       "<table border=\"1\" class=\"dataframe\">\n",
       "  <thead>\n",
       "    <tr style=\"text-align: right;\">\n",
       "      <th></th>\n",
       "      <th>Rating</th>\n",
       "      <th>Tweets</th>\n",
       "    </tr>\n",
       "  </thead>\n",
       "  <tbody>\n",
       "    <tr>\n",
       "      <th>0</th>\n",
       "      <td>0</td>\n",
       "      <td>is upset that he can't update his Facebook by ...</td>\n",
       "    </tr>\n",
       "    <tr>\n",
       "      <th>1</th>\n",
       "      <td>0</td>\n",
       "      <td>@Kenichan I dived many times for the ball. Man...</td>\n",
       "    </tr>\n",
       "    <tr>\n",
       "      <th>2</th>\n",
       "      <td>0</td>\n",
       "      <td>my whole body feels itchy and like its on fire</td>\n",
       "    </tr>\n",
       "    <tr>\n",
       "      <th>3</th>\n",
       "      <td>0</td>\n",
       "      <td>@nationwideclass no, it's not behaving at all....</td>\n",
       "    </tr>\n",
       "    <tr>\n",
       "      <th>4</th>\n",
       "      <td>0</td>\n",
       "      <td>@Kwesidei not the whole crew</td>\n",
       "    </tr>\n",
       "  </tbody>\n",
       "</table>\n",
       "</div>"
      ]
     },
     "metadata": {},
     "output_type": "display_data"
    },
    {
     "data": {
      "text/plain": [
       "         Rating                                             Tweets\n",
       "1599994       1  Just woke up. Having no school is the best fee...\n",
       "1599995       1  TheWDB.com - Very cool to hear old Walt interv...\n",
       "1599996       1  Are you ready for your MoJo Makeover? Ask me f...\n",
       "1599997       1  Happy 38th Birthday to my boo of alll time!!! ...\n",
       "1599998       1  happy #charitytuesday @theNSPCC @SparksCharity..."
      ],
      "text/html": [
       "<div>\n",
       "<style scoped>\n",
       "    .dataframe tbody tr th:only-of-type {\n",
       "        vertical-align: middle;\n",
       "    }\n",
       "\n",
       "    .dataframe tbody tr th {\n",
       "        vertical-align: top;\n",
       "    }\n",
       "\n",
       "    .dataframe thead th {\n",
       "        text-align: right;\n",
       "    }\n",
       "</style>\n",
       "<table border=\"1\" class=\"dataframe\">\n",
       "  <thead>\n",
       "    <tr style=\"text-align: right;\">\n",
       "      <th></th>\n",
       "      <th>Rating</th>\n",
       "      <th>Tweets</th>\n",
       "    </tr>\n",
       "  </thead>\n",
       "  <tbody>\n",
       "    <tr>\n",
       "      <th>1599994</th>\n",
       "      <td>1</td>\n",
       "      <td>Just woke up. Having no school is the best fee...</td>\n",
       "    </tr>\n",
       "    <tr>\n",
       "      <th>1599995</th>\n",
       "      <td>1</td>\n",
       "      <td>TheWDB.com - Very cool to hear old Walt interv...</td>\n",
       "    </tr>\n",
       "    <tr>\n",
       "      <th>1599996</th>\n",
       "      <td>1</td>\n",
       "      <td>Are you ready for your MoJo Makeover? Ask me f...</td>\n",
       "    </tr>\n",
       "    <tr>\n",
       "      <th>1599997</th>\n",
       "      <td>1</td>\n",
       "      <td>Happy 38th Birthday to my boo of alll time!!! ...</td>\n",
       "    </tr>\n",
       "    <tr>\n",
       "      <th>1599998</th>\n",
       "      <td>1</td>\n",
       "      <td>happy #charitytuesday @theNSPCC @SparksCharity...</td>\n",
       "    </tr>\n",
       "  </tbody>\n",
       "</table>\n",
       "</div>"
      ]
     },
     "metadata": {},
     "output_type": "display_data"
    }
   ],
   "execution_count": 19
  },
  {
   "metadata": {},
   "cell_type": "markdown",
   "source": [
    "* For further use it would be smart to get the maximum length of the tweets used\n",
    "- This is useful for the training of the model as every str size needs to be the same"
   ],
   "id": "d7ebb8878c81b4e9"
  },
  {
   "metadata": {
    "ExecuteTime": {
     "end_time": "2024-07-18T15:35:03.425370Z",
     "start_time": "2024-07-18T15:35:01.206738Z"
    }
   },
   "cell_type": "code",
   "source": [
    "lengths = [len(tweet) for tweet in clean_data[\"Tweets\"]]\n",
    "plt.hist(lengths, bins=50)\n",
    "plt.show()"
   ],
   "id": "db54702d4e7a66d0",
   "outputs": [
    {
     "data": {
      "text/plain": [
       "<Figure size 640x480 with 1 Axes>"
      ],
      "image/png": "[encoded data removed]"
     },
     "metadata": {},
     "output_type": "display_data"
    }
   ],
   "execution_count": 22
  },
  {
   "metadata": {},
   "cell_type": "markdown",
   "source": [
    "Another important factor is the removal of the '@' -> from the tweets,\n",
    "as \"@\" implies a reply. \n",
    "\n",
    "This will not be necessary as we do not need that information to determine a positive review.\n",
    "\n",
    "We will also need to remove the name of the User that is being replied to as it doesn't have any use to us."
   ],
   "id": "98bba81e7fd07533"
  },
  {
   "metadata": {
    "ExecuteTime": {
     "end_time": "2024-07-18T15:34:29.756655Z",
     "start_time": "2024-07-18T15:34:29.753986Z"
    }
   },
   "cell_type": "code",
   "source": "",
   "id": "185859720672ed6f",
   "outputs": [],
   "execution_count": 20
  }
 ],
 "metadata": {
  "kernelspec": {
   "display_name": "Python 3",
   "language": "python",
   "name": "python3"
  },
  "language_info": {
   "codemirror_mode": {
    "name": "ipython",
    "version": 2
   },
   "file_extension": ".py",
   "mimetype": "text/x-python",
   "name": "python",
   "nbconvert_exporter": "python",
   "pygments_lexer": "ipython2",
   "version": "2.7.6"
  }
 },
 "nbformat": 4,
 "nbformat_minor": 5
}
