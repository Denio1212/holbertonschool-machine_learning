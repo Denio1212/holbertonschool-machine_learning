{
 "cells": [
  {
   "cell_type": "markdown",
   "source": [
    "## Hola! Queres un Casa en California ?\n",
    "### If you are interested, this document is for you\n",
    "* If not, just check it out for fun, why not?"
   ],
   "metadata": {
    "collapsed": false
   },
   "id": "d90398f8b8e5cde7"
  },
  {
   "cell_type": "markdown",
   "source": [
    "> On a more serious note, this is a general analysis of the (quite famous now)  \n",
    "> California housing dataset\n",
    "- Ranging from simple analysis to some plotting as well.\n",
    "- Let's begin with some column analysis"
   ],
   "metadata": {
    "collapsed": false
   },
   "id": "d49908ca0ef19b6"
  },
  {
   "cell_type": "code",
   "outputs": [
    {
     "data": {
      "text/plain": "   longitude  latitude  housing_median_age  total_rooms  total_bedrooms  \\\n0    -122.23     37.88                41.0        880.0           129.0   \n1    -122.22     37.86                21.0       7099.0          1106.0   \n2    -122.24     37.85                52.0       1467.0           190.0   \n3    -122.25     37.85                52.0       1274.0           235.0   \n4    -122.25     37.85                52.0       1627.0           280.0   \n\n   population  households  median_income  median_house_value ocean_proximity  \n0       322.0       126.0         8.3252            452600.0        NEAR BAY  \n1      2401.0      1138.0         8.3014            358500.0        NEAR BAY  \n2       496.0       177.0         7.2574            352100.0        NEAR BAY  \n3       558.0       219.0         5.6431            341300.0        NEAR BAY  \n4       565.0       259.0         3.8462            342200.0        NEAR BAY  ",
      "text/html": "<div>\n<style scoped>\n    .dataframe tbody tr th:only-of-type {\n        vertical-align: middle;\n    }\n\n    .dataframe tbody tr th {\n        vertical-align: top;\n    }\n\n    .dataframe thead th {\n        text-align: right;\n    }\n</style>\n<table border=\"1\" class=\"dataframe\">\n  <thead>\n    <tr style=\"text-align: right;\">\n      <th></th>\n      <th>longitude</th>\n      <th>latitude</th>\n      <th>housing_median_age</th>\n      <th>total_rooms</th>\n      <th>total_bedrooms</th>\n      <th>population</th>\n      <th>households</th>\n      <th>median_income</th>\n      <th>median_house_value</th>\n      <th>ocean_proximity</th>\n    </tr>\n  </thead>\n  <tbody>\n    <tr>\n      <th>0</th>\n      <td>-122.23</td>\n      <td>37.88</td>\n      <td>41.0</td>\n      <td>880.0</td>\n      <td>129.0</td>\n      <td>322.0</td>\n      <td>126.0</td>\n      <td>8.3252</td>\n      <td>452600.0</td>\n      <td>NEAR BAY</td>\n    </tr>\n    <tr>\n      <th>1</th>\n      <td>-122.22</td>\n      <td>37.86</td>\n      <td>21.0</td>\n      <td>7099.0</td>\n      <td>1106.0</td>\n      <td>2401.0</td>\n      <td>1138.0</td>\n      <td>8.3014</td>\n      <td>358500.0</td>\n      <td>NEAR BAY</td>\n    </tr>\n    <tr>\n      <th>2</th>\n      <td>-122.24</td>\n      <td>37.85</td>\n      <td>52.0</td>\n      <td>1467.0</td>\n      <td>190.0</td>\n      <td>496.0</td>\n      <td>177.0</td>\n      <td>7.2574</td>\n      <td>352100.0</td>\n      <td>NEAR BAY</td>\n    </tr>\n    <tr>\n      <th>3</th>\n      <td>-122.25</td>\n      <td>37.85</td>\n      <td>52.0</td>\n      <td>1274.0</td>\n      <td>235.0</td>\n      <td>558.0</td>\n      <td>219.0</td>\n      <td>5.6431</td>\n      <td>341300.0</td>\n      <td>NEAR BAY</td>\n    </tr>\n    <tr>\n      <th>4</th>\n      <td>-122.25</td>\n      <td>37.85</td>\n      <td>52.0</td>\n      <td>1627.0</td>\n      <td>280.0</td>\n      <td>565.0</td>\n      <td>259.0</td>\n      <td>3.8462</td>\n      <td>342200.0</td>\n      <td>NEAR BAY</td>\n    </tr>\n  </tbody>\n</table>\n</div>"
     },
     "execution_count": 29,
     "metadata": {},
     "output_type": "execute_result"
    }
   ],
   "source": [
    "import pandas as pd\n",
    "import matplotlib.pyplot as plt\n",
    "import seaborn as sns\n",
    "\n",
    "data = pd.read_csv('California_housing.csv')\n",
    "\n",
    "data.head()"
   ],
   "metadata": {
    "collapsed": false,
    "ExecuteTime": {
     "end_time": "2024-03-05T18:01:03.703943Z",
     "start_time": "2024-03-05T18:01:03.660890Z"
    }
   },
   "id": "99570c548b327f3",
   "execution_count": 29
  },
  {
   "cell_type": "markdown",
   "source": [
    "- A load of columns there...\n",
    "\n",
    "A good start would be to move some unnecessary columns to different dataframes,\n",
    "Like the median_income and median_house_value. They fit more as separate dataframes in my mind "
   ],
   "metadata": {
    "collapsed": false
   },
   "id": "ab0732df96ff61a9"
  },
  {
   "cell_type": "code",
   "outputs": [
    {
     "data": {
      "text/plain": "   median age  median income  median house value\n0        41.0         8.3252            452600.0\n1        21.0         8.3014            358500.0\n2        52.0         7.2574            352100.0\n3        52.0         5.6431            341300.0\n4        52.0         3.8462            342200.0",
      "text/html": "<div>\n<style scoped>\n    .dataframe tbody tr th:only-of-type {\n        vertical-align: middle;\n    }\n\n    .dataframe tbody tr th {\n        vertical-align: top;\n    }\n\n    .dataframe thead th {\n        text-align: right;\n    }\n</style>\n<table border=\"1\" class=\"dataframe\">\n  <thead>\n    <tr style=\"text-align: right;\">\n      <th></th>\n      <th>median age</th>\n      <th>median income</th>\n      <th>median house value</th>\n    </tr>\n  </thead>\n  <tbody>\n    <tr>\n      <th>0</th>\n      <td>41.0</td>\n      <td>8.3252</td>\n      <td>452600.0</td>\n    </tr>\n    <tr>\n      <th>1</th>\n      <td>21.0</td>\n      <td>8.3014</td>\n      <td>358500.0</td>\n    </tr>\n    <tr>\n      <th>2</th>\n      <td>52.0</td>\n      <td>7.2574</td>\n      <td>352100.0</td>\n    </tr>\n    <tr>\n      <th>3</th>\n      <td>52.0</td>\n      <td>5.6431</td>\n      <td>341300.0</td>\n    </tr>\n    <tr>\n      <th>4</th>\n      <td>52.0</td>\n      <td>3.8462</td>\n      <td>342200.0</td>\n    </tr>\n  </tbody>\n</table>\n</div>"
     },
     "execution_count": 30,
     "metadata": {},
     "output_type": "execute_result"
    }
   ],
   "source": [
    "age = data['housing_median_age']\n",
    "income = data['median_income']\n",
    "value = data[\"median_house_value\"]\n",
    "\n",
    "median_data = pd.DataFrame()\n",
    "\n",
    "median_data[\"median age\"] = age\n",
    "median_data[\"median income\"] = income\n",
    "median_data[\"median house value\"] = value\n",
    "\n",
    "median_data.head()"
   ],
   "metadata": {
    "collapsed": false,
    "ExecuteTime": {
     "end_time": "2024-03-05T18:01:03.719725Z",
     "start_time": "2024-03-05T18:01:03.705955Z"
    }
   },
   "id": "9e3a8c30e7098991",
   "execution_count": 30
  },
  {
   "cell_type": "code",
   "outputs": [],
   "source": [
    "data.drop(columns=[\"housing_median_age\", \"median_income\", \"median_house_value\"], inplace=True)"
   ],
   "metadata": {
    "collapsed": false,
    "ExecuteTime": {
     "end_time": "2024-03-05T18:01:03.726987Z",
     "start_time": "2024-03-05T18:01:03.720735Z"
    }
   },
   "id": "68befbdad49d18e2",
   "execution_count": 31
  },
  {
   "cell_type": "markdown",
   "source": [
    "* Now that's simpler, and if we need the medians they are stored in a different dataframe for clarity\n",
    "\n",
    "Let's see how the dataframe looks in a little plot, but that matplotlib thing is boooring...\n",
    "How about seaborn, that very cool graphic library"
   ],
   "metadata": {
    "collapsed": false
   },
   "id": "a750bc233752da64"
  },
  {
   "cell_type": "code",
   "outputs": [
    {
     "data": {
      "text/plain": "<Axes: xlabel='median age', ylabel='median house value'>"
     },
     "execution_count": 32,
     "metadata": {},
     "output_type": "execute_result"
    },
    {
     "data": {
      "text/plain": "<Figure size 640x480 with 1 Axes>",
      "image/png": "[encoded data removed]"
     },
     "metadata": {},
     "output_type": "display_data"
    }
   ],
   "source": [
    "sns.histplot(data=median_data, x=\"median age\", y=\"median house value\", bins=30, color=\"purple\", cumulative=True)"
   ],
   "metadata": {
    "collapsed": false,
    "ExecuteTime": {
     "end_time": "2024-03-05T18:01:03.965414Z",
     "start_time": "2024-03-05T18:01:03.728997Z"
    }
   },
   "id": "51f4da0e123d5a12",
   "execution_count": 32
  },
  {
   "cell_type": "markdown",
   "source": [
    "### HUH how insane, the higher the average house age the pricier they are in average..\n",
    "California seems to love their older houses, which adds up as most of the oceanside houses are also on average on the older side "
   ],
   "metadata": {
    "collapsed": false
   },
   "id": "516a8e75626639c9"
  },
  {
   "cell_type": "code",
   "outputs": [
    {
     "data": {
      "text/plain": "      ocean_proximity  median age\n14916      NEAR OCEAN        26.0\n15493      NEAR OCEAN        18.0\n15442      NEAR OCEAN         4.0\n15443      NEAR OCEAN         4.0\n15444      NEAR OCEAN         2.0\n...               ...         ...\n6967        <1H OCEAN        50.0\n6966        <1H OCEAN        45.0\n6965        <1H OCEAN        46.0\n6964        <1H OCEAN        47.0\n10320       <1H OCEAN        16.0\n\n[20640 rows x 2 columns]",
      "text/html": "<div>\n<style scoped>\n    .dataframe tbody tr th:only-of-type {\n        vertical-align: middle;\n    }\n\n    .dataframe tbody tr th {\n        vertical-align: top;\n    }\n\n    .dataframe thead th {\n        text-align: right;\n    }\n</style>\n<table border=\"1\" class=\"dataframe\">\n  <thead>\n    <tr style=\"text-align: right;\">\n      <th></th>\n      <th>ocean_proximity</th>\n      <th>median age</th>\n    </tr>\n  </thead>\n  <tbody>\n    <tr>\n      <th>14916</th>\n      <td>NEAR OCEAN</td>\n      <td>26.0</td>\n    </tr>\n    <tr>\n      <th>15493</th>\n      <td>NEAR OCEAN</td>\n      <td>18.0</td>\n    </tr>\n    <tr>\n      <th>15442</th>\n      <td>NEAR OCEAN</td>\n      <td>4.0</td>\n    </tr>\n    <tr>\n      <th>15443</th>\n      <td>NEAR OCEAN</td>\n      <td>4.0</td>\n    </tr>\n    <tr>\n      <th>15444</th>\n      <td>NEAR OCEAN</td>\n      <td>2.0</td>\n    </tr>\n    <tr>\n      <th>...</th>\n      <td>...</td>\n      <td>...</td>\n    </tr>\n    <tr>\n      <th>6967</th>\n      <td>&lt;1H OCEAN</td>\n      <td>50.0</td>\n    </tr>\n    <tr>\n      <th>6966</th>\n      <td>&lt;1H OCEAN</td>\n      <td>45.0</td>\n    </tr>\n    <tr>\n      <th>6965</th>\n      <td>&lt;1H OCEAN</td>\n      <td>46.0</td>\n    </tr>\n    <tr>\n      <th>6964</th>\n      <td>&lt;1H OCEAN</td>\n      <td>47.0</td>\n    </tr>\n    <tr>\n      <th>10320</th>\n      <td>&lt;1H OCEAN</td>\n      <td>16.0</td>\n    </tr>\n  </tbody>\n</table>\n<p>20640 rows × 2 columns</p>\n</div>"
     },
     "execution_count": 33,
     "metadata": {},
     "output_type": "execute_result"
    }
   ],
   "source": [
    "col_1 = data[\"ocean_proximity\"]\n",
    "col_2 = median_data[\"median age\"]\n",
    "\n",
    "df = pd.concat([col_1, col_2], axis=1)\n",
    "df.sort_values(by=[\"ocean_proximity\"], ascending=False)"
   ],
   "metadata": {
    "collapsed": false,
    "ExecuteTime": {
     "end_time": "2024-03-05T18:01:03.988469Z",
     "start_time": "2024-03-05T18:01:03.966461Z"
    }
   },
   "id": "c247f1ccad79d1f4",
   "execution_count": 33
  },
  {
   "cell_type": "markdown",
   "source": [
    "Let's take a look back at the og table"
   ],
   "metadata": {
    "collapsed": false
   },
   "id": "f39518a9b2286165"
  },
  {
   "cell_type": "code",
   "outputs": [
    {
     "data": {
      "text/plain": "   longitude  latitude  total_rooms  total_bedrooms  population  households  \\\n0    -122.23     37.88        880.0           129.0       322.0       126.0   \n1    -122.22     37.86       7099.0          1106.0      2401.0      1138.0   \n2    -122.24     37.85       1467.0           190.0       496.0       177.0   \n3    -122.25     37.85       1274.0           235.0       558.0       219.0   \n4    -122.25     37.85       1627.0           280.0       565.0       259.0   \n\n  ocean_proximity  \n0        NEAR BAY  \n1        NEAR BAY  \n2        NEAR BAY  \n3        NEAR BAY  \n4        NEAR BAY  ",
      "text/html": "<div>\n<style scoped>\n    .dataframe tbody tr th:only-of-type {\n        vertical-align: middle;\n    }\n\n    .dataframe tbody tr th {\n        vertical-align: top;\n    }\n\n    .dataframe thead th {\n        text-align: right;\n    }\n</style>\n<table border=\"1\" class=\"dataframe\">\n  <thead>\n    <tr style=\"text-align: right;\">\n      <th></th>\n      <th>longitude</th>\n      <th>latitude</th>\n      <th>total_rooms</th>\n      <th>total_bedrooms</th>\n      <th>population</th>\n      <th>households</th>\n      <th>ocean_proximity</th>\n    </tr>\n  </thead>\n  <tbody>\n    <tr>\n      <th>0</th>\n      <td>-122.23</td>\n      <td>37.88</td>\n      <td>880.0</td>\n      <td>129.0</td>\n      <td>322.0</td>\n      <td>126.0</td>\n      <td>NEAR BAY</td>\n    </tr>\n    <tr>\n      <th>1</th>\n      <td>-122.22</td>\n      <td>37.86</td>\n      <td>7099.0</td>\n      <td>1106.0</td>\n      <td>2401.0</td>\n      <td>1138.0</td>\n      <td>NEAR BAY</td>\n    </tr>\n    <tr>\n      <th>2</th>\n      <td>-122.24</td>\n      <td>37.85</td>\n      <td>1467.0</td>\n      <td>190.0</td>\n      <td>496.0</td>\n      <td>177.0</td>\n      <td>NEAR BAY</td>\n    </tr>\n    <tr>\n      <th>3</th>\n      <td>-122.25</td>\n      <td>37.85</td>\n      <td>1274.0</td>\n      <td>235.0</td>\n      <td>558.0</td>\n      <td>219.0</td>\n      <td>NEAR BAY</td>\n    </tr>\n    <tr>\n      <th>4</th>\n      <td>-122.25</td>\n      <td>37.85</td>\n      <td>1627.0</td>\n      <td>280.0</td>\n      <td>565.0</td>\n      <td>259.0</td>\n      <td>NEAR BAY</td>\n    </tr>\n  </tbody>\n</table>\n</div>"
     },
     "execution_count": 34,
     "metadata": {},
     "output_type": "execute_result"
    }
   ],
   "source": [
    "data.head()"
   ],
   "metadata": {
    "collapsed": false,
    "ExecuteTime": {
     "end_time": "2024-03-05T18:01:04.002693Z",
     "start_time": "2024-03-05T18:01:03.989480Z"
    }
   },
   "id": "1e4b0e27d070d6a5",
   "execution_count": 34
  },
  {
   "cell_type": "markdown",
   "source": [
    "We have plenty of interesting info in here. Let's start talking money.\n",
    "These houses by the beach are nice and all, but how many of them can accompany your needs?\n",
    "We will be looking at the beachside houses and sorting them by the total bedrooms (The more there are the more chances of bigger houses)."
   ],
   "metadata": {
    "collapsed": false
   },
   "id": "f70e0754538a2dfc"
  },
  {
   "cell_type": "code",
   "outputs": [],
   "source": [
    "bedroom = data[\"total_bedrooms\"]\n",
    "room = data[\"total_rooms\"]\n",
    "oceanside = data[\"ocean_proximity\"].sort_values()\n",
    "value = value # just to see what we are using\n",
    "\n"
   ],
   "metadata": {
    "collapsed": false,
    "ExecuteTime": {
     "end_time": "2024-03-05T18:01:04.020487Z",
     "start_time": "2024-03-05T18:01:04.005223Z"
    }
   },
   "id": "d88e93d9294a85ec",
   "execution_count": 35
  }
 ],
 "metadata": {
  "kernelspec": {
   "display_name": "Python 3",
   "language": "python",
   "name": "python3"
  },
  "language_info": {
   "codemirror_mode": {
    "name": "ipython",
    "version": 2
   },
   "file_extension": ".py",
   "mimetype": "text/x-python",
   "name": "python",
   "nbconvert_exporter": "python",
   "pygments_lexer": "ipython2",
   "version": "2.7.6"
  }
 },
 "nbformat": 4,
 "nbformat_minor": 5
}
