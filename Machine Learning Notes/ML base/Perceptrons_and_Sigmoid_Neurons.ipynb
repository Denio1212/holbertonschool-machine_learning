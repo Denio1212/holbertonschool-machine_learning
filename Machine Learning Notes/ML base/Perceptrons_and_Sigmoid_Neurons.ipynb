{
 "cells": [
  {
   "cell_type": "code",
   "execution_count": 1,
   "id": "initial_id",
   "metadata": {
    "collapsed": true,
    "ExecuteTime": {
     "end_time": "2024-03-21T12:58:33.061221Z",
     "start_time": "2024-03-21T12:58:32.108169Z"
    }
   },
   "outputs": [],
   "source": [
    "import sys\n",
    "assert sys.version_info >= (3,7), \"This script requires at least Python 3\"\n",
    "\n",
    "import sklearn\n",
    "assert sklearn.__version__ >= \"0.20\", \"This script requires sklearn 0.20 or above\""
   ]
  },
  {
   "cell_type": "markdown",
   "source": [
    "# What is a model anyways?\n",
    "> A machine learning model is a computer program that recognises patterns of data or makes predictions.\n",
    "> It is created from machine learning algorithms which undergo a training process using either labeled, unlabeled, or mixed data. "
   ],
   "metadata": {
    "collapsed": false
   },
   "id": "df522c45ef24e9ad"
  },
  {
   "cell_type": "markdown",
   "source": [
    "##### Neural Models\n",
    "> A neural network is a type of machine learning model that is inspired by the human brain. It consists of interconnected layers of nodes, or “neurons”, each of which takes in input, processes it, and passes it on to the next layer. The network learns from data by adjusting the weights and biases of these connections based on the error of its predictions, a process known as backpropagation. Neural networks are particularly good at tasks that involve recognizing patterns or making predictions from complex, high-dimensional data. They’re used in a wide range of applications, from image and speech recognition to natural language processing and autonomous driving."
   ],
   "metadata": {
    "collapsed": false
   },
   "id": "6e4ad14839e54524"
  },
  {
   "cell_type": "markdown",
   "source": [
    "* The ***Perceptron***\n",
    "> The perceptron is a simple way into networks and the base line artificial networks.\n",
    "So the way they work is simple.\n",
    "Several binary inputs go in and are all processed into a single output, also a binary one.\n",
    "The way the algorithm works is simple >> Each value holds a ***Weight***, which are real numbers used to express the importance of the respective inputs.\n",
    "It then has a threshold value, which is also a real number and a parameter of the neuron.\n",
    "\n",
    "output = 0 if sum(w, x) <= threshold\n",
    "output = 1 if sum(w, x) > threshold\n",
    "\n",
    "* A way you can think about the perceptron is that it's a device that makes decisions by weighing up evidence.\n",
    "\n",
    "Example: \n",
    "> It's not a very realistic example, but it's easy to understand, and we'll soon get to more realistic examples. Suppose the weekend is coming up, and you've heard that there's going to be a cheese festival in your city. You like cheese, and are trying to decide whether or not to go to the festival. You might make your decision by weighing up three factors:\n",
    "\n",
    "> Is the weather good?\n",
    "Does your boyfriend or girlfriend want to accompany you?\n",
    "Is the festival near public transit? (You don't own a car).\n",
    "We can represent these three factors by corresponding binary variables x1,x2 and x3.\n",
    ">For instance, we'd have x1=1\n",
    " if the weather is good, and x1=0\n",
    " if the weather is bad. Similarly, x2=1\n",
    " if your boyfriend or girlfriend wants to go, and x2=0\n",
    " if not. And similarly again for x3\n",
    " and public transit.\n",
    "Now, suppose you absolutely adore cheese, so much so that you're happy to go to the festival even if your boyfriend or girlfriend is uninterested and the festival is hard to get to. But perhaps you really loathe bad weather, and there's no way you'd go to the festival if the weather is bad. You can use perceptrons to model this kind of decision-making. One way to do this is to choose a weight w1=6\n",
    " for the weather, and w2=2\n",
    " and w3=2\n",
    " for the other conditions. The larger value of w1\n",
    " indicates that the weather matters a lot to you, much more than whether your boyfriend or girlfriend joins you, or the nearness of public transit. Finally, suppose you choose a threshold of 5\n",
    " for the perceptron. With these choices, the perceptron implements the desired decision-making model, outputting 1\n",
    " whenever the weather is good, and 0\n",
    " whenever the weather is bad. It makes no difference to the output whether your boyfriend or girlfriend wants to go, or whether public transit is nearby.\n",
    " \n",
    "\n",
    "* We can simplify how we make perceptrons even more.\n",
    "\n",
    "the sum(w, k) > threshold >> is not it.\n",
    "\n",
    "instead of it being w + k it is w * k, where w and k are vectors representing weights and inputs.\n",
    "\n",
    "Second change is adding the bias, which is just the absolute value of the threshold.\n",
    "The formula would be:\n",
    "\n",
    "output = 0 if w * x + b <= 0\n",
    "output = 1 if w * x + b > 0\n",
    "\n",
    "The bias increases the chance of the perceptron to be 1, which would represent how highly a value would be rated in a equation"
   ],
   "metadata": {
    "collapsed": false
   },
   "id": "ff41886c0d35fc82"
  },
  {
   "cell_type": "markdown",
   "source": [
    "#### NaNd gates\n",
    "* **An NaNd gate is a logic gate which produces an output which is false only if all inputs are true**\n",
    "\n",
    "What that means that in the formula:\n",
    "w * x + b <= 0 / > 0\n",
    "if we have a weight of -2 and a bias of 3 and we take 3 values >> 00, 01, 11\n",
    "0 * (-2) + 0 * (-2) + 3 = 3 -- positive -> output is 1\n",
    "0 * (-2) + 1 * (-2) + 3 = 1 -- positive -> output is 1\n",
    "1 * (-2) + 1 * (-2) + 3 = -1 -- negative -> output is 0\n",
    "**The third value 11, is technically all true as both values are above the 0 threshold, but when inserted into a weight that is -2 with a bias of 3 they always turn out negative**\n",
    "* ***That is a NaNd gate***\n"
   ],
   "metadata": {
    "collapsed": false
   },
   "id": "7b25773951d86e3f"
  },
  {
   "cell_type": "markdown",
   "source": [
    "When working with multiple pereptrons it is possible for one perceptron to act as the input to multiple others. We can just put multiple values to that as normal, but another way is merging the values and adding the weights together."
   ],
   "metadata": {
    "collapsed": false
   },
   "id": "2be7937b9297cb23"
  },
  {
   "cell_type": "markdown",
   "source": [
    "# SIGMOID NEURONS\n",
    "\n",
    "When using perceptrons it will seem apparent that any change to the bias or threshold will cause a drastic change in all outputs...\n",
    "\n",
    "***Well that's when sigmoid neurons come in.***\n",
    "\n",
    "* Sigmoid neurons are similar to perceptrons, only that small changes to weights and biases cause small changes to outputs"
   ],
   "metadata": {
    "collapsed": false
   },
   "id": "1715ac74b263789c"
  },
  {
   "cell_type": "markdown",
   "source": [
    "We will depict Sigmoid neurons in the same way as perceptrons:\n",
    "3 inputs.  They also have biases and weights.\n",
    "The difference here is that sigmoid neurons can take on values between 0 and 1.\n",
    "\n",
    "The formula is more complex:\n",
    "1 / (1 + exp(- sum(x * w - b)))\n",
    "\n",
    "They seem different but most cases, this formula helps:\n",
    "z === w * x + b -> if z is a large value, the sigmoid function is approx 1\n",
    "if z is a large negative value, the sigmoid func is approx 0\n",
    "\n",
    "When it is a modest size there is a noticeable difference from the perceptrons."
   ],
   "metadata": {
    "collapsed": false
   },
   "id": "b79ed8508467cf6"
  }
 ],
 "metadata": {
  "kernelspec": {
   "display_name": "Python 3",
   "language": "python",
   "name": "python3"
  },
  "language_info": {
   "codemirror_mode": {
    "name": "ipython",
    "version": 2
   },
   "file_extension": ".py",
   "mimetype": "text/x-python",
   "name": "python",
   "nbconvert_exporter": "python",
   "pygments_lexer": "ipython2",
   "version": "2.7.6"
  }
 },
 "nbformat": 4,
 "nbformat_minor": 5
}
