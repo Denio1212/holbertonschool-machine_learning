{
 "cells": [
  {
   "cell_type": "markdown",
   "source": [
    "# Machine Learning Base file\n",
    "### Will house the basic Machine Learning concepts \n",
    "\n",
    "* Machine Learning is the field of study that gives Computers the ability to learn from data."
   ],
   "metadata": {
    "collapsed": false
   },
   "id": "a6954f8a92dfac82"
  },
  {
   "cell_type": "code",
   "outputs": [],
   "source": [
    "import sys\n",
    "assert sys.version_info >= (3,7), \"This script requires at least Python 3\""
   ],
   "metadata": {
    "collapsed": false,
    "ExecuteTime": {
     "end_time": "2024-03-21T12:58:29.666587Z",
     "start_time": "2024-03-21T12:58:29.661111Z"
    }
   },
   "id": "e07ee273732ffe02",
   "execution_count": 1
  },
  {
   "cell_type": "code",
   "outputs": [],
   "source": [
    "import sklearn\n",
    "assert sklearn.__version__ >= \"0.20\", \"This script requires sklearn 0.20 or above\"\n",
    "\n",
    "import numpy as np\n",
    "import os\n",
    "\n",
    "np.random.seed(42)\n",
    "%matplotlib inline\n",
    "import matplotlib.pyplot as plt\n",
    "import matplotlib as mpl\n",
    "mpl.rc('axes', labelsize=14)\n",
    "mpl.rc('xtick', labelsize=12)\n",
    "mpl.rc('ytick', labelsize=12) # All the above make pretty figures in matplotlib\n",
    "\n",
    "# All of the below are to save figures\n",
    "PROJECT_ROOT_DIR = '.'\n",
    "CHAPTER_ID = \"Unsupervised Learning\"\n",
    "IMAGES_PATH = os.path.join(PROJECT_ROOT_DIR, \"images\", CHAPTER_ID)\n",
    "\n",
    "os.makedirs(IMAGES_PATH, exist_ok=True)\n",
    "\n",
    "def save_fig(fig_id, tight_layout=True, fig_extension=\"png\", resolution=300):\n",
    "    path = os.path.join(IMAGES_PATH, fig_id + \".\" + fig_extension)\n",
    "    print(\"Saving figure\", fig_id)\n",
    "    if tight_layout:\n",
    "        plt.tight_layout()\n",
    "    plt.savefig(path, format=fig_extension, dpi=resolution)\n",
    "    \n",
    "    \n",
    "    \n",
    "                \n",
    "                "
   ],
   "metadata": {
    "collapsed": false,
    "ExecuteTime": {
     "end_time": "2024-03-21T12:58:31.855658Z",
     "start_time": "2024-03-21T12:58:29.668604Z"
    }
   },
   "id": "e7cdbe3ea9b8a858",
   "execution_count": 2
  },
  {
   "cell_type": "markdown",
   "source": [
    "* Machine Learning is not some new and futuristic thing.\n",
    "> It has been around for years in specialized applications, such as the [**Optical Character Recognition**](https://en.wikipedia.org/wiki/Optical_character_recognition).\n",
    "\n",
    "* The first **Big** Machine Learning application came around in the 90's.\n",
    "It was the **Spam Filter**...\n",
    "The way it works is that it takes the e-mails given to it and analyses their data to check for any key words that correlate with other flagged e-mails  which with enough experience/data will make it **Veery** good at it's job.\n",
    "We don't even need to flag anymore...\n",
    "\n",
    "* Other Machine Learning implications such as voice recognition and search engines are all fueled by Machine Learning. \n",
    "\n"
   ],
   "metadata": {
    "collapsed": false
   },
   "id": "a13b7f493aaf8835"
  },
  {
   "cell_type": "markdown",
   "source": [
    "But... How to actually make a spam filter?\n",
    "\n",
    "1) You would analyze what spam usually looks like. You flag out manually some words that seem suspicious, like: (\"credit card information\", \"free\", \"limited time\"..etc..). Other patterns such as the sender and the subject/body look similar and on and on.\n",
    "2) You would write a detection algorithm for each of the patterns discovered and if a sizable number of these \"Key words\" would be detected the e-mail would be flagged.\n",
    "3) Test the program until the results are good enough.\n",
    "\n",
    "### Yeeea but that would be quite long if not for the Beautiful Machine Learning.\n"
   ],
   "metadata": {
    "collapsed": false
   },
   "id": "8adcc718704b2abb"
  },
  {
   "cell_type": "markdown",
   "source": [
    "* Machine learning allows the process to be shortened and made more accurate, a Double Kill.\n",
    "- Another positive with the Machine Learning approach is that it can update itself and realize that the spammers change a minor detail and place that on the Banned List.\n",
    "* The above method works just fine, but instead of writing all the checks, we train a machine with data acquired to do it for us.\n",
    "\n",
    "# The best solution as of today with Machine Learning is to make a program that can teach itself how to work, with examples given by you"
   ],
   "metadata": {
    "collapsed": false
   },
   "id": "520540ed3add27e9"
  },
  {
   "cell_type": "markdown",
   "source": [
    "It's not just about us teaching the machine.\n",
    "* At some point the machine will pick up things we wouldn't have noticed without a deep investigation.\n",
    "- Which in term makes us more knowledgeable of the issue."
   ],
   "metadata": {
    "collapsed": false
   },
   "id": "57251c63c03050c6"
  },
  {
   "cell_type": "markdown",
   "source": [
    "To summarize, Machine Learning is great for:\n",
    "* Problems for which existing solutions require a lot of hand-tuning or long lists of\n",
    "rules: one Machine Learning algorithm can often simplify code and perform bet‐\n",
    "ter.\n",
    "- Complex problems for which there is no good solution at all using a traditional\n",
    "approach: the best Machine Learning techniques can find a solution.\n",
    "* Fluctuating environments: a Machine Learning system can adapt to new data.\n",
    "- Getting insights about complex problems and large amounts of data.\n"
   ],
   "metadata": {
    "collapsed": false
   },
   "id": "3c261dfd78851e4e"
  },
  {
   "cell_type": "markdown",
   "source": [
    "## Types of Machine Learning Systems\n",
    "\n",
    "There are tons of Machine Learning systems, so let's classify them\n",
    "* Supervised and Unsupervised, Semisupervised and Reinforcement Learning\n",
    "-- These Systems are either trained with **Human Supervision**, are trained with **Partial** supervision, or **no** supervision.\n",
    "- Whether they can incrementally learn on the fly or not (Online vs batch learning)\n",
    "* Instance vs Model based\n",
    "-- Whether they work by simply comparing new data points to known data points (Instance),\n",
    "or instead detect patterns in the training data and build a predictive model, much\n",
    "like scientists do (Model)"
   ],
   "metadata": {
    "collapsed": false
   },
   "id": "7541380703195a40"
  },
  {
   "cell_type": "markdown",
   "source": [
    "Supervised VS Unsupervised Learning\n",
    "\n",
    "#### Supervised Learning\n",
    "* In supervised learning, the training data you feed to the algorithm includes the desired\n",
    "solutions, called labels\n",
    "\n",
    "* A typical supervised learning task is classification. Once again we go back to the spam filter.\n",
    "-- The spam filter is trained with many example emails along with their class (spam or ham), and it needs to learn how to classify new emails.\n",
    "- Another task is to predict a target numeric value, such as the price of a car, by using its features.\n",
    "-- Age, kilometers, brand, etc.)\n",
    "> These features are called ***Predictors***.\n",
    "> And this task is known as **Regression**\n",
    "\n",
    "* For the system to be trained, you need to give it as many examples of cars, including both their predictors (characteristics) and labels (solutions). \n",
    "\n"
   ],
   "metadata": {
    "collapsed": false
   },
   "id": "3f22984eaed3d682"
  },
  {
   "cell_type": "markdown",
   "source": [
    "Some regression algorithms can be used for classification as well, and vice\n",
    "versa. For example, Logistic Regression is commonly used for classification, as it can\n",
    "output a value that corresponds to the probability of belonging to a given class (e.g.,\n",
    "20% chance of being spam).\n",
    "\n",
    "Here are some of the most important supervised learning algorithms:\n",
    "* k-Nearest Neighbors\n",
    "- Linear Regression\n",
    "* Logistic Regression\n",
    "- Support Vector Machines (SVMs)\n",
    "* Decision Trees and Random Forests\n",
    "- Neural Networks\n"
   ],
   "metadata": {
    "collapsed": false
   },
   "id": "a413dae3428f46a9"
  },
  {
   "cell_type": "markdown",
   "source": [
    "### Unsupervised Learning\n",
    "\n",
    "* In Unsupervised Learning the data is not labeled and the system trains itself\n",
    "\n",
    "The way it works is that it scans all of your provided data and scans it for correlation with each-other. It then groups all of it and clusters it [(Hierarchical Clustering Algorithm)](https://www.google.com/search?q=hierarchical+clustering+algorhithm&sourceid=chrome&ie=UTF-8).\n",
    "\n",
    "\n",
    " \n",
    "Another example:\n",
    "> Visualization algorithms are also very useful examples of Unsupervised Learning.\n",
    " You give them a lot of unlabeled data and they output a 2d or 3d representation of your data for plotting reasons.\n",
    "These algorithms try to preserve as much structure as they can (e.g., trying to keep separate clusters in the input space from overlapping in the visualization), so you can understand how the data is organized and perhaps identify unsuspected patterns.\n",
    "\n"
   ],
   "metadata": {
    "collapsed": false
   },
   "id": "891444253e2144cd"
  },
  {
   "cell_type": "code",
   "outputs": [
    {
     "data": {
      "text/plain": "array(['setosa', 'versicolor', 'virginica'], dtype='<U10')"
     },
     "execution_count": 3,
     "metadata": {},
     "output_type": "execute_result"
    }
   ],
   "source": [
    "from sklearn.datasets import load_iris\n",
    "\n",
    "data = load_iris()\n",
    "x = data.data\n",
    "y = data.target\n",
    "data.target_names"
   ],
   "metadata": {
    "collapsed": false,
    "ExecuteTime": {
     "end_time": "2024-03-21T12:58:32.028051Z",
     "start_time": "2024-03-21T12:58:31.857666Z"
    }
   },
   "id": "55b09afb43b6dc11",
   "execution_count": 3
  },
  {
   "cell_type": "code",
   "outputs": [
    {
     "name": "stdout",
     "output_type": "stream",
     "text": [
      "[[5.1 3.5 1.4 0.2]\n",
      " [4.9 3.  1.4 0.2]\n",
      " [4.7 3.2 1.3 0.2]\n",
      " [4.6 3.1 1.5 0.2]\n",
      " [5.  3.6 1.4 0.2]\n",
      " [5.4 3.9 1.7 0.4]\n",
      " [4.6 3.4 1.4 0.3]\n",
      " [5.  3.4 1.5 0.2]\n",
      " [4.4 2.9 1.4 0.2]\n",
      " [4.9 3.1 1.5 0.1]\n",
      " [5.4 3.7 1.5 0.2]\n",
      " [4.8 3.4 1.6 0.2]\n",
      " [4.8 3.  1.4 0.1]\n",
      " [4.3 3.  1.1 0.1]\n",
      " [5.8 4.  1.2 0.2]\n",
      " [5.7 4.4 1.5 0.4]\n",
      " [5.4 3.9 1.3 0.4]\n",
      " [5.1 3.5 1.4 0.3]\n",
      " [5.7 3.8 1.7 0.3]\n",
      " [5.1 3.8 1.5 0.3]\n",
      " [5.4 3.4 1.7 0.2]\n",
      " [5.1 3.7 1.5 0.4]\n",
      " [4.6 3.6 1.  0.2]\n",
      " [5.1 3.3 1.7 0.5]\n",
      " [4.8 3.4 1.9 0.2]\n",
      " [5.  3.  1.6 0.2]\n",
      " [5.  3.4 1.6 0.4]\n",
      " [5.2 3.5 1.5 0.2]\n",
      " [5.2 3.4 1.4 0.2]\n",
      " [4.7 3.2 1.6 0.2]\n",
      " [4.8 3.1 1.6 0.2]\n",
      " [5.4 3.4 1.5 0.4]\n",
      " [5.2 4.1 1.5 0.1]\n",
      " [5.5 4.2 1.4 0.2]\n",
      " [4.9 3.1 1.5 0.2]\n",
      " [5.  3.2 1.2 0.2]\n",
      " [5.5 3.5 1.3 0.2]\n",
      " [4.9 3.6 1.4 0.1]\n",
      " [4.4 3.  1.3 0.2]\n",
      " [5.1 3.4 1.5 0.2]\n",
      " [5.  3.5 1.3 0.3]\n",
      " [4.5 2.3 1.3 0.3]\n",
      " [4.4 3.2 1.3 0.2]\n",
      " [5.  3.5 1.6 0.6]\n",
      " [5.1 3.8 1.9 0.4]\n",
      " [4.8 3.  1.4 0.3]\n",
      " [5.1 3.8 1.6 0.2]\n",
      " [4.6 3.2 1.4 0.2]\n",
      " [5.3 3.7 1.5 0.2]\n",
      " [5.  3.3 1.4 0.2]\n",
      " [7.  3.2 4.7 1.4]\n",
      " [6.4 3.2 4.5 1.5]\n",
      " [6.9 3.1 4.9 1.5]\n",
      " [5.5 2.3 4.  1.3]\n",
      " [6.5 2.8 4.6 1.5]\n",
      " [5.7 2.8 4.5 1.3]\n",
      " [6.3 3.3 4.7 1.6]\n",
      " [4.9 2.4 3.3 1. ]\n",
      " [6.6 2.9 4.6 1.3]\n",
      " [5.2 2.7 3.9 1.4]\n",
      " [5.  2.  3.5 1. ]\n",
      " [5.9 3.  4.2 1.5]\n",
      " [6.  2.2 4.  1. ]\n",
      " [6.1 2.9 4.7 1.4]\n",
      " [5.6 2.9 3.6 1.3]\n",
      " [6.7 3.1 4.4 1.4]\n",
      " [5.6 3.  4.5 1.5]\n",
      " [5.8 2.7 4.1 1. ]\n",
      " [6.2 2.2 4.5 1.5]\n",
      " [5.6 2.5 3.9 1.1]\n",
      " [5.9 3.2 4.8 1.8]\n",
      " [6.1 2.8 4.  1.3]\n",
      " [6.3 2.5 4.9 1.5]\n",
      " [6.1 2.8 4.7 1.2]\n",
      " [6.4 2.9 4.3 1.3]\n",
      " [6.6 3.  4.4 1.4]\n",
      " [6.8 2.8 4.8 1.4]\n",
      " [6.7 3.  5.  1.7]\n",
      " [6.  2.9 4.5 1.5]\n",
      " [5.7 2.6 3.5 1. ]\n",
      " [5.5 2.4 3.8 1.1]\n",
      " [5.5 2.4 3.7 1. ]\n",
      " [5.8 2.7 3.9 1.2]\n",
      " [6.  2.7 5.1 1.6]\n",
      " [5.4 3.  4.5 1.5]\n",
      " [6.  3.4 4.5 1.6]\n",
      " [6.7 3.1 4.7 1.5]\n",
      " [6.3 2.3 4.4 1.3]\n",
      " [5.6 3.  4.1 1.3]\n",
      " [5.5 2.5 4.  1.3]\n",
      " [5.5 2.6 4.4 1.2]\n",
      " [6.1 3.  4.6 1.4]\n",
      " [5.8 2.6 4.  1.2]\n",
      " [5.  2.3 3.3 1. ]\n",
      " [5.6 2.7 4.2 1.3]\n",
      " [5.7 3.  4.2 1.2]\n",
      " [5.7 2.9 4.2 1.3]\n",
      " [6.2 2.9 4.3 1.3]\n",
      " [5.1 2.5 3.  1.1]\n",
      " [5.7 2.8 4.1 1.3]\n",
      " [6.3 3.3 6.  2.5]\n",
      " [5.8 2.7 5.1 1.9]\n",
      " [7.1 3.  5.9 2.1]\n",
      " [6.3 2.9 5.6 1.8]\n",
      " [6.5 3.  5.8 2.2]\n",
      " [7.6 3.  6.6 2.1]\n",
      " [4.9 2.5 4.5 1.7]\n",
      " [7.3 2.9 6.3 1.8]\n",
      " [6.7 2.5 5.8 1.8]\n",
      " [7.2 3.6 6.1 2.5]\n",
      " [6.5 3.2 5.1 2. ]\n",
      " [6.4 2.7 5.3 1.9]\n",
      " [6.8 3.  5.5 2.1]\n",
      " [5.7 2.5 5.  2. ]\n",
      " [5.8 2.8 5.1 2.4]\n",
      " [6.4 3.2 5.3 2.3]\n",
      " [6.5 3.  5.5 1.8]\n",
      " [7.7 3.8 6.7 2.2]\n",
      " [7.7 2.6 6.9 2.3]\n",
      " [6.  2.2 5.  1.5]\n",
      " [6.9 3.2 5.7 2.3]\n",
      " [5.6 2.8 4.9 2. ]\n",
      " [7.7 2.8 6.7 2. ]\n",
      " [6.3 2.7 4.9 1.8]\n",
      " [6.7 3.3 5.7 2.1]\n",
      " [7.2 3.2 6.  1.8]\n",
      " [6.2 2.8 4.8 1.8]\n",
      " [6.1 3.  4.9 1.8]\n",
      " [6.4 2.8 5.6 2.1]\n",
      " [7.2 3.  5.8 1.6]\n",
      " [7.4 2.8 6.1 1.9]\n",
      " [7.9 3.8 6.4 2. ]\n",
      " [6.4 2.8 5.6 2.2]\n",
      " [6.3 2.8 5.1 1.5]\n",
      " [6.1 2.6 5.6 1.4]\n",
      " [7.7 3.  6.1 2.3]\n",
      " [6.3 3.4 5.6 2.4]\n",
      " [6.4 3.1 5.5 1.8]\n",
      " [6.  3.  4.8 1.8]\n",
      " [6.9 3.1 5.4 2.1]\n",
      " [6.7 3.1 5.6 2.4]\n",
      " [6.9 3.1 5.1 2.3]\n",
      " [5.8 2.7 5.1 1.9]\n",
      " [6.8 3.2 5.9 2.3]\n",
      " [6.7 3.3 5.7 2.5]\n",
      " [6.7 3.  5.2 2.3]\n",
      " [6.3 2.5 5.  1.9]\n",
      " [6.5 3.  5.2 2. ]\n",
      " [6.2 3.4 5.4 2.3]\n",
      " [5.9 3.  5.1 1.8]]\n"
     ]
    }
   ],
   "source": [
    "print(x) # X is all data"
   ],
   "metadata": {
    "collapsed": false,
    "ExecuteTime": {
     "end_time": "2024-03-21T12:58:32.039614Z",
     "start_time": "2024-03-21T12:58:32.029060Z"
    }
   },
   "id": "696666cee1d3b0c7",
   "execution_count": 4
  },
  {
   "cell_type": "code",
   "outputs": [
    {
     "name": "stdout",
     "output_type": "stream",
     "text": [
      "Saving figure classification_vs_clustering_plot\n"
     ]
    },
    {
     "data": {
      "text/plain": "<Figure size 900x350 with 2 Axes>",
      "image/png": "[encoded data removed]"
     },
     "metadata": {},
     "output_type": "display_data"
    }
   ],
   "source": [
    "plt.figure(figsize=(9 , 3.5))\n",
    "\n",
    "plt.subplot(121)\n",
    "plt.plot(x[y == 0, 2], x[y == 0, 3], 'yo' , label=\"Iris setosa\")\n",
    "plt.plot(x[y == 1, 2], x[y == 1, 3], 'bs' , label=\"Iris versicolor\")\n",
    "plt.plot(x[y == 2, 2], x[y == 2, 3], 'g^' , label='Iris virginica')\n",
    "plt.ylabel(\"Petal Width (cm)\", fontsize=14)\n",
    "plt.xlabel(\"Petal Length (cm)\", fontsize=14)\n",
    "plt.title(\"Classification\")\n",
    "plt.legend(fontsize= 12)\n",
    "\n",
    "plt.subplot(122)\n",
    "plt.scatter(x[: , 2], x[: , 3], c=\"k\", marker=\".\")\n",
    "plt.xlabel(\"Petal Length\", fontsize=14)\n",
    "save_fig(\"classification_vs_clustering_plot\")\n",
    "plt.title(\"Clustering\")\n",
    "plt.tick_params(labelleft=False)\n",
    "plt.show()"
   ],
   "metadata": {
    "collapsed": false,
    "ExecuteTime": {
     "end_time": "2024-03-21T12:58:32.749886Z",
     "start_time": "2024-03-21T12:58:32.042165Z"
    }
   },
   "id": "1e51e9c63971f5e1",
   "execution_count": 5
  },
  {
   "cell_type": "markdown",
   "source": [
    "### The above is the iris_data classification and cluster plots.\n",
    "As seen the classification splits all the data with different colours and shapes and classes, whilst the cluster plot just shows where the whole data is, comparative to a given argument. "
   ],
   "metadata": {
    "collapsed": false
   },
   "id": "9045b311cc9fa7ed"
  },
  {
   "cell_type": "markdown",
   "source": [
    "#### Another useful method is called Dimensionality Reduction.\n",
    "> The goal here is to simplify the data without losing much information.\n",
    "> A way to do this is to merge data that is similar or is indicative of the same thing.\n",
    "> Like a car's age being related to its wear and its mileage. So the best action is to merge both mileage and wear into one.\n",
    "* This is called **\"Feature extraction\"**"
   ],
   "metadata": {
    "collapsed": false
   },
   "id": "23d825f972ebc6f2"
  }
 ],
 "metadata": {
  "kernelspec": {
   "display_name": "Python 3",
   "language": "python",
   "name": "python3"
  },
  "language_info": {
   "codemirror_mode": {
    "name": "ipython",
    "version": 2
   },
   "file_extension": ".py",
   "mimetype": "text/x-python",
   "name": "python",
   "nbconvert_exporter": "python",
   "pygments_lexer": "ipython2",
   "version": "2.7.6"
  }
 },
 "nbformat": 4,
 "nbformat_minor": 5
}
