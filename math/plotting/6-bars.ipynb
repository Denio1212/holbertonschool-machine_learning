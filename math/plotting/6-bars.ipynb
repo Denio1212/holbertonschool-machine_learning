{
 "cells": [
  {
   "cell_type": "markdown",
   "source": [
    "# Stacking bar plots here"
   ],
   "metadata": {
    "collapsed": false
   },
   "id": "bfc07643b42cad59"
  },
  {
   "cell_type": "code",
   "outputs": [],
   "source": [
    "import matplotlib.pyplot as plt\n",
    "import numpy as np"
   ],
   "metadata": {
    "collapsed": false,
    "ExecuteTime": {
     "end_time": "2024-02-26T11:24:39.919608900Z",
     "start_time": "2024-02-26T11:24:39.160170800Z"
    }
   },
   "id": "f70e5946f475b0",
   "execution_count": 1
  },
  {
   "cell_type": "code",
   "outputs": [
    {
     "ename": "ValueError",
     "evalue": "shape mismatch: objects cannot be broadcast to a single shape.  Mismatch is between arg 0 with shape (3,) and arg 2 with shape (2,).",
     "output_type": "error",
     "traceback": [
      "\u001B[1;31m---------------------------------------------------------------------------\u001B[0m",
      "\u001B[1;31mValueError\u001B[0m                                Traceback (most recent call last)",
      "Cell \u001B[1;32mIn[27], line 12\u001B[0m\n\u001B[0;32m     10\u001B[0m width \u001B[38;5;241m=\u001B[39m \u001B[38;5;241m0\u001B[39m,\u001B[38;5;241m5\u001B[39m\n\u001B[0;32m     11\u001B[0m \u001B[38;5;28;01mfor\u001B[39;00m i \u001B[38;5;129;01min\u001B[39;00m \u001B[38;5;28mrange\u001B[39m(\u001B[38;5;28mlen\u001B[39m(fruits)):\n\u001B[1;32m---> 12\u001B[0m     \u001B[43max\u001B[49m\u001B[38;5;241;43m.\u001B[39;49m\u001B[43mbar\u001B[49m\u001B[43m(\u001B[49m\u001B[43mpeople\u001B[49m\u001B[43m,\u001B[49m\u001B[43m \u001B[49m\u001B[43mfruit\u001B[49m\u001B[43m[\u001B[49m\u001B[43mi\u001B[49m\u001B[43m]\u001B[49m\u001B[43m,\u001B[49m\u001B[43m \u001B[49m\u001B[43mwidth\u001B[49m\u001B[43m,\u001B[49m\u001B[43m \u001B[49m\u001B[43mbottom\u001B[49m\u001B[38;5;241;43m=\u001B[39;49m\u001B[43mx_axis\u001B[49m\u001B[43m,\u001B[49m\u001B[43m \u001B[49m\u001B[43mlabel\u001B[49m\u001B[38;5;241;43m=\u001B[39;49m\u001B[43mfruits\u001B[49m\u001B[43m[\u001B[49m\u001B[43mi\u001B[49m\u001B[43m]\u001B[49m\u001B[43m,\u001B[49m\u001B[43m \u001B[49m\u001B[43mcolor\u001B[49m\u001B[38;5;241;43m=\u001B[39;49m\u001B[43mcolours\u001B[49m\u001B[43m[\u001B[49m\u001B[43mi\u001B[49m\u001B[43m]\u001B[49m\u001B[43m)\u001B[49m\n\u001B[0;32m     13\u001B[0m     x_axis \u001B[38;5;241m+\u001B[39m\u001B[38;5;241m=\u001B[39m fruit[i]\n\u001B[0;32m     15\u001B[0m ax\u001B[38;5;241m.\u001B[39mset_yticks(np\u001B[38;5;241m.\u001B[39marange(\u001B[38;5;241m0\u001B[39m, \u001B[38;5;241m81\u001B[39m, \u001B[38;5;241m10\u001B[39m))\n",
      "File \u001B[1;32m~\\AppData\\Local\\Programs\\Python\\Python312\\Lib\\site-packages\\matplotlib\\__init__.py:1478\u001B[0m, in \u001B[0;36m_preprocess_data.<locals>.inner\u001B[1;34m(ax, data, *args, **kwargs)\u001B[0m\n\u001B[0;32m   1475\u001B[0m \u001B[38;5;129m@functools\u001B[39m\u001B[38;5;241m.\u001B[39mwraps(func)\n\u001B[0;32m   1476\u001B[0m \u001B[38;5;28;01mdef\u001B[39;00m \u001B[38;5;21minner\u001B[39m(ax, \u001B[38;5;241m*\u001B[39margs, data\u001B[38;5;241m=\u001B[39m\u001B[38;5;28;01mNone\u001B[39;00m, \u001B[38;5;241m*\u001B[39m\u001B[38;5;241m*\u001B[39mkwargs):\n\u001B[0;32m   1477\u001B[0m     \u001B[38;5;28;01mif\u001B[39;00m data \u001B[38;5;129;01mis\u001B[39;00m \u001B[38;5;28;01mNone\u001B[39;00m:\n\u001B[1;32m-> 1478\u001B[0m         \u001B[38;5;28;01mreturn\u001B[39;00m \u001B[43mfunc\u001B[49m\u001B[43m(\u001B[49m\u001B[43max\u001B[49m\u001B[43m,\u001B[49m\u001B[43m \u001B[49m\u001B[38;5;241;43m*\u001B[39;49m\u001B[38;5;28;43mmap\u001B[39;49m\u001B[43m(\u001B[49m\u001B[43msanitize_sequence\u001B[49m\u001B[43m,\u001B[49m\u001B[43m \u001B[49m\u001B[43margs\u001B[49m\u001B[43m)\u001B[49m\u001B[43m,\u001B[49m\u001B[43m \u001B[49m\u001B[38;5;241;43m*\u001B[39;49m\u001B[38;5;241;43m*\u001B[39;49m\u001B[43mkwargs\u001B[49m\u001B[43m)\u001B[49m\n\u001B[0;32m   1480\u001B[0m     bound \u001B[38;5;241m=\u001B[39m new_sig\u001B[38;5;241m.\u001B[39mbind(ax, \u001B[38;5;241m*\u001B[39margs, \u001B[38;5;241m*\u001B[39m\u001B[38;5;241m*\u001B[39mkwargs)\n\u001B[0;32m   1481\u001B[0m     auto_label \u001B[38;5;241m=\u001B[39m (bound\u001B[38;5;241m.\u001B[39marguments\u001B[38;5;241m.\u001B[39mget(label_namer)\n\u001B[0;32m   1482\u001B[0m                   \u001B[38;5;129;01mor\u001B[39;00m bound\u001B[38;5;241m.\u001B[39mkwargs\u001B[38;5;241m.\u001B[39mget(label_namer))\n",
      "File \u001B[1;32m~\\AppData\\Local\\Programs\\Python\\Python312\\Lib\\site-packages\\matplotlib\\axes\\_axes.py:2460\u001B[0m, in \u001B[0;36mAxes.bar\u001B[1;34m(self, x, height, width, bottom, align, **kwargs)\u001B[0m\n\u001B[0;32m   2457\u001B[0m     \u001B[38;5;28;01mif\u001B[39;00m yerr \u001B[38;5;129;01mis\u001B[39;00m \u001B[38;5;129;01mnot\u001B[39;00m \u001B[38;5;28;01mNone\u001B[39;00m:\n\u001B[0;32m   2458\u001B[0m         yerr \u001B[38;5;241m=\u001B[39m \u001B[38;5;28mself\u001B[39m\u001B[38;5;241m.\u001B[39m_convert_dx(yerr, y0, y, \u001B[38;5;28mself\u001B[39m\u001B[38;5;241m.\u001B[39mconvert_yunits)\n\u001B[1;32m-> 2460\u001B[0m x, height, width, y, linewidth, hatch \u001B[38;5;241m=\u001B[39m \u001B[43mnp\u001B[49m\u001B[38;5;241;43m.\u001B[39;49m\u001B[43mbroadcast_arrays\u001B[49m\u001B[43m(\u001B[49m\n\u001B[0;32m   2461\u001B[0m \u001B[43m    \u001B[49m\u001B[38;5;66;43;03m# Make args iterable too.\u001B[39;49;00m\n\u001B[0;32m   2462\u001B[0m \u001B[43m    \u001B[49m\u001B[43mnp\u001B[49m\u001B[38;5;241;43m.\u001B[39;49m\u001B[43matleast_1d\u001B[49m\u001B[43m(\u001B[49m\u001B[43mx\u001B[49m\u001B[43m)\u001B[49m\u001B[43m,\u001B[49m\u001B[43m \u001B[49m\u001B[43mheight\u001B[49m\u001B[43m,\u001B[49m\u001B[43m \u001B[49m\u001B[43mwidth\u001B[49m\u001B[43m,\u001B[49m\u001B[43m \u001B[49m\u001B[43my\u001B[49m\u001B[43m,\u001B[49m\u001B[43m \u001B[49m\u001B[43mlinewidth\u001B[49m\u001B[43m,\u001B[49m\u001B[43m \u001B[49m\u001B[43mhatch\u001B[49m\u001B[43m)\u001B[49m\n\u001B[0;32m   2464\u001B[0m \u001B[38;5;66;03m# Now that units have been converted, set the tick locations.\u001B[39;00m\n\u001B[0;32m   2465\u001B[0m \u001B[38;5;28;01mif\u001B[39;00m orientation \u001B[38;5;241m==\u001B[39m \u001B[38;5;124m'\u001B[39m\u001B[38;5;124mvertical\u001B[39m\u001B[38;5;124m'\u001B[39m:\n",
      "File \u001B[1;32m~\\AppData\\Local\\Programs\\Python\\Python312\\Lib\\site-packages\\numpy\\lib\\stride_tricks.py:540\u001B[0m, in \u001B[0;36mbroadcast_arrays\u001B[1;34m(subok, *args)\u001B[0m\n\u001B[0;32m    533\u001B[0m \u001B[38;5;66;03m# nditer is not used here to avoid the limit of 32 arrays.\u001B[39;00m\n\u001B[0;32m    534\u001B[0m \u001B[38;5;66;03m# Otherwise, something like the following one-liner would suffice:\u001B[39;00m\n\u001B[0;32m    535\u001B[0m \u001B[38;5;66;03m# return np.nditer(args, flags=['multi_index', 'zerosize_ok'],\u001B[39;00m\n\u001B[0;32m    536\u001B[0m \u001B[38;5;66;03m#                  order='C').itviews\u001B[39;00m\n\u001B[0;32m    538\u001B[0m args \u001B[38;5;241m=\u001B[39m [np\u001B[38;5;241m.\u001B[39marray(_m, copy\u001B[38;5;241m=\u001B[39m\u001B[38;5;28;01mFalse\u001B[39;00m, subok\u001B[38;5;241m=\u001B[39msubok) \u001B[38;5;28;01mfor\u001B[39;00m _m \u001B[38;5;129;01min\u001B[39;00m args]\n\u001B[1;32m--> 540\u001B[0m shape \u001B[38;5;241m=\u001B[39m \u001B[43m_broadcast_shape\u001B[49m\u001B[43m(\u001B[49m\u001B[38;5;241;43m*\u001B[39;49m\u001B[43margs\u001B[49m\u001B[43m)\u001B[49m\n\u001B[0;32m    542\u001B[0m \u001B[38;5;28;01mif\u001B[39;00m \u001B[38;5;28mall\u001B[39m(array\u001B[38;5;241m.\u001B[39mshape \u001B[38;5;241m==\u001B[39m shape \u001B[38;5;28;01mfor\u001B[39;00m array \u001B[38;5;129;01min\u001B[39;00m args):\n\u001B[0;32m    543\u001B[0m     \u001B[38;5;66;03m# Common case where nothing needs to be broadcasted.\u001B[39;00m\n\u001B[0;32m    544\u001B[0m     \u001B[38;5;28;01mreturn\u001B[39;00m args\n",
      "File \u001B[1;32m~\\AppData\\Local\\Programs\\Python\\Python312\\Lib\\site-packages\\numpy\\lib\\stride_tricks.py:422\u001B[0m, in \u001B[0;36m_broadcast_shape\u001B[1;34m(*args)\u001B[0m\n\u001B[0;32m    417\u001B[0m \u001B[38;5;250m\u001B[39m\u001B[38;5;124;03m\"\"\"Returns the shape of the arrays that would result from broadcasting the\u001B[39;00m\n\u001B[0;32m    418\u001B[0m \u001B[38;5;124;03msupplied arrays against each other.\u001B[39;00m\n\u001B[0;32m    419\u001B[0m \u001B[38;5;124;03m\"\"\"\u001B[39;00m\n\u001B[0;32m    420\u001B[0m \u001B[38;5;66;03m# use the old-iterator because np.nditer does not handle size 0 arrays\u001B[39;00m\n\u001B[0;32m    421\u001B[0m \u001B[38;5;66;03m# consistently\u001B[39;00m\n\u001B[1;32m--> 422\u001B[0m b \u001B[38;5;241m=\u001B[39m \u001B[43mnp\u001B[49m\u001B[38;5;241;43m.\u001B[39;49m\u001B[43mbroadcast\u001B[49m\u001B[43m(\u001B[49m\u001B[38;5;241;43m*\u001B[39;49m\u001B[43margs\u001B[49m\u001B[43m[\u001B[49m\u001B[43m:\u001B[49m\u001B[38;5;241;43m32\u001B[39;49m\u001B[43m]\u001B[49m\u001B[43m)\u001B[49m\n\u001B[0;32m    423\u001B[0m \u001B[38;5;66;03m# unfortunately, it cannot handle 32 or more arguments directly\u001B[39;00m\n\u001B[0;32m    424\u001B[0m \u001B[38;5;28;01mfor\u001B[39;00m pos \u001B[38;5;129;01min\u001B[39;00m \u001B[38;5;28mrange\u001B[39m(\u001B[38;5;241m32\u001B[39m, \u001B[38;5;28mlen\u001B[39m(args), \u001B[38;5;241m31\u001B[39m):\n\u001B[0;32m    425\u001B[0m     \u001B[38;5;66;03m# ironically, np.broadcast does not properly handle np.broadcast\u001B[39;00m\n\u001B[0;32m    426\u001B[0m     \u001B[38;5;66;03m# objects (it treats them as scalars)\u001B[39;00m\n\u001B[0;32m    427\u001B[0m     \u001B[38;5;66;03m# use broadcasting to avoid allocating the full array\u001B[39;00m\n",
      "\u001B[1;31mValueError\u001B[0m: shape mismatch: objects cannot be broadcast to a single shape.  Mismatch is between arg 0 with shape (3,) and arg 2 with shape (2,)."
     ]
    },
    {
     "data": {
      "text/plain": "<Figure size 640x480 with 1 Axes>",
      "image/png": "[encoded data removed]"
     },
     "metadata": {},
     "output_type": "display_data"
    }
   ],
   "source": [
    "np.random.seed(5)\n",
    "fruit = np.random.randint(0, 20, (4,3))\n",
    "\n",
    "colours = [\"red\", \"yellow\", \"#ff8000\", \"#ffe5b4\"]\n",
    "fruits = [\"apples\", \"bananas\", \"oranges\", \"peaches\"]\n",
    "people = [\"Farrah\", \"Fred\", \"Felicia\"]\n",
    "\n",
    "x_axis = np.zeros(len(people))\n",
    "fig, ax = plt.subplots()\n",
    "width = 0,5\n",
    "for i in range(len(fruits)):\n",
    "    ax.bar(people, fruit[i], width, bottom=x_axis, label=fruits[i],\n",
    "           color=colours[i])\n",
    "    x_axis += fruit[i]\n",
    "\n",
    "ax.set_yticks(np.arange(0, 81, 10))\n",
    "ax.set_xlabel(\"Quantity of Fruit\")\n",
    "ax.set_title(\"Number of Fruit per Person\")\n",
    "ax.legend()"
   ],
   "metadata": {
    "collapsed": false,
    "ExecuteTime": {
     "end_time": "2024-02-26T11:55:53.021187200Z",
     "start_time": "2024-02-26T11:55:52.861226700Z"
    }
   },
   "id": "eb96ffca638eb469",
   "execution_count": 27
  },
  {
   "cell_type": "code",
   "outputs": [],
   "source": [],
   "metadata": {
    "collapsed": false
   },
   "id": "5ae18ae1e2333fa4"
  }
 ],
 "metadata": {
  "kernelspec": {
   "display_name": "Python 3",
   "language": "python",
   "name": "python3"
  },
  "language_info": {
   "codemirror_mode": {
    "name": "ipython",
    "version": 2
   },
   "file_extension": ".py",
   "mimetype": "text/x-python",
   "name": "python",
   "nbconvert_exporter": "python",
   "pygments_lexer": "ipython2",
   "version": "2.7.6"
  }
 },
 "nbformat": 4,
 "nbformat_minor": 5
}
