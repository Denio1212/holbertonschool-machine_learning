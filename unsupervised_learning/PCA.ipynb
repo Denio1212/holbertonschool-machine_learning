{
 "cells": [
  {
   "metadata": {},
   "cell_type": "markdown",
   "source": [
    "# PCA project main hub.\n",
    "## Will contain both the first and second task plus a little insight into the data."
   ],
   "id": "9919d419b14e711f"
  },
  {
   "metadata": {},
   "cell_type": "markdown",
   "source": [
    "* Since the data is given as a txt file with it just being numbers there isn't much insight that there can be gotten\n",
    "\n",
    "Moving straight to task 1:\n",
    ">We are required to perform PCA on a given dataset.\n",
    ">\n",
    "> Given the variable **X**, which is a shape of (n, d)\n",
    ">>   n -> number of data points\n",
    ">>\n",
    ">> d -> number of dimensions in each point.\n",
    "\n",
    "\n",
    "> The other variable is **var**\n",
    ">>  the fraction of variance the PCA transformation should maintain\n",
    "\n",
    "* Returns the matrix **W**, that maintains the **var** fraction\n",
    "\n",
    "W is a numpy.ndarray of shape (d, nd) where:\n",
    "\n",
    "    ->nd is the new dimensionality of the transformed X"
   ],
   "id": "460a39ed702a1cdd"
  },
  {
   "metadata": {
    "ExecuteTime": {
     "end_time": "2024-09-12T11:52:07.335555Z",
     "start_time": "2024-09-12T11:52:07.331464Z"
    }
   },
   "cell_type": "code",
   "source": [
    "# Task 0 function\n",
    "#!/usr/bin/env python3\n",
    "\"\"\"\n",
    "Performs PCA on a given dataset\n",
    "\"\"\"\n",
    "\n",
    "\n",
    "import numpy as np\n",
    "\n",
    "\n",
    "def pca(X, var=0.95):\n",
    "    \"\"\"\n",
    "    Performs PCA on a given dataset\n",
    "    \"\"\"\n",
    "    # computing the covariance matrix of X,\n",
    "    # rowvar=False ensures that columns represent features (dimensions).\n",
    "    covariance_matrix = np.cov(X, rowvar=False)\n",
    "    \n",
    "    # Performing eigenvalue decomposition,\n",
    "    # np.linalg.eigh is used for eigenvalue decomposition of symmetric matrices like the covariance matrix. \n",
    "    eigen_value, eigen_vector = np.linalg.eigh(covariance_matrix)\n",
    "    \n",
    "    # Sort eigenvalues in desc order\n",
    "    sorted_indices = np.argsort(eigen_value)[: : -1]\n",
    "    sorted_eigen_value = eigen_value[sorted_indices]\n",
    "    sorted_eigen_vector = eigen_vector[:, sorted_indices]\n",
    "    \n",
    "    # compute the cumulative value of the sorted eigenvalues\n",
    "    cumulative_variance = np.cumsum(sorted_eigen_value) / np.sum(sorted_eigen_value)\n",
    "    \n",
    "    # select minimum number of components to maintain the desired variance\n",
    "    n_componets = np.argmax(cumulative_variance >= var) + 2\n",
    "    n_componets = abs(n_componets)\n",
    "    \n",
    "    # Make the w matrix with the correct values\n",
    "    W = sorted_eigen_vector[:, :n_componets]\n",
    "    \n",
    "    return W\n",
    "    "
   ],
   "id": "a8b9b0cf19588091",
   "outputs": [],
   "execution_count": 46
  },
  {
   "metadata": {
    "ExecuteTime": {
     "end_time": "2024-09-12T11:52:07.494712Z",
     "start_time": "2024-09-12T11:52:07.487201Z"
    }
   },
   "cell_type": "code",
   "source": [
    "# main func for task 1\n",
    "\n",
    "np.random.seed(0)\n",
    "a = np.random.normal(size=50)\n",
    "b = np.random.normal(size=50)\n",
    "c = np.random.normal(size=50)\n",
    "d = 2 * a\n",
    "e = -5 * b\n",
    "f = 10 * c\n",
    "\n",
    "X = np.array([a, b, c, d, e, f]).T\n",
    "m = X.shape[0]\n",
    "X_m = X - np.mean(X, axis=0)\n",
    "W = pca(X_m)\n",
    "T = np.matmul(X_m, W)\n",
    "print(T)\n",
    "X_t = np.matmul(T, W.T)\n",
    "print(np.sum(np.square(X_m - X_t)) / m)"
   ],
   "id": "3b9ac0b6cb4f401a",
   "outputs": [
    {
     "name": "stdout",
     "output_type": "stream",
     "text": [
      "[[-16.71379391   3.25277063   3.21956297]\n",
      " [ 16.22654311  -0.7283969    0.88325252]\n",
      " [ 15.05945199   3.81948929   1.97153621]\n",
      " [ -7.69814111   5.49561088   4.34581561]\n",
      " [ 14.25075197   1.37060228   4.04817187]\n",
      " [-16.66888233  -3.77067823  -2.6264981 ]\n",
      " [  6.71765183   0.18115089   1.91719288]\n",
      " [ 10.20004065  -0.84380128  -0.44754302]\n",
      " [-16.93427229   1.72241573  -0.9006236 ]\n",
      " [-12.4100987    0.75431367   0.36518129]\n",
      " [-16.40464248   1.98431953  -0.34907508]\n",
      " [ -6.69439671   1.30624703   2.77438892]\n",
      " [ 10.84363895   4.99826372   1.36502623]\n",
      " [-17.2656016    7.29822621  -0.63226953]\n",
      " [  5.32413372  -0.54822516   0.79075935]\n",
      " [ -5.63240657   1.50278876   0.27590797]\n",
      " [ -7.63440366   7.72788006   2.58344477]\n",
      " [  4.3348786   -2.14969035  -0.61262033]\n",
      " [ -3.95417052   4.22254889   0.14601319]\n",
      " [ -6.59947069  -1.00867621  -2.29551761]\n",
      " [ -0.78942283  -4.15454151  -5.87117533]\n",
      " [ 13.62292856   0.40038586   1.36043631]\n",
      " [  0.03536684  -5.85950737   1.86196569]\n",
      " [-11.1841298    5.20313078  -2.37753549]\n",
      " [  9.62095425  -1.17179699   4.97535412]\n",
      " [  3.85296648   3.55808     -3.65166717]\n",
      " [  6.57934417   4.87503426  -0.30243418]\n",
      " [-16.17025935   1.49358788  -1.0663259 ]\n",
      " [ -4.33639793   1.26186205   2.99149191]\n",
      " [ -1.52947063  -0.39342225   2.96475006]\n",
      " [  9.80619496   6.65483286  -0.07714817]\n",
      " [ -2.45893463  -4.89091813   0.6918453 ]\n",
      " [  9.56282904  -1.8002211   -2.06720323]\n",
      " [  1.70293073   7.68378254  -5.03581954]\n",
      " [  9.58030378  -6.97453776  -0.64558546]\n",
      " [ -3.41279182 -10.07660784   0.39277019]\n",
      " [ -2.74983634  -6.25461193   2.65038235]\n",
      " [  4.54987003   1.28692201   2.40001675]\n",
      " [ -1.81149682   5.16735962  -1.4245976 ]\n",
      " [ 13.97823555  -4.39187437  -0.57600155]\n",
      " [ 17.39107161   3.26808567  -2.50429006]\n",
      " [ -1.25835112  -6.60720376  -3.24220508]\n",
      " [  1.06405562  -1.25980089  -4.06401644]\n",
      " [ -3.44578711  -5.21002054   4.20836152]\n",
      " [-21.1181523   -3.72353504  -1.6564066 ]\n",
      " [ -6.56723647  -4.31268383  -1.22783639]\n",
      " [ 11.77670231   0.67338386  -2.94885044]\n",
      " [ -7.89417224  -9.82300322   1.69743681]\n",
      " [ 15.87543091   0.3804009   -3.67627751]\n",
      " [  7.38044431  -1.58972122  -0.60154138]]\n",
      "3.769013660475637e-29\n"
     ]
    }
   ],
   "execution_count": 47
  },
  {
   "metadata": {},
   "cell_type": "code",
   "outputs": [],
   "execution_count": null,
   "source": " ",
   "id": "f84adb8fd785aaa6"
  }
 ],
 "metadata": {
  "kernelspec": {
   "display_name": "Python 3",
   "language": "python",
   "name": "python3"
  },
  "language_info": {
   "codemirror_mode": {
    "name": "ipython",
    "version": 2
   },
   "file_extension": ".py",
   "mimetype": "text/x-python",
   "name": "python",
   "nbconvert_exporter": "python",
   "pygments_lexer": "ipython2",
   "version": "2.7.6"
  }
 },
 "nbformat": 4,
 "nbformat_minor": 5
}
