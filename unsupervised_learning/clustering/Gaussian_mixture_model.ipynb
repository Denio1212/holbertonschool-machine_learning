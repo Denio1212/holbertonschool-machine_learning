{
 "cells": [
  {
   "metadata": {},
   "cell_type": "markdown",
   "source": [
    "# The Gaussian Mixture model\n",
    "\n",
    " Unlike methods like K-Means, which assign each point to a single cluster, GMM gives a probability for each point to belong to different clusters, making it more flexible for complex datasets where clusters may overlap or have different shapes."
   ],
   "id": "ae17b2ffd12394ed"
  },
  {
   "metadata": {},
   "cell_type": "markdown",
   "source": [
    "## Task 4, Initializing the GMM\n",
    "\n",
    "* X is a numpy.ndarray of shape (n, d) containing the data set\n",
    "- k is a positive integer containing the number of cluster\n",
    "* You are not allowed to use any loops\n",
    "- Returns: pi, m, S, or None, None, None on failure\n",
    "pi is a numpy.ndarray of shape (k,) containing the priors for each cluster, initialized evenly\n",
    "m is a numpy.ndarray of shape (k, d) containing the centroid means for each cluster, initialized with K-means\n",
    "S is a numpy.ndarray of shape (k, d, d) containing the covariance matrices for each cluster, initialized as identity matrices"
   ],
   "id": "e869f87f872241ea"
  },
  {
   "metadata": {
    "ExecuteTime": {
     "end_time": "2024-09-22T12:27:37.176189Z",
     "start_time": "2024-09-22T12:27:37.172248Z"
    }
   },
   "cell_type": "code",
   "source": [
    "#!/usr/bin/env python3\n",
    "\"\"\"\n",
    "Initializes variables for a Gaussian mixture model.\n",
    "\"\"\"\n",
    "\n",
    "\n",
    "import numpy as np\n",
    "kmeans = __import__('1-kmeans').kmeans\n",
    "\n",
    "\n",
    "def initialize(X, k):\n",
    "    \"\"\"\n",
    "    Initializes variables for a Gaussian Mixture Mode\n",
    "    \"\"\"\n",
    "    if not isinstance(X, np.ndarray) or len(X.shape) != 2:\n",
    "        return None, None, None\n",
    "    if not isinstance(k, int) or k < 1:\n",
    "        return None, None, None\n",
    "    \n",
    "    n, d = X.shape\n",
    "    \n",
    "    phi = np.ones(k) / k\n",
    "    \n",
    "    m, _ = kmeans(X, k)\n",
    "    \n",
    "    S = np.tile(np.identity(d), (k, 1)).reshape(k, d, d)\n",
    "    \n",
    "    return phi, m, S\n"
   ],
   "id": "dc4ead0dcee8499e",
   "outputs": [],
   "execution_count": 3
  },
  {
   "metadata": {
    "ExecuteTime": {
     "end_time": "2024-09-22T12:27:37.673313Z",
     "start_time": "2024-09-22T12:27:37.488270Z"
    }
   },
   "cell_type": "code",
   "source": [
    "# main func\n",
    "\n",
    "if __name__ == '__main__':\n",
    "    np.random.seed(11)\n",
    "    a = np.random.multivariate_normal([30, 40], [[75, 5], [5, 75]], size=10000)\n",
    "    b = np.random.multivariate_normal([5, 25], [[16, 10], [10, 16]], size=750)\n",
    "    c = np.random.multivariate_normal([60, 30], [[16, 0], [0, 16]], size=750)\n",
    "    d = np.random.multivariate_normal([20, 70], [[35, 10], [10, 35]], size=1000)\n",
    "    X = np.concatenate((a, b, c, d), axis=0)\n",
    "    np.random.shuffle(X)\n",
    "    pi, m, S = initialize(X, 4)\n",
    "    print(pi)\n",
    "    print(m)\n",
    "    print(S)"
   ],
   "id": "2b6d0983b137fe46",
   "outputs": [
    {
     "name": "stdout",
     "output_type": "stream",
     "text": [
      "[0.25 0.25 0.25 0.25]\n",
      "[[54.73711515 31.81393242]\n",
      " [16.84012557 31.20248225]\n",
      " [21.43215816 65.50449077]\n",
      " [32.3301925  41.80664127]]\n",
      "[[[1. 0.]\n",
      "  [0. 1.]]\n",
      "\n",
      " [[1. 0.]\n",
      "  [0. 1.]]\n",
      "\n",
      " [[1. 0.]\n",
      "  [0. 1.]]\n",
      "\n",
      " [[1. 0.]\n",
      "  [0. 1.]]]\n"
     ]
    }
   ],
   "execution_count": 4
  },
  {
   "metadata": {},
   "cell_type": "markdown",
   "source": [
    "## PDF\n",
    "\n",
    "Calculates the probability density function of a Gaussian distribution\n",
    "\n",
    "* X is a numpy.ndarray of shape (n, d) containing the data points whose PDF should be evaluated\n",
    "- m is a numpy.ndarray of shape (d,) containing the mean of the distribution\n",
    "* You are not allowed to use any loops\n",
    "- You are not allowed to use the function numpy.diag or the method numpy.ndarray.diagonal\n",
    "* Returns: P, or None on failure\n",
    "P is a numpy.ndarray of shape (n,) containing the PDF values for each data point\n",
    "- All values in P should have a minimum value of 1e-300"
   ],
   "id": "faadd81faf8fd693"
  },
  {
   "metadata": {
    "ExecuteTime": {
     "end_time": "2024-09-22T16:40:52.795520Z",
     "start_time": "2024-09-22T16:40:52.704225Z"
    }
   },
   "cell_type": "code",
   "source": [
    "#!/usr/bin/env python3\n",
    "\"\"\"\n",
    "Calculates the probability density function of a Gaussian Distribution\n",
    "\"\"\"\n",
    "\n",
    "\n",
    "import numpy as np\n",
    "\n",
    "\n",
    "def pdf(X, m, S):\n",
    "    \"\"\"\n",
    "    Calculates the probability density function of a Gaussian Distribution\n",
    "    \"\"\"\n",
    "    if not isinstance(X, np.ndarray) or len(X.shape) != 2:\n",
    "        return None\n",
    "    if not isinstance(m, np.ndarray) or len(m.shape) != 1:\n",
    "        return None\n",
    "    if not isinstance(S, np.ndarray) or len(S.shape) != 2:\n",
    "        return None\n",
    "    if S.shape[0] != S.shape[1]:\n",
    "        return None\n",
    "    \n",
    "    n, d = X.shape\n",
    "    mean = m\n",
    "    x_m = X - mean\n",
    "    \n",
    "    det_S = np.linalg.det(S)\n",
    "    \n",
    "    inv_S = np.linalg.inv(S)\n",
    "    \n",
    "    part_1_dem = np.sqrt(det_S) * ((2 * np.pi) ** (d / 2))\n",
    "    \n",
    "    part_2 = np.matmul(x_m, inv_S)\n",
    "    \n",
    "    part_2_1 = np.sum(x_m * part_2, axis=1)\n",
    "    \n",
    "    part_2_2 = np.sum(x_m * part_2, axis=1)\n",
    "    \n",
    "    pdf = part_2_2 / part_1_dem\n",
    "    P = np.where(pdf < 1e-300, 1e-300, pdf)\n",
    "    return P\n"
   ],
   "id": "1319b6420ff42148",
   "outputs": [],
   "execution_count": 1
  },
  {
   "metadata": {
    "ExecuteTime": {
     "end_time": "2024-09-22T16:41:05.123158Z",
     "start_time": "2024-09-22T16:41:05.114079Z"
    }
   },
   "cell_type": "code",
   "source": [
    "# main func\n",
    "\n",
    "if __name__ == '__main__':\n",
    "    np.random.seed(0)\n",
    "    m = np.array([12, 30, 10])\n",
    "    S = np.array([[36, -30, 15], [-30, 100, -20], [15, -20, 25]])\n",
    "    X = np.random.multivariate_normal(m, S, 10000)\n",
    "    P = pdf(X, m, S)\n",
    "    print(P)"
   ],
   "id": "da1a25a293914bd",
   "outputs": [
    {
     "name": "stdout",
     "output_type": "stream",
     "text": [
      "[0.00121828 0.00272588 0.00026965 ... 0.00048263 0.0002508  0.00138663]\n"
     ]
    }
   ],
   "execution_count": 2
  },
  {
   "metadata": {},
   "cell_type": "code",
   "outputs": [],
   "execution_count": null,
   "source": "",
   "id": "16f03739b3a2db9e"
  }
 ],
 "metadata": {
  "kernelspec": {
   "display_name": "Python 3",
   "language": "python",
   "name": "python3"
  },
  "language_info": {
   "codemirror_mode": {
    "name": "ipython",
    "version": 2
   },
   "file_extension": ".py",
   "mimetype": "text/x-python",
   "name": "python",
   "nbconvert_exporter": "python",
   "pygments_lexer": "ipython2",
   "version": "2.7.6"
  }
 },
 "nbformat": 4,
 "nbformat_minor": 5
}
