{
 "cells": [
  {
   "cell_type": "markdown",
   "source": [
    "# Based on the 11-concat function previously\n",
    "### Rearrange the Index levels so that timestamp is the first level\n",
    "* Concatenate the bitstamp and coinbase tables from timestamps 1417411980 to 1417417980, inclusive\n",
    "* Add keyes to the data labeled bitstamp and coinbase respectively\n",
    "* Display the rows in chronological order  "
   ],
   "metadata": {
    "collapsed": false
   },
   "id": "b7d026c50d7c96f6"
  },
  {
   "cell_type": "code",
   "outputs": [
    {
     "data": {
      "text/plain": "             Open   High    Low  Close  Volume_(BTC)  Volume_(Currency)  \\\nTimestamp                                                                 \n1417411980  300.0  300.0  300.0  300.0          0.01                3.0   \n1417412040    NaN    NaN    NaN    NaN           NaN                NaN   \n1417412100    NaN    NaN    NaN    NaN           NaN                NaN   \n1417412160    NaN    NaN    NaN    NaN           NaN                NaN   \n1417412220    NaN    NaN    NaN    NaN           NaN                NaN   \n\n            Weighted_Price  \nTimestamp                   \n1417411980           300.0  \n1417412040             NaN  \n1417412100             NaN  \n1417412160             NaN  \n1417412220             NaN  ",
      "text/html": "<div>\n<style scoped>\n    .dataframe tbody tr th:only-of-type {\n        vertical-align: middle;\n    }\n\n    .dataframe tbody tr th {\n        vertical-align: top;\n    }\n\n    .dataframe thead th {\n        text-align: right;\n    }\n</style>\n<table border=\"1\" class=\"dataframe\">\n  <thead>\n    <tr style=\"text-align: right;\">\n      <th></th>\n      <th>Open</th>\n      <th>High</th>\n      <th>Low</th>\n      <th>Close</th>\n      <th>Volume_(BTC)</th>\n      <th>Volume_(Currency)</th>\n      <th>Weighted_Price</th>\n    </tr>\n    <tr>\n      <th>Timestamp</th>\n      <th></th>\n      <th></th>\n      <th></th>\n      <th></th>\n      <th></th>\n      <th></th>\n      <th></th>\n    </tr>\n  </thead>\n  <tbody>\n    <tr>\n      <th>1417411980</th>\n      <td>300.0</td>\n      <td>300.0</td>\n      <td>300.0</td>\n      <td>300.0</td>\n      <td>0.01</td>\n      <td>3.0</td>\n      <td>300.0</td>\n    </tr>\n    <tr>\n      <th>1417412040</th>\n      <td>NaN</td>\n      <td>NaN</td>\n      <td>NaN</td>\n      <td>NaN</td>\n      <td>NaN</td>\n      <td>NaN</td>\n      <td>NaN</td>\n    </tr>\n    <tr>\n      <th>1417412100</th>\n      <td>NaN</td>\n      <td>NaN</td>\n      <td>NaN</td>\n      <td>NaN</td>\n      <td>NaN</td>\n      <td>NaN</td>\n      <td>NaN</td>\n    </tr>\n    <tr>\n      <th>1417412160</th>\n      <td>NaN</td>\n      <td>NaN</td>\n      <td>NaN</td>\n      <td>NaN</td>\n      <td>NaN</td>\n      <td>NaN</td>\n      <td>NaN</td>\n    </tr>\n    <tr>\n      <th>1417412220</th>\n      <td>NaN</td>\n      <td>NaN</td>\n      <td>NaN</td>\n      <td>NaN</td>\n      <td>NaN</td>\n      <td>NaN</td>\n      <td>NaN</td>\n    </tr>\n  </tbody>\n</table>\n</div>"
     },
     "execution_count": 7,
     "metadata": {},
     "output_type": "execute_result"
    }
   ],
   "source": [
    "import pandas as pd\n",
    "\n",
    "coin = pd.read_csv(\"coinbaseUSD_1-min_data_2014-12-01_to_2019-01-09.csv\")\n",
    "bit = pd.read_csv(\"bitstampUSD_1-min_data_2012-01-01_to_2020-04-22.csv\")\n",
    "\n",
    "coin.set_index(\"Timestamp\", inplace=True)\n",
    "coin.head()"
   ],
   "metadata": {
    "collapsed": false,
    "ExecuteTime": {
     "end_time": "2024-03-04T16:35:35.277900100Z",
     "start_time": "2024-03-04T16:35:30.267441100Z"
    }
   },
   "id": "6cadc3a5f279589f",
   "execution_count": 7
  },
  {
   "cell_type": "code",
   "outputs": [
    {
     "data": {
      "text/plain": "            Open  High   Low  Close  Volume_(BTC)  Volume_(Currency)  \\\nTimestamp                                                              \n1325317920  4.39  4.39  4.39   4.39      0.455581                2.0   \n1325317980   NaN   NaN   NaN    NaN           NaN                NaN   \n1325318040   NaN   NaN   NaN    NaN           NaN                NaN   \n1325318100   NaN   NaN   NaN    NaN           NaN                NaN   \n1325318160   NaN   NaN   NaN    NaN           NaN                NaN   \n\n            Weighted_Price  \nTimestamp                   \n1325317920            4.39  \n1325317980             NaN  \n1325318040             NaN  \n1325318100             NaN  \n1325318160             NaN  ",
      "text/html": "<div>\n<style scoped>\n    .dataframe tbody tr th:only-of-type {\n        vertical-align: middle;\n    }\n\n    .dataframe tbody tr th {\n        vertical-align: top;\n    }\n\n    .dataframe thead th {\n        text-align: right;\n    }\n</style>\n<table border=\"1\" class=\"dataframe\">\n  <thead>\n    <tr style=\"text-align: right;\">\n      <th></th>\n      <th>Open</th>\n      <th>High</th>\n      <th>Low</th>\n      <th>Close</th>\n      <th>Volume_(BTC)</th>\n      <th>Volume_(Currency)</th>\n      <th>Weighted_Price</th>\n    </tr>\n    <tr>\n      <th>Timestamp</th>\n      <th></th>\n      <th></th>\n      <th></th>\n      <th></th>\n      <th></th>\n      <th></th>\n      <th></th>\n    </tr>\n  </thead>\n  <tbody>\n    <tr>\n      <th>1325317920</th>\n      <td>4.39</td>\n      <td>4.39</td>\n      <td>4.39</td>\n      <td>4.39</td>\n      <td>0.455581</td>\n      <td>2.0</td>\n      <td>4.39</td>\n    </tr>\n    <tr>\n      <th>1325317980</th>\n      <td>NaN</td>\n      <td>NaN</td>\n      <td>NaN</td>\n      <td>NaN</td>\n      <td>NaN</td>\n      <td>NaN</td>\n      <td>NaN</td>\n    </tr>\n    <tr>\n      <th>1325318040</th>\n      <td>NaN</td>\n      <td>NaN</td>\n      <td>NaN</td>\n      <td>NaN</td>\n      <td>NaN</td>\n      <td>NaN</td>\n      <td>NaN</td>\n    </tr>\n    <tr>\n      <th>1325318100</th>\n      <td>NaN</td>\n      <td>NaN</td>\n      <td>NaN</td>\n      <td>NaN</td>\n      <td>NaN</td>\n      <td>NaN</td>\n      <td>NaN</td>\n    </tr>\n    <tr>\n      <th>1325318160</th>\n      <td>NaN</td>\n      <td>NaN</td>\n      <td>NaN</td>\n      <td>NaN</td>\n      <td>NaN</td>\n      <td>NaN</td>\n      <td>NaN</td>\n    </tr>\n  </tbody>\n</table>\n</div>"
     },
     "execution_count": 6,
     "metadata": {},
     "output_type": "execute_result"
    }
   ],
   "source": [
    "bit = bit.set_index(\"Timestamp\")\n",
    "bit.head()"
   ],
   "metadata": {
    "collapsed": false,
    "ExecuteTime": {
     "end_time": "2024-03-04T16:35:27.539613500Z",
     "start_time": "2024-03-04T16:35:27.411764800Z"
    }
   },
   "id": "bb8c05452534ceca",
   "execution_count": 6
  },
  {
   "cell_type": "code",
   "outputs": [
    {
     "name": "stdout",
     "output_type": "stream",
     "text": [
      "Empty DataFrame\n",
      "Columns: [Timestamp, Open, High, Low, Close, Volume_(BTC), Volume_(Currency), Weighted_Price]\n",
      "Index: []\n",
      "             Open   High    Low  Close  Volume_(BTC)  Volume_(Currency)  \\\n",
      "Timestamp                                                                 \n",
      "1417411980  300.0  300.0  300.0  300.0          0.01                3.0   \n",
      "1417412040    NaN    NaN    NaN    NaN           NaN                NaN   \n",
      "1417412100    NaN    NaN    NaN    NaN           NaN                NaN   \n",
      "1417412160    NaN    NaN    NaN    NaN           NaN                NaN   \n",
      "1417412220    NaN    NaN    NaN    NaN           NaN                NaN   \n",
      "\n",
      "            Weighted_Price  \n",
      "Timestamp                   \n",
      "1417411980           300.0  \n",
      "1417412040             NaN  \n",
      "1417412100             NaN  \n",
      "1417412160             NaN  \n",
      "1417412220             NaN  \n"
     ]
    }
   ],
   "source": [
    "coin_concat = coin.loc[1417411980 : 1417417980]\n",
    "bit_concat = bit.loc[1417411980 : 1417417980]\n",
    "\n",
    "print(bit_concat.head())\n",
    "print(coin_concat.head())"
   ],
   "metadata": {
    "collapsed": false,
    "ExecuteTime": {
     "end_time": "2024-03-04T16:53:41.804077800Z",
     "start_time": "2024-03-04T16:53:41.781785700Z"
    }
   },
   "id": "21931c8d7f6c2020",
   "execution_count": 30
  },
  {
   "cell_type": "code",
   "outputs": [
    {
     "name": "stdout",
     "output_type": "stream",
     "text": [
      "                      Open   High    Low  Close  Volume_(BTC)  \\\n",
      "1417411980 coinbase  300.0  300.0  300.0  300.0          0.01   \n",
      "1417412040 coinbase    NaN    NaN    NaN    NaN           NaN   \n",
      "1417412100 coinbase    NaN    NaN    NaN    NaN           NaN   \n",
      "1417412160 coinbase    NaN    NaN    NaN    NaN           NaN   \n",
      "1417412220 coinbase    NaN    NaN    NaN    NaN           NaN   \n",
      "...                    ...    ...    ...    ...           ...   \n",
      "1417417740 coinbase    NaN    NaN    NaN    NaN           NaN   \n",
      "1417417800 coinbase    NaN    NaN    NaN    NaN           NaN   \n",
      "1417417860 coinbase    NaN    NaN    NaN    NaN           NaN   \n",
      "1417417920 coinbase    NaN    NaN    NaN    NaN           NaN   \n",
      "1417417980 coinbase    NaN    NaN    NaN    NaN           NaN   \n",
      "\n",
      "                     Volume_(Currency)  Weighted_Price  Timestamp  \n",
      "1417411980 coinbase                3.0           300.0        NaN  \n",
      "1417412040 coinbase                NaN             NaN        NaN  \n",
      "1417412100 coinbase                NaN             NaN        NaN  \n",
      "1417412160 coinbase                NaN             NaN        NaN  \n",
      "1417412220 coinbase                NaN             NaN        NaN  \n",
      "...                                ...             ...        ...  \n",
      "1417417740 coinbase                NaN             NaN        NaN  \n",
      "1417417800 coinbase                NaN             NaN        NaN  \n",
      "1417417860 coinbase                NaN             NaN        NaN  \n",
      "1417417920 coinbase                NaN             NaN        NaN  \n",
      "1417417980 coinbase                NaN             NaN        NaN  \n",
      "\n",
      "[101 rows x 8 columns]\n"
     ]
    }
   ],
   "source": [
    "both = pd.concat([coin_concat, bit_concat], keys=[\"coinbase\", \"bitstamp\"])\n",
    "\n",
    "both_fixed = both.swaplevel(i = 0, j = 1).sort_index()\n",
    "\n",
    "print(both_fixed)"
   ],
   "metadata": {
    "collapsed": false,
    "ExecuteTime": {
     "end_time": "2024-03-04T16:51:31.579638800Z",
     "start_time": "2024-03-04T16:51:31.555813800Z"
    }
   },
   "id": "9a728f33b147a0c",
   "execution_count": 29
  },
  {
   "cell_type": "code",
   "outputs": [],
   "source": [],
   "metadata": {
    "collapsed": false
   },
   "id": "9e1220301ca0390e"
  }
 ],
 "metadata": {
  "kernelspec": {
   "display_name": "Python 3",
   "language": "python",
   "name": "python3"
  },
  "language_info": {
   "codemirror_mode": {
    "name": "ipython",
    "version": 2
   },
   "file_extension": ".py",
   "mimetype": "text/x-python",
   "name": "python",
   "nbconvert_exporter": "python",
   "pygments_lexer": "ipython2",
   "version": "2.7.6"
  }
 },
 "nbformat": 4,
 "nbformat_minor": 5
}
