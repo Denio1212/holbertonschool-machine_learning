{
 "cells": [
  {
   "cell_type": "markdown",
   "source": [
    "# Based on the 11-concat function previously\n",
    "### Rearrange the Index levels so that timestamp is the first level\n",
    "* Concatenate the bitstamp and coinbase tables from timestamps 1417411980 to 1417417980, inclusive\n",
    "* Add keyes to the data labeled bitstamp and coinbase respectively\n",
    "* Displays the rows in chronological order  "
   ],
   "metadata": {
    "collapsed": false
   },
   "id": "b7d026c50d7c96f6"
  },
  {
   "cell_type": "code",
   "outputs": [
    {
     "data": {
      "text/plain": "             Open   High    Low  Close  Volume_(BTC)  Volume_(Currency)  \\\nTimestamp                                                                 \n1417411980  300.0  300.0  300.0  300.0          0.01                3.0   \n1417412040    NaN    NaN    NaN    NaN           NaN                NaN   \n1417412100    NaN    NaN    NaN    NaN           NaN                NaN   \n1417412160    NaN    NaN    NaN    NaN           NaN                NaN   \n1417412220    NaN    NaN    NaN    NaN           NaN                NaN   \n\n            Weighted_Price  \nTimestamp                   \n1417411980           300.0  \n1417412040             NaN  \n1417412100             NaN  \n1417412160             NaN  \n1417412220             NaN  ",
      "text/html": "<div>\n<style scoped>\n    .dataframe tbody tr th:only-of-type {\n        vertical-align: middle;\n    }\n\n    .dataframe tbody tr th {\n        vertical-align: top;\n    }\n\n    .dataframe thead th {\n        text-align: right;\n    }\n</style>\n<table border=\"1\" class=\"dataframe\">\n  <thead>\n    <tr style=\"text-align: right;\">\n      <th></th>\n      <th>Open</th>\n      <th>High</th>\n      <th>Low</th>\n      <th>Close</th>\n      <th>Volume_(BTC)</th>\n      <th>Volume_(Currency)</th>\n      <th>Weighted_Price</th>\n    </tr>\n    <tr>\n      <th>Timestamp</th>\n      <th></th>\n      <th></th>\n      <th></th>\n      <th></th>\n      <th></th>\n      <th></th>\n      <th></th>\n    </tr>\n  </thead>\n  <tbody>\n    <tr>\n      <th>1417411980</th>\n      <td>300.0</td>\n      <td>300.0</td>\n      <td>300.0</td>\n      <td>300.0</td>\n      <td>0.01</td>\n      <td>3.0</td>\n      <td>300.0</td>\n    </tr>\n    <tr>\n      <th>1417412040</th>\n      <td>NaN</td>\n      <td>NaN</td>\n      <td>NaN</td>\n      <td>NaN</td>\n      <td>NaN</td>\n      <td>NaN</td>\n      <td>NaN</td>\n    </tr>\n    <tr>\n      <th>1417412100</th>\n      <td>NaN</td>\n      <td>NaN</td>\n      <td>NaN</td>\n      <td>NaN</td>\n      <td>NaN</td>\n      <td>NaN</td>\n      <td>NaN</td>\n    </tr>\n    <tr>\n      <th>1417412160</th>\n      <td>NaN</td>\n      <td>NaN</td>\n      <td>NaN</td>\n      <td>NaN</td>\n      <td>NaN</td>\n      <td>NaN</td>\n      <td>NaN</td>\n    </tr>\n    <tr>\n      <th>1417412220</th>\n      <td>NaN</td>\n      <td>NaN</td>\n      <td>NaN</td>\n      <td>NaN</td>\n      <td>NaN</td>\n      <td>NaN</td>\n      <td>NaN</td>\n    </tr>\n  </tbody>\n</table>\n</div>"
     },
     "execution_count": 1,
     "metadata": {},
     "output_type": "execute_result"
    }
   ],
   "source": [
    "import pandas as pd\n",
    "\n",
    "coin = pd.read_csv(\"coinbaseUSD_1-min_data_2014-12-01_to_2019-01-09.csv\")\n",
    "bit = pd.read_csv(\"bitstampUSD_1-min_data_2012-01-01_to_2020-04-22.csv\")\n",
    "\n",
    "coin.set_index(\"Timestamp\", inplace=True)\n",
    "coin.head()"
   ],
   "metadata": {
    "collapsed": false,
    "ExecuteTime": {
     "end_time": "2024-03-05T10:42:27.218427Z",
     "start_time": "2024-03-05T10:42:21.235914Z"
    }
   },
   "id": "6cadc3a5f279589f",
   "execution_count": 1
  },
  {
   "cell_type": "code",
   "outputs": [
    {
     "data": {
      "text/plain": "            Open  High   Low  Close  Volume_(BTC)  Volume_(Currency)  \\\nTimestamp                                                              \n1325317920  4.39  4.39  4.39   4.39      0.455581                2.0   \n1325317980   NaN   NaN   NaN    NaN           NaN                NaN   \n1325318040   NaN   NaN   NaN    NaN           NaN                NaN   \n1325318100   NaN   NaN   NaN    NaN           NaN                NaN   \n1325318160   NaN   NaN   NaN    NaN           NaN                NaN   \n\n            Weighted_Price  \nTimestamp                   \n1325317920            4.39  \n1325317980             NaN  \n1325318040             NaN  \n1325318100             NaN  \n1325318160             NaN  ",
      "text/html": "<div>\n<style scoped>\n    .dataframe tbody tr th:only-of-type {\n        vertical-align: middle;\n    }\n\n    .dataframe tbody tr th {\n        vertical-align: top;\n    }\n\n    .dataframe thead th {\n        text-align: right;\n    }\n</style>\n<table border=\"1\" class=\"dataframe\">\n  <thead>\n    <tr style=\"text-align: right;\">\n      <th></th>\n      <th>Open</th>\n      <th>High</th>\n      <th>Low</th>\n      <th>Close</th>\n      <th>Volume_(BTC)</th>\n      <th>Volume_(Currency)</th>\n      <th>Weighted_Price</th>\n    </tr>\n    <tr>\n      <th>Timestamp</th>\n      <th></th>\n      <th></th>\n      <th></th>\n      <th></th>\n      <th></th>\n      <th></th>\n      <th></th>\n    </tr>\n  </thead>\n  <tbody>\n    <tr>\n      <th>1325317920</th>\n      <td>4.39</td>\n      <td>4.39</td>\n      <td>4.39</td>\n      <td>4.39</td>\n      <td>0.455581</td>\n      <td>2.0</td>\n      <td>4.39</td>\n    </tr>\n    <tr>\n      <th>1325317980</th>\n      <td>NaN</td>\n      <td>NaN</td>\n      <td>NaN</td>\n      <td>NaN</td>\n      <td>NaN</td>\n      <td>NaN</td>\n      <td>NaN</td>\n    </tr>\n    <tr>\n      <th>1325318040</th>\n      <td>NaN</td>\n      <td>NaN</td>\n      <td>NaN</td>\n      <td>NaN</td>\n      <td>NaN</td>\n      <td>NaN</td>\n      <td>NaN</td>\n    </tr>\n    <tr>\n      <th>1325318100</th>\n      <td>NaN</td>\n      <td>NaN</td>\n      <td>NaN</td>\n      <td>NaN</td>\n      <td>NaN</td>\n      <td>NaN</td>\n      <td>NaN</td>\n    </tr>\n    <tr>\n      <th>1325318160</th>\n      <td>NaN</td>\n      <td>NaN</td>\n      <td>NaN</td>\n      <td>NaN</td>\n      <td>NaN</td>\n      <td>NaN</td>\n      <td>NaN</td>\n    </tr>\n  </tbody>\n</table>\n</div>"
     },
     "execution_count": 2,
     "metadata": {},
     "output_type": "execute_result"
    }
   ],
   "source": [
    "bit = bit.set_index(\"Timestamp\")\n",
    "bit.head()"
   ],
   "metadata": {
    "collapsed": false,
    "ExecuteTime": {
     "end_time": "2024-03-05T10:42:27.350814Z",
     "start_time": "2024-03-05T10:42:27.220438Z"
    }
   },
   "id": "bb8c05452534ceca",
   "execution_count": 2
  },
  {
   "cell_type": "code",
   "outputs": [
    {
     "name": "stdout",
     "output_type": "stream",
     "text": [
      "              Open   High     Low  Close  Volume_(BTC)  Volume_(Currency)  \\\n",
      "Timestamp                                                                   \n",
      "1417411980  379.99  380.0  379.99  380.0      3.901265        1482.461708   \n",
      "1417412040  380.00  380.0  380.00  380.0     35.249895       13394.959997   \n",
      "1417412100  380.00  380.0  380.00  380.0      3.712000        1410.560000   \n",
      "1417412160  379.93  380.0  379.93  380.0     13.451000        5111.297890   \n",
      "1417412220  380.00  380.0  380.00  380.0      1.693000         643.340000   \n",
      "\n",
      "            Weighted_Price  \n",
      "Timestamp                   \n",
      "1417411980      379.995162  \n",
      "1417412040      380.000000  \n",
      "1417412100      380.000000  \n",
      "1417412160      379.993896  \n",
      "1417412220      380.000000  \n",
      "             Open   High    Low  Close  Volume_(BTC)  Volume_(Currency)  \\\n",
      "Timestamp                                                                 \n",
      "1417411980  300.0  300.0  300.0  300.0          0.01                3.0   \n",
      "1417412040    NaN    NaN    NaN    NaN           NaN                NaN   \n",
      "1417412100    NaN    NaN    NaN    NaN           NaN                NaN   \n",
      "1417412160    NaN    NaN    NaN    NaN           NaN                NaN   \n",
      "1417412220    NaN    NaN    NaN    NaN           NaN                NaN   \n",
      "\n",
      "            Weighted_Price  \n",
      "Timestamp                   \n",
      "1417411980           300.0  \n",
      "1417412040             NaN  \n",
      "1417412100             NaN  \n",
      "1417412160             NaN  \n",
      "1417412220             NaN  \n"
     ]
    }
   ],
   "source": [
    "coin_concat = coin.loc[1417411980 : 1417417980]\n",
    "bit_concat = bit.loc[1417411980 : 1417417980]\n",
    "\n",
    "print(bit_concat.head())\n",
    "print(coin_concat.head())"
   ],
   "metadata": {
    "collapsed": false,
    "ExecuteTime": {
     "end_time": "2024-03-05T10:42:27.376365Z",
     "start_time": "2024-03-05T10:42:27.351460Z"
    }
   },
   "id": "21931c8d7f6c2020",
   "execution_count": 3
  },
  {
   "cell_type": "code",
   "outputs": [
    {
     "name": "stdout",
     "output_type": "stream",
     "text": [
      "                       Open   High     Low   Close  Volume_(BTC)  \\\n",
      "Timestamp                                                          \n",
      "1417411980 bitstamp  379.99  380.0  379.99  380.00      3.901265   \n",
      "           coinbase  300.00  300.0  300.00  300.00      0.010000   \n",
      "1417412040 bitstamp  380.00  380.0  380.00  380.00     35.249895   \n",
      "           coinbase     NaN    NaN     NaN     NaN           NaN   \n",
      "1417412100 bitstamp  380.00  380.0  380.00  380.00      3.712000   \n",
      "...                     ...    ...     ...     ...           ...   \n",
      "1417417860 coinbase     NaN    NaN     NaN     NaN           NaN   \n",
      "1417417920 bitstamp  380.09  380.1  380.09  380.10      1.503000   \n",
      "           coinbase     NaN    NaN     NaN     NaN           NaN   \n",
      "1417417980 bitstamp  380.10  380.1  378.85  378.85     26.599796   \n",
      "           coinbase     NaN    NaN     NaN     NaN           NaN   \n",
      "\n",
      "                     Volume_(Currency)  Weighted_Price  \n",
      "Timestamp                                               \n",
      "1417411980 bitstamp        1482.461708      379.995162  \n",
      "           coinbase           3.000000      300.000000  \n",
      "1417412040 bitstamp       13394.959997      380.000000  \n",
      "           coinbase                NaN             NaN  \n",
      "1417412100 bitstamp        1410.560000      380.000000  \n",
      "...                                ...             ...  \n",
      "1417417860 coinbase                NaN             NaN  \n",
      "1417417920 bitstamp         571.285290      380.096667  \n",
      "           coinbase                NaN             NaN  \n",
      "1417417980 bitstamp       10079.364182      378.926376  \n",
      "           coinbase                NaN             NaN  \n",
      "\n",
      "[202 rows x 7 columns]\n"
     ]
    }
   ],
   "source": [
    "both = pd.concat([coin_concat, bit_concat], keys=[\"coinbase\", \"bitstamp\"])\n",
    "\n",
    "both_fixed = both.swaplevel(i = 0, j = 1).sort_index()\n",
    "\n",
    "print(both_fixed)"
   ],
   "metadata": {
    "collapsed": false,
    "ExecuteTime": {
     "end_time": "2024-03-05T10:42:27.392049Z",
     "start_time": "2024-03-05T10:42:27.377382Z"
    }
   },
   "id": "9a728f33b147a0c",
   "execution_count": 4
  }
 ],
 "metadata": {
  "kernelspec": {
   "display_name": "Python 3",
   "language": "python",
   "name": "python3"
  },
  "language_info": {
   "codemirror_mode": {
    "name": "ipython",
    "version": 2
   },
   "file_extension": ".py",
   "mimetype": "text/x-python",
   "name": "python",
   "nbconvert_exporter": "python",
   "pygments_lexer": "ipython2",
   "version": "2.7.6"
  }
 },
 "nbformat": 4,
 "nbformat_minor": 5
}
