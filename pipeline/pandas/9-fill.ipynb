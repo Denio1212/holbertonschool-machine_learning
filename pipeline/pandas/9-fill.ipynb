{
 "cells": [
  {
   "cell_type": "markdown",
   "source": [
    "# We shall fill in the gaps\n",
    "* The column Weighted_Price should be removed\n",
    "* Missing values in Close should be set to the previous row value.\n",
    "* Missing values in High, Low, Open should be set to the same row's Close value\n",
    "* missing values in Volume_(BTC) and Volume(currency) should be set to 0"
   ],
   "metadata": {
    "collapsed": false
   },
   "id": "bc60ca79da5445b1"
  },
  {
   "cell_type": "code",
   "outputs": [],
   "source": [
    "import pandas as pd\n",
    "\n",
    "file = pd.read_csv(\"coinbaseUSD_1-min_data_2014-12-01_to_2019-01-09.csv\")"
   ],
   "metadata": {
    "collapsed": false,
    "ExecuteTime": {
     "end_time": "2024-03-03T17:51:11.840168300Z",
     "start_time": "2024-03-03T17:51:09.877233400Z"
    }
   },
   "id": "2f73a486dd5085c6",
   "execution_count": 3
  },
  {
   "cell_type": "code",
   "outputs": [
    {
     "data": {
      "text/plain": "    Timestamp   Open   High    Low  Close  Volume_(BTC)  Volume_(Currency)  \\\n0  1417411980  300.0  300.0  300.0  300.0          0.01                3.0   \n1  1417412040    NaN    NaN    NaN    NaN           NaN                NaN   \n2  1417412100    NaN    NaN    NaN    NaN           NaN                NaN   \n3  1417412160    NaN    NaN    NaN    NaN           NaN                NaN   \n4  1417412220    NaN    NaN    NaN    NaN           NaN                NaN   \n\n   Weighted_Price  \n0           300.0  \n1             NaN  \n2             NaN  \n3             NaN  \n4             NaN  ",
      "text/html": "<div>\n<style scoped>\n    .dataframe tbody tr th:only-of-type {\n        vertical-align: middle;\n    }\n\n    .dataframe tbody tr th {\n        vertical-align: top;\n    }\n\n    .dataframe thead th {\n        text-align: right;\n    }\n</style>\n<table border=\"1\" class=\"dataframe\">\n  <thead>\n    <tr style=\"text-align: right;\">\n      <th></th>\n      <th>Timestamp</th>\n      <th>Open</th>\n      <th>High</th>\n      <th>Low</th>\n      <th>Close</th>\n      <th>Volume_(BTC)</th>\n      <th>Volume_(Currency)</th>\n      <th>Weighted_Price</th>\n    </tr>\n  </thead>\n  <tbody>\n    <tr>\n      <th>0</th>\n      <td>1417411980</td>\n      <td>300.0</td>\n      <td>300.0</td>\n      <td>300.0</td>\n      <td>300.0</td>\n      <td>0.01</td>\n      <td>3.0</td>\n      <td>300.0</td>\n    </tr>\n    <tr>\n      <th>1</th>\n      <td>1417412040</td>\n      <td>NaN</td>\n      <td>NaN</td>\n      <td>NaN</td>\n      <td>NaN</td>\n      <td>NaN</td>\n      <td>NaN</td>\n      <td>NaN</td>\n    </tr>\n    <tr>\n      <th>2</th>\n      <td>1417412100</td>\n      <td>NaN</td>\n      <td>NaN</td>\n      <td>NaN</td>\n      <td>NaN</td>\n      <td>NaN</td>\n      <td>NaN</td>\n      <td>NaN</td>\n    </tr>\n    <tr>\n      <th>3</th>\n      <td>1417412160</td>\n      <td>NaN</td>\n      <td>NaN</td>\n      <td>NaN</td>\n      <td>NaN</td>\n      <td>NaN</td>\n      <td>NaN</td>\n      <td>NaN</td>\n    </tr>\n    <tr>\n      <th>4</th>\n      <td>1417412220</td>\n      <td>NaN</td>\n      <td>NaN</td>\n      <td>NaN</td>\n      <td>NaN</td>\n      <td>NaN</td>\n      <td>NaN</td>\n      <td>NaN</td>\n    </tr>\n  </tbody>\n</table>\n</div>"
     },
     "execution_count": 2,
     "metadata": {},
     "output_type": "execute_result"
    }
   ],
   "source": [
    "file.head(5)"
   ],
   "metadata": {
    "collapsed": false,
    "ExecuteTime": {
     "end_time": "2024-03-03T17:51:09.885751600Z",
     "start_time": "2024-03-03T17:51:09.856120Z"
    }
   },
   "id": "3efb3dcc39fb7936",
   "execution_count": 2
  },
  {
   "cell_type": "code",
   "outputs": [
    {
     "data": {
      "text/plain": "    Timestamp   Open   High    Low  Close  Volume_(BTC)  Volume_(Currency)\n0  1417411980  300.0  300.0  300.0  300.0          0.01                3.0\n1  1417412040    NaN    NaN    NaN    NaN          0.00                0.0\n2  1417412100    NaN    NaN    NaN    NaN          0.00                0.0\n3  1417412160    NaN    NaN    NaN    NaN          0.00                0.0\n4  1417412220    NaN    NaN    NaN    NaN          0.00                0.0",
      "text/html": "<div>\n<style scoped>\n    .dataframe tbody tr th:only-of-type {\n        vertical-align: middle;\n    }\n\n    .dataframe tbody tr th {\n        vertical-align: top;\n    }\n\n    .dataframe thead th {\n        text-align: right;\n    }\n</style>\n<table border=\"1\" class=\"dataframe\">\n  <thead>\n    <tr style=\"text-align: right;\">\n      <th></th>\n      <th>Timestamp</th>\n      <th>Open</th>\n      <th>High</th>\n      <th>Low</th>\n      <th>Close</th>\n      <th>Volume_(BTC)</th>\n      <th>Volume_(Currency)</th>\n    </tr>\n  </thead>\n  <tbody>\n    <tr>\n      <th>0</th>\n      <td>1417411980</td>\n      <td>300.0</td>\n      <td>300.0</td>\n      <td>300.0</td>\n      <td>300.0</td>\n      <td>0.01</td>\n      <td>3.0</td>\n    </tr>\n    <tr>\n      <th>1</th>\n      <td>1417412040</td>\n      <td>NaN</td>\n      <td>NaN</td>\n      <td>NaN</td>\n      <td>NaN</td>\n      <td>0.00</td>\n      <td>0.0</td>\n    </tr>\n    <tr>\n      <th>2</th>\n      <td>1417412100</td>\n      <td>NaN</td>\n      <td>NaN</td>\n      <td>NaN</td>\n      <td>NaN</td>\n      <td>0.00</td>\n      <td>0.0</td>\n    </tr>\n    <tr>\n      <th>3</th>\n      <td>1417412160</td>\n      <td>NaN</td>\n      <td>NaN</td>\n      <td>NaN</td>\n      <td>NaN</td>\n      <td>0.00</td>\n      <td>0.0</td>\n    </tr>\n    <tr>\n      <th>4</th>\n      <td>1417412220</td>\n      <td>NaN</td>\n      <td>NaN</td>\n      <td>NaN</td>\n      <td>NaN</td>\n      <td>0.00</td>\n      <td>0.0</td>\n    </tr>\n  </tbody>\n</table>\n</div>"
     },
     "execution_count": 15,
     "metadata": {},
     "output_type": "execute_result"
    }
   ],
   "source": [
    "file = file.drop(columns=\"Weighted_Price\", axis=1)\n",
    "file.head(5)"
   ],
   "metadata": {
    "collapsed": false,
    "ExecuteTime": {
     "end_time": "2024-03-03T17:53:16.834118Z",
     "start_time": "2024-03-03T17:53:16.808590100Z"
    }
   },
   "id": "85f2aa62166385fa",
   "execution_count": 15
  },
  {
   "cell_type": "code",
   "outputs": [
    {
     "data": {
      "text/plain": "0           300.00\n1           300.00\n2           300.00\n3           300.00\n4           300.00\n            ...   \n2099755    4006.01\n2099756    4006.01\n2099757    4006.01\n2099758    4005.50\n2099759    4005.99\nName: Close, Length: 2099760, dtype: float64"
     },
     "execution_count": 24,
     "metadata": {},
     "output_type": "execute_result"
    }
   ],
   "source": [
    "file[\"Close\"].ffill(inplace=True)\n",
    "file[\"Close\"]"
   ],
   "metadata": {
    "collapsed": false,
    "ExecuteTime": {
     "end_time": "2024-03-03T18:06:43.082351600Z",
     "start_time": "2024-03-03T18:06:43.057489600Z"
    }
   },
   "id": "4549de3924094b0e",
   "execution_count": 24
  },
  {
   "cell_type": "code",
   "outputs": [
    {
     "name": "stderr",
     "output_type": "stream",
     "text": [
      "C:\\Users\\User\\AppData\\Local\\Temp\\ipykernel_4568\\4216788707.py:1: FutureWarning: Downcasting object dtype arrays on .fillna, .ffill, .bfill is deprecated and will change in a future version. Call result.infer_objects(copy=False) instead. To opt-in to the future behavior, set `pd.set_option('future.no_silent_downcasting', True)`\n",
      "  file[\"High\"] = file[\"High\"].fillna(file[\"Close\"])\n",
      "C:\\Users\\User\\AppData\\Local\\Temp\\ipykernel_4568\\4216788707.py:2: FutureWarning: Downcasting object dtype arrays on .fillna, .ffill, .bfill is deprecated and will change in a future version. Call result.infer_objects(copy=False) instead. To opt-in to the future behavior, set `pd.set_option('future.no_silent_downcasting', True)`\n",
      "  file[\"Low\"] = file[\"Low\"].fillna(file[\"Close\"])\n",
      "C:\\Users\\User\\AppData\\Local\\Temp\\ipykernel_4568\\4216788707.py:3: FutureWarning: Downcasting object dtype arrays on .fillna, .ffill, .bfill is deprecated and will change in a future version. Call result.infer_objects(copy=False) instead. To opt-in to the future behavior, set `pd.set_option('future.no_silent_downcasting', True)`\n",
      "  file[\"Open\"] = file[\"Open\"].fillna(file[\"Close\"])\n"
     ]
    },
    {
     "data": {
      "text/plain": "    High    Low   Open\n0  300.0  300.0  300.0\n1  300.0  300.0  300.0\n2  300.0  300.0  300.0\n3  300.0  300.0  300.0\n4  300.0  300.0  300.0",
      "text/html": "<div>\n<style scoped>\n    .dataframe tbody tr th:only-of-type {\n        vertical-align: middle;\n    }\n\n    .dataframe tbody tr th {\n        vertical-align: top;\n    }\n\n    .dataframe thead th {\n        text-align: right;\n    }\n</style>\n<table border=\"1\" class=\"dataframe\">\n  <thead>\n    <tr style=\"text-align: right;\">\n      <th></th>\n      <th>High</th>\n      <th>Low</th>\n      <th>Open</th>\n    </tr>\n  </thead>\n  <tbody>\n    <tr>\n      <th>0</th>\n      <td>300.0</td>\n      <td>300.0</td>\n      <td>300.0</td>\n    </tr>\n    <tr>\n      <th>1</th>\n      <td>300.0</td>\n      <td>300.0</td>\n      <td>300.0</td>\n    </tr>\n    <tr>\n      <th>2</th>\n      <td>300.0</td>\n      <td>300.0</td>\n      <td>300.0</td>\n    </tr>\n    <tr>\n      <th>3</th>\n      <td>300.0</td>\n      <td>300.0</td>\n      <td>300.0</td>\n    </tr>\n    <tr>\n      <th>4</th>\n      <td>300.0</td>\n      <td>300.0</td>\n      <td>300.0</td>\n    </tr>\n  </tbody>\n</table>\n</div>"
     },
     "execution_count": 34,
     "metadata": {},
     "output_type": "execute_result"
    }
   ],
   "source": [
    "file[\"High\"] = file[\"High\"].fillna(file[\"Close\"])\n",
    "file[\"Low\"] = file[\"Low\"].fillna(file[\"Close\"])\n",
    "file[\"Open\"] = file[\"Open\"].fillna(file[\"Close\"])\n",
    "\n",
    "file[[\"High\", \"Low\", \"Open\"]].head(5)"
   ],
   "metadata": {
    "collapsed": false,
    "ExecuteTime": {
     "end_time": "2024-03-03T18:14:08.739802700Z",
     "start_time": "2024-03-03T18:14:08.050455100Z"
    }
   },
   "id": "a30d0fa94f44d162",
   "execution_count": 34
  },
  {
   "cell_type": "code",
   "outputs": [
    {
     "data": {
      "text/plain": "    Timestamp   Open   High    Low  Close  Volume_(BTC)  Volume_(Currency)\n0  1417411980  300.0  300.0  300.0  300.0          0.01                3.0\n1  1417412040    NaN    NaN    NaN    NaN          0.00                0.0\n2  1417412100    NaN    NaN    NaN    NaN          0.00                0.0\n3  1417412160    NaN    NaN    NaN    NaN          0.00                0.0\n4  1417412220    NaN    NaN    NaN    NaN          0.00                0.0",
      "text/html": "<div>\n<style scoped>\n    .dataframe tbody tr th:only-of-type {\n        vertical-align: middle;\n    }\n\n    .dataframe tbody tr th {\n        vertical-align: top;\n    }\n\n    .dataframe thead th {\n        text-align: right;\n    }\n</style>\n<table border=\"1\" class=\"dataframe\">\n  <thead>\n    <tr style=\"text-align: right;\">\n      <th></th>\n      <th>Timestamp</th>\n      <th>Open</th>\n      <th>High</th>\n      <th>Low</th>\n      <th>Close</th>\n      <th>Volume_(BTC)</th>\n      <th>Volume_(Currency)</th>\n    </tr>\n  </thead>\n  <tbody>\n    <tr>\n      <th>0</th>\n      <td>1417411980</td>\n      <td>300.0</td>\n      <td>300.0</td>\n      <td>300.0</td>\n      <td>300.0</td>\n      <td>0.01</td>\n      <td>3.0</td>\n    </tr>\n    <tr>\n      <th>1</th>\n      <td>1417412040</td>\n      <td>NaN</td>\n      <td>NaN</td>\n      <td>NaN</td>\n      <td>NaN</td>\n      <td>0.00</td>\n      <td>0.0</td>\n    </tr>\n    <tr>\n      <th>2</th>\n      <td>1417412100</td>\n      <td>NaN</td>\n      <td>NaN</td>\n      <td>NaN</td>\n      <td>NaN</td>\n      <td>0.00</td>\n      <td>0.0</td>\n    </tr>\n    <tr>\n      <th>3</th>\n      <td>1417412160</td>\n      <td>NaN</td>\n      <td>NaN</td>\n      <td>NaN</td>\n      <td>NaN</td>\n      <td>0.00</td>\n      <td>0.0</td>\n    </tr>\n    <tr>\n      <th>4</th>\n      <td>1417412220</td>\n      <td>NaN</td>\n      <td>NaN</td>\n      <td>NaN</td>\n      <td>NaN</td>\n      <td>0.00</td>\n      <td>0.0</td>\n    </tr>\n  </tbody>\n</table>\n</div>"
     },
     "execution_count": 16,
     "metadata": {},
     "output_type": "execute_result"
    }
   ],
   "source": [
    "Volume_btc = file[\"Volume_(BTC)\"]\n",
    "if Volume_btc.isnull().values.any():\n",
    "    Volume_btc.fillna(0, inplace=True)\n",
    "Volume_cur = file[\"Volume_(Currency)\"]\n",
    "if Volume_cur.isnull().values.any():\n",
    "    Volume_cur.fillna(0, inplace=True)\n",
    "file.head()"
   ],
   "metadata": {
    "collapsed": false,
    "ExecuteTime": {
     "end_time": "2024-03-03T17:53:31.768433500Z",
     "start_time": "2024-03-03T17:53:31.720840800Z"
    }
   },
   "id": "1bd16811793bb523",
   "execution_count": 16
  },
  {
   "cell_type": "code",
   "outputs": [
    {
     "name": "stdout",
     "output_type": "stream",
     "text": [
      "    Timestamp   Open   High    Low  Close  Volume_(BTC)  Volume_(Currency)\n",
      "0  1417411980  300.0  300.0  300.0  300.0          0.01                3.0\n",
      "1  1417412040  300.0  300.0  300.0  300.0          0.00                0.0\n",
      "2  1417412100  300.0  300.0  300.0  300.0          0.00                0.0\n",
      "3  1417412160  300.0  300.0  300.0  300.0          0.00                0.0\n",
      "4  1417412220  300.0  300.0  300.0  300.0          0.00                0.0\n",
      "          Timestamp     Open     High      Low    Close  Volume_(BTC)  \\\n",
      "2099755  1546898520  4006.01  4006.01  4006.01  4006.01      3.382954   \n",
      "2099756  1546898580  4006.01  4006.01  4006.01  4006.01      0.902164   \n",
      "2099757  1546898640  4006.01  4006.01  4006.01  4006.01      1.192123   \n",
      "2099758  1546898700  4005.50  4005.50  4005.50  4005.50      2.699700   \n",
      "2099759  1546898760  4005.99  4005.99  4005.99  4005.99      1.752778   \n",
      "\n",
      "         Volume_(Currency)  \n",
      "2099755       13553.433078  \n",
      "2099756        3614.083168  \n",
      "2099757        4775.647308  \n",
      "2099758       10814.241898  \n",
      "2099759        7021.183546  \n"
     ]
    }
   ],
   "source": [
    "print(file.head())\n",
    "print(file.tail())"
   ],
   "metadata": {
    "collapsed": false,
    "ExecuteTime": {
     "end_time": "2024-03-03T18:14:47.197128Z",
     "start_time": "2024-03-03T18:14:47.175196200Z"
    }
   },
   "id": "80e8c8de8f7e4b05",
   "execution_count": 35
  }
 ],
 "metadata": {
  "kernelspec": {
   "display_name": "Python 3",
   "language": "python",
   "name": "python3"
  },
  "language_info": {
   "codemirror_mode": {
    "name": "ipython",
    "version": 2
   },
   "file_extension": ".py",
   "mimetype": "text/x-python",
   "name": "python",
   "nbconvert_exporter": "python",
   "pygments_lexer": "ipython2",
   "version": "2.7.6"
  }
 },
 "nbformat": 4,
 "nbformat_minor": 5
}
