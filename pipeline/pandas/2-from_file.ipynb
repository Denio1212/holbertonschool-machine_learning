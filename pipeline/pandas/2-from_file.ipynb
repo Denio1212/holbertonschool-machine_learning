{
 "cells": [
  {
   "cell_type": "markdown",
   "source": [
    "# A function which loads data from a file as a pd.Dataframe\n",
    "* Filename is the name of the file.\n",
    "* delimiter is the seperator\n",
    "* Return the loaded Dataframe "
   ],
   "metadata": {
    "collapsed": false
   },
   "id": "848c7628214c2767"
  },
  {
   "cell_type": "code",
   "outputs": [],
   "source": [
    "import pandas as pd"
   ],
   "metadata": {
    "collapsed": false,
    "ExecuteTime": {
     "end_time": "2024-03-01T13:56:35.869345700Z",
     "start_time": "2024-03-01T13:56:35.861261300Z"
    }
   },
   "id": "11436e8e9ae7a90f",
   "execution_count": 25
  },
  {
   "cell_type": "code",
   "outputs": [],
   "source": [
    "def from_file(filename, delimiter):\n",
    "    \"\"\"\n",
    "     A function which loads data from a file as a pd.Dataframe \n",
    "    :param filename: the name of the file imported\n",
    "    :param delimiter: the column seperator used\n",
    "    :return: loaded pd.Dataframe\n",
    "    \"\"\"\n",
    "    data = pd.read_csv(filename, delimiter=delimiter, engine='python')\n",
    "    return data"
   ],
   "metadata": {
    "collapsed": false,
    "ExecuteTime": {
     "end_time": "2024-03-01T13:54:43.534217400Z",
     "start_time": "2024-03-01T13:54:43.523379700Z"
    }
   },
   "id": "94b97daa0af6394c",
   "execution_count": 22
  },
  {
   "cell_type": "code",
   "outputs": [
    {
     "name": "stdout",
     "output_type": "stream",
     "text": [
      "    Timestamp   Open   High    Low  Close  Volume_(BTC)  Volume_(Currency)  \\\n",
      "0  1417411980  300.0  300.0  300.0  300.0          0.01                3.0   \n",
      "1  1417412040    NaN    NaN    NaN    NaN           NaN                NaN   \n",
      "2  1417412100    NaN    NaN    NaN    NaN           NaN                NaN   \n",
      "3  1417412160    NaN    NaN    NaN    NaN           NaN                NaN   \n",
      "4  1417412220    NaN    NaN    NaN    NaN           NaN                NaN   \n",
      "\n",
      "   Weighted_Price  \n",
      "0           300.0  \n",
      "1             NaN  \n",
      "2             NaN  \n",
      "3             NaN  \n",
      "4             NaN  \n",
      "          Timestamp     Open     High      Low    Close  Volume_(BTC)  \\\n",
      "4363452  1587513360  6847.97  6856.35  6847.97  6856.35      0.125174   \n",
      "4363453  1587513420  6850.23  6856.13  6850.23  6850.89      1.224777   \n",
      "4363454  1587513480  6846.50  6857.45  6846.02  6857.45      7.089168   \n",
      "4363455  1587513540  6854.18  6854.98  6854.18  6854.98      0.012231   \n",
      "4363456  1587513600  6850.60  6850.60  6850.60  6850.60      0.014436   \n",
      "\n",
      "         Volume_(Currency)  Weighted_Price  \n",
      "4363452         858.128697     6855.498790  \n",
      "4363453        8396.781459     6855.763449  \n",
      "4363454       48533.089069     6846.090966  \n",
      "4363455          83.831604     6854.195090  \n",
      "4363456          98.896906     6850.600000  \n"
     ]
    }
   ],
   "source": [
    "df1 = from_file('coinbaseUSD_1-min_data_2014-12-01_to_2019-01-09.csv', ',')\n",
    "print(df1.head())\n",
    "df2 = from_file('bitstampUSD_1-min_data_2012-01-01_to_2020-04-22.csv', ',')\n",
    "print(df2.tail())"
   ],
   "metadata": {
    "collapsed": false,
    "ExecuteTime": {
     "end_time": "2024-03-01T13:56:35.861261300Z",
     "start_time": "2024-03-01T13:55:44.691950300Z"
    }
   },
   "id": "39a84c53a3248043",
   "execution_count": 24
  },
  {
   "cell_type": "code",
   "outputs": [],
   "source": [],
   "metadata": {
    "collapsed": false
   },
   "id": "8af12bbe0c815472"
  }
 ],
 "metadata": {
  "kernelspec": {
   "display_name": "Python 3",
   "language": "python",
   "name": "python3"
  },
  "language_info": {
   "codemirror_mode": {
    "name": "ipython",
    "version": 2
   },
   "file_extension": ".py",
   "mimetype": "text/x-python",
   "name": "python",
   "nbconvert_exporter": "python",
   "pygments_lexer": "ipython2",
   "version": "2.7.6"
  }
 },
 "nbformat": 4,
 "nbformat_minor": 5
}
