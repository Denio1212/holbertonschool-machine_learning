{
 "cells": [
  {
   "cell_type": "markdown",
   "source": [
    "# Sorts the pd.Dataframe by the High price in descending order"
   ],
   "metadata": {
    "collapsed": false
   },
   "id": "dcbd340ecd58b9b6"
  },
  {
   "cell_type": "code",
   "outputs": [],
   "source": [
    "import pandas as pd\n",
    "\n",
    "file = pd.read_csv('coinbaseUSD_1-min_data_2014-12-01_to_2019-01-09.csv')"
   ],
   "metadata": {
    "collapsed": false,
    "ExecuteTime": {
     "end_time": "2024-03-01T20:20:22.164276700Z",
     "start_time": "2024-03-01T20:20:20.118930900Z"
    }
   },
   "id": "1fff67d4939ba0fc",
   "execution_count": 2
  },
  {
   "cell_type": "code",
   "outputs": [
    {
     "data": {
      "text/plain": "          Timestamp      Open      High       Low     Close  Volume_(BTC)  \\\n1543350  1513514220  19891.99  19891.99  19891.98  19891.98      3.323210   \n1543352  1513514340  19891.99  19891.99  19891.98  19891.98      9.836946   \n1543351  1513514280  19891.99  19891.99  19891.98  19891.98      8.172155   \n1543349  1513514160  19891.00  19891.99  19890.99  19891.99      1.336512   \n1543353  1513514400  19891.99  19891.99  19876.22  19884.99     19.925151   \n\n         Volume_(Currency)  Weighted_Price  \n1543350       66105.250870    19891.984712  \n1543352      195676.363110    19891.983294  \n1543351      162560.403740    19891.987528  \n1543349       26584.930278    19891.272886  \n1543353      396292.881750    19889.078007  ",
      "text/html": "<div>\n<style scoped>\n    .dataframe tbody tr th:only-of-type {\n        vertical-align: middle;\n    }\n\n    .dataframe tbody tr th {\n        vertical-align: top;\n    }\n\n    .dataframe thead th {\n        text-align: right;\n    }\n</style>\n<table border=\"1\" class=\"dataframe\">\n  <thead>\n    <tr style=\"text-align: right;\">\n      <th></th>\n      <th>Timestamp</th>\n      <th>Open</th>\n      <th>High</th>\n      <th>Low</th>\n      <th>Close</th>\n      <th>Volume_(BTC)</th>\n      <th>Volume_(Currency)</th>\n      <th>Weighted_Price</th>\n    </tr>\n  </thead>\n  <tbody>\n    <tr>\n      <th>1543350</th>\n      <td>1513514220</td>\n      <td>19891.99</td>\n      <td>19891.99</td>\n      <td>19891.98</td>\n      <td>19891.98</td>\n      <td>3.323210</td>\n      <td>66105.250870</td>\n      <td>19891.984712</td>\n    </tr>\n    <tr>\n      <th>1543352</th>\n      <td>1513514340</td>\n      <td>19891.99</td>\n      <td>19891.99</td>\n      <td>19891.98</td>\n      <td>19891.98</td>\n      <td>9.836946</td>\n      <td>195676.363110</td>\n      <td>19891.983294</td>\n    </tr>\n    <tr>\n      <th>1543351</th>\n      <td>1513514280</td>\n      <td>19891.99</td>\n      <td>19891.99</td>\n      <td>19891.98</td>\n      <td>19891.98</td>\n      <td>8.172155</td>\n      <td>162560.403740</td>\n      <td>19891.987528</td>\n    </tr>\n    <tr>\n      <th>1543349</th>\n      <td>1513514160</td>\n      <td>19891.00</td>\n      <td>19891.99</td>\n      <td>19890.99</td>\n      <td>19891.99</td>\n      <td>1.336512</td>\n      <td>26584.930278</td>\n      <td>19891.272886</td>\n    </tr>\n    <tr>\n      <th>1543353</th>\n      <td>1513514400</td>\n      <td>19891.99</td>\n      <td>19891.99</td>\n      <td>19876.22</td>\n      <td>19884.99</td>\n      <td>19.925151</td>\n      <td>396292.881750</td>\n      <td>19889.078007</td>\n    </tr>\n  </tbody>\n</table>\n</div>"
     },
     "execution_count": 3,
     "metadata": {},
     "output_type": "execute_result"
    }
   ],
   "source": [
    "sorted_file = file.sort_values(by=\"High\", ascending=False)\n",
    "sorted_file.head()"
   ],
   "metadata": {
    "collapsed": false,
    "ExecuteTime": {
     "end_time": "2024-03-01T20:21:22.967880200Z",
     "start_time": "2024-03-01T20:21:22.588879Z"
    }
   },
   "id": "d6bbca55eaa808a",
   "execution_count": 3
  }
 ],
 "metadata": {
  "kernelspec": {
   "display_name": "Python 3",
   "language": "python",
   "name": "python3"
  },
  "language_info": {
   "codemirror_mode": {
    "name": "ipython",
    "version": 2
   },
   "file_extension": ".py",
   "mimetype": "text/x-python",
   "name": "python",
   "nbconvert_exporter": "python",
   "pygments_lexer": "ipython2",
   "version": "2.7.6"
  }
 },
 "nbformat": 4,
 "nbformat_minor": 5
}
