{
 "cells": [
  {
   "cell_type": "markdown",
   "source": [
    "# Indexes the column Timestamp into the pd.Dataframe"
   ],
   "metadata": {
    "collapsed": false
   },
   "id": "614dfe62dc57f6d1"
  },
  {
   "cell_type": "code",
   "outputs": [
    {
     "data": {
      "text/plain": "    Timestamp   Open   High    Low  Close  Volume_(BTC)  Volume_(Currency)  \\\n0  1417411980  300.0  300.0  300.0  300.0          0.01                3.0   \n1  1417412040    NaN    NaN    NaN    NaN           NaN                NaN   \n2  1417412100    NaN    NaN    NaN    NaN           NaN                NaN   \n3  1417412160    NaN    NaN    NaN    NaN           NaN                NaN   \n4  1417412220    NaN    NaN    NaN    NaN           NaN                NaN   \n\n   Weighted_Price  \n0           300.0  \n1             NaN  \n2             NaN  \n3             NaN  \n4             NaN  ",
      "text/html": "<div>\n<style scoped>\n    .dataframe tbody tr th:only-of-type {\n        vertical-align: middle;\n    }\n\n    .dataframe tbody tr th {\n        vertical-align: top;\n    }\n\n    .dataframe thead th {\n        text-align: right;\n    }\n</style>\n<table border=\"1\" class=\"dataframe\">\n  <thead>\n    <tr style=\"text-align: right;\">\n      <th></th>\n      <th>Timestamp</th>\n      <th>Open</th>\n      <th>High</th>\n      <th>Low</th>\n      <th>Close</th>\n      <th>Volume_(BTC)</th>\n      <th>Volume_(Currency)</th>\n      <th>Weighted_Price</th>\n    </tr>\n  </thead>\n  <tbody>\n    <tr>\n      <th>0</th>\n      <td>1417411980</td>\n      <td>300.0</td>\n      <td>300.0</td>\n      <td>300.0</td>\n      <td>300.0</td>\n      <td>0.01</td>\n      <td>3.0</td>\n      <td>300.0</td>\n    </tr>\n    <tr>\n      <th>1</th>\n      <td>1417412040</td>\n      <td>NaN</td>\n      <td>NaN</td>\n      <td>NaN</td>\n      <td>NaN</td>\n      <td>NaN</td>\n      <td>NaN</td>\n      <td>NaN</td>\n    </tr>\n    <tr>\n      <th>2</th>\n      <td>1417412100</td>\n      <td>NaN</td>\n      <td>NaN</td>\n      <td>NaN</td>\n      <td>NaN</td>\n      <td>NaN</td>\n      <td>NaN</td>\n      <td>NaN</td>\n    </tr>\n    <tr>\n      <th>3</th>\n      <td>1417412160</td>\n      <td>NaN</td>\n      <td>NaN</td>\n      <td>NaN</td>\n      <td>NaN</td>\n      <td>NaN</td>\n      <td>NaN</td>\n      <td>NaN</td>\n    </tr>\n    <tr>\n      <th>4</th>\n      <td>1417412220</td>\n      <td>NaN</td>\n      <td>NaN</td>\n      <td>NaN</td>\n      <td>NaN</td>\n      <td>NaN</td>\n      <td>NaN</td>\n      <td>NaN</td>\n    </tr>\n  </tbody>\n</table>\n</div>"
     },
     "execution_count": 2,
     "metadata": {},
     "output_type": "execute_result"
    }
   ],
   "source": [
    "import pandas as pd\n",
    "\n",
    "coinbase = pd.read_csv(\"coinbaseUSD_1-min_data_2014-12-01_to_2019-01-09.csv\")\n",
    "coinbase.head()"
   ],
   "metadata": {
    "collapsed": false,
    "ExecuteTime": {
     "end_time": "2024-03-04T11:41:59.315862Z",
     "start_time": "2024-03-04T11:41:57.490060400Z"
    }
   },
   "id": "61fdfee6e6cc06b8",
   "execution_count": 2
  },
  {
   "cell_type": "code",
   "outputs": [
    {
     "data": {
      "text/plain": "               Open     High      Low    Close  Volume_(BTC)  \\\nTimestamp                                                      \n1546898520  4006.01  4006.57  4006.00  4006.01      3.382954   \n1546898580  4006.01  4006.57  4006.00  4006.01      0.902164   \n1546898640  4006.01  4006.01  4006.00  4006.01      1.192123   \n1546898700  4006.01  4006.01  4005.50  4005.50      2.699700   \n1546898760  4005.51  4006.01  4005.51  4005.99      1.752778   \n\n            Volume_(Currency)  Weighted_Price  \nTimestamp                                      \n1546898520       13553.433078     4006.390309  \n1546898580        3614.083168     4006.017232  \n1546898640        4775.647308     4006.003635  \n1546898700       10814.241898     4005.719991  \n1546898760        7021.183546     4005.745614  ",
      "text/html": "<div>\n<style scoped>\n    .dataframe tbody tr th:only-of-type {\n        vertical-align: middle;\n    }\n\n    .dataframe tbody tr th {\n        vertical-align: top;\n    }\n\n    .dataframe thead th {\n        text-align: right;\n    }\n</style>\n<table border=\"1\" class=\"dataframe\">\n  <thead>\n    <tr style=\"text-align: right;\">\n      <th></th>\n      <th>Open</th>\n      <th>High</th>\n      <th>Low</th>\n      <th>Close</th>\n      <th>Volume_(BTC)</th>\n      <th>Volume_(Currency)</th>\n      <th>Weighted_Price</th>\n    </tr>\n    <tr>\n      <th>Timestamp</th>\n      <th></th>\n      <th></th>\n      <th></th>\n      <th></th>\n      <th></th>\n      <th></th>\n      <th></th>\n    </tr>\n  </thead>\n  <tbody>\n    <tr>\n      <th>1546898520</th>\n      <td>4006.01</td>\n      <td>4006.57</td>\n      <td>4006.00</td>\n      <td>4006.01</td>\n      <td>3.382954</td>\n      <td>13553.433078</td>\n      <td>4006.390309</td>\n    </tr>\n    <tr>\n      <th>1546898580</th>\n      <td>4006.01</td>\n      <td>4006.57</td>\n      <td>4006.00</td>\n      <td>4006.01</td>\n      <td>0.902164</td>\n      <td>3614.083168</td>\n      <td>4006.017232</td>\n    </tr>\n    <tr>\n      <th>1546898640</th>\n      <td>4006.01</td>\n      <td>4006.01</td>\n      <td>4006.00</td>\n      <td>4006.01</td>\n      <td>1.192123</td>\n      <td>4775.647308</td>\n      <td>4006.003635</td>\n    </tr>\n    <tr>\n      <th>1546898700</th>\n      <td>4006.01</td>\n      <td>4006.01</td>\n      <td>4005.50</td>\n      <td>4005.50</td>\n      <td>2.699700</td>\n      <td>10814.241898</td>\n      <td>4005.719991</td>\n    </tr>\n    <tr>\n      <th>1546898760</th>\n      <td>4005.51</td>\n      <td>4006.01</td>\n      <td>4005.51</td>\n      <td>4005.99</td>\n      <td>1.752778</td>\n      <td>7021.183546</td>\n      <td>4005.745614</td>\n    </tr>\n  </tbody>\n</table>\n</div>"
     },
     "execution_count": 11,
     "metadata": {},
     "output_type": "execute_result"
    }
   ],
   "source": [
    "coinbase_idx = coinbase.set_index(coinbase[\"Timestamp\"])\n",
    "coinbase_idx = coinbase_idx.drop(columns=[\"Timestamp\"])\n",
    "(coinbase_idx.dropna().tail())"
   ],
   "metadata": {
    "collapsed": false,
    "ExecuteTime": {
     "end_time": "2024-03-04T11:52:35.959506600Z",
     "start_time": "2024-03-04T11:52:35.739973900Z"
    }
   },
   "id": "a4676b160dc0e6ff",
   "execution_count": 11
  }
 ],
 "metadata": {
  "kernelspec": {
   "display_name": "Python 3",
   "language": "python",
   "name": "python3"
  },
  "language_info": {
   "codemirror_mode": {
    "name": "ipython",
    "version": 2
   },
   "file_extension": ".py",
   "mimetype": "text/x-python",
   "name": "python",
   "nbconvert_exporter": "python",
   "pygments_lexer": "ipython2",
   "version": "2.7.6"
  }
 },
 "nbformat": 4,
 "nbformat_minor": 5
}
