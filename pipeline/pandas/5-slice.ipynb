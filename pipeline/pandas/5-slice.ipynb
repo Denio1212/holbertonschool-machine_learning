{
 "cells": [
  {
   "cell_type": "markdown",
   "source": [
    "# Slices the od.Dataframe along the given columns, and takes every 60th row\n",
    "* The columns are:\n",
    "* High, Low, Close, Volume_BTC"
   ],
   "metadata": {
    "collapsed": false
   },
   "id": "dbe5ebca7b3e8d97"
  },
  {
   "cell_type": "code",
   "outputs": [
    {
     "data": {
      "text/plain": "    Timestamp   Open   High    Low  Close  Volume_(BTC)  Volume_(Currency)  \\\n0  1417411980  300.0  300.0  300.0  300.0          0.01                3.0   \n1  1417412040    NaN    NaN    NaN    NaN           NaN                NaN   \n2  1417412100    NaN    NaN    NaN    NaN           NaN                NaN   \n\n   Weighted_Price  \n0           300.0  \n1             NaN  \n2             NaN  ",
      "text/html": "<div>\n<style scoped>\n    .dataframe tbody tr th:only-of-type {\n        vertical-align: middle;\n    }\n\n    .dataframe tbody tr th {\n        vertical-align: top;\n    }\n\n    .dataframe thead th {\n        text-align: right;\n    }\n</style>\n<table border=\"1\" class=\"dataframe\">\n  <thead>\n    <tr style=\"text-align: right;\">\n      <th></th>\n      <th>Timestamp</th>\n      <th>Open</th>\n      <th>High</th>\n      <th>Low</th>\n      <th>Close</th>\n      <th>Volume_(BTC)</th>\n      <th>Volume_(Currency)</th>\n      <th>Weighted_Price</th>\n    </tr>\n  </thead>\n  <tbody>\n    <tr>\n      <th>0</th>\n      <td>1417411980</td>\n      <td>300.0</td>\n      <td>300.0</td>\n      <td>300.0</td>\n      <td>300.0</td>\n      <td>0.01</td>\n      <td>3.0</td>\n      <td>300.0</td>\n    </tr>\n    <tr>\n      <th>1</th>\n      <td>1417412040</td>\n      <td>NaN</td>\n      <td>NaN</td>\n      <td>NaN</td>\n      <td>NaN</td>\n      <td>NaN</td>\n      <td>NaN</td>\n      <td>NaN</td>\n    </tr>\n    <tr>\n      <th>2</th>\n      <td>1417412100</td>\n      <td>NaN</td>\n      <td>NaN</td>\n      <td>NaN</td>\n      <td>NaN</td>\n      <td>NaN</td>\n      <td>NaN</td>\n      <td>NaN</td>\n    </tr>\n  </tbody>\n</table>\n</div>"
     },
     "execution_count": 4,
     "metadata": {},
     "output_type": "execute_result"
    }
   ],
   "source": [
    "import pandas as pd\n",
    "\n",
    "file = pd.read_csv('coinbaseUSD_1-min_data_2014-12-01_to_2019-01-09.csv')\n",
    "file.head(3)"
   ],
   "metadata": {
    "collapsed": false,
    "ExecuteTime": {
     "end_time": "2024-03-01T20:00:20.345102Z",
     "start_time": "2024-03-01T20:00:17.949842400Z"
    }
   },
   "id": "a5307a4e11034099",
   "execution_count": 4
  },
  {
   "cell_type": "code",
   "outputs": [
    {
     "data": {
      "text/plain": "            High      Low    Close  Volume_(BTC)\n2099460  4020.08  4020.07  4020.08      4.704989\n2099520  4020.94  4020.93  4020.94      2.111411\n2099580  4020.00  4019.01  4020.00      4.637035\n2099640  4017.00  4016.99  4017.00      2.362372\n2099700  4014.78  4013.50  4014.72      1.291557",
      "text/html": "<div>\n<style scoped>\n    .dataframe tbody tr th:only-of-type {\n        vertical-align: middle;\n    }\n\n    .dataframe tbody tr th {\n        vertical-align: top;\n    }\n\n    .dataframe thead th {\n        text-align: right;\n    }\n</style>\n<table border=\"1\" class=\"dataframe\">\n  <thead>\n    <tr style=\"text-align: right;\">\n      <th></th>\n      <th>High</th>\n      <th>Low</th>\n      <th>Close</th>\n      <th>Volume_(BTC)</th>\n    </tr>\n  </thead>\n  <tbody>\n    <tr>\n      <th>2099460</th>\n      <td>4020.08</td>\n      <td>4020.07</td>\n      <td>4020.08</td>\n      <td>4.704989</td>\n    </tr>\n    <tr>\n      <th>2099520</th>\n      <td>4020.94</td>\n      <td>4020.93</td>\n      <td>4020.94</td>\n      <td>2.111411</td>\n    </tr>\n    <tr>\n      <th>2099580</th>\n      <td>4020.00</td>\n      <td>4019.01</td>\n      <td>4020.00</td>\n      <td>4.637035</td>\n    </tr>\n    <tr>\n      <th>2099640</th>\n      <td>4017.00</td>\n      <td>4016.99</td>\n      <td>4017.00</td>\n      <td>2.362372</td>\n    </tr>\n    <tr>\n      <th>2099700</th>\n      <td>4014.78</td>\n      <td>4013.50</td>\n      <td>4014.72</td>\n      <td>1.291557</td>\n    </tr>\n  </tbody>\n</table>\n</div>"
     },
     "execution_count": 28,
     "metadata": {},
     "output_type": "execute_result"
    }
   ],
   "source": [
    "sliced_cheese = file.iloc[::60 , 2:6]\n",
    "sliced_cheese.tail()"
   ],
   "metadata": {
    "collapsed": false,
    "ExecuteTime": {
     "end_time": "2024-03-01T20:12:03.067082600Z",
     "start_time": "2024-03-01T20:12:03.006413700Z"
    }
   },
   "id": "a4720339536eb35c",
   "execution_count": 28
  }
 ],
 "metadata": {
  "kernelspec": {
   "display_name": "Python 3",
   "language": "python",
   "name": "python3"
  },
  "language_info": {
   "codemirror_mode": {
    "name": "ipython",
    "version": 2
   },
   "file_extension": ".py",
   "mimetype": "text/x-python",
   "name": "python",
   "nbconvert_exporter": "python",
   "pygments_lexer": "ipython2",
   "version": "2.7.6"
  }
 },
 "nbformat": 4,
 "nbformat_minor": 5
}
