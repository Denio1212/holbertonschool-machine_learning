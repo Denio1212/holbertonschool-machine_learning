{
 "cells": [
  {
   "cell_type": "markdown",
   "source": [
    "# WE SHALL FIGHT THEM IN THE BEACHES...\n",
    "* Renames the column timestamp from coinbaseUSA to Datetime\n",
    "* Convert timestamp to datetime\n",
    "* Display only the Close and Datetime"
   ],
   "metadata": {
    "collapsed": false
   },
   "id": "e9999ebdc48e4e72"
  },
  {
   "cell_type": "code",
   "outputs": [],
   "source": [
    "import pandas as pd\n",
    "import datetime\n",
    "# Old file required from previous task\n",
    "\n",
    "def from_file(filename, delimiter):\n",
    "    \"\"\"\n",
    "     A function which loads data from a file as a pd.Dataframe \n",
    "    :param filename: the name of the file imported\n",
    "    :param delimiter: the column seperator used\n",
    "    :return: loaded pd.Dataframe\n",
    "    \"\"\"\n",
    "    data = pd.read_csv(filename, delimiter=delimiter, engine='python')\n",
    "    return data"
   ],
   "metadata": {
    "collapsed": false,
    "ExecuteTime": {
     "end_time": "2024-03-01T14:07:26.794837300Z",
     "start_time": "2024-03-01T14:07:26.789270400Z"
    }
   },
   "id": "581cbdbb2405dc12",
   "execution_count": 4
  },
  {
   "cell_type": "code",
   "outputs": [
    {
     "name": "stdout",
     "output_type": "stream",
     "text": [
      "                   Datetime    Close\n",
      "2099755 2019-01-07 22:02:00  4006.01\n",
      "2099756 2019-01-07 22:03:00  4006.01\n",
      "2099757 2019-01-07 22:04:00  4006.01\n",
      "2099758 2019-01-07 22:05:00  4005.50\n",
      "2099759 2019-01-07 22:06:00  4005.99\n"
     ]
    }
   ],
   "source": [
    "file = pd.read_csv('coinbaseUSD_1-min_data_2014-12-01_to_2019-01-09.csv')\n",
    "file.rename(columns={\"Timestamp\": \"Datetime\"}, inplace=True)\n",
    "file['Datetime'] = pd.to_datetime(file['Datetime'], unit='s')\n",
    "print(file[['Datetime', 'Close']].tail())"
   ],
   "metadata": {
    "collapsed": false,
    "ExecuteTime": {
     "end_time": "2024-03-01T16:32:51.009957100Z",
     "start_time": "2024-03-01T16:32:48.738322100Z"
    }
   },
   "id": "30ab57cf4a77c227",
   "execution_count": 38
  },
  {
   "cell_type": "code",
   "outputs": [],
   "source": [],
   "metadata": {
    "collapsed": false
   },
   "id": "f92f60d8d4c57b60",
   "execution_count": null
  }
 ],
 "metadata": {
  "kernelspec": {
   "display_name": "Python 3",
   "language": "python",
   "name": "python3"
  },
  "language_info": {
   "codemirror_mode": {
    "name": "ipython",
    "version": 2
   },
   "file_extension": ".py",
   "mimetype": "text/x-python",
   "name": "python",
   "nbconvert_exporter": "python",
   "pygments_lexer": "ipython2",
   "version": "2.7.6"
  }
 },
 "nbformat": 4,
 "nbformat_minor": 5
}
