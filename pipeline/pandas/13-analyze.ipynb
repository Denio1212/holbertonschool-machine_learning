{
 "cells": [
  {
   "cell_type": "markdown",
   "source": [
    "# Calculating descriptive statistics for all columns in the Dataframe\n",
    "* Except timestamp"
   ],
   "metadata": {
    "collapsed": false
   },
   "id": "e6d275f0824b5c2f"
  },
  {
   "cell_type": "code",
   "outputs": [
    {
     "data": {
      "text/plain": "    Timestamp   Open   High    Low  Close  Volume_(BTC)  Volume_(Currency)  \\\n0  1417411980  300.0  300.0  300.0  300.0          0.01                3.0   \n1  1417412040    NaN    NaN    NaN    NaN           NaN                NaN   \n2  1417412100    NaN    NaN    NaN    NaN           NaN                NaN   \n3  1417412160    NaN    NaN    NaN    NaN           NaN                NaN   \n4  1417412220    NaN    NaN    NaN    NaN           NaN                NaN   \n\n   Weighted_Price  \n0           300.0  \n1             NaN  \n2             NaN  \n3             NaN  \n4             NaN  ",
      "text/html": "<div>\n<style scoped>\n    .dataframe tbody tr th:only-of-type {\n        vertical-align: middle;\n    }\n\n    .dataframe tbody tr th {\n        vertical-align: top;\n    }\n\n    .dataframe thead th {\n        text-align: right;\n    }\n</style>\n<table border=\"1\" class=\"dataframe\">\n  <thead>\n    <tr style=\"text-align: right;\">\n      <th></th>\n      <th>Timestamp</th>\n      <th>Open</th>\n      <th>High</th>\n      <th>Low</th>\n      <th>Close</th>\n      <th>Volume_(BTC)</th>\n      <th>Volume_(Currency)</th>\n      <th>Weighted_Price</th>\n    </tr>\n  </thead>\n  <tbody>\n    <tr>\n      <th>0</th>\n      <td>1417411980</td>\n      <td>300.0</td>\n      <td>300.0</td>\n      <td>300.0</td>\n      <td>300.0</td>\n      <td>0.01</td>\n      <td>3.0</td>\n      <td>300.0</td>\n    </tr>\n    <tr>\n      <th>1</th>\n      <td>1417412040</td>\n      <td>NaN</td>\n      <td>NaN</td>\n      <td>NaN</td>\n      <td>NaN</td>\n      <td>NaN</td>\n      <td>NaN</td>\n      <td>NaN</td>\n    </tr>\n    <tr>\n      <th>2</th>\n      <td>1417412100</td>\n      <td>NaN</td>\n      <td>NaN</td>\n      <td>NaN</td>\n      <td>NaN</td>\n      <td>NaN</td>\n      <td>NaN</td>\n      <td>NaN</td>\n    </tr>\n    <tr>\n      <th>3</th>\n      <td>1417412160</td>\n      <td>NaN</td>\n      <td>NaN</td>\n      <td>NaN</td>\n      <td>NaN</td>\n      <td>NaN</td>\n      <td>NaN</td>\n      <td>NaN</td>\n    </tr>\n    <tr>\n      <th>4</th>\n      <td>1417412220</td>\n      <td>NaN</td>\n      <td>NaN</td>\n      <td>NaN</td>\n      <td>NaN</td>\n      <td>NaN</td>\n      <td>NaN</td>\n      <td>NaN</td>\n    </tr>\n  </tbody>\n</table>\n</div>"
     },
     "execution_count": 13,
     "metadata": {},
     "output_type": "execute_result"
    }
   ],
   "source": [
    "import pandas as pd\n",
    "\n",
    "coin = pd.read_csv('coinbaseUSD_1-min_data_2014-12-01_to_2019-01-09.csv')\n",
    "\n",
    "coin.head()"
   ],
   "metadata": {
    "collapsed": false,
    "ExecuteTime": {
     "end_time": "2024-03-05T10:40:48.671774Z",
     "start_time": "2024-03-05T10:40:46.783881Z"
    }
   },
   "id": "622c460a780dcc85",
   "execution_count": 13
  },
  {
   "cell_type": "code",
   "outputs": [
    {
     "name": "stdout",
     "output_type": "stream",
     "text": [
      "               Open          High           Low         Close  Volume_(BTC)  \\\n",
      "count  1.990691e+06  1.990691e+06  1.990691e+06  1.990691e+06  1.990691e+06   \n",
      "mean   3.246403e+03  3.247829e+03  3.244856e+03  3.246403e+03  7.849139e+00   \n",
      "std    3.799154e+03  3.801394e+03  3.796761e+03  3.799150e+03  1.873222e+01   \n",
      "min    6.000000e-02  6.000000e-02  6.000000e-02  6.000000e-02  1.000000e-08   \n",
      "25%    4.195800e+02  4.196400e+02  4.195000e+02  4.195700e+02  9.024000e-01   \n",
      "50%    1.014580e+03  1.014890e+03  1.014150e+03  1.014530e+03  2.692900e+00   \n",
      "75%    6.322630e+03  6.324010e+03  6.321090e+03  6.322670e+03  7.600965e+00   \n",
      "max    1.989199e+04  1.989199e+04  1.989198e+04  1.989199e+04  1.563267e+03   \n",
      "\n",
      "       Volume_(Currency)  Weighted_Price  \n",
      "count       1.990691e+06    1.990691e+06  \n",
      "mean        3.600157e+04    3.246341e+03  \n",
      "std         1.401879e+05    3.799078e+03  \n",
      "min         2.641700e-06    6.000000e-02  \n",
      "25%         6.440031e+02    4.195645e+02  \n",
      "50%         3.695642e+03    1.014512e+03  \n",
      "75%         1.972392e+04    6.322550e+03  \n",
      "max         1.997076e+07    1.989199e+04  \n"
     ]
    }
   ],
   "source": [
    "coin.set_index('Timestamp', inplace=True)\n",
    "\n",
    "stats = coin.describe()\n",
    "print(stats)"
   ],
   "metadata": {
    "collapsed": false,
    "ExecuteTime": {
     "end_time": "2024-03-05T10:40:49.723496Z",
     "start_time": "2024-03-05T10:40:48.673795Z"
    }
   },
   "id": "aee75d68ae9732ba",
   "execution_count": 14
  }
 ],
 "metadata": {
  "kernelspec": {
   "display_name": "Python 3",
   "language": "python",
   "name": "python3"
  },
  "language_info": {
   "codemirror_mode": {
    "name": "ipython",
    "version": 2
   },
   "file_extension": ".py",
   "mimetype": "text/x-python",
   "name": "python",
   "nbconvert_exporter": "python",
   "pygments_lexer": "ipython2",
   "version": "2.7.6"
  }
 },
 "nbformat": 4,
 "nbformat_minor": 5
}
