{
 "cells": [
  {
   "cell_type": "markdown",
   "source": [
    "## A function that creates a pd.Dataframe from a Dictionary\n",
    "* The rows should be labeled A, B, C, D respectively"
   ],
   "metadata": {
    "collapsed": false
   },
   "id": "944dd3d12022e7a6"
  },
  {
   "cell_type": "code",
   "outputs": [],
   "source": [
    "import pandas as pd\n",
    "\n",
    "dictionary = {\n",
    "    \"First\": [\"0.0\",\n",
    "              \"0.5\",\n",
    "              \"1.0\",\n",
    "              \"1.5\",\n",
    "              ],\n",
    "    \"Second\": [\n",
    "        \"one\",\n",
    "        \"two\",\n",
    "        \"three\",\n",
    "        \"four\",\n",
    "    ],\n",
    "}\n",
    "index_name = [\"A\", \"B\", \"C\", \"D\"]\n",
    "df = pd.DataFrame(dictionary, index=index_name)"
   ],
   "metadata": {
    "collapsed": false,
    "ExecuteTime": {
     "end_time": "2024-02-28T13:40:15.444657900Z",
     "start_time": "2024-02-28T13:40:15.436403900Z"
    }
   },
   "id": "6f8841c08eea204b",
   "execution_count": 2
  },
  {
   "cell_type": "code",
   "outputs": [
    {
     "name": "stdout",
     "output_type": "stream",
     "text": [
      "  First Second\n",
      "A   0.0    one\n",
      "B   0.5    two\n",
      "C   1.0  three\n",
      "D   1.5   four\n"
     ]
    }
   ],
   "source": [
    "print(df)"
   ],
   "metadata": {
    "collapsed": false,
    "ExecuteTime": {
     "end_time": "2024-02-28T13:40:16.386296300Z",
     "start_time": "2024-02-28T13:40:16.375238500Z"
    }
   },
   "id": "ef50142dd3914f98",
   "execution_count": 3
  }
 ],
 "metadata": {
  "kernelspec": {
   "display_name": "Python 3",
   "language": "python",
   "name": "python3"
  },
  "language_info": {
   "codemirror_mode": {
    "name": "ipython",
    "version": 2
   },
   "file_extension": ".py",
   "mimetype": "text/x-python",
   "name": "python",
   "nbconvert_exporter": "python",
   "pygments_lexer": "ipython2",
   "version": "2.7.6"
  }
 },
 "nbformat": 4,
 "nbformat_minor": 5
}
