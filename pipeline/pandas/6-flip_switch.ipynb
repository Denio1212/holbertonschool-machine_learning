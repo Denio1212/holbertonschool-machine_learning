{
 "cells": [
  {
   "cell_type": "markdown",
   "source": [
    "# Transposes the columns and rows\n",
    "* Data is sorted in reverse chronological order"
   ],
   "metadata": {
    "collapsed": false
   },
   "id": "efde32f4854b7f75"
  },
  {
   "cell_type": "code",
   "outputs": [],
   "source": [
    "import pandas as pd\n",
    "file = pd.read_csv('coinbaseUSD_1-min_data_2014-12-01_to_2019-01-09.csv')"
   ],
   "metadata": {
    "collapsed": false,
    "ExecuteTime": {
     "end_time": "2024-03-05T10:45:46.948106Z",
     "start_time": "2024-03-05T10:45:44.482028Z"
    }
   },
   "id": "380b783a56d4f2e4",
   "execution_count": 1
  },
  {
   "cell_type": "code",
   "outputs": [
    {
     "name": "stdout",
     "output_type": "stream",
     "text": [
      "                        2099759       2099758       2099757       2099756  \\\n",
      "Timestamp          1.546899e+09  1.546899e+09  1.546899e+09  1.546899e+09   \n",
      "Open               4.005510e+03  4.006010e+03  4.006010e+03  4.006010e+03   \n",
      "High               4.006010e+03  4.006010e+03  4.006010e+03  4.006570e+03   \n",
      "Low                4.005510e+03  4.005500e+03  4.006000e+03  4.006000e+03   \n",
      "Close              4.005990e+03  4.005500e+03  4.006010e+03  4.006010e+03   \n",
      "Volume_(BTC)       1.752778e+00  2.699700e+00  1.192123e+00  9.021637e-01   \n",
      "Volume_(Currency)  7.021184e+03  1.081424e+04  4.775647e+03  3.614083e+03   \n",
      "Weighted_Price     4.005746e+03  4.005720e+03  4.006004e+03  4.006017e+03   \n",
      "\n",
      "                        2099755       2099754       2099753       2099752  \\\n",
      "Timestamp          1.546899e+09  1.546898e+09  1.546898e+09  1.546898e+09   \n",
      "Open               4.006010e+03  4.006570e+03  4.006560e+03  4.003490e+03   \n",
      "High               4.006570e+03  4.006570e+03  4.006570e+03  4.007290e+03   \n",
      "Low                4.006000e+03  4.006000e+03  4.006560e+03  4.003490e+03   \n",
      "Close              4.006010e+03  4.006010e+03  4.006560e+03  4.006570e+03   \n",
      "Volume_(BTC)       3.382954e+00  6.951222e+00  8.475772e+00  1.183828e+01   \n",
      "Volume_(Currency)  1.355343e+04  2.784951e+04  3.395870e+04  4.741754e+04   \n",
      "Weighted_Price     4.006390e+03  4.006419e+03  4.006561e+03  4.005441e+03   \n",
      "\n",
      "                        2099751       2099750  ...       9        \\\n",
      "Timestamp          1.546898e+09  1.546898e+09  ...  1.417413e+09   \n",
      "Open               4.007000e+03  4.009540e+03  ...           NaN   \n",
      "High               4.007010e+03  4.009540e+03  ...           NaN   \n",
      "Low                4.000240e+03  4.007000e+03  ...           NaN   \n",
      "Close              4.003490e+03  4.007010e+03  ...           NaN   \n",
      "Volume_(BTC)       9.452163e+00  4.540920e+00  ...           NaN   \n",
      "Volume_(Currency)  3.784576e+04  1.819998e+04  ...           NaN   \n",
      "Weighted_Price     4.003925e+03  4.007993e+03  ...           NaN   \n",
      "\n",
      "                        8             7             6             5        \\\n",
      "Timestamp          1.417412e+09  1.417412e+09  1.417412e+09  1.417412e+09   \n",
      "Open                        NaN  3.000000e+02           NaN           NaN   \n",
      "High                        NaN  3.000000e+02           NaN           NaN   \n",
      "Low                         NaN  3.000000e+02           NaN           NaN   \n",
      "Close                       NaN  3.000000e+02           NaN           NaN   \n",
      "Volume_(BTC)                NaN  1.000000e-02           NaN           NaN   \n",
      "Volume_(Currency)           NaN  3.000000e+00           NaN           NaN   \n",
      "Weighted_Price              NaN  3.000000e+02           NaN           NaN   \n",
      "\n",
      "                        4             3             2             1        \\\n",
      "Timestamp          1.417412e+09  1.417412e+09  1.417412e+09  1.417412e+09   \n",
      "Open                        NaN           NaN           NaN           NaN   \n",
      "High                        NaN           NaN           NaN           NaN   \n",
      "Low                         NaN           NaN           NaN           NaN   \n",
      "Close                       NaN           NaN           NaN           NaN   \n",
      "Volume_(BTC)                NaN           NaN           NaN           NaN   \n",
      "Volume_(Currency)           NaN           NaN           NaN           NaN   \n",
      "Weighted_Price              NaN           NaN           NaN           NaN   \n",
      "\n",
      "                        0        \n",
      "Timestamp          1.417412e+09  \n",
      "Open               3.000000e+02  \n",
      "High               3.000000e+02  \n",
      "Low                3.000000e+02  \n",
      "Close              3.000000e+02  \n",
      "Volume_(BTC)       1.000000e-02  \n",
      "Volume_(Currency)  3.000000e+00  \n",
      "Weighted_Price     3.000000e+02  \n",
      "\n",
      "[8 rows x 2099760 columns]\n"
     ]
    }
   ],
   "source": [
    "file.sort_values(by=['Timestamp'], inplace=True, ascending=False)\n",
    "file_transposed = file.transpose()\n",
    "print(file_transposed.tail(8))"
   ],
   "metadata": {
    "collapsed": false,
    "ExecuteTime": {
     "end_time": "2024-03-05T10:45:47.356426Z",
     "start_time": "2024-03-05T10:45:46.950117Z"
    }
   },
   "id": "3c85f8f9b92e82a",
   "execution_count": 2
  },
  {
   "cell_type": "code",
   "outputs": [
    {
     "name": "stdout",
     "output_type": "stream",
     "text": [
      "    Timestamp   Open   High    Low  Close  Volume_(BTC)  Volume_(Currency)  \\\n",
      "7  1417412400  300.0  300.0  300.0  300.0          0.01                3.0   \n",
      "6  1417412340    NaN    NaN    NaN    NaN           NaN                NaN   \n",
      "5  1417412280    NaN    NaN    NaN    NaN           NaN                NaN   \n",
      "4  1417412220    NaN    NaN    NaN    NaN           NaN                NaN   \n",
      "3  1417412160    NaN    NaN    NaN    NaN           NaN                NaN   \n",
      "2  1417412100    NaN    NaN    NaN    NaN           NaN                NaN   \n",
      "1  1417412040    NaN    NaN    NaN    NaN           NaN                NaN   \n",
      "0  1417411980  300.0  300.0  300.0  300.0          0.01                3.0   \n",
      "\n",
      "   Weighted_Price  \n",
      "7           300.0  \n",
      "6             NaN  \n",
      "5             NaN  \n",
      "4             NaN  \n",
      "3             NaN  \n",
      "2             NaN  \n",
      "1             NaN  \n",
      "0           300.0  \n"
     ]
    }
   ],
   "source": [
    "print(file.tail(8))"
   ],
   "metadata": {
    "collapsed": false,
    "ExecuteTime": {
     "end_time": "2024-03-05T10:45:47.367012Z",
     "start_time": "2024-03-05T10:45:47.358012Z"
    }
   },
   "id": "495d70749a246a62",
   "execution_count": 3
  }
 ],
 "metadata": {
  "kernelspec": {
   "display_name": "Python 3",
   "language": "python",
   "name": "python3"
  },
  "language_info": {
   "codemirror_mode": {
    "name": "ipython",
    "version": 2
   },
   "file_extension": ".py",
   "mimetype": "text/x-python",
   "name": "python",
   "nbconvert_exporter": "python",
   "pygments_lexer": "ipython2",
   "version": "2.7.6"
  }
 },
 "nbformat": 4,
 "nbformat_minor": 5
}
