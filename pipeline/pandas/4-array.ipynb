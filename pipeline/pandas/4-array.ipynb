{
 "cells": [
  {
   "cell_type": "markdown",
   "source": [
    "# Converts columns to numpy array\n",
    "* The last 10 rows of the column High and Close and turn them into a numpy.ndarray"
   ],
   "metadata": {
    "collapsed": false
   },
   "id": "781ee32efcefebf5"
  },
  {
   "cell_type": "code",
   "outputs": [],
   "source": [
    "import pandas as pd\n",
    "\n",
    "file = pd.read_csv('coinbaseUSD_1-min_data_2014-12-01_to_2019-01-09.csv')"
   ],
   "metadata": {
    "collapsed": false,
    "ExecuteTime": {
     "end_time": "2024-03-05T10:44:51.615636Z",
     "start_time": "2024-03-05T10:44:49.201118Z"
    }
   },
   "id": "fbb706e7deb7862f",
   "execution_count": 1
  },
  {
   "cell_type": "code",
   "outputs": [
    {
     "data": {
      "text/plain": "            High    Close\n2099750  4009.54  4007.01\n2099751  4007.01  4003.49\n2099752  4007.29  4006.57\n2099753  4006.57  4006.56\n2099754  4006.57  4006.01\n2099755  4006.57  4006.01\n2099756  4006.57  4006.01\n2099757  4006.01  4006.01\n2099758  4006.01  4005.50\n2099759  4006.01  4005.99",
      "text/html": "<div>\n<style scoped>\n    .dataframe tbody tr th:only-of-type {\n        vertical-align: middle;\n    }\n\n    .dataframe tbody tr th {\n        vertical-align: top;\n    }\n\n    .dataframe thead th {\n        text-align: right;\n    }\n</style>\n<table border=\"1\" class=\"dataframe\">\n  <thead>\n    <tr style=\"text-align: right;\">\n      <th></th>\n      <th>High</th>\n      <th>Close</th>\n    </tr>\n  </thead>\n  <tbody>\n    <tr>\n      <th>2099750</th>\n      <td>4009.54</td>\n      <td>4007.01</td>\n    </tr>\n    <tr>\n      <th>2099751</th>\n      <td>4007.01</td>\n      <td>4003.49</td>\n    </tr>\n    <tr>\n      <th>2099752</th>\n      <td>4007.29</td>\n      <td>4006.57</td>\n    </tr>\n    <tr>\n      <th>2099753</th>\n      <td>4006.57</td>\n      <td>4006.56</td>\n    </tr>\n    <tr>\n      <th>2099754</th>\n      <td>4006.57</td>\n      <td>4006.01</td>\n    </tr>\n    <tr>\n      <th>2099755</th>\n      <td>4006.57</td>\n      <td>4006.01</td>\n    </tr>\n    <tr>\n      <th>2099756</th>\n      <td>4006.57</td>\n      <td>4006.01</td>\n    </tr>\n    <tr>\n      <th>2099757</th>\n      <td>4006.01</td>\n      <td>4006.01</td>\n    </tr>\n    <tr>\n      <th>2099758</th>\n      <td>4006.01</td>\n      <td>4005.50</td>\n    </tr>\n    <tr>\n      <th>2099759</th>\n      <td>4006.01</td>\n      <td>4005.99</td>\n    </tr>\n  </tbody>\n</table>\n</div>"
     },
     "execution_count": 2,
     "metadata": {},
     "output_type": "execute_result"
    }
   ],
   "source": [
    "file[[\"High\", \"Close\"]].tail(10)"
   ],
   "metadata": {
    "collapsed": false,
    "ExecuteTime": {
     "end_time": "2024-03-05T10:44:51.647253Z",
     "start_time": "2024-03-05T10:44:51.618344Z"
    }
   },
   "id": "64ea69a57e6383ae",
   "execution_count": 2
  },
  {
   "cell_type": "code",
   "outputs": [
    {
     "name": "stdout",
     "output_type": "stream",
     "text": [
      "[[4009.54 4007.01]\n",
      " [4007.01 4003.49]\n",
      " [4007.29 4006.57]\n",
      " [4006.57 4006.56]\n",
      " [4006.57 4006.01]\n",
      " [4006.57 4006.01]\n",
      " [4006.57 4006.01]\n",
      " [4006.01 4006.01]\n",
      " [4006.01 4005.5 ]\n",
      " [4006.01 4005.99]]\n"
     ]
    }
   ],
   "source": [
    "ndarray = file[[\"High\", \"Close\"]].tail(10)\n",
    "A = ndarray.to_numpy()\n",
    "print(A)"
   ],
   "metadata": {
    "collapsed": false,
    "ExecuteTime": {
     "end_time": "2024-03-05T10:44:51.671943Z",
     "start_time": "2024-03-05T10:44:51.650272Z"
    }
   },
   "id": "d91dce9befadf0c8",
   "execution_count": 3
  }
 ],
 "metadata": {
  "kernelspec": {
   "display_name": "Python 3",
   "language": "python",
   "name": "python3"
  },
  "language_info": {
   "codemirror_mode": {
    "name": "ipython",
    "version": 2
   },
   "file_extension": ".py",
   "mimetype": "text/x-python",
   "name": "python",
   "nbconvert_exporter": "python",
   "pygments_lexer": "ipython2",
   "version": "2.7.6"
  }
 },
 "nbformat": 4,
 "nbformat_minor": 5
}
