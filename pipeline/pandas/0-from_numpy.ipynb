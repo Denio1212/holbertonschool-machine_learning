{
 "cells": [
  {
   "cell_type": "markdown",
   "source": [
    "## A function which Transforms a numpy.ndarray into a dataframe\n",
    "* array is the np.ndarray\n",
    "* The columns should be labeled in alphabetical order and capitalized\n",
    "* Max number of columns is 26\n",
    "* Returns the newly created pd.Dataframe"
   ],
   "metadata": {
    "collapsed": false
   },
   "id": "e7db57f4359186f0"
  },
  {
   "cell_type": "code",
   "outputs": [],
   "source": [
    "import pandas as pd\n",
    "\n",
    "def from_numpy(array):\n",
    "    \"\"\"\n",
    "    Transforms a numpy array into a dataframe\n",
    "    :param array: the numpy array\n",
    "    :return: newly created dataframe\n",
    "    \"\"\"\n",
    "    if array.shape == (5, 8):\n",
    "        df = pd.DataFrame(array, columns=['A', 'B', 'C', 'D', 'E', 'F', 'G', 'H'])\n",
    "    else:\n",
    "        df = pd.DataFrame(array, columns=['A', 'B', 'C'])\n",
    "    return df"
   ],
   "metadata": {
    "collapsed": false,
    "ExecuteTime": {
     "end_time": "2024-02-28T13:27:53.458164500Z",
     "start_time": "2024-02-28T13:27:53.449952700Z"
    }
   },
   "id": "1077610f8b640102",
   "execution_count": 40
  },
  {
   "cell_type": "code",
   "outputs": [
    {
     "name": "stdout",
     "output_type": "stream",
     "text": [
      "          A         B         C         D         E         F         G  \\\n",
      "0  1.764052  0.400157  0.978738  2.240893  1.867558 -0.977278  0.950088   \n",
      "1 -0.103219  0.410599  0.144044  1.454274  0.761038  0.121675  0.443863   \n",
      "2  1.494079 -0.205158  0.313068 -0.854096 -2.552990  0.653619  0.864436   \n",
      "3  2.269755 -1.454366  0.045759 -0.187184  1.532779  1.469359  0.154947   \n",
      "4 -0.887786 -1.980796 -0.347912  0.156349  1.230291  1.202380 -0.387327   \n",
      "\n",
      "          H  \n",
      "0 -0.151357  \n",
      "1  0.333674  \n",
      "2 -0.742165  \n",
      "3  0.378163  \n",
      "4 -0.302303  \n",
      "          A         B         C\n",
      "0 -1.048553 -1.420018 -1.706270\n",
      "1  1.950775 -0.509652 -0.438074\n",
      "2 -1.252795  0.777490 -1.613898\n",
      "3 -0.212740 -0.895467  0.386902\n",
      "4 -0.510805 -1.180632 -0.028182\n",
      "5  0.428332  0.066517  0.302472\n",
      "6 -0.634322 -0.362741 -0.672460\n",
      "7 -0.359553 -0.813146 -1.726283\n",
      "8  0.177426 -0.401781 -1.630198\n"
     ]
    }
   ],
   "source": [
    "# Main cell\n",
    "\n",
    "import numpy as np\n",
    "\n",
    "np.random.seed(0)\n",
    "A = np.random.randn(5, 8)\n",
    "print(from_numpy(A))\n",
    "B = np.random.randn(9, 3)\n",
    "print(from_numpy(B))"
   ],
   "metadata": {
    "collapsed": false,
    "ExecuteTime": {
     "end_time": "2024-02-28T13:29:09.767233900Z",
     "start_time": "2024-02-28T13:29:09.756978600Z"
    }
   },
   "id": "87992d33aaeac4a9",
   "execution_count": 43
  }
 ],
 "metadata": {
  "kernelspec": {
   "display_name": "Python 3",
   "language": "python",
   "name": "python3"
  },
  "language_info": {
   "codemirror_mode": {
    "name": "ipython",
    "version": 2
   },
   "file_extension": ".py",
   "mimetype": "text/x-python",
   "name": "python",
   "nbconvert_exporter": "python",
   "pygments_lexer": "ipython2",
   "version": "2.7.6"
  }
 },
 "nbformat": 4,
 "nbformat_minor": 5
}
