{
 "cells": [
  {
   "cell_type": "markdown",
   "source": [
    "# Concatenates the start of the bitstamp table onto the top of the coinbase table\n",
    "* Include all data from bitstamp up to and including timestamp 1417411920\n",
    "* Add keyes to the data labeled bitstamp and coinbase respectively"
   ],
   "metadata": {
    "collapsed": false
   },
   "id": "efa436c50b43ff"
  },
  {
   "cell_type": "code",
   "outputs": [
    {
     "data": {
      "text/plain": "    Timestamp   Open   High    Low  Close  Volume_(BTC)  Volume_(Currency)  \\\n0  1417411980  300.0  300.0  300.0  300.0          0.01                3.0   \n1  1417412040    NaN    NaN    NaN    NaN           NaN                NaN   \n2  1417412100    NaN    NaN    NaN    NaN           NaN                NaN   \n3  1417412160    NaN    NaN    NaN    NaN           NaN                NaN   \n4  1417412220    NaN    NaN    NaN    NaN           NaN                NaN   \n\n   Weighted_Price  \n0           300.0  \n1             NaN  \n2             NaN  \n3             NaN  \n4             NaN  ",
      "text/html": "<div>\n<style scoped>\n    .dataframe tbody tr th:only-of-type {\n        vertical-align: middle;\n    }\n\n    .dataframe tbody tr th {\n        vertical-align: top;\n    }\n\n    .dataframe thead th {\n        text-align: right;\n    }\n</style>\n<table border=\"1\" class=\"dataframe\">\n  <thead>\n    <tr style=\"text-align: right;\">\n      <th></th>\n      <th>Timestamp</th>\n      <th>Open</th>\n      <th>High</th>\n      <th>Low</th>\n      <th>Close</th>\n      <th>Volume_(BTC)</th>\n      <th>Volume_(Currency)</th>\n      <th>Weighted_Price</th>\n    </tr>\n  </thead>\n  <tbody>\n    <tr>\n      <th>0</th>\n      <td>1417411980</td>\n      <td>300.0</td>\n      <td>300.0</td>\n      <td>300.0</td>\n      <td>300.0</td>\n      <td>0.01</td>\n      <td>3.0</td>\n      <td>300.0</td>\n    </tr>\n    <tr>\n      <th>1</th>\n      <td>1417412040</td>\n      <td>NaN</td>\n      <td>NaN</td>\n      <td>NaN</td>\n      <td>NaN</td>\n      <td>NaN</td>\n      <td>NaN</td>\n      <td>NaN</td>\n    </tr>\n    <tr>\n      <th>2</th>\n      <td>1417412100</td>\n      <td>NaN</td>\n      <td>NaN</td>\n      <td>NaN</td>\n      <td>NaN</td>\n      <td>NaN</td>\n      <td>NaN</td>\n      <td>NaN</td>\n    </tr>\n    <tr>\n      <th>3</th>\n      <td>1417412160</td>\n      <td>NaN</td>\n      <td>NaN</td>\n      <td>NaN</td>\n      <td>NaN</td>\n      <td>NaN</td>\n      <td>NaN</td>\n      <td>NaN</td>\n    </tr>\n    <tr>\n      <th>4</th>\n      <td>1417412220</td>\n      <td>NaN</td>\n      <td>NaN</td>\n      <td>NaN</td>\n      <td>NaN</td>\n      <td>NaN</td>\n      <td>NaN</td>\n      <td>NaN</td>\n    </tr>\n  </tbody>\n</table>\n</div>"
     },
     "execution_count": 5,
     "metadata": {},
     "output_type": "execute_result"
    }
   ],
   "source": [
    "import pandas as pd\n",
    "\n",
    "coin = pd.read_csv('coinbaseUSD_1-min_data_2014-12-01_to_2019-01-09.csv')\n",
    "bit = pd.read_csv('bitstampUSD_1-min_data_2012-01-01_to_2020-04-22.csv')\n",
    "\n",
    "coin.set_index('Timestamp')\n",
    "coin.drop('Timestamp', axis=1)\n",
    "coin.head()"
   ],
   "metadata": {
    "collapsed": false,
    "ExecuteTime": {
     "end_time": "2024-03-04T12:58:05.427038400Z",
     "start_time": "2024-03-04T12:57:59.892701600Z"
    }
   },
   "id": "93b64e0b1f2bd500",
   "execution_count": 5
  },
  {
   "cell_type": "code",
   "outputs": [
    {
     "data": {
      "text/plain": "          Timestamp     Open     High      Low    Close  Volume_(BTC)  \\\n4363452  1587513360  6847.97  6856.35  6847.97  6856.35      0.125174   \n4363453  1587513420  6850.23  6856.13  6850.23  6850.89      1.224777   \n4363454  1587513480  6846.50  6857.45  6846.02  6857.45      7.089168   \n4363455  1587513540  6854.18  6854.98  6854.18  6854.98      0.012231   \n4363456  1587513600  6850.60  6850.60  6850.60  6850.60      0.014436   \n\n         Volume_(Currency)  Weighted_Price  \n4363452         858.128697     6855.498790  \n4363453        8396.781459     6855.763449  \n4363454       48533.089069     6846.090966  \n4363455          83.831604     6854.195090  \n4363456          98.896906     6850.600000  ",
      "text/html": "<div>\n<style scoped>\n    .dataframe tbody tr th:only-of-type {\n        vertical-align: middle;\n    }\n\n    .dataframe tbody tr th {\n        vertical-align: top;\n    }\n\n    .dataframe thead th {\n        text-align: right;\n    }\n</style>\n<table border=\"1\" class=\"dataframe\">\n  <thead>\n    <tr style=\"text-align: right;\">\n      <th></th>\n      <th>Timestamp</th>\n      <th>Open</th>\n      <th>High</th>\n      <th>Low</th>\n      <th>Close</th>\n      <th>Volume_(BTC)</th>\n      <th>Volume_(Currency)</th>\n      <th>Weighted_Price</th>\n    </tr>\n  </thead>\n  <tbody>\n    <tr>\n      <th>4363452</th>\n      <td>1587513360</td>\n      <td>6847.97</td>\n      <td>6856.35</td>\n      <td>6847.97</td>\n      <td>6856.35</td>\n      <td>0.125174</td>\n      <td>858.128697</td>\n      <td>6855.498790</td>\n    </tr>\n    <tr>\n      <th>4363453</th>\n      <td>1587513420</td>\n      <td>6850.23</td>\n      <td>6856.13</td>\n      <td>6850.23</td>\n      <td>6850.89</td>\n      <td>1.224777</td>\n      <td>8396.781459</td>\n      <td>6855.763449</td>\n    </tr>\n    <tr>\n      <th>4363454</th>\n      <td>1587513480</td>\n      <td>6846.50</td>\n      <td>6857.45</td>\n      <td>6846.02</td>\n      <td>6857.45</td>\n      <td>7.089168</td>\n      <td>48533.089069</td>\n      <td>6846.090966</td>\n    </tr>\n    <tr>\n      <th>4363455</th>\n      <td>1587513540</td>\n      <td>6854.18</td>\n      <td>6854.98</td>\n      <td>6854.18</td>\n      <td>6854.98</td>\n      <td>0.012231</td>\n      <td>83.831604</td>\n      <td>6854.195090</td>\n    </tr>\n    <tr>\n      <th>4363456</th>\n      <td>1587513600</td>\n      <td>6850.60</td>\n      <td>6850.60</td>\n      <td>6850.60</td>\n      <td>6850.60</td>\n      <td>0.014436</td>\n      <td>98.896906</td>\n      <td>6850.600000</td>\n    </tr>\n  </tbody>\n</table>\n</div>"
     },
     "execution_count": 24,
     "metadata": {},
     "output_type": "execute_result"
    }
   ],
   "source": [
    "bit.set_index('Timestamp')\n",
    "bit.drop('Timestamp', axis=1)\n",
    "bit.tail()"
   ],
   "metadata": {
    "collapsed": false,
    "ExecuteTime": {
     "end_time": "2024-03-04T13:20:36.392532Z",
     "start_time": "2024-03-04T13:20:36.153341800Z"
    }
   },
   "id": "7497f536a003d8e0",
   "execution_count": 24
  },
  {
   "cell_type": "code",
   "outputs": [
    {
     "data": {
      "text/plain": "             Timestamp  Open  High   Low  Close  Volume_(BTC)  \\\nbitstamp 0  1325317920  4.39  4.39  4.39   4.39      0.455581   \n         1  1325317980   NaN   NaN   NaN    NaN           NaN   \n         2  1325318040   NaN   NaN   NaN    NaN           NaN   \n         3  1325318100   NaN   NaN   NaN    NaN           NaN   \n         4  1325318160   NaN   NaN   NaN    NaN           NaN   \n\n            Volume_(Currency)  Weighted_Price  \nbitstamp 0                2.0            4.39  \n         1                NaN             NaN  \n         2                NaN             NaN  \n         3                NaN             NaN  \n         4                NaN             NaN  ",
      "text/html": "<div>\n<style scoped>\n    .dataframe tbody tr th:only-of-type {\n        vertical-align: middle;\n    }\n\n    .dataframe tbody tr th {\n        vertical-align: top;\n    }\n\n    .dataframe thead th {\n        text-align: right;\n    }\n</style>\n<table border=\"1\" class=\"dataframe\">\n  <thead>\n    <tr style=\"text-align: right;\">\n      <th></th>\n      <th></th>\n      <th>Timestamp</th>\n      <th>Open</th>\n      <th>High</th>\n      <th>Low</th>\n      <th>Close</th>\n      <th>Volume_(BTC)</th>\n      <th>Volume_(Currency)</th>\n      <th>Weighted_Price</th>\n    </tr>\n  </thead>\n  <tbody>\n    <tr>\n      <th rowspan=\"5\" valign=\"top\">bitstamp</th>\n      <th>0</th>\n      <td>1325317920</td>\n      <td>4.39</td>\n      <td>4.39</td>\n      <td>4.39</td>\n      <td>4.39</td>\n      <td>0.455581</td>\n      <td>2.0</td>\n      <td>4.39</td>\n    </tr>\n    <tr>\n      <th>1</th>\n      <td>1325317980</td>\n      <td>NaN</td>\n      <td>NaN</td>\n      <td>NaN</td>\n      <td>NaN</td>\n      <td>NaN</td>\n      <td>NaN</td>\n      <td>NaN</td>\n    </tr>\n    <tr>\n      <th>2</th>\n      <td>1325318040</td>\n      <td>NaN</td>\n      <td>NaN</td>\n      <td>NaN</td>\n      <td>NaN</td>\n      <td>NaN</td>\n      <td>NaN</td>\n      <td>NaN</td>\n    </tr>\n    <tr>\n      <th>3</th>\n      <td>1325318100</td>\n      <td>NaN</td>\n      <td>NaN</td>\n      <td>NaN</td>\n      <td>NaN</td>\n      <td>NaN</td>\n      <td>NaN</td>\n      <td>NaN</td>\n    </tr>\n    <tr>\n      <th>4</th>\n      <td>1325318160</td>\n      <td>NaN</td>\n      <td>NaN</td>\n      <td>NaN</td>\n      <td>NaN</td>\n      <td>NaN</td>\n      <td>NaN</td>\n      <td>NaN</td>\n    </tr>\n  </tbody>\n</table>\n</div>"
     },
     "execution_count": 25,
     "metadata": {},
     "output_type": "execute_result"
    }
   ],
   "source": [
    "bit_max_row = bit[bit['Timestamp'] <= 1417411920]\n",
    "both = pd.concat([bit_max_row, coin], keys=['bitstamp', 'coinbase'])\n",
    "both.head()"
   ],
   "metadata": {
    "collapsed": false,
    "ExecuteTime": {
     "end_time": "2024-03-04T13:21:22.615156Z",
     "start_time": "2024-03-04T13:21:22.060931800Z"
    }
   },
   "id": "ceaec777897900f5",
   "execution_count": 25
  },
  {
   "cell_type": "code",
   "outputs": [
    {
     "data": {
      "text/plain": "                   Timestamp     Open     High      Low    Close  \\\ncoinbase 2099755  1546898520  4006.01  4006.57  4006.00  4006.01   \n         2099756  1546898580  4006.01  4006.57  4006.00  4006.01   \n         2099757  1546898640  4006.01  4006.01  4006.00  4006.01   \n         2099758  1546898700  4006.01  4006.01  4005.50  4005.50   \n         2099759  1546898760  4005.51  4006.01  4005.51  4005.99   \n\n                  Volume_(BTC)  Volume_(Currency)  Weighted_Price  \ncoinbase 2099755      3.382954       13553.433078     4006.390309  \n         2099756      0.902164        3614.083168     4006.017232  \n         2099757      1.192123        4775.647308     4006.003635  \n         2099758      2.699700       10814.241898     4005.719991  \n         2099759      1.752778        7021.183546     4005.745614  ",
      "text/html": "<div>\n<style scoped>\n    .dataframe tbody tr th:only-of-type {\n        vertical-align: middle;\n    }\n\n    .dataframe tbody tr th {\n        vertical-align: top;\n    }\n\n    .dataframe thead th {\n        text-align: right;\n    }\n</style>\n<table border=\"1\" class=\"dataframe\">\n  <thead>\n    <tr style=\"text-align: right;\">\n      <th></th>\n      <th></th>\n      <th>Timestamp</th>\n      <th>Open</th>\n      <th>High</th>\n      <th>Low</th>\n      <th>Close</th>\n      <th>Volume_(BTC)</th>\n      <th>Volume_(Currency)</th>\n      <th>Weighted_Price</th>\n    </tr>\n  </thead>\n  <tbody>\n    <tr>\n      <th rowspan=\"5\" valign=\"top\">coinbase</th>\n      <th>2099755</th>\n      <td>1546898520</td>\n      <td>4006.01</td>\n      <td>4006.57</td>\n      <td>4006.00</td>\n      <td>4006.01</td>\n      <td>3.382954</td>\n      <td>13553.433078</td>\n      <td>4006.390309</td>\n    </tr>\n    <tr>\n      <th>2099756</th>\n      <td>1546898580</td>\n      <td>4006.01</td>\n      <td>4006.57</td>\n      <td>4006.00</td>\n      <td>4006.01</td>\n      <td>0.902164</td>\n      <td>3614.083168</td>\n      <td>4006.017232</td>\n    </tr>\n    <tr>\n      <th>2099757</th>\n      <td>1546898640</td>\n      <td>4006.01</td>\n      <td>4006.01</td>\n      <td>4006.00</td>\n      <td>4006.01</td>\n      <td>1.192123</td>\n      <td>4775.647308</td>\n      <td>4006.003635</td>\n    </tr>\n    <tr>\n      <th>2099758</th>\n      <td>1546898700</td>\n      <td>4006.01</td>\n      <td>4006.01</td>\n      <td>4005.50</td>\n      <td>4005.50</td>\n      <td>2.699700</td>\n      <td>10814.241898</td>\n      <td>4005.719991</td>\n    </tr>\n    <tr>\n      <th>2099759</th>\n      <td>1546898760</td>\n      <td>4005.51</td>\n      <td>4006.01</td>\n      <td>4005.51</td>\n      <td>4005.99</td>\n      <td>1.752778</td>\n      <td>7021.183546</td>\n      <td>4005.745614</td>\n    </tr>\n  </tbody>\n</table>\n</div>"
     },
     "execution_count": 26,
     "metadata": {},
     "output_type": "execute_result"
    }
   ],
   "source": [
    "both.tail()"
   ],
   "metadata": {
    "collapsed": false,
    "ExecuteTime": {
     "end_time": "2024-03-04T13:21:35.309089300Z",
     "start_time": "2024-03-04T13:21:35.292657600Z"
    }
   },
   "id": "15704d937e116308",
   "execution_count": 26
  }
 ],
 "metadata": {
  "kernelspec": {
   "display_name": "Python 3",
   "language": "python",
   "name": "python3"
  },
  "language_info": {
   "codemirror_mode": {
    "name": "ipython",
    "version": 2
   },
   "file_extension": ".py",
   "mimetype": "text/x-python",
   "name": "python",
   "nbconvert_exporter": "python",
   "pygments_lexer": "ipython2",
   "version": "2.7.6"
  }
 },
 "nbformat": 4,
 "nbformat_minor": 5
}
