{
 "cells": [
  {
   "cell_type": "markdown",
   "source": [
    "# Removes entries in the Dataframe where there are NaN in the Close column"
   ],
   "metadata": {
    "collapsed": false
   },
   "id": "ab7d802ace447b08"
  },
  {
   "cell_type": "code",
   "outputs": [],
   "source": [
    "import pandas as pd\n",
    "\n",
    "file = pd.read_csv('coinbaseUSD_1-min_data_2014-12-01_to_2019-01-09.csv')"
   ],
   "metadata": {
    "collapsed": false,
    "ExecuteTime": {
     "end_time": "2024-03-01T20:27:22.881869800Z",
     "start_time": "2024-03-01T20:27:20.877624900Z"
    }
   },
   "id": "b46629a7dc762c41",
   "execution_count": 2
  },
  {
   "cell_type": "code",
   "outputs": [
    {
     "data": {
      "text/plain": "       Timestamp   Open   High    Low  Close  Volume_(BTC)  Volume_(Currency)  \\\n0     1417411980  300.0  300.0  300.0  300.0      0.010000            3.00000   \n7     1417412400  300.0  300.0  300.0  300.0      0.010000            3.00000   \n51    1417415040  370.0  370.0  370.0  370.0      0.010000            3.70000   \n77    1417416600  370.0  370.0  370.0  370.0      0.026556            9.82555   \n1436  1417498140  377.0  377.0  377.0  377.0      0.010000            3.77000   \n\n      Weighted_Price  \n0              300.0  \n7              300.0  \n51             370.0  \n77             370.0  \n1436           377.0  ",
      "text/html": "<div>\n<style scoped>\n    .dataframe tbody tr th:only-of-type {\n        vertical-align: middle;\n    }\n\n    .dataframe tbody tr th {\n        vertical-align: top;\n    }\n\n    .dataframe thead th {\n        text-align: right;\n    }\n</style>\n<table border=\"1\" class=\"dataframe\">\n  <thead>\n    <tr style=\"text-align: right;\">\n      <th></th>\n      <th>Timestamp</th>\n      <th>Open</th>\n      <th>High</th>\n      <th>Low</th>\n      <th>Close</th>\n      <th>Volume_(BTC)</th>\n      <th>Volume_(Currency)</th>\n      <th>Weighted_Price</th>\n    </tr>\n  </thead>\n  <tbody>\n    <tr>\n      <th>0</th>\n      <td>1417411980</td>\n      <td>300.0</td>\n      <td>300.0</td>\n      <td>300.0</td>\n      <td>300.0</td>\n      <td>0.010000</td>\n      <td>3.00000</td>\n      <td>300.0</td>\n    </tr>\n    <tr>\n      <th>7</th>\n      <td>1417412400</td>\n      <td>300.0</td>\n      <td>300.0</td>\n      <td>300.0</td>\n      <td>300.0</td>\n      <td>0.010000</td>\n      <td>3.00000</td>\n      <td>300.0</td>\n    </tr>\n    <tr>\n      <th>51</th>\n      <td>1417415040</td>\n      <td>370.0</td>\n      <td>370.0</td>\n      <td>370.0</td>\n      <td>370.0</td>\n      <td>0.010000</td>\n      <td>3.70000</td>\n      <td>370.0</td>\n    </tr>\n    <tr>\n      <th>77</th>\n      <td>1417416600</td>\n      <td>370.0</td>\n      <td>370.0</td>\n      <td>370.0</td>\n      <td>370.0</td>\n      <td>0.026556</td>\n      <td>9.82555</td>\n      <td>370.0</td>\n    </tr>\n    <tr>\n      <th>1436</th>\n      <td>1417498140</td>\n      <td>377.0</td>\n      <td>377.0</td>\n      <td>377.0</td>\n      <td>377.0</td>\n      <td>0.010000</td>\n      <td>3.77000</td>\n      <td>377.0</td>\n    </tr>\n  </tbody>\n</table>\n</div>"
     },
     "execution_count": 8,
     "metadata": {},
     "output_type": "execute_result"
    }
   ],
   "source": [
    "Pruned_file = file.dropna()\n",
    "Pruned_file.head()"
   ],
   "metadata": {
    "collapsed": false,
    "ExecuteTime": {
     "end_time": "2024-03-01T20:31:01.391164400Z",
     "start_time": "2024-03-01T20:31:01.216748200Z"
    }
   },
   "id": "67b305a867f92035",
   "execution_count": 8
  }
 ],
 "metadata": {
  "kernelspec": {
   "display_name": "Python 3",
   "language": "python",
   "name": "python3"
  },
  "language_info": {
   "codemirror_mode": {
    "name": "ipython",
    "version": 2
   },
   "file_extension": ".py",
   "mimetype": "text/x-python",
   "name": "python",
   "nbconvert_exporter": "python",
   "pygments_lexer": "ipython2",
   "version": "2.7.6"
  }
 },
 "nbformat": 4,
 "nbformat_minor": 5
}
